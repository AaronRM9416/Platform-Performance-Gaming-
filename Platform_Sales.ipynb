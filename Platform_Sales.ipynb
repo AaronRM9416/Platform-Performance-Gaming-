{
  "cells": [
    {
      "cell_type": "markdown",
      "metadata": {
        "id": "view-in-github",
        "colab_type": "text"
      },
      "source": [
        "<a href=\"https://colab.research.google.com/github/AaronRM9416/Platform-Performance-Gaming-/blob/main/Platform_Sales.ipynb\" target=\"_parent\"><img src=\"https://colab.research.google.com/assets/colab-badge.svg\" alt=\"Open In Colab\"/></a>"
      ]
    },
    {
      "cell_type": "markdown",
      "metadata": {
        "id": "QCGE8SsTKkqY"
      },
      "source": [
        "#Platform Sales and Review Scores\n",
        "\n",
        "Aaron Musselwhite"
      ]
    },
    {
      "cell_type": "code",
      "execution_count": 57,
      "metadata": {
        "id": "UOqvsqEip6En"
      },
      "outputs": [],
      "source": [
        "import pandas as pd\n",
        "import numpy as np\n",
        "import seaborn as sns\n",
        "import matplotlib.pyplot as plt\n",
        "from sklearn.model_selection import train_test_split, GridSearchCV\n",
        "from sklearn.compose import make_column_selector, make_column_transformer              ##imports\n",
        "from sklearn.preprocessing import LabelEncoder, StandardScaler, OneHotEncoder\n",
        "from sklearn.impute import SimpleImputer\n",
        "from sklearn.pipeline import make_pipeline\n",
        "from sklearn.linear_model import LinearRegression\n",
        "from sklearn.decomposition import PCA\n",
        "from sklearn.dummy import DummyRegressor\n",
        "from sklearn.tree import DecisionTreeRegressor\n",
        "from sklearn.linear_model import LogisticRegression\n",
        "from sklearn.metrics import r2_score, mean_squared_error, mean_absolute_error\n",
        "from sklearn import set_config\n",
        "set_config(display='diagram')"
      ]
    },
    {
      "cell_type": "markdown",
      "metadata": {
        "id": "S5cWsbDCUf88"
      },
      "source": [
        "#Data Review and Cleaning"
      ]
    },
    {
      "cell_type": "code",
      "execution_count": 2,
      "metadata": {
        "colab": {
          "base_uri": "https://localhost:8080/",
          "height": 340
        },
        "id": "Q-x8UvI6qDxv",
        "outputId": "377609d4-8be7-469b-e200-6a458c1ba05c"
      },
      "outputs": [
        {
          "output_type": "execute_result",
          "data": {
            "text/plain": [
              "                       Name Platform  Year_of_Release         Genre Publisher  \\\n",
              "0                Wii Sports      Wii           2006.0        Sports  Nintendo   \n",
              "1         Super Mario Bros.      NES           1985.0      Platform  Nintendo   \n",
              "2            Mario Kart Wii      Wii           2008.0        Racing  Nintendo   \n",
              "3         Wii Sports Resort      Wii           2009.0        Sports  Nintendo   \n",
              "4  Pokemon Red/Pokemon Blue       GB           1996.0  Role-Playing  Nintendo   \n",
              "\n",
              "   NA_Sales  EU_Sales  JP_Sales  Other_Sales  Global_Sales  Critic_Score  \\\n",
              "0     41.36     28.96      3.77         8.45         82.53          76.0   \n",
              "1     29.08      3.58      6.81         0.77         40.24           NaN   \n",
              "2     15.68     12.76      3.79         3.29         35.52          82.0   \n",
              "3     15.61     10.93      3.28         2.95         32.77          80.0   \n",
              "4     11.27      8.89     10.22         1.00         31.37           NaN   \n",
              "\n",
              "   Critic_Count  User_Score  User_Count Developer Rating  \n",
              "0          51.0         8.0       322.0  Nintendo      E  \n",
              "1           NaN         NaN         NaN       NaN    NaN  \n",
              "2          73.0         8.3       709.0  Nintendo      E  \n",
              "3          73.0         8.0       192.0  Nintendo      E  \n",
              "4           NaN         NaN         NaN       NaN    NaN  "
            ],
            "text/html": [
              "\n",
              "  <div id=\"df-1b708118-ab1c-4067-935b-50b9c5ba436a\">\n",
              "    <div class=\"colab-df-container\">\n",
              "      <div>\n",
              "<style scoped>\n",
              "    .dataframe tbody tr th:only-of-type {\n",
              "        vertical-align: middle;\n",
              "    }\n",
              "\n",
              "    .dataframe tbody tr th {\n",
              "        vertical-align: top;\n",
              "    }\n",
              "\n",
              "    .dataframe thead th {\n",
              "        text-align: right;\n",
              "    }\n",
              "</style>\n",
              "<table border=\"1\" class=\"dataframe\">\n",
              "  <thead>\n",
              "    <tr style=\"text-align: right;\">\n",
              "      <th></th>\n",
              "      <th>Name</th>\n",
              "      <th>Platform</th>\n",
              "      <th>Year_of_Release</th>\n",
              "      <th>Genre</th>\n",
              "      <th>Publisher</th>\n",
              "      <th>NA_Sales</th>\n",
              "      <th>EU_Sales</th>\n",
              "      <th>JP_Sales</th>\n",
              "      <th>Other_Sales</th>\n",
              "      <th>Global_Sales</th>\n",
              "      <th>Critic_Score</th>\n",
              "      <th>Critic_Count</th>\n",
              "      <th>User_Score</th>\n",
              "      <th>User_Count</th>\n",
              "      <th>Developer</th>\n",
              "      <th>Rating</th>\n",
              "    </tr>\n",
              "  </thead>\n",
              "  <tbody>\n",
              "    <tr>\n",
              "      <th>0</th>\n",
              "      <td>Wii Sports</td>\n",
              "      <td>Wii</td>\n",
              "      <td>2006.0</td>\n",
              "      <td>Sports</td>\n",
              "      <td>Nintendo</td>\n",
              "      <td>41.36</td>\n",
              "      <td>28.96</td>\n",
              "      <td>3.77</td>\n",
              "      <td>8.45</td>\n",
              "      <td>82.53</td>\n",
              "      <td>76.0</td>\n",
              "      <td>51.0</td>\n",
              "      <td>8.0</td>\n",
              "      <td>322.0</td>\n",
              "      <td>Nintendo</td>\n",
              "      <td>E</td>\n",
              "    </tr>\n",
              "    <tr>\n",
              "      <th>1</th>\n",
              "      <td>Super Mario Bros.</td>\n",
              "      <td>NES</td>\n",
              "      <td>1985.0</td>\n",
              "      <td>Platform</td>\n",
              "      <td>Nintendo</td>\n",
              "      <td>29.08</td>\n",
              "      <td>3.58</td>\n",
              "      <td>6.81</td>\n",
              "      <td>0.77</td>\n",
              "      <td>40.24</td>\n",
              "      <td>NaN</td>\n",
              "      <td>NaN</td>\n",
              "      <td>NaN</td>\n",
              "      <td>NaN</td>\n",
              "      <td>NaN</td>\n",
              "      <td>NaN</td>\n",
              "    </tr>\n",
              "    <tr>\n",
              "      <th>2</th>\n",
              "      <td>Mario Kart Wii</td>\n",
              "      <td>Wii</td>\n",
              "      <td>2008.0</td>\n",
              "      <td>Racing</td>\n",
              "      <td>Nintendo</td>\n",
              "      <td>15.68</td>\n",
              "      <td>12.76</td>\n",
              "      <td>3.79</td>\n",
              "      <td>3.29</td>\n",
              "      <td>35.52</td>\n",
              "      <td>82.0</td>\n",
              "      <td>73.0</td>\n",
              "      <td>8.3</td>\n",
              "      <td>709.0</td>\n",
              "      <td>Nintendo</td>\n",
              "      <td>E</td>\n",
              "    </tr>\n",
              "    <tr>\n",
              "      <th>3</th>\n",
              "      <td>Wii Sports Resort</td>\n",
              "      <td>Wii</td>\n",
              "      <td>2009.0</td>\n",
              "      <td>Sports</td>\n",
              "      <td>Nintendo</td>\n",
              "      <td>15.61</td>\n",
              "      <td>10.93</td>\n",
              "      <td>3.28</td>\n",
              "      <td>2.95</td>\n",
              "      <td>32.77</td>\n",
              "      <td>80.0</td>\n",
              "      <td>73.0</td>\n",
              "      <td>8.0</td>\n",
              "      <td>192.0</td>\n",
              "      <td>Nintendo</td>\n",
              "      <td>E</td>\n",
              "    </tr>\n",
              "    <tr>\n",
              "      <th>4</th>\n",
              "      <td>Pokemon Red/Pokemon Blue</td>\n",
              "      <td>GB</td>\n",
              "      <td>1996.0</td>\n",
              "      <td>Role-Playing</td>\n",
              "      <td>Nintendo</td>\n",
              "      <td>11.27</td>\n",
              "      <td>8.89</td>\n",
              "      <td>10.22</td>\n",
              "      <td>1.00</td>\n",
              "      <td>31.37</td>\n",
              "      <td>NaN</td>\n",
              "      <td>NaN</td>\n",
              "      <td>NaN</td>\n",
              "      <td>NaN</td>\n",
              "      <td>NaN</td>\n",
              "      <td>NaN</td>\n",
              "    </tr>\n",
              "  </tbody>\n",
              "</table>\n",
              "</div>\n",
              "      <button class=\"colab-df-convert\" onclick=\"convertToInteractive('df-1b708118-ab1c-4067-935b-50b9c5ba436a')\"\n",
              "              title=\"Convert this dataframe to an interactive table.\"\n",
              "              style=\"display:none;\">\n",
              "        \n",
              "  <svg xmlns=\"http://www.w3.org/2000/svg\" height=\"24px\"viewBox=\"0 0 24 24\"\n",
              "       width=\"24px\">\n",
              "    <path d=\"M0 0h24v24H0V0z\" fill=\"none\"/>\n",
              "    <path d=\"M18.56 5.44l.94 2.06.94-2.06 2.06-.94-2.06-.94-.94-2.06-.94 2.06-2.06.94zm-11 1L8.5 8.5l.94-2.06 2.06-.94-2.06-.94L8.5 2.5l-.94 2.06-2.06.94zm10 10l.94 2.06.94-2.06 2.06-.94-2.06-.94-.94-2.06-.94 2.06-2.06.94z\"/><path d=\"M17.41 7.96l-1.37-1.37c-.4-.4-.92-.59-1.43-.59-.52 0-1.04.2-1.43.59L10.3 9.45l-7.72 7.72c-.78.78-.78 2.05 0 2.83L4 21.41c.39.39.9.59 1.41.59.51 0 1.02-.2 1.41-.59l7.78-7.78 2.81-2.81c.8-.78.8-2.07 0-2.86zM5.41 20L4 18.59l7.72-7.72 1.47 1.35L5.41 20z\"/>\n",
              "  </svg>\n",
              "      </button>\n",
              "      \n",
              "  <style>\n",
              "    .colab-df-container {\n",
              "      display:flex;\n",
              "      flex-wrap:wrap;\n",
              "      gap: 12px;\n",
              "    }\n",
              "\n",
              "    .colab-df-convert {\n",
              "      background-color: #E8F0FE;\n",
              "      border: none;\n",
              "      border-radius: 50%;\n",
              "      cursor: pointer;\n",
              "      display: none;\n",
              "      fill: #1967D2;\n",
              "      height: 32px;\n",
              "      padding: 0 0 0 0;\n",
              "      width: 32px;\n",
              "    }\n",
              "\n",
              "    .colab-df-convert:hover {\n",
              "      background-color: #E2EBFA;\n",
              "      box-shadow: 0px 1px 2px rgba(60, 64, 67, 0.3), 0px 1px 3px 1px rgba(60, 64, 67, 0.15);\n",
              "      fill: #174EA6;\n",
              "    }\n",
              "\n",
              "    [theme=dark] .colab-df-convert {\n",
              "      background-color: #3B4455;\n",
              "      fill: #D2E3FC;\n",
              "    }\n",
              "\n",
              "    [theme=dark] .colab-df-convert:hover {\n",
              "      background-color: #434B5C;\n",
              "      box-shadow: 0px 1px 3px 1px rgba(0, 0, 0, 0.15);\n",
              "      filter: drop-shadow(0px 1px 2px rgba(0, 0, 0, 0.3));\n",
              "      fill: #FFFFFF;\n",
              "    }\n",
              "  </style>\n",
              "\n",
              "      <script>\n",
              "        const buttonEl =\n",
              "          document.querySelector('#df-1b708118-ab1c-4067-935b-50b9c5ba436a button.colab-df-convert');\n",
              "        buttonEl.style.display =\n",
              "          google.colab.kernel.accessAllowed ? 'block' : 'none';\n",
              "\n",
              "        async function convertToInteractive(key) {\n",
              "          const element = document.querySelector('#df-1b708118-ab1c-4067-935b-50b9c5ba436a');\n",
              "          const dataTable =\n",
              "            await google.colab.kernel.invokeFunction('convertToInteractive',\n",
              "                                                     [key], {});\n",
              "          if (!dataTable) return;\n",
              "\n",
              "          const docLinkHtml = 'Like what you see? Visit the ' +\n",
              "            '<a target=\"_blank\" href=https://colab.research.google.com/notebooks/data_table.ipynb>data table notebook</a>'\n",
              "            + ' to learn more about interactive tables.';\n",
              "          element.innerHTML = '';\n",
              "          dataTable['output_type'] = 'display_data';\n",
              "          await google.colab.output.renderOutput(dataTable, element);\n",
              "          const docLink = document.createElement('div');\n",
              "          docLink.innerHTML = docLinkHtml;\n",
              "          element.appendChild(docLink);\n",
              "        }\n",
              "      </script>\n",
              "    </div>\n",
              "  </div>\n",
              "  "
            ]
          },
          "metadata": {},
          "execution_count": 2
        }
      ],
      "source": [
        "games= pd.read_csv('https://docs.google.com/spreadsheets/d/e/2PACX-1vRJiyV_o3XPU0pvlMVCM8JrlpXl2hcP1hezOnFBGLQWZq3G0COBwVyOuakBhv31Lt9cgU18RSyBQpWp/pub?output=csv')\n",
        "games.head()"
      ]
    },
    {
      "cell_type": "code",
      "execution_count": 3,
      "metadata": {
        "id": "ws6Rn88dqHZP"
      },
      "outputs": [],
      "source": [
        "df= games.copy()"
      ]
    },
    {
      "cell_type": "code",
      "execution_count": 4,
      "metadata": {
        "colab": {
          "base_uri": "https://localhost:8080/"
        },
        "id": "Q0EriMLbqIuJ",
        "outputId": "8f5cab09-fca0-4bf1-bd31-f8d0bb786ab9"
      },
      "outputs": [
        {
          "output_type": "stream",
          "name": "stdout",
          "text": [
            "<class 'pandas.core.frame.DataFrame'>\n",
            "RangeIndex: 16719 entries, 0 to 16718\n",
            "Data columns (total 16 columns):\n",
            " #   Column           Non-Null Count  Dtype  \n",
            "---  ------           --------------  -----  \n",
            " 0   Name             16717 non-null  object \n",
            " 1   Platform         16719 non-null  object \n",
            " 2   Year_of_Release  16450 non-null  float64\n",
            " 3   Genre            16717 non-null  object \n",
            " 4   Publisher        16665 non-null  object \n",
            " 5   NA_Sales         16719 non-null  float64\n",
            " 6   EU_Sales         16719 non-null  float64\n",
            " 7   JP_Sales         16719 non-null  float64\n",
            " 8   Other_Sales      16719 non-null  float64\n",
            " 9   Global_Sales     16719 non-null  float64\n",
            " 10  Critic_Score     8137 non-null   float64\n",
            " 11  Critic_Count     8137 non-null   float64\n",
            " 12  User_Score       7590 non-null   float64\n",
            " 13  User_Count       7590 non-null   float64\n",
            " 14  Developer        10096 non-null  object \n",
            " 15  Rating           9950 non-null   object \n",
            "dtypes: float64(10), object(6)\n",
            "memory usage: 2.0+ MB\n"
          ]
        }
      ],
      "source": [
        "df.info()"
      ]
    },
    {
      "cell_type": "code",
      "execution_count": 5,
      "metadata": {
        "colab": {
          "base_uri": "https://localhost:8080/"
        },
        "id": "44If5SaoqM6-",
        "outputId": "84b37dc2-53ac-480d-9e60-87e233d81a37"
      },
      "outputs": [
        {
          "output_type": "execute_result",
          "data": {
            "text/plain": [
              "Name                  2\n",
              "Platform              0\n",
              "Year_of_Release     269\n",
              "Genre                 2\n",
              "Publisher            54\n",
              "NA_Sales              0\n",
              "EU_Sales              0\n",
              "JP_Sales              0\n",
              "Other_Sales           0\n",
              "Global_Sales          0\n",
              "Critic_Score       8582\n",
              "Critic_Count       8582\n",
              "User_Score         9129\n",
              "User_Count         9129\n",
              "Developer          6623\n",
              "Rating             6769\n",
              "dtype: int64"
            ]
          },
          "metadata": {},
          "execution_count": 5
        }
      ],
      "source": [
        "df.isna().sum()"
      ]
    },
    {
      "cell_type": "code",
      "execution_count": 6,
      "metadata": {
        "colab": {
          "base_uri": "https://localhost:8080/"
        },
        "id": "wFbScOMvqRqb",
        "outputId": "98e61150-2a49-4d60-b8c5-2d6b8bdb7386"
      },
      "outputs": [
        {
          "output_type": "execute_result",
          "data": {
            "text/plain": [
              "False"
            ]
          },
          "metadata": {},
          "execution_count": 6
        }
      ],
      "source": [
        "df.duplicated().any()"
      ]
    },
    {
      "cell_type": "code",
      "execution_count": 7,
      "metadata": {
        "colab": {
          "base_uri": "https://localhost:8080/"
        },
        "id": "3RpVnuIqqTx1",
        "outputId": "eec77065-7f18-4113-f604-84c53ce4438d"
      },
      "outputs": [
        {
          "output_type": "execute_result",
          "data": {
            "text/plain": [
              "Name               11562\n",
              "Platform              31\n",
              "Year_of_Release       39\n",
              "Genre                 12\n",
              "Publisher            581\n",
              "NA_Sales             402\n",
              "EU_Sales             307\n",
              "JP_Sales             244\n",
              "Other_Sales          155\n",
              "Global_Sales         629\n",
              "Critic_Score          82\n",
              "Critic_Count         106\n",
              "User_Score            95\n",
              "User_Count           888\n",
              "Developer           1696\n",
              "Rating                 8\n",
              "dtype: int64"
            ]
          },
          "metadata": {},
          "execution_count": 7
        }
      ],
      "source": [
        "df.nunique()"
      ]
    },
    {
      "cell_type": "code",
      "execution_count": 8,
      "metadata": {
        "id": "BD9xQQuTqYz7"
      },
      "outputs": [],
      "source": [
        "df =df.drop(columns=['NA_Sales','EU_Sales','JP_Sales','User_Count','Critic_Count','Rating','Other_Sales','Name'])"
      ]
    },
    {
      "cell_type": "code",
      "execution_count": 9,
      "metadata": {
        "colab": {
          "base_uri": "https://localhost:8080/"
        },
        "id": "OCT_Jzvyqasj",
        "outputId": "272610e1-e640-4414-a27b-ed170cae86ba"
      },
      "outputs": [
        {
          "output_type": "stream",
          "name": "stdout",
          "text": [
            "<class 'pandas.core.frame.DataFrame'>\n",
            "RangeIndex: 16719 entries, 0 to 16718\n",
            "Data columns (total 8 columns):\n",
            " #   Column           Non-Null Count  Dtype  \n",
            "---  ------           --------------  -----  \n",
            " 0   Platform         16719 non-null  object \n",
            " 1   Year_of_Release  16450 non-null  float64\n",
            " 2   Genre            16717 non-null  object \n",
            " 3   Publisher        16665 non-null  object \n",
            " 4   Global_Sales     16719 non-null  float64\n",
            " 5   Critic_Score     8137 non-null   float64\n",
            " 6   User_Score       7590 non-null   float64\n",
            " 7   Developer        10096 non-null  object \n",
            "dtypes: float64(4), object(4)\n",
            "memory usage: 1.0+ MB\n"
          ]
        }
      ],
      "source": [
        "df.info()"
      ]
    },
    {
      "cell_type": "markdown",
      "metadata": {
        "id": "3n19dPPNUchL"
      },
      "source": [
        "#Early Visuals"
      ]
    },
    {
      "cell_type": "code",
      "execution_count": 10,
      "metadata": {
        "colab": {
          "base_uri": "https://localhost:8080/",
          "height": 321
        },
        "id": "rakI0PzcuV0e",
        "outputId": "f33dc06e-61f3-489a-b43a-7bed7b2782b2"
      },
      "outputs": [
        {
          "output_type": "display_data",
          "data": {
            "text/plain": [
              "<Figure size 432x288 with 1 Axes>"
            ],
            "image/png": "[encoded data removed]"
          },
          "metadata": {
            "needs_background": "light"
          }
        }
      ],
      "source": [
        "plat_group = df.groupby('Platform').mean().reset_index()\n",
        "\n",
        "sns.barplot(data=plat_group, x='Platform', y='Critic_Score')\n",
        "plt.ticklabel_format(style='plain', axis='y')\n",
        "plt.title('Critic Score by Platform', fontsize=20)\n",
        "plt.xlabel('Platform', fontsize=15)\n",
        "plt.ylabel('Critic Score', fontsize=15)\n",
        "plt.xticks(rotation = 45);"
      ]
    },
    {
      "cell_type": "code",
      "execution_count": 11,
      "metadata": {
        "colab": {
          "base_uri": "https://localhost:8080/",
          "height": 346
        },
        "id": "GZFI1AaBIZe-",
        "outputId": "15c84377-b616-4056-eff0-125e23ac42f9"
      },
      "outputs": [
        {
          "output_type": "display_data",
          "data": {
            "text/plain": [
              "<Figure size 432x288 with 1 Axes>"
            ],
            "image/png": "[encoded data removed]"
          },
          "metadata": {
            "needs_background": "light"
          }
        }
      ],
      "source": [
        "Genre_group = df.groupby('Genre').mean().reset_index()\n",
        "\n",
        "sns.barplot(data=Genre_group, x='Genre', y='Critic_Score')\n",
        "plt.ticklabel_format(style='plain', axis='y')\n",
        "plt.title('Critic Score by Genre', fontsize=20)\n",
        "plt.xlabel('Genre', fontsize=15)\n",
        "plt.ylabel('Critic Score', fontsize=15)\n",
        "plt.xticks(rotation = 45);"
      ]
    },
    {
      "cell_type": "code",
      "execution_count": 12,
      "metadata": {
        "id": "AFvy6r7hxn-p",
        "colab": {
          "base_uri": "https://localhost:8080/",
          "height": 577
        },
        "outputId": "40f16632-f1f1-49c5-90e2-ab2e78748f7e"
      },
      "outputs": [
        {
          "output_type": "display_data",
          "data": {
            "text/plain": [
              "<Figure size 432x288 with 1 Axes>"
            ],
            "image/png": "[encoded data removed]"
          },
          "metadata": {
            "needs_background": "light"
          }
        },
        {
          "output_type": "display_data",
          "data": {
            "text/plain": [
              "<Figure size 432x288 with 1 Axes>"
            ],
            "image/png": "[encoded data removed]"
          },
          "metadata": {
            "needs_background": "light"
          }
        }
      ],
      "source": [
        "year_group = df.groupby('Year_of_Release').mean().reset_index()\n",
        "\n",
        "fig, axes = plt.subplots(nrows = 1, ncols = 1)\n",
        "\n",
        "axes.plot(plat_group['Platform'], plat_group['Global_Sales'])\n",
        "axes.set_title('Sales By Platform', fontsize=20)\n",
        "axes.set_ylabel('Sales', fontsize=20)\n",
        "axes.set_xlabel(\"Platform\", fontsize=20)\n",
        "axes.grid()\n",
        "plt.xticks(rotation = 45);\n",
        "plt.tight_layout()\n",
        "plt.show()\n",
        "\n",
        "\n",
        "\n",
        "\n",
        "\n",
        "fig, axes = plt.subplots(nrows = 1, ncols = 1)\n",
        "\n",
        "axes.plot(year_group['Year_of_Release'], year_group['Global_Sales'])\n",
        "axes.set_title('Sales By Year of release', fontsize=20)\n",
        "axes.set_ylabel('Sales', fontsize=20)\n",
        "axes.set_xlabel(\"Year\", fontsize=20)        \n",
        "axes.grid()\n",
        "plt.xticks(rotation = 45);\n",
        "plt.tight_layout()\n",
        "plt.show()"
      ]
    },
    {
      "cell_type": "markdown",
      "metadata": {
        "id": "1ASJhBtTUUQC"
      },
      "source": [
        "#X/Y Split & Preprocessing "
      ]
    },
    {
      "cell_type": "code",
      "execution_count": 13,
      "metadata": {
        "id": "JElcc1OOyMgv"
      },
      "outputs": [],
      "source": [
        "X = df.drop(columns=['Global_Sales'])\n",
        "y = df['Global_Sales']"
      ]
    },
    {
      "cell_type": "code",
      "execution_count": 14,
      "metadata": {
        "id": "K2974jqXyPoy"
      },
      "outputs": [],
      "source": [
        "X_train, X_test, y_train, y_test = train_test_split(X, y, random_state=42)"
      ]
    },
    {
      "cell_type": "code",
      "execution_count": 15,
      "metadata": {
        "id": "qtH5UM1yyRL0"
      },
      "outputs": [],
      "source": [
        "num_select = make_column_selector(dtype_include='number')\n",
        "cat_select = make_column_selector(dtype_include='object')"
      ]
    },
    {
      "cell_type": "code",
      "execution_count": 16,
      "metadata": {
        "id": "S9-PJRQ2yUyI",
        "colab": {
          "base_uri": "https://localhost:8080/"
        },
        "outputId": "11896778-bb92-401a-d30e-69601d67fa77"
      },
      "outputs": [
        {
          "output_type": "stream",
          "name": "stdout",
          "text": [
            "numeric columns are ['Year_of_Release', 'Critic_Score', 'User_Score']\n",
            "categorical columns are ['Platform', 'Genre', 'Publisher', 'Developer']\n"
          ]
        }
      ],
      "source": [
        "num_column = num_select(X_train)\n",
        "cat_column = cat_select(X_train)\n",
        "print('numeric columns are', num_column)\n",
        "print('categorical columns are', cat_column)"
      ]
    },
    {
      "cell_type": "code",
      "execution_count": 17,
      "metadata": {
        "id": "qsrgssyKyXb0"
      },
      "outputs": [],
      "source": [
        "freq_imputer = SimpleImputer(strategy='most_frequent')\n",
        "mean_imputer = SimpleImputer(strategy='mean')"
      ]
    },
    {
      "cell_type": "code",
      "execution_count": 18,
      "metadata": {
        "id": "71shAHbLzvSw"
      },
      "outputs": [],
      "source": [
        "Stan_Scale = StandardScaler(with_mean=False)\n",
        "OHE = OneHotEncoder(handle_unknown='ignore')"
      ]
    },
    {
      "cell_type": "code",
      "execution_count": 19,
      "metadata": {
        "id": "FlH46h_1zw3u",
        "colab": {
          "base_uri": "https://localhost:8080/",
          "height": 126
        },
        "outputId": "d7b0b58b-c33e-4562-9b95-8380ba9e7ed5"
      },
      "outputs": [
        {
          "output_type": "execute_result",
          "data": {
            "text/plain": [
              "Pipeline(steps=[('simpleimputer', SimpleImputer()),\n",
              "                ('standardscaler', StandardScaler(with_mean=False))])"
            ],
            "text/html": [
              "<style>#sk-4e15da47-c5a5-43d0-a1e6-3667e594f36c {color: black;background-color: white;}#sk-4e15da47-c5a5-43d0-a1e6-3667e594f36c pre{padding: 0;}#sk-4e15da47-c5a5-43d0-a1e6-3667e594f36c div.sk-toggleable {background-color: white;}#sk-4e15da47-c5a5-43d0-a1e6-3667e594f36c label.sk-toggleable__label {cursor: pointer;display: block;width: 100%;margin-bottom: 0;padding: 0.3em;box-sizing: border-box;text-align: center;}#sk-4e15da47-c5a5-43d0-a1e6-3667e594f36c label.sk-toggleable__label-arrow:before {content: \"▸\";float: left;margin-right: 0.25em;color: #696969;}#sk-4e15da47-c5a5-43d0-a1e6-3667e594f36c label.sk-toggleable__label-arrow:hover:before {color: black;}#sk-4e15da47-c5a5-43d0-a1e6-3667e594f36c div.sk-estimator:hover label.sk-toggleable__label-arrow:before {color: black;}#sk-4e15da47-c5a5-43d0-a1e6-3667e594f36c div.sk-toggleable__content {max-height: 0;max-width: 0;overflow: hidden;text-align: left;background-color: #f0f8ff;}#sk-4e15da47-c5a5-43d0-a1e6-3667e594f36c div.sk-toggleable__content pre {margin: 0.2em;color: black;border-radius: 0.25em;background-color: #f0f8ff;}#sk-4e15da47-c5a5-43d0-a1e6-3667e594f36c input.sk-toggleable__control:checked~div.sk-toggleable__content {max-height: 200px;max-width: 100%;overflow: auto;}#sk-4e15da47-c5a5-43d0-a1e6-3667e594f36c input.sk-toggleable__control:checked~label.sk-toggleable__label-arrow:before {content: \"▾\";}#sk-4e15da47-c5a5-43d0-a1e6-3667e594f36c div.sk-estimator input.sk-toggleable__control:checked~label.sk-toggleable__label {background-color: #d4ebff;}#sk-4e15da47-c5a5-43d0-a1e6-3667e594f36c div.sk-label input.sk-toggleable__control:checked~label.sk-toggleable__label {background-color: #d4ebff;}#sk-4e15da47-c5a5-43d0-a1e6-3667e594f36c input.sk-hidden--visually {border: 0;clip: rect(1px 1px 1px 1px);clip: rect(1px, 1px, 1px, 1px);height: 1px;margin: -1px;overflow: hidden;padding: 0;position: absolute;width: 1px;}#sk-4e15da47-c5a5-43d0-a1e6-3667e594f36c div.sk-estimator {font-family: monospace;background-color: #f0f8ff;border: 1px dotted black;border-radius: 0.25em;box-sizing: border-box;margin-bottom: 0.5em;}#sk-4e15da47-c5a5-43d0-a1e6-3667e594f36c div.sk-estimator:hover {background-color: #d4ebff;}#sk-4e15da47-c5a5-43d0-a1e6-3667e594f36c div.sk-parallel-item::after {content: \"\";width: 100%;border-bottom: 1px solid gray;flex-grow: 1;}#sk-4e15da47-c5a5-43d0-a1e6-3667e594f36c div.sk-label:hover label.sk-toggleable__label {background-color: #d4ebff;}#sk-4e15da47-c5a5-43d0-a1e6-3667e594f36c div.sk-serial::before {content: \"\";position: absolute;border-left: 1px solid gray;box-sizing: border-box;top: 2em;bottom: 0;left: 50%;}#sk-4e15da47-c5a5-43d0-a1e6-3667e594f36c div.sk-serial {display: flex;flex-direction: column;align-items: center;background-color: white;padding-right: 0.2em;padding-left: 0.2em;}#sk-4e15da47-c5a5-43d0-a1e6-3667e594f36c div.sk-item {z-index: 1;}#sk-4e15da47-c5a5-43d0-a1e6-3667e594f36c div.sk-parallel {display: flex;align-items: stretch;justify-content: center;background-color: white;}#sk-4e15da47-c5a5-43d0-a1e6-3667e594f36c div.sk-parallel::before {content: \"\";position: absolute;border-left: 1px solid gray;box-sizing: border-box;top: 2em;bottom: 0;left: 50%;}#sk-4e15da47-c5a5-43d0-a1e6-3667e594f36c div.sk-parallel-item {display: flex;flex-direction: column;position: relative;background-color: white;}#sk-4e15da47-c5a5-43d0-a1e6-3667e594f36c div.sk-parallel-item:first-child::after {align-self: flex-end;width: 50%;}#sk-4e15da47-c5a5-43d0-a1e6-3667e594f36c div.sk-parallel-item:last-child::after {align-self: flex-start;width: 50%;}#sk-4e15da47-c5a5-43d0-a1e6-3667e594f36c div.sk-parallel-item:only-child::after {width: 0;}#sk-4e15da47-c5a5-43d0-a1e6-3667e594f36c div.sk-dashed-wrapped {border: 1px dashed gray;margin: 0 0.4em 0.5em 0.4em;box-sizing: border-box;padding-bottom: 0.4em;background-color: white;position: relative;}#sk-4e15da47-c5a5-43d0-a1e6-3667e594f36c div.sk-label label {font-family: monospace;font-weight: bold;background-color: white;display: inline-block;line-height: 1.2em;}#sk-4e15da47-c5a5-43d0-a1e6-3667e594f36c div.sk-label-container {position: relative;z-index: 2;text-align: center;}#sk-4e15da47-c5a5-43d0-a1e6-3667e594f36c div.sk-container {/* jupyter's `normalize.less` sets `[hidden] { display: none; }` but bootstrap.min.css set `[hidden] { display: none !important; }` so we also need the `!important` here to be able to override the default hidden behavior on the sphinx rendered scikit-learn.org. See: https://github.com/scikit-learn/scikit-learn/issues/21755 */display: inline-block !important;position: relative;}#sk-4e15da47-c5a5-43d0-a1e6-3667e594f36c div.sk-text-repr-fallback {display: none;}</style><div id=\"sk-4e15da47-c5a5-43d0-a1e6-3667e594f36c\" class=\"sk-top-container\"><div class=\"sk-text-repr-fallback\"><pre>Pipeline(steps=[(&#x27;simpleimputer&#x27;, SimpleImputer()),\n",
              "                (&#x27;standardscaler&#x27;, StandardScaler(with_mean=False))])</pre><b>Please rerun this cell to show the HTML repr or trust the notebook.</b></div><div class=\"sk-container\" hidden><div class=\"sk-item sk-dashed-wrapped\"><div class=\"sk-label-container\"><div class=\"sk-label sk-toggleable\"><input class=\"sk-toggleable__control sk-hidden--visually\" id=\"46bd309d-847f-4c21-8813-35a9ffd07943\" type=\"checkbox\" ><label for=\"46bd309d-847f-4c21-8813-35a9ffd07943\" class=\"sk-toggleable__label sk-toggleable__label-arrow\">Pipeline</label><div class=\"sk-toggleable__content\"><pre>Pipeline(steps=[(&#x27;simpleimputer&#x27;, SimpleImputer()),\n",
              "                (&#x27;standardscaler&#x27;, StandardScaler(with_mean=False))])</pre></div></div></div><div class=\"sk-serial\"><div class=\"sk-item\"><div class=\"sk-estimator sk-toggleable\"><input class=\"sk-toggleable__control sk-hidden--visually\" id=\"af657920-f1cb-402f-96c6-2ccff3c4d7d2\" type=\"checkbox\" ><label for=\"af657920-f1cb-402f-96c6-2ccff3c4d7d2\" class=\"sk-toggleable__label sk-toggleable__label-arrow\">SimpleImputer</label><div class=\"sk-toggleable__content\"><pre>SimpleImputer()</pre></div></div></div><div class=\"sk-item\"><div class=\"sk-estimator sk-toggleable\"><input class=\"sk-toggleable__control sk-hidden--visually\" id=\"3dd816db-c7ba-4af7-a32b-ddd8d6ae9355\" type=\"checkbox\" ><label for=\"3dd816db-c7ba-4af7-a32b-ddd8d6ae9355\" class=\"sk-toggleable__label sk-toggleable__label-arrow\">StandardScaler</label><div class=\"sk-toggleable__content\"><pre>StandardScaler(with_mean=False)</pre></div></div></div></div></div></div></div>"
            ]
          },
          "metadata": {},
          "execution_count": 19
        }
      ],
      "source": [
        "num_pipe = make_pipeline(mean_imputer, Stan_Scale)\n",
        "num_pipe"
      ]
    },
    {
      "cell_type": "code",
      "execution_count": 20,
      "metadata": {
        "id": "AFq9UW7mzzet",
        "colab": {
          "base_uri": "https://localhost:8080/",
          "height": 126
        },
        "outputId": "7880f26c-0785-4ab9-9b2f-cebeb6dcc23f"
      },
      "outputs": [
        {
          "output_type": "execute_result",
          "data": {
            "text/plain": [
              "Pipeline(steps=[('simpleimputer', SimpleImputer(strategy='most_frequent')),\n",
              "                ('onehotencoder', OneHotEncoder(handle_unknown='ignore'))])"
            ],
            "text/html": [
              "<style>#sk-b79fc9c9-ef3c-42b7-8877-346a74924a7f {color: black;background-color: white;}#sk-b79fc9c9-ef3c-42b7-8877-346a74924a7f pre{padding: 0;}#sk-b79fc9c9-ef3c-42b7-8877-346a74924a7f div.sk-toggleable {background-color: white;}#sk-b79fc9c9-ef3c-42b7-8877-346a74924a7f label.sk-toggleable__label {cursor: pointer;display: block;width: 100%;margin-bottom: 0;padding: 0.3em;box-sizing: border-box;text-align: center;}#sk-b79fc9c9-ef3c-42b7-8877-346a74924a7f label.sk-toggleable__label-arrow:before {content: \"▸\";float: left;margin-right: 0.25em;color: #696969;}#sk-b79fc9c9-ef3c-42b7-8877-346a74924a7f label.sk-toggleable__label-arrow:hover:before {color: black;}#sk-b79fc9c9-ef3c-42b7-8877-346a74924a7f div.sk-estimator:hover label.sk-toggleable__label-arrow:before {color: black;}#sk-b79fc9c9-ef3c-42b7-8877-346a74924a7f div.sk-toggleable__content {max-height: 0;max-width: 0;overflow: hidden;text-align: left;background-color: #f0f8ff;}#sk-b79fc9c9-ef3c-42b7-8877-346a74924a7f div.sk-toggleable__content pre {margin: 0.2em;color: black;border-radius: 0.25em;background-color: #f0f8ff;}#sk-b79fc9c9-ef3c-42b7-8877-346a74924a7f input.sk-toggleable__control:checked~div.sk-toggleable__content {max-height: 200px;max-width: 100%;overflow: auto;}#sk-b79fc9c9-ef3c-42b7-8877-346a74924a7f input.sk-toggleable__control:checked~label.sk-toggleable__label-arrow:before {content: \"▾\";}#sk-b79fc9c9-ef3c-42b7-8877-346a74924a7f div.sk-estimator input.sk-toggleable__control:checked~label.sk-toggleable__label {background-color: #d4ebff;}#sk-b79fc9c9-ef3c-42b7-8877-346a74924a7f div.sk-label input.sk-toggleable__control:checked~label.sk-toggleable__label {background-color: #d4ebff;}#sk-b79fc9c9-ef3c-42b7-8877-346a74924a7f input.sk-hidden--visually {border: 0;clip: rect(1px 1px 1px 1px);clip: rect(1px, 1px, 1px, 1px);height: 1px;margin: -1px;overflow: hidden;padding: 0;position: absolute;width: 1px;}#sk-b79fc9c9-ef3c-42b7-8877-346a74924a7f div.sk-estimator {font-family: monospace;background-color: #f0f8ff;border: 1px dotted black;border-radius: 0.25em;box-sizing: border-box;margin-bottom: 0.5em;}#sk-b79fc9c9-ef3c-42b7-8877-346a74924a7f div.sk-estimator:hover {background-color: #d4ebff;}#sk-b79fc9c9-ef3c-42b7-8877-346a74924a7f div.sk-parallel-item::after {content: \"\";width: 100%;border-bottom: 1px solid gray;flex-grow: 1;}#sk-b79fc9c9-ef3c-42b7-8877-346a74924a7f div.sk-label:hover label.sk-toggleable__label {background-color: #d4ebff;}#sk-b79fc9c9-ef3c-42b7-8877-346a74924a7f div.sk-serial::before {content: \"\";position: absolute;border-left: 1px solid gray;box-sizing: border-box;top: 2em;bottom: 0;left: 50%;}#sk-b79fc9c9-ef3c-42b7-8877-346a74924a7f div.sk-serial {display: flex;flex-direction: column;align-items: center;background-color: white;padding-right: 0.2em;padding-left: 0.2em;}#sk-b79fc9c9-ef3c-42b7-8877-346a74924a7f div.sk-item {z-index: 1;}#sk-b79fc9c9-ef3c-42b7-8877-346a74924a7f div.sk-parallel {display: flex;align-items: stretch;justify-content: center;background-color: white;}#sk-b79fc9c9-ef3c-42b7-8877-346a74924a7f div.sk-parallel::before {content: \"\";position: absolute;border-left: 1px solid gray;box-sizing: border-box;top: 2em;bottom: 0;left: 50%;}#sk-b79fc9c9-ef3c-42b7-8877-346a74924a7f div.sk-parallel-item {display: flex;flex-direction: column;position: relative;background-color: white;}#sk-b79fc9c9-ef3c-42b7-8877-346a74924a7f div.sk-parallel-item:first-child::after {align-self: flex-end;width: 50%;}#sk-b79fc9c9-ef3c-42b7-8877-346a74924a7f div.sk-parallel-item:last-child::after {align-self: flex-start;width: 50%;}#sk-b79fc9c9-ef3c-42b7-8877-346a74924a7f div.sk-parallel-item:only-child::after {width: 0;}#sk-b79fc9c9-ef3c-42b7-8877-346a74924a7f div.sk-dashed-wrapped {border: 1px dashed gray;margin: 0 0.4em 0.5em 0.4em;box-sizing: border-box;padding-bottom: 0.4em;background-color: white;position: relative;}#sk-b79fc9c9-ef3c-42b7-8877-346a74924a7f div.sk-label label {font-family: monospace;font-weight: bold;background-color: white;display: inline-block;line-height: 1.2em;}#sk-b79fc9c9-ef3c-42b7-8877-346a74924a7f div.sk-label-container {position: relative;z-index: 2;text-align: center;}#sk-b79fc9c9-ef3c-42b7-8877-346a74924a7f div.sk-container {/* jupyter's `normalize.less` sets `[hidden] { display: none; }` but bootstrap.min.css set `[hidden] { display: none !important; }` so we also need the `!important` here to be able to override the default hidden behavior on the sphinx rendered scikit-learn.org. See: https://github.com/scikit-learn/scikit-learn/issues/21755 */display: inline-block !important;position: relative;}#sk-b79fc9c9-ef3c-42b7-8877-346a74924a7f div.sk-text-repr-fallback {display: none;}</style><div id=\"sk-b79fc9c9-ef3c-42b7-8877-346a74924a7f\" class=\"sk-top-container\"><div class=\"sk-text-repr-fallback\"><pre>Pipeline(steps=[(&#x27;simpleimputer&#x27;, SimpleImputer(strategy=&#x27;most_frequent&#x27;)),\n",
              "                (&#x27;onehotencoder&#x27;, OneHotEncoder(handle_unknown=&#x27;ignore&#x27;))])</pre><b>Please rerun this cell to show the HTML repr or trust the notebook.</b></div><div class=\"sk-container\" hidden><div class=\"sk-item sk-dashed-wrapped\"><div class=\"sk-label-container\"><div class=\"sk-label sk-toggleable\"><input class=\"sk-toggleable__control sk-hidden--visually\" id=\"95c26704-767b-4efd-b7bd-41aacba92ce6\" type=\"checkbox\" ><label for=\"95c26704-767b-4efd-b7bd-41aacba92ce6\" class=\"sk-toggleable__label sk-toggleable__label-arrow\">Pipeline</label><div class=\"sk-toggleable__content\"><pre>Pipeline(steps=[(&#x27;simpleimputer&#x27;, SimpleImputer(strategy=&#x27;most_frequent&#x27;)),\n",
              "                (&#x27;onehotencoder&#x27;, OneHotEncoder(handle_unknown=&#x27;ignore&#x27;))])</pre></div></div></div><div class=\"sk-serial\"><div class=\"sk-item\"><div class=\"sk-estimator sk-toggleable\"><input class=\"sk-toggleable__control sk-hidden--visually\" id=\"ab729fff-f852-4023-98eb-f4a587ffe23d\" type=\"checkbox\" ><label for=\"ab729fff-f852-4023-98eb-f4a587ffe23d\" class=\"sk-toggleable__label sk-toggleable__label-arrow\">SimpleImputer</label><div class=\"sk-toggleable__content\"><pre>SimpleImputer(strategy=&#x27;most_frequent&#x27;)</pre></div></div></div><div class=\"sk-item\"><div class=\"sk-estimator sk-toggleable\"><input class=\"sk-toggleable__control sk-hidden--visually\" id=\"9aca739f-a2e9-4a53-95a4-d18fbda4be8f\" type=\"checkbox\" ><label for=\"9aca739f-a2e9-4a53-95a4-d18fbda4be8f\" class=\"sk-toggleable__label sk-toggleable__label-arrow\">OneHotEncoder</label><div class=\"sk-toggleable__content\"><pre>OneHotEncoder(handle_unknown=&#x27;ignore&#x27;)</pre></div></div></div></div></div></div></div>"
            ]
          },
          "metadata": {},
          "execution_count": 20
        }
      ],
      "source": [
        "nom_pipe = make_pipeline(freq_imputer, OHE)\n",
        "nom_pipe"
      ]
    },
    {
      "cell_type": "code",
      "execution_count": 21,
      "metadata": {
        "id": "ktLWpER002Nr",
        "colab": {
          "base_uri": "https://localhost:8080/",
          "height": 152
        },
        "outputId": "eca425ea-68d4-4cac-aea3-fbf0fb3465b2"
      },
      "outputs": [
        {
          "output_type": "execute_result",
          "data": {
            "text/plain": [
              "ColumnTransformer(transformers=[('pipeline-1',\n",
              "                                 Pipeline(steps=[('simpleimputer',\n",
              "                                                  SimpleImputer()),\n",
              "                                                 ('standardscaler',\n",
              "                                                  StandardScaler(with_mean=False))]),\n",
              "                                 <sklearn.compose._column_transformer.make_column_selector object at 0x7fa4d2e03410>),\n",
              "                                ('pipeline-2',\n",
              "                                 Pipeline(steps=[('simpleimputer',\n",
              "                                                  SimpleImputer(strategy='most_frequent')),\n",
              "                                                 ('onehotencoder',\n",
              "                                                  OneHotEncoder(handle_unknown='ignore'))]),\n",
              "                                 <sklearn.compose._column_transformer.make_column_selector object at 0x7fa4d2e037d0>)])"
            ],
            "text/html": [
              "<style>#sk-02fdad81-27ef-4818-9c4d-4b84145a0d84 {color: black;background-color: white;}#sk-02fdad81-27ef-4818-9c4d-4b84145a0d84 pre{padding: 0;}#sk-02fdad81-27ef-4818-9c4d-4b84145a0d84 div.sk-toggleable {background-color: white;}#sk-02fdad81-27ef-4818-9c4d-4b84145a0d84 label.sk-toggleable__label {cursor: pointer;display: block;width: 100%;margin-bottom: 0;padding: 0.3em;box-sizing: border-box;text-align: center;}#sk-02fdad81-27ef-4818-9c4d-4b84145a0d84 label.sk-toggleable__label-arrow:before {content: \"▸\";float: left;margin-right: 0.25em;color: #696969;}#sk-02fdad81-27ef-4818-9c4d-4b84145a0d84 label.sk-toggleable__label-arrow:hover:before {color: black;}#sk-02fdad81-27ef-4818-9c4d-4b84145a0d84 div.sk-estimator:hover label.sk-toggleable__label-arrow:before {color: black;}#sk-02fdad81-27ef-4818-9c4d-4b84145a0d84 div.sk-toggleable__content {max-height: 0;max-width: 0;overflow: hidden;text-align: left;background-color: #f0f8ff;}#sk-02fdad81-27ef-4818-9c4d-4b84145a0d84 div.sk-toggleable__content pre {margin: 0.2em;color: black;border-radius: 0.25em;background-color: #f0f8ff;}#sk-02fdad81-27ef-4818-9c4d-4b84145a0d84 input.sk-toggleable__control:checked~div.sk-toggleable__content {max-height: 200px;max-width: 100%;overflow: auto;}#sk-02fdad81-27ef-4818-9c4d-4b84145a0d84 input.sk-toggleable__control:checked~label.sk-toggleable__label-arrow:before {content: \"▾\";}#sk-02fdad81-27ef-4818-9c4d-4b84145a0d84 div.sk-estimator input.sk-toggleable__control:checked~label.sk-toggleable__label {background-color: #d4ebff;}#sk-02fdad81-27ef-4818-9c4d-4b84145a0d84 div.sk-label input.sk-toggleable__control:checked~label.sk-toggleable__label {background-color: #d4ebff;}#sk-02fdad81-27ef-4818-9c4d-4b84145a0d84 input.sk-hidden--visually {border: 0;clip: rect(1px 1px 1px 1px);clip: rect(1px, 1px, 1px, 1px);height: 1px;margin: -1px;overflow: hidden;padding: 0;position: absolute;width: 1px;}#sk-02fdad81-27ef-4818-9c4d-4b84145a0d84 div.sk-estimator {font-family: monospace;background-color: #f0f8ff;border: 1px dotted black;border-radius: 0.25em;box-sizing: border-box;margin-bottom: 0.5em;}#sk-02fdad81-27ef-4818-9c4d-4b84145a0d84 div.sk-estimator:hover {background-color: #d4ebff;}#sk-02fdad81-27ef-4818-9c4d-4b84145a0d84 div.sk-parallel-item::after {content: \"\";width: 100%;border-bottom: 1px solid gray;flex-grow: 1;}#sk-02fdad81-27ef-4818-9c4d-4b84145a0d84 div.sk-label:hover label.sk-toggleable__label {background-color: #d4ebff;}#sk-02fdad81-27ef-4818-9c4d-4b84145a0d84 div.sk-serial::before {content: \"\";position: absolute;border-left: 1px solid gray;box-sizing: border-box;top: 2em;bottom: 0;left: 50%;}#sk-02fdad81-27ef-4818-9c4d-4b84145a0d84 div.sk-serial {display: flex;flex-direction: column;align-items: center;background-color: white;padding-right: 0.2em;padding-left: 0.2em;}#sk-02fdad81-27ef-4818-9c4d-4b84145a0d84 div.sk-item {z-index: 1;}#sk-02fdad81-27ef-4818-9c4d-4b84145a0d84 div.sk-parallel {display: flex;align-items: stretch;justify-content: center;background-color: white;}#sk-02fdad81-27ef-4818-9c4d-4b84145a0d84 div.sk-parallel::before {content: \"\";position: absolute;border-left: 1px solid gray;box-sizing: border-box;top: 2em;bottom: 0;left: 50%;}#sk-02fdad81-27ef-4818-9c4d-4b84145a0d84 div.sk-parallel-item {display: flex;flex-direction: column;position: relative;background-color: white;}#sk-02fdad81-27ef-4818-9c4d-4b84145a0d84 div.sk-parallel-item:first-child::after {align-self: flex-end;width: 50%;}#sk-02fdad81-27ef-4818-9c4d-4b84145a0d84 div.sk-parallel-item:last-child::after {align-self: flex-start;width: 50%;}#sk-02fdad81-27ef-4818-9c4d-4b84145a0d84 div.sk-parallel-item:only-child::after {width: 0;}#sk-02fdad81-27ef-4818-9c4d-4b84145a0d84 div.sk-dashed-wrapped {border: 1px dashed gray;margin: 0 0.4em 0.5em 0.4em;box-sizing: border-box;padding-bottom: 0.4em;background-color: white;position: relative;}#sk-02fdad81-27ef-4818-9c4d-4b84145a0d84 div.sk-label label {font-family: monospace;font-weight: bold;background-color: white;display: inline-block;line-height: 1.2em;}#sk-02fdad81-27ef-4818-9c4d-4b84145a0d84 div.sk-label-container {position: relative;z-index: 2;text-align: center;}#sk-02fdad81-27ef-4818-9c4d-4b84145a0d84 div.sk-container {/* jupyter's `normalize.less` sets `[hidden] { display: none; }` but bootstrap.min.css set `[hidden] { display: none !important; }` so we also need the `!important` here to be able to override the default hidden behavior on the sphinx rendered scikit-learn.org. See: https://github.com/scikit-learn/scikit-learn/issues/21755 */display: inline-block !important;position: relative;}#sk-02fdad81-27ef-4818-9c4d-4b84145a0d84 div.sk-text-repr-fallback {display: none;}</style><div id=\"sk-02fdad81-27ef-4818-9c4d-4b84145a0d84\" class=\"sk-top-container\"><div class=\"sk-text-repr-fallback\"><pre>ColumnTransformer(transformers=[(&#x27;pipeline-1&#x27;,\n",
              "                                 Pipeline(steps=[(&#x27;simpleimputer&#x27;,\n",
              "                                                  SimpleImputer()),\n",
              "                                                 (&#x27;standardscaler&#x27;,\n",
              "                                                  StandardScaler(with_mean=False))]),\n",
              "                                 &lt;sklearn.compose._column_transformer.make_column_selector object at 0x7fa4d2e03410&gt;),\n",
              "                                (&#x27;pipeline-2&#x27;,\n",
              "                                 Pipeline(steps=[(&#x27;simpleimputer&#x27;,\n",
              "                                                  SimpleImputer(strategy=&#x27;most_frequent&#x27;)),\n",
              "                                                 (&#x27;onehotencoder&#x27;,\n",
              "                                                  OneHotEncoder(handle_unknown=&#x27;ignore&#x27;))]),\n",
              "                                 &lt;sklearn.compose._column_transformer.make_column_selector object at 0x7fa4d2e037d0&gt;)])</pre><b>Please rerun this cell to show the HTML repr or trust the notebook.</b></div><div class=\"sk-container\" hidden><div class=\"sk-item sk-dashed-wrapped\"><div class=\"sk-label-container\"><div class=\"sk-label sk-toggleable\"><input class=\"sk-toggleable__control sk-hidden--visually\" id=\"00885b3d-15a2-411d-8820-6059a9168bbc\" type=\"checkbox\" ><label for=\"00885b3d-15a2-411d-8820-6059a9168bbc\" class=\"sk-toggleable__label sk-toggleable__label-arrow\">ColumnTransformer</label><div class=\"sk-toggleable__content\"><pre>ColumnTransformer(transformers=[(&#x27;pipeline-1&#x27;,\n",
              "                                 Pipeline(steps=[(&#x27;simpleimputer&#x27;,\n",
              "                                                  SimpleImputer()),\n",
              "                                                 (&#x27;standardscaler&#x27;,\n",
              "                                                  StandardScaler(with_mean=False))]),\n",
              "                                 &lt;sklearn.compose._column_transformer.make_column_selector object at 0x7fa4d2e03410&gt;),\n",
              "                                (&#x27;pipeline-2&#x27;,\n",
              "                                 Pipeline(steps=[(&#x27;simpleimputer&#x27;,\n",
              "                                                  SimpleImputer(strategy=&#x27;most_frequent&#x27;)),\n",
              "                                                 (&#x27;onehotencoder&#x27;,\n",
              "                                                  OneHotEncoder(handle_unknown=&#x27;ignore&#x27;))]),\n",
              "                                 &lt;sklearn.compose._column_transformer.make_column_selector object at 0x7fa4d2e037d0&gt;)])</pre></div></div></div><div class=\"sk-parallel\"><div class=\"sk-parallel-item\"><div class=\"sk-item\"><div class=\"sk-label-container\"><div class=\"sk-label sk-toggleable\"><input class=\"sk-toggleable__control sk-hidden--visually\" id=\"f8653132-ddae-4f52-b124-5d1098219e10\" type=\"checkbox\" ><label for=\"f8653132-ddae-4f52-b124-5d1098219e10\" class=\"sk-toggleable__label sk-toggleable__label-arrow\">pipeline-1</label><div class=\"sk-toggleable__content\"><pre>&lt;sklearn.compose._column_transformer.make_column_selector object at 0x7fa4d2e03410&gt;</pre></div></div></div><div class=\"sk-serial\"><div class=\"sk-item\"><div class=\"sk-serial\"><div class=\"sk-item\"><div class=\"sk-estimator sk-toggleable\"><input class=\"sk-toggleable__control sk-hidden--visually\" id=\"ef929c38-e2c5-4ae6-9f48-c2a0c7254a9a\" type=\"checkbox\" ><label for=\"ef929c38-e2c5-4ae6-9f48-c2a0c7254a9a\" class=\"sk-toggleable__label sk-toggleable__label-arrow\">SimpleImputer</label><div class=\"sk-toggleable__content\"><pre>SimpleImputer()</pre></div></div></div><div class=\"sk-item\"><div class=\"sk-estimator sk-toggleable\"><input class=\"sk-toggleable__control sk-hidden--visually\" id=\"9c27df9e-c6fa-4ed3-ba13-8d446438ffa6\" type=\"checkbox\" ><label for=\"9c27df9e-c6fa-4ed3-ba13-8d446438ffa6\" class=\"sk-toggleable__label sk-toggleable__label-arrow\">StandardScaler</label><div class=\"sk-toggleable__content\"><pre>StandardScaler(with_mean=False)</pre></div></div></div></div></div></div></div></div><div class=\"sk-parallel-item\"><div class=\"sk-item\"><div class=\"sk-label-container\"><div class=\"sk-label sk-toggleable\"><input class=\"sk-toggleable__control sk-hidden--visually\" id=\"a4507a7d-7454-475b-9978-32bafa6ede62\" type=\"checkbox\" ><label for=\"a4507a7d-7454-475b-9978-32bafa6ede62\" class=\"sk-toggleable__label sk-toggleable__label-arrow\">pipeline-2</label><div class=\"sk-toggleable__content\"><pre>&lt;sklearn.compose._column_transformer.make_column_selector object at 0x7fa4d2e037d0&gt;</pre></div></div></div><div class=\"sk-serial\"><div class=\"sk-item\"><div class=\"sk-serial\"><div class=\"sk-item\"><div class=\"sk-estimator sk-toggleable\"><input class=\"sk-toggleable__control sk-hidden--visually\" id=\"64c06078-c228-4287-a31c-0fa489503530\" type=\"checkbox\" ><label for=\"64c06078-c228-4287-a31c-0fa489503530\" class=\"sk-toggleable__label sk-toggleable__label-arrow\">SimpleImputer</label><div class=\"sk-toggleable__content\"><pre>SimpleImputer(strategy=&#x27;most_frequent&#x27;)</pre></div></div></div><div class=\"sk-item\"><div class=\"sk-estimator sk-toggleable\"><input class=\"sk-toggleable__control sk-hidden--visually\" id=\"fd6b7ef9-2552-43d2-8f7c-fea8d503d8e1\" type=\"checkbox\" ><label for=\"fd6b7ef9-2552-43d2-8f7c-fea8d503d8e1\" class=\"sk-toggleable__label sk-toggleable__label-arrow\">OneHotEncoder</label><div class=\"sk-toggleable__content\"><pre>OneHotEncoder(handle_unknown=&#x27;ignore&#x27;)</pre></div></div></div></div></div></div></div></div></div></div></div></div>"
            ]
          },
          "metadata": {},
          "execution_count": 21
        }
      ],
      "source": [
        "num_tup_pro= (num_pipe, num_select)\n",
        "nom_tup_pro= (nom_pipe, cat_select)\n",
        "\n",
        "pre_pro = make_column_transformer(num_tup_pro, nom_tup_pro)\n",
        "pre_pro"
      ]
    },
    {
      "cell_type": "markdown",
      "metadata": {
        "id": "D0Fb0_81UtVD"
      },
      "source": [
        "# ***Regression Models***"
      ]
    },
    {
      "cell_type": "code",
      "source": [
        "def eval_regression(true, pred):\n",
        "  \"\"\"Takes true and predicted values (arrays) and prints MAE, MSE, RMSE and R2\"\"\"\n",
        "  mae = mean_absolute_error(true, pred)\n",
        "  mse = mean_squared_error(true, pred)\n",
        "  rmse = np.sqrt(mse)\n",
        "  r2 = r2_score(true, pred)\n",
        "\n",
        "  print(f'MAE {mae},\\n MSE {mse},\\n RMSE: {rmse},\\n R^2: {r2} ')"
      ],
      "metadata": {
        "id": "lHSQuR2uZZkw"
      },
      "execution_count": 22,
      "outputs": []
    },
    {
      "cell_type": "markdown",
      "metadata": {
        "id": "xJOg85MH4_b4"
      },
      "source": [
        "# Dummy"
      ]
    },
    {
      "cell_type": "code",
      "source": [
        "# instantiate a baseline model\n",
        "dummy_reg = DummyRegressor(strategy='mean')\n",
        "\n",
        "\n",
        "dummy_pipe = make_pipeline(pre_pro, dummy_reg)\n",
        "\n",
        "dummy_pipe.fit(X_train, y_train)"
      ],
      "metadata": {
        "colab": {
          "base_uri": "https://localhost:8080/",
          "height": 227
        },
        "id": "DV0WPXfwV9XN",
        "outputId": "5eee2fe7-1802-4288-851f-5af7d4b74d0d"
      },
      "execution_count": 23,
      "outputs": [
        {
          "output_type": "execute_result",
          "data": {
            "text/plain": [
              "Pipeline(steps=[('columntransformer',\n",
              "                 ColumnTransformer(transformers=[('pipeline-1',\n",
              "                                                  Pipeline(steps=[('simpleimputer',\n",
              "                                                                   SimpleImputer()),\n",
              "                                                                  ('standardscaler',\n",
              "                                                                   StandardScaler(with_mean=False))]),\n",
              "                                                  <sklearn.compose._column_transformer.make_column_selector object at 0x7fa4d2e03410>),\n",
              "                                                 ('pipeline-2',\n",
              "                                                  Pipeline(steps=[('simpleimputer',\n",
              "                                                                   SimpleImputer(strategy='most_frequent')),\n",
              "                                                                  ('onehotencoder',\n",
              "                                                                   OneHotEncoder(handle_unknown='ignore'))]),\n",
              "                                                  <sklearn.compose._column_transformer.make_column_selector object at 0x7fa4d2e037d0>)])),\n",
              "                ('dummyregressor', DummyRegressor())])"
            ],
            "text/html": [
              "<style>#sk-2ec06d73-a9b3-45a2-a5ef-e4a72d7dea41 {color: black;background-color: white;}#sk-2ec06d73-a9b3-45a2-a5ef-e4a72d7dea41 pre{padding: 0;}#sk-2ec06d73-a9b3-45a2-a5ef-e4a72d7dea41 div.sk-toggleable {background-color: white;}#sk-2ec06d73-a9b3-45a2-a5ef-e4a72d7dea41 label.sk-toggleable__label {cursor: pointer;display: block;width: 100%;margin-bottom: 0;padding: 0.3em;box-sizing: border-box;text-align: center;}#sk-2ec06d73-a9b3-45a2-a5ef-e4a72d7dea41 label.sk-toggleable__label-arrow:before {content: \"▸\";float: left;margin-right: 0.25em;color: #696969;}#sk-2ec06d73-a9b3-45a2-a5ef-e4a72d7dea41 label.sk-toggleable__label-arrow:hover:before {color: black;}#sk-2ec06d73-a9b3-45a2-a5ef-e4a72d7dea41 div.sk-estimator:hover label.sk-toggleable__label-arrow:before {color: black;}#sk-2ec06d73-a9b3-45a2-a5ef-e4a72d7dea41 div.sk-toggleable__content {max-height: 0;max-width: 0;overflow: hidden;text-align: left;background-color: #f0f8ff;}#sk-2ec06d73-a9b3-45a2-a5ef-e4a72d7dea41 div.sk-toggleable__content pre {margin: 0.2em;color: black;border-radius: 0.25em;background-color: #f0f8ff;}#sk-2ec06d73-a9b3-45a2-a5ef-e4a72d7dea41 input.sk-toggleable__control:checked~div.sk-toggleable__content {max-height: 200px;max-width: 100%;overflow: auto;}#sk-2ec06d73-a9b3-45a2-a5ef-e4a72d7dea41 input.sk-toggleable__control:checked~label.sk-toggleable__label-arrow:before {content: \"▾\";}#sk-2ec06d73-a9b3-45a2-a5ef-e4a72d7dea41 div.sk-estimator input.sk-toggleable__control:checked~label.sk-toggleable__label {background-color: #d4ebff;}#sk-2ec06d73-a9b3-45a2-a5ef-e4a72d7dea41 div.sk-label input.sk-toggleable__control:checked~label.sk-toggleable__label {background-color: #d4ebff;}#sk-2ec06d73-a9b3-45a2-a5ef-e4a72d7dea41 input.sk-hidden--visually {border: 0;clip: rect(1px 1px 1px 1px);clip: rect(1px, 1px, 1px, 1px);height: 1px;margin: -1px;overflow: hidden;padding: 0;position: absolute;width: 1px;}#sk-2ec06d73-a9b3-45a2-a5ef-e4a72d7dea41 div.sk-estimator {font-family: monospace;background-color: #f0f8ff;border: 1px dotted black;border-radius: 0.25em;box-sizing: border-box;margin-bottom: 0.5em;}#sk-2ec06d73-a9b3-45a2-a5ef-e4a72d7dea41 div.sk-estimator:hover {background-color: #d4ebff;}#sk-2ec06d73-a9b3-45a2-a5ef-e4a72d7dea41 div.sk-parallel-item::after {content: \"\";width: 100%;border-bottom: 1px solid gray;flex-grow: 1;}#sk-2ec06d73-a9b3-45a2-a5ef-e4a72d7dea41 div.sk-label:hover label.sk-toggleable__label {background-color: #d4ebff;}#sk-2ec06d73-a9b3-45a2-a5ef-e4a72d7dea41 div.sk-serial::before {content: \"\";position: absolute;border-left: 1px solid gray;box-sizing: border-box;top: 2em;bottom: 0;left: 50%;}#sk-2ec06d73-a9b3-45a2-a5ef-e4a72d7dea41 div.sk-serial {display: flex;flex-direction: column;align-items: center;background-color: white;padding-right: 0.2em;padding-left: 0.2em;}#sk-2ec06d73-a9b3-45a2-a5ef-e4a72d7dea41 div.sk-item {z-index: 1;}#sk-2ec06d73-a9b3-45a2-a5ef-e4a72d7dea41 div.sk-parallel {display: flex;align-items: stretch;justify-content: center;background-color: white;}#sk-2ec06d73-a9b3-45a2-a5ef-e4a72d7dea41 div.sk-parallel::before {content: \"\";position: absolute;border-left: 1px solid gray;box-sizing: border-box;top: 2em;bottom: 0;left: 50%;}#sk-2ec06d73-a9b3-45a2-a5ef-e4a72d7dea41 div.sk-parallel-item {display: flex;flex-direction: column;position: relative;background-color: white;}#sk-2ec06d73-a9b3-45a2-a5ef-e4a72d7dea41 div.sk-parallel-item:first-child::after {align-self: flex-end;width: 50%;}#sk-2ec06d73-a9b3-45a2-a5ef-e4a72d7dea41 div.sk-parallel-item:last-child::after {align-self: flex-start;width: 50%;}#sk-2ec06d73-a9b3-45a2-a5ef-e4a72d7dea41 div.sk-parallel-item:only-child::after {width: 0;}#sk-2ec06d73-a9b3-45a2-a5ef-e4a72d7dea41 div.sk-dashed-wrapped {border: 1px dashed gray;margin: 0 0.4em 0.5em 0.4em;box-sizing: border-box;padding-bottom: 0.4em;background-color: white;position: relative;}#sk-2ec06d73-a9b3-45a2-a5ef-e4a72d7dea41 div.sk-label label {font-family: monospace;font-weight: bold;background-color: white;display: inline-block;line-height: 1.2em;}#sk-2ec06d73-a9b3-45a2-a5ef-e4a72d7dea41 div.sk-label-container {position: relative;z-index: 2;text-align: center;}#sk-2ec06d73-a9b3-45a2-a5ef-e4a72d7dea41 div.sk-container {/* jupyter's `normalize.less` sets `[hidden] { display: none; }` but bootstrap.min.css set `[hidden] { display: none !important; }` so we also need the `!important` here to be able to override the default hidden behavior on the sphinx rendered scikit-learn.org. See: https://github.com/scikit-learn/scikit-learn/issues/21755 */display: inline-block !important;position: relative;}#sk-2ec06d73-a9b3-45a2-a5ef-e4a72d7dea41 div.sk-text-repr-fallback {display: none;}</style><div id=\"sk-2ec06d73-a9b3-45a2-a5ef-e4a72d7dea41\" class=\"sk-top-container\"><div class=\"sk-text-repr-fallback\"><pre>Pipeline(steps=[(&#x27;columntransformer&#x27;,\n",
              "                 ColumnTransformer(transformers=[(&#x27;pipeline-1&#x27;,\n",
              "                                                  Pipeline(steps=[(&#x27;simpleimputer&#x27;,\n",
              "                                                                   SimpleImputer()),\n",
              "                                                                  (&#x27;standardscaler&#x27;,\n",
              "                                                                   StandardScaler(with_mean=False))]),\n",
              "                                                  &lt;sklearn.compose._column_transformer.make_column_selector object at 0x7fa4d2e03410&gt;),\n",
              "                                                 (&#x27;pipeline-2&#x27;,\n",
              "                                                  Pipeline(steps=[(&#x27;simpleimputer&#x27;,\n",
              "                                                                   SimpleImputer(strategy=&#x27;most_frequent&#x27;)),\n",
              "                                                                  (&#x27;onehotencoder&#x27;,\n",
              "                                                                   OneHotEncoder(handle_unknown=&#x27;ignore&#x27;))]),\n",
              "                                                  &lt;sklearn.compose._column_transformer.make_column_selector object at 0x7fa4d2e037d0&gt;)])),\n",
              "                (&#x27;dummyregressor&#x27;, DummyRegressor())])</pre><b>Please rerun this cell to show the HTML repr or trust the notebook.</b></div><div class=\"sk-container\" hidden><div class=\"sk-item sk-dashed-wrapped\"><div class=\"sk-label-container\"><div class=\"sk-label sk-toggleable\"><input class=\"sk-toggleable__control sk-hidden--visually\" id=\"41ed8eb6-5e73-472e-9c0d-6576a2da04d2\" type=\"checkbox\" ><label for=\"41ed8eb6-5e73-472e-9c0d-6576a2da04d2\" class=\"sk-toggleable__label sk-toggleable__label-arrow\">Pipeline</label><div class=\"sk-toggleable__content\"><pre>Pipeline(steps=[(&#x27;columntransformer&#x27;,\n",
              "                 ColumnTransformer(transformers=[(&#x27;pipeline-1&#x27;,\n",
              "                                                  Pipeline(steps=[(&#x27;simpleimputer&#x27;,\n",
              "                                                                   SimpleImputer()),\n",
              "                                                                  (&#x27;standardscaler&#x27;,\n",
              "                                                                   StandardScaler(with_mean=False))]),\n",
              "                                                  &lt;sklearn.compose._column_transformer.make_column_selector object at 0x7fa4d2e03410&gt;),\n",
              "                                                 (&#x27;pipeline-2&#x27;,\n",
              "                                                  Pipeline(steps=[(&#x27;simpleimputer&#x27;,\n",
              "                                                                   SimpleImputer(strategy=&#x27;most_frequent&#x27;)),\n",
              "                                                                  (&#x27;onehotencoder&#x27;,\n",
              "                                                                   OneHotEncoder(handle_unknown=&#x27;ignore&#x27;))]),\n",
              "                                                  &lt;sklearn.compose._column_transformer.make_column_selector object at 0x7fa4d2e037d0&gt;)])),\n",
              "                (&#x27;dummyregressor&#x27;, DummyRegressor())])</pre></div></div></div><div class=\"sk-serial\"><div class=\"sk-item sk-dashed-wrapped\"><div class=\"sk-label-container\"><div class=\"sk-label sk-toggleable\"><input class=\"sk-toggleable__control sk-hidden--visually\" id=\"c3b353d8-dcf3-49b2-8b1f-e792603b7d2e\" type=\"checkbox\" ><label for=\"c3b353d8-dcf3-49b2-8b1f-e792603b7d2e\" class=\"sk-toggleable__label sk-toggleable__label-arrow\">columntransformer: ColumnTransformer</label><div class=\"sk-toggleable__content\"><pre>ColumnTransformer(transformers=[(&#x27;pipeline-1&#x27;,\n",
              "                                 Pipeline(steps=[(&#x27;simpleimputer&#x27;,\n",
              "                                                  SimpleImputer()),\n",
              "                                                 (&#x27;standardscaler&#x27;,\n",
              "                                                  StandardScaler(with_mean=False))]),\n",
              "                                 &lt;sklearn.compose._column_transformer.make_column_selector object at 0x7fa4d2e03410&gt;),\n",
              "                                (&#x27;pipeline-2&#x27;,\n",
              "                                 Pipeline(steps=[(&#x27;simpleimputer&#x27;,\n",
              "                                                  SimpleImputer(strategy=&#x27;most_frequent&#x27;)),\n",
              "                                                 (&#x27;onehotencoder&#x27;,\n",
              "                                                  OneHotEncoder(handle_unknown=&#x27;ignore&#x27;))]),\n",
              "                                 &lt;sklearn.compose._column_transformer.make_column_selector object at 0x7fa4d2e037d0&gt;)])</pre></div></div></div><div class=\"sk-parallel\"><div class=\"sk-parallel-item\"><div class=\"sk-item\"><div class=\"sk-label-container\"><div class=\"sk-label sk-toggleable\"><input class=\"sk-toggleable__control sk-hidden--visually\" id=\"26f11ec8-27b3-46ff-9da5-7e3df821ac82\" type=\"checkbox\" ><label for=\"26f11ec8-27b3-46ff-9da5-7e3df821ac82\" class=\"sk-toggleable__label sk-toggleable__label-arrow\">pipeline-1</label><div class=\"sk-toggleable__content\"><pre>&lt;sklearn.compose._column_transformer.make_column_selector object at 0x7fa4d2e03410&gt;</pre></div></div></div><div class=\"sk-serial\"><div class=\"sk-item\"><div class=\"sk-serial\"><div class=\"sk-item\"><div class=\"sk-estimator sk-toggleable\"><input class=\"sk-toggleable__control sk-hidden--visually\" id=\"8cc913e7-955c-43d1-b224-f8fe12969a83\" type=\"checkbox\" ><label for=\"8cc913e7-955c-43d1-b224-f8fe12969a83\" class=\"sk-toggleable__label sk-toggleable__label-arrow\">SimpleImputer</label><div class=\"sk-toggleable__content\"><pre>SimpleImputer()</pre></div></div></div><div class=\"sk-item\"><div class=\"sk-estimator sk-toggleable\"><input class=\"sk-toggleable__control sk-hidden--visually\" id=\"413397e9-9b1b-42ee-9716-60146c08127e\" type=\"checkbox\" ><label for=\"413397e9-9b1b-42ee-9716-60146c08127e\" class=\"sk-toggleable__label sk-toggleable__label-arrow\">StandardScaler</label><div class=\"sk-toggleable__content\"><pre>StandardScaler(with_mean=False)</pre></div></div></div></div></div></div></div></div><div class=\"sk-parallel-item\"><div class=\"sk-item\"><div class=\"sk-label-container\"><div class=\"sk-label sk-toggleable\"><input class=\"sk-toggleable__control sk-hidden--visually\" id=\"d90484ac-99c3-4673-b0ef-c2287a6daffa\" type=\"checkbox\" ><label for=\"d90484ac-99c3-4673-b0ef-c2287a6daffa\" class=\"sk-toggleable__label sk-toggleable__label-arrow\">pipeline-2</label><div class=\"sk-toggleable__content\"><pre>&lt;sklearn.compose._column_transformer.make_column_selector object at 0x7fa4d2e037d0&gt;</pre></div></div></div><div class=\"sk-serial\"><div class=\"sk-item\"><div class=\"sk-serial\"><div class=\"sk-item\"><div class=\"sk-estimator sk-toggleable\"><input class=\"sk-toggleable__control sk-hidden--visually\" id=\"c4760348-d47f-4c6f-b060-b2be3fa32960\" type=\"checkbox\" ><label for=\"c4760348-d47f-4c6f-b060-b2be3fa32960\" class=\"sk-toggleable__label sk-toggleable__label-arrow\">SimpleImputer</label><div class=\"sk-toggleable__content\"><pre>SimpleImputer(strategy=&#x27;most_frequent&#x27;)</pre></div></div></div><div class=\"sk-item\"><div class=\"sk-estimator sk-toggleable\"><input class=\"sk-toggleable__control sk-hidden--visually\" id=\"30641c34-7531-4f2b-a046-f48a36472f66\" type=\"checkbox\" ><label for=\"30641c34-7531-4f2b-a046-f48a36472f66\" class=\"sk-toggleable__label sk-toggleable__label-arrow\">OneHotEncoder</label><div class=\"sk-toggleable__content\"><pre>OneHotEncoder(handle_unknown=&#x27;ignore&#x27;)</pre></div></div></div></div></div></div></div></div></div></div><div class=\"sk-item\"><div class=\"sk-estimator sk-toggleable\"><input class=\"sk-toggleable__control sk-hidden--visually\" id=\"08303b5d-e4e5-40ef-b7e5-a7149ea18cef\" type=\"checkbox\" ><label for=\"08303b5d-e4e5-40ef-b7e5-a7149ea18cef\" class=\"sk-toggleable__label sk-toggleable__label-arrow\">DummyRegressor</label><div class=\"sk-toggleable__content\"><pre>DummyRegressor()</pre></div></div></div></div></div></div></div>"
            ]
          },
          "metadata": {},
          "execution_count": 23
        }
      ]
    },
    {
      "cell_type": "code",
      "source": [
        "train_pred = dummy_pipe.predict(X_train)\n",
        "test_pred = dummy_pipe.predict(X_test)"
      ],
      "metadata": {
        "id": "JVkdCp2qWx8l"
      },
      "execution_count": 24,
      "outputs": []
    },
    {
      "cell_type": "code",
      "source": [
        "train_pred"
      ],
      "metadata": {
        "colab": {
          "base_uri": "https://localhost:8080/"
        },
        "id": "ed9Kq8ftW0xI",
        "outputId": "4ba2c492-770c-4b70-9d39-c6f91c48a353"
      },
      "execution_count": 25,
      "outputs": [
        {
          "output_type": "execute_result",
          "data": {
            "text/plain": [
              "array([0.5278858, 0.5278858, 0.5278858, ..., 0.5278858, 0.5278858,\n",
              "       0.5278858])"
            ]
          },
          "metadata": {},
          "execution_count": 25
        }
      ]
    },
    {
      "cell_type": "code",
      "source": [
        "test_pred"
      ],
      "metadata": {
        "colab": {
          "base_uri": "https://localhost:8080/"
        },
        "id": "nBsCmNL9W3VO",
        "outputId": "39fb473d-3c96-4764-b321-5d2f4031eb40"
      },
      "execution_count": 26,
      "outputs": [
        {
          "output_type": "execute_result",
          "data": {
            "text/plain": [
              "array([0.5278858, 0.5278858, 0.5278858, ..., 0.5278858, 0.5278858,\n",
              "       0.5278858])"
            ]
          },
          "metadata": {},
          "execution_count": 26
        }
      ]
    },
    {
      "cell_type": "code",
      "source": [
        "eval_regression(y_train, train_pred)"
      ],
      "metadata": {
        "colab": {
          "base_uri": "https://localhost:8080/"
        },
        "id": "QA81wyo_W6fD",
        "outputId": "ff67e39c-cb41-4bde-d58d-503ed8281c95"
      },
      "execution_count": 27,
      "outputs": [
        {
          "output_type": "stream",
          "name": "stdout",
          "text": [
            "MAE 0.5810835850015406,\n",
            " MSE 2.0278962000526617,\n",
            " RMSE: 1.4240422044492438,\n",
            " R^2: 0.0 \n"
          ]
        }
      ]
    },
    {
      "cell_type": "code",
      "source": [
        "eval_regression(y_test, test_pred)"
      ],
      "metadata": {
        "colab": {
          "base_uri": "https://localhost:8080/"
        },
        "id": "58zQdsxjW9Oq",
        "outputId": "c45980a2-f904-4cbf-8e1d-d57e954ed87a"
      },
      "execution_count": 28,
      "outputs": [
        {
          "output_type": "stream",
          "name": "stdout",
          "text": [
            "MAE 0.5974982540597736,\n",
            " MSE 3.50019067647153,\n",
            " RMSE: 1.870879653123506,\n",
            " R^2: -0.00014628295911300881 \n"
          ]
        }
      ]
    },
    {
      "cell_type": "markdown",
      "source": [
        "# Linear Regression"
      ],
      "metadata": {
        "id": "YrUjtUj4V9FA"
      }
    },
    {
      "cell_type": "code",
      "execution_count": 29,
      "metadata": {
        "id": "kA-Y-CXF4_Ns",
        "colab": {
          "base_uri": "https://localhost:8080/"
        },
        "outputId": "07ed6fc0-cce1-4bcc-9a6d-a05c2324fb47"
      },
      "outputs": [
        {
          "output_type": "execute_result",
          "data": {
            "text/plain": [
              "{'copy_X': True,\n",
              " 'fit_intercept': True,\n",
              " 'n_jobs': None,\n",
              " 'normalize': 'deprecated',\n",
              " 'positive': False}"
            ]
          },
          "metadata": {},
          "execution_count": 29
        }
      ],
      "source": [
        "reg = LinearRegression()\n",
        "reg.get_params()"
      ]
    },
    {
      "cell_type": "code",
      "source": [
        "linreg_pipe = make_pipeline(pre_pro, reg)"
      ],
      "metadata": {
        "id": "w0fOa2P5SwEv"
      },
      "execution_count": 30,
      "outputs": []
    },
    {
      "cell_type": "code",
      "execution_count": 31,
      "metadata": {
        "id": "7RhnWFus5VUn",
        "colab": {
          "base_uri": "https://localhost:8080/",
          "height": 227
        },
        "outputId": "b1003094-5dd9-4ca4-91bd-8caec22ba2ed"
      },
      "outputs": [
        {
          "output_type": "execute_result",
          "data": {
            "text/plain": [
              "Pipeline(steps=[('columntransformer',\n",
              "                 ColumnTransformer(transformers=[('pipeline-1',\n",
              "                                                  Pipeline(steps=[('simpleimputer',\n",
              "                                                                   SimpleImputer()),\n",
              "                                                                  ('standardscaler',\n",
              "                                                                   StandardScaler(with_mean=False))]),\n",
              "                                                  <sklearn.compose._column_transformer.make_column_selector object at 0x7fa4d2e03410>),\n",
              "                                                 ('pipeline-2',\n",
              "                                                  Pipeline(steps=[('simpleimputer',\n",
              "                                                                   SimpleImputer(strategy='most_frequent')),\n",
              "                                                                  ('onehotencoder',\n",
              "                                                                   OneHotEncoder(handle_unknown='ignore'))]),\n",
              "                                                  <sklearn.compose._column_transformer.make_column_selector object at 0x7fa4d2e037d0>)])),\n",
              "                ('linearregression', LinearRegression())])"
            ],
            "text/html": [
              "<style>#sk-aa170f6a-eb5b-4817-9d2f-7265f9adb36d {color: black;background-color: white;}#sk-aa170f6a-eb5b-4817-9d2f-7265f9adb36d pre{padding: 0;}#sk-aa170f6a-eb5b-4817-9d2f-7265f9adb36d div.sk-toggleable {background-color: white;}#sk-aa170f6a-eb5b-4817-9d2f-7265f9adb36d label.sk-toggleable__label {cursor: pointer;display: block;width: 100%;margin-bottom: 0;padding: 0.3em;box-sizing: border-box;text-align: center;}#sk-aa170f6a-eb5b-4817-9d2f-7265f9adb36d label.sk-toggleable__label-arrow:before {content: \"▸\";float: left;margin-right: 0.25em;color: #696969;}#sk-aa170f6a-eb5b-4817-9d2f-7265f9adb36d label.sk-toggleable__label-arrow:hover:before {color: black;}#sk-aa170f6a-eb5b-4817-9d2f-7265f9adb36d div.sk-estimator:hover label.sk-toggleable__label-arrow:before {color: black;}#sk-aa170f6a-eb5b-4817-9d2f-7265f9adb36d div.sk-toggleable__content {max-height: 0;max-width: 0;overflow: hidden;text-align: left;background-color: #f0f8ff;}#sk-aa170f6a-eb5b-4817-9d2f-7265f9adb36d div.sk-toggleable__content pre {margin: 0.2em;color: black;border-radius: 0.25em;background-color: #f0f8ff;}#sk-aa170f6a-eb5b-4817-9d2f-7265f9adb36d input.sk-toggleable__control:checked~div.sk-toggleable__content {max-height: 200px;max-width: 100%;overflow: auto;}#sk-aa170f6a-eb5b-4817-9d2f-7265f9adb36d input.sk-toggleable__control:checked~label.sk-toggleable__label-arrow:before {content: \"▾\";}#sk-aa170f6a-eb5b-4817-9d2f-7265f9adb36d div.sk-estimator input.sk-toggleable__control:checked~label.sk-toggleable__label {background-color: #d4ebff;}#sk-aa170f6a-eb5b-4817-9d2f-7265f9adb36d div.sk-label input.sk-toggleable__control:checked~label.sk-toggleable__label {background-color: #d4ebff;}#sk-aa170f6a-eb5b-4817-9d2f-7265f9adb36d input.sk-hidden--visually {border: 0;clip: rect(1px 1px 1px 1px);clip: rect(1px, 1px, 1px, 1px);height: 1px;margin: -1px;overflow: hidden;padding: 0;position: absolute;width: 1px;}#sk-aa170f6a-eb5b-4817-9d2f-7265f9adb36d div.sk-estimator {font-family: monospace;background-color: #f0f8ff;border: 1px dotted black;border-radius: 0.25em;box-sizing: border-box;margin-bottom: 0.5em;}#sk-aa170f6a-eb5b-4817-9d2f-7265f9adb36d div.sk-estimator:hover {background-color: #d4ebff;}#sk-aa170f6a-eb5b-4817-9d2f-7265f9adb36d div.sk-parallel-item::after {content: \"\";width: 100%;border-bottom: 1px solid gray;flex-grow: 1;}#sk-aa170f6a-eb5b-4817-9d2f-7265f9adb36d div.sk-label:hover label.sk-toggleable__label {background-color: #d4ebff;}#sk-aa170f6a-eb5b-4817-9d2f-7265f9adb36d div.sk-serial::before {content: \"\";position: absolute;border-left: 1px solid gray;box-sizing: border-box;top: 2em;bottom: 0;left: 50%;}#sk-aa170f6a-eb5b-4817-9d2f-7265f9adb36d div.sk-serial {display: flex;flex-direction: column;align-items: center;background-color: white;padding-right: 0.2em;padding-left: 0.2em;}#sk-aa170f6a-eb5b-4817-9d2f-7265f9adb36d div.sk-item {z-index: 1;}#sk-aa170f6a-eb5b-4817-9d2f-7265f9adb36d div.sk-parallel {display: flex;align-items: stretch;justify-content: center;background-color: white;}#sk-aa170f6a-eb5b-4817-9d2f-7265f9adb36d div.sk-parallel::before {content: \"\";position: absolute;border-left: 1px solid gray;box-sizing: border-box;top: 2em;bottom: 0;left: 50%;}#sk-aa170f6a-eb5b-4817-9d2f-7265f9adb36d div.sk-parallel-item {display: flex;flex-direction: column;position: relative;background-color: white;}#sk-aa170f6a-eb5b-4817-9d2f-7265f9adb36d div.sk-parallel-item:first-child::after {align-self: flex-end;width: 50%;}#sk-aa170f6a-eb5b-4817-9d2f-7265f9adb36d div.sk-parallel-item:last-child::after {align-self: flex-start;width: 50%;}#sk-aa170f6a-eb5b-4817-9d2f-7265f9adb36d div.sk-parallel-item:only-child::after {width: 0;}#sk-aa170f6a-eb5b-4817-9d2f-7265f9adb36d div.sk-dashed-wrapped {border: 1px dashed gray;margin: 0 0.4em 0.5em 0.4em;box-sizing: border-box;padding-bottom: 0.4em;background-color: white;position: relative;}#sk-aa170f6a-eb5b-4817-9d2f-7265f9adb36d div.sk-label label {font-family: monospace;font-weight: bold;background-color: white;display: inline-block;line-height: 1.2em;}#sk-aa170f6a-eb5b-4817-9d2f-7265f9adb36d div.sk-label-container {position: relative;z-index: 2;text-align: center;}#sk-aa170f6a-eb5b-4817-9d2f-7265f9adb36d div.sk-container {/* jupyter's `normalize.less` sets `[hidden] { display: none; }` but bootstrap.min.css set `[hidden] { display: none !important; }` so we also need the `!important` here to be able to override the default hidden behavior on the sphinx rendered scikit-learn.org. See: https://github.com/scikit-learn/scikit-learn/issues/21755 */display: inline-block !important;position: relative;}#sk-aa170f6a-eb5b-4817-9d2f-7265f9adb36d div.sk-text-repr-fallback {display: none;}</style><div id=\"sk-aa170f6a-eb5b-4817-9d2f-7265f9adb36d\" class=\"sk-top-container\"><div class=\"sk-text-repr-fallback\"><pre>Pipeline(steps=[(&#x27;columntransformer&#x27;,\n",
              "                 ColumnTransformer(transformers=[(&#x27;pipeline-1&#x27;,\n",
              "                                                  Pipeline(steps=[(&#x27;simpleimputer&#x27;,\n",
              "                                                                   SimpleImputer()),\n",
              "                                                                  (&#x27;standardscaler&#x27;,\n",
              "                                                                   StandardScaler(with_mean=False))]),\n",
              "                                                  &lt;sklearn.compose._column_transformer.make_column_selector object at 0x7fa4d2e03410&gt;),\n",
              "                                                 (&#x27;pipeline-2&#x27;,\n",
              "                                                  Pipeline(steps=[(&#x27;simpleimputer&#x27;,\n",
              "                                                                   SimpleImputer(strategy=&#x27;most_frequent&#x27;)),\n",
              "                                                                  (&#x27;onehotencoder&#x27;,\n",
              "                                                                   OneHotEncoder(handle_unknown=&#x27;ignore&#x27;))]),\n",
              "                                                  &lt;sklearn.compose._column_transformer.make_column_selector object at 0x7fa4d2e037d0&gt;)])),\n",
              "                (&#x27;linearregression&#x27;, LinearRegression())])</pre><b>Please rerun this cell to show the HTML repr or trust the notebook.</b></div><div class=\"sk-container\" hidden><div class=\"sk-item sk-dashed-wrapped\"><div class=\"sk-label-container\"><div class=\"sk-label sk-toggleable\"><input class=\"sk-toggleable__control sk-hidden--visually\" id=\"afdb4458-8dcd-482e-b796-495c62beb9ed\" type=\"checkbox\" ><label for=\"afdb4458-8dcd-482e-b796-495c62beb9ed\" class=\"sk-toggleable__label sk-toggleable__label-arrow\">Pipeline</label><div class=\"sk-toggleable__content\"><pre>Pipeline(steps=[(&#x27;columntransformer&#x27;,\n",
              "                 ColumnTransformer(transformers=[(&#x27;pipeline-1&#x27;,\n",
              "                                                  Pipeline(steps=[(&#x27;simpleimputer&#x27;,\n",
              "                                                                   SimpleImputer()),\n",
              "                                                                  (&#x27;standardscaler&#x27;,\n",
              "                                                                   StandardScaler(with_mean=False))]),\n",
              "                                                  &lt;sklearn.compose._column_transformer.make_column_selector object at 0x7fa4d2e03410&gt;),\n",
              "                                                 (&#x27;pipeline-2&#x27;,\n",
              "                                                  Pipeline(steps=[(&#x27;simpleimputer&#x27;,\n",
              "                                                                   SimpleImputer(strategy=&#x27;most_frequent&#x27;)),\n",
              "                                                                  (&#x27;onehotencoder&#x27;,\n",
              "                                                                   OneHotEncoder(handle_unknown=&#x27;ignore&#x27;))]),\n",
              "                                                  &lt;sklearn.compose._column_transformer.make_column_selector object at 0x7fa4d2e037d0&gt;)])),\n",
              "                (&#x27;linearregression&#x27;, LinearRegression())])</pre></div></div></div><div class=\"sk-serial\"><div class=\"sk-item sk-dashed-wrapped\"><div class=\"sk-label-container\"><div class=\"sk-label sk-toggleable\"><input class=\"sk-toggleable__control sk-hidden--visually\" id=\"c525da75-0bb3-4929-9804-24877992dd86\" type=\"checkbox\" ><label for=\"c525da75-0bb3-4929-9804-24877992dd86\" class=\"sk-toggleable__label sk-toggleable__label-arrow\">columntransformer: ColumnTransformer</label><div class=\"sk-toggleable__content\"><pre>ColumnTransformer(transformers=[(&#x27;pipeline-1&#x27;,\n",
              "                                 Pipeline(steps=[(&#x27;simpleimputer&#x27;,\n",
              "                                                  SimpleImputer()),\n",
              "                                                 (&#x27;standardscaler&#x27;,\n",
              "                                                  StandardScaler(with_mean=False))]),\n",
              "                                 &lt;sklearn.compose._column_transformer.make_column_selector object at 0x7fa4d2e03410&gt;),\n",
              "                                (&#x27;pipeline-2&#x27;,\n",
              "                                 Pipeline(steps=[(&#x27;simpleimputer&#x27;,\n",
              "                                                  SimpleImputer(strategy=&#x27;most_frequent&#x27;)),\n",
              "                                                 (&#x27;onehotencoder&#x27;,\n",
              "                                                  OneHotEncoder(handle_unknown=&#x27;ignore&#x27;))]),\n",
              "                                 &lt;sklearn.compose._column_transformer.make_column_selector object at 0x7fa4d2e037d0&gt;)])</pre></div></div></div><div class=\"sk-parallel\"><div class=\"sk-parallel-item\"><div class=\"sk-item\"><div class=\"sk-label-container\"><div class=\"sk-label sk-toggleable\"><input class=\"sk-toggleable__control sk-hidden--visually\" id=\"fa9f5aa4-cc87-4fac-bb40-7af20d9c8154\" type=\"checkbox\" ><label for=\"fa9f5aa4-cc87-4fac-bb40-7af20d9c8154\" class=\"sk-toggleable__label sk-toggleable__label-arrow\">pipeline-1</label><div class=\"sk-toggleable__content\"><pre>&lt;sklearn.compose._column_transformer.make_column_selector object at 0x7fa4d2e03410&gt;</pre></div></div></div><div class=\"sk-serial\"><div class=\"sk-item\"><div class=\"sk-serial\"><div class=\"sk-item\"><div class=\"sk-estimator sk-toggleable\"><input class=\"sk-toggleable__control sk-hidden--visually\" id=\"7432b4c2-fefd-4979-82c9-2d31cb5f097f\" type=\"checkbox\" ><label for=\"7432b4c2-fefd-4979-82c9-2d31cb5f097f\" class=\"sk-toggleable__label sk-toggleable__label-arrow\">SimpleImputer</label><div class=\"sk-toggleable__content\"><pre>SimpleImputer()</pre></div></div></div><div class=\"sk-item\"><div class=\"sk-estimator sk-toggleable\"><input class=\"sk-toggleable__control sk-hidden--visually\" id=\"8f8d26f0-7de4-46d2-9708-7c22e73c0c30\" type=\"checkbox\" ><label for=\"8f8d26f0-7de4-46d2-9708-7c22e73c0c30\" class=\"sk-toggleable__label sk-toggleable__label-arrow\">StandardScaler</label><div class=\"sk-toggleable__content\"><pre>StandardScaler(with_mean=False)</pre></div></div></div></div></div></div></div></div><div class=\"sk-parallel-item\"><div class=\"sk-item\"><div class=\"sk-label-container\"><div class=\"sk-label sk-toggleable\"><input class=\"sk-toggleable__control sk-hidden--visually\" id=\"f6ba1043-ae68-47ce-a12e-45d28261ae86\" type=\"checkbox\" ><label for=\"f6ba1043-ae68-47ce-a12e-45d28261ae86\" class=\"sk-toggleable__label sk-toggleable__label-arrow\">pipeline-2</label><div class=\"sk-toggleable__content\"><pre>&lt;sklearn.compose._column_transformer.make_column_selector object at 0x7fa4d2e037d0&gt;</pre></div></div></div><div class=\"sk-serial\"><div class=\"sk-item\"><div class=\"sk-serial\"><div class=\"sk-item\"><div class=\"sk-estimator sk-toggleable\"><input class=\"sk-toggleable__control sk-hidden--visually\" id=\"030c3b50-1660-4e2c-a442-f59ad6194e99\" type=\"checkbox\" ><label for=\"030c3b50-1660-4e2c-a442-f59ad6194e99\" class=\"sk-toggleable__label sk-toggleable__label-arrow\">SimpleImputer</label><div class=\"sk-toggleable__content\"><pre>SimpleImputer(strategy=&#x27;most_frequent&#x27;)</pre></div></div></div><div class=\"sk-item\"><div class=\"sk-estimator sk-toggleable\"><input class=\"sk-toggleable__control sk-hidden--visually\" id=\"a7b6dcd5-2fc0-438d-9c08-da4053ccab80\" type=\"checkbox\" ><label for=\"a7b6dcd5-2fc0-438d-9c08-da4053ccab80\" class=\"sk-toggleable__label sk-toggleable__label-arrow\">OneHotEncoder</label><div class=\"sk-toggleable__content\"><pre>OneHotEncoder(handle_unknown=&#x27;ignore&#x27;)</pre></div></div></div></div></div></div></div></div></div></div><div class=\"sk-item\"><div class=\"sk-estimator sk-toggleable\"><input class=\"sk-toggleable__control sk-hidden--visually\" id=\"e368c6a8-7bc2-4fa6-9227-1c6c813d1acc\" type=\"checkbox\" ><label for=\"e368c6a8-7bc2-4fa6-9227-1c6c813d1acc\" class=\"sk-toggleable__label sk-toggleable__label-arrow\">LinearRegression</label><div class=\"sk-toggleable__content\"><pre>LinearRegression()</pre></div></div></div></div></div></div></div>"
            ]
          },
          "metadata": {},
          "execution_count": 31
        }
      ],
      "source": [
        "linreg_pipe.fit(X_train, y_train)"
      ]
    },
    {
      "cell_type": "code",
      "execution_count": 32,
      "metadata": {
        "id": "bIM0-UR35s5_",
        "colab": {
          "base_uri": "https://localhost:8080/"
        },
        "outputId": "ba3141e3-a975-44d6-c8c1-ebc6211b98b3"
      },
      "outputs": [
        {
          "output_type": "execute_result",
          "data": {
            "text/plain": [
              "array([ 1.14720647,  0.13076902,  0.3387544 ,  0.94051645,  0.22394151,\n",
              "        0.06003144,  1.31518674, -0.08520345,  0.61551067,  0.69962799])"
            ]
          },
          "metadata": {},
          "execution_count": 32
        }
      ],
      "source": [
        "training_predictions = linreg_pipe.predict(X_train)\n",
        "test_predictions = linreg_pipe.predict(X_test)\n",
        "training_predictions[:10]"
      ]
    },
    {
      "cell_type": "code",
      "source": [
        "eval_regression(y_train, training_predictions)"
      ],
      "metadata": {
        "colab": {
          "base_uri": "https://localhost:8080/"
        },
        "id": "1igTuRs5Uhir",
        "outputId": "12f061de-f49c-41ac-c382-6aecdbe8e539"
      },
      "execution_count": 33,
      "outputs": [
        {
          "output_type": "stream",
          "name": "stdout",
          "text": [
            "MAE 0.43534743093333145,\n",
            " MSE 1.3065065041377053,\n",
            " RMSE: 1.1430251546390855,\n",
            " R^2: 0.3557330478237609 \n"
          ]
        }
      ]
    },
    {
      "cell_type": "code",
      "source": [
        "eval_regression(y_test, test_predictions)  # due to high RMSE and low r2 scores this model is not working "
      ],
      "metadata": {
        "colab": {
          "base_uri": "https://localhost:8080/"
        },
        "id": "9lCtD2ruUoDh",
        "outputId": "aa98bf8a-3a7f-4c12-d290-51b7a6dc06e1"
      },
      "execution_count": 34,
      "outputs": [
        {
          "output_type": "stream",
          "name": "stdout",
          "text": [
            "MAE 0.5410541898394035,\n",
            " MSE 2.886410858536826,\n",
            " RMSE: 1.6989440422029285,\n",
            " R^2: 0.17523547769443637 \n"
          ]
        }
      ]
    },
    {
      "cell_type": "markdown",
      "metadata": {
        "id": "fnC90QLt4-wi"
      },
      "source": [
        "# **Decision Tree Regressor**"
      ]
    },
    {
      "cell_type": "code",
      "source": [
        "dec_tree = DecisionTreeRegressor(random_state = 42)"
      ],
      "metadata": {
        "id": "f7iHPWANXgYz"
      },
      "execution_count": 35,
      "outputs": []
    },
    {
      "cell_type": "code",
      "source": [
        "dec_pipe = make_pipeline(pre_pro, dec_tree)\n",
        "\n",
        "dec_pipe.fit(X_train, y_train)"
      ],
      "metadata": {
        "colab": {
          "base_uri": "https://localhost:8080/",
          "height": 227
        },
        "id": "mF-zFsM_YBdo",
        "outputId": "e0b0b467-577f-42b6-e3f0-ee85a7fa997b"
      },
      "execution_count": 36,
      "outputs": [
        {
          "output_type": "execute_result",
          "data": {
            "text/plain": [
              "Pipeline(steps=[('columntransformer',\n",
              "                 ColumnTransformer(transformers=[('pipeline-1',\n",
              "                                                  Pipeline(steps=[('simpleimputer',\n",
              "                                                                   SimpleImputer()),\n",
              "                                                                  ('standardscaler',\n",
              "                                                                   StandardScaler(with_mean=False))]),\n",
              "                                                  <sklearn.compose._column_transformer.make_column_selector object at 0x7fa4d2e03410>),\n",
              "                                                 ('pipeline-2',\n",
              "                                                  Pipeline(steps=[('simpleimputer',\n",
              "                                                                   SimpleImputer(strategy='most_frequent')),\n",
              "                                                                  ('onehotencoder',\n",
              "                                                                   OneHotEncoder(handle_unknown='ignore'))]),\n",
              "                                                  <sklearn.compose._column_transformer.make_column_selector object at 0x7fa4d2e037d0>)])),\n",
              "                ('decisiontreeregressor',\n",
              "                 DecisionTreeRegressor(random_state=42))])"
            ],
            "text/html": [
              "<style>#sk-5bca5a0b-991f-443e-b5df-2cbaf5cad817 {color: black;background-color: white;}#sk-5bca5a0b-991f-443e-b5df-2cbaf5cad817 pre{padding: 0;}#sk-5bca5a0b-991f-443e-b5df-2cbaf5cad817 div.sk-toggleable {background-color: white;}#sk-5bca5a0b-991f-443e-b5df-2cbaf5cad817 label.sk-toggleable__label {cursor: pointer;display: block;width: 100%;margin-bottom: 0;padding: 0.3em;box-sizing: border-box;text-align: center;}#sk-5bca5a0b-991f-443e-b5df-2cbaf5cad817 label.sk-toggleable__label-arrow:before {content: \"▸\";float: left;margin-right: 0.25em;color: #696969;}#sk-5bca5a0b-991f-443e-b5df-2cbaf5cad817 label.sk-toggleable__label-arrow:hover:before {color: black;}#sk-5bca5a0b-991f-443e-b5df-2cbaf5cad817 div.sk-estimator:hover label.sk-toggleable__label-arrow:before {color: black;}#sk-5bca5a0b-991f-443e-b5df-2cbaf5cad817 div.sk-toggleable__content {max-height: 0;max-width: 0;overflow: hidden;text-align: left;background-color: #f0f8ff;}#sk-5bca5a0b-991f-443e-b5df-2cbaf5cad817 div.sk-toggleable__content pre {margin: 0.2em;color: black;border-radius: 0.25em;background-color: #f0f8ff;}#sk-5bca5a0b-991f-443e-b5df-2cbaf5cad817 input.sk-toggleable__control:checked~div.sk-toggleable__content {max-height: 200px;max-width: 100%;overflow: auto;}#sk-5bca5a0b-991f-443e-b5df-2cbaf5cad817 input.sk-toggleable__control:checked~label.sk-toggleable__label-arrow:before {content: \"▾\";}#sk-5bca5a0b-991f-443e-b5df-2cbaf5cad817 div.sk-estimator input.sk-toggleable__control:checked~label.sk-toggleable__label {background-color: #d4ebff;}#sk-5bca5a0b-991f-443e-b5df-2cbaf5cad817 div.sk-label input.sk-toggleable__control:checked~label.sk-toggleable__label {background-color: #d4ebff;}#sk-5bca5a0b-991f-443e-b5df-2cbaf5cad817 input.sk-hidden--visually {border: 0;clip: rect(1px 1px 1px 1px);clip: rect(1px, 1px, 1px, 1px);height: 1px;margin: -1px;overflow: hidden;padding: 0;position: absolute;width: 1px;}#sk-5bca5a0b-991f-443e-b5df-2cbaf5cad817 div.sk-estimator {font-family: monospace;background-color: #f0f8ff;border: 1px dotted black;border-radius: 0.25em;box-sizing: border-box;margin-bottom: 0.5em;}#sk-5bca5a0b-991f-443e-b5df-2cbaf5cad817 div.sk-estimator:hover {background-color: #d4ebff;}#sk-5bca5a0b-991f-443e-b5df-2cbaf5cad817 div.sk-parallel-item::after {content: \"\";width: 100%;border-bottom: 1px solid gray;flex-grow: 1;}#sk-5bca5a0b-991f-443e-b5df-2cbaf5cad817 div.sk-label:hover label.sk-toggleable__label {background-color: #d4ebff;}#sk-5bca5a0b-991f-443e-b5df-2cbaf5cad817 div.sk-serial::before {content: \"\";position: absolute;border-left: 1px solid gray;box-sizing: border-box;top: 2em;bottom: 0;left: 50%;}#sk-5bca5a0b-991f-443e-b5df-2cbaf5cad817 div.sk-serial {display: flex;flex-direction: column;align-items: center;background-color: white;padding-right: 0.2em;padding-left: 0.2em;}#sk-5bca5a0b-991f-443e-b5df-2cbaf5cad817 div.sk-item {z-index: 1;}#sk-5bca5a0b-991f-443e-b5df-2cbaf5cad817 div.sk-parallel {display: flex;align-items: stretch;justify-content: center;background-color: white;}#sk-5bca5a0b-991f-443e-b5df-2cbaf5cad817 div.sk-parallel::before {content: \"\";position: absolute;border-left: 1px solid gray;box-sizing: border-box;top: 2em;bottom: 0;left: 50%;}#sk-5bca5a0b-991f-443e-b5df-2cbaf5cad817 div.sk-parallel-item {display: flex;flex-direction: column;position: relative;background-color: white;}#sk-5bca5a0b-991f-443e-b5df-2cbaf5cad817 div.sk-parallel-item:first-child::after {align-self: flex-end;width: 50%;}#sk-5bca5a0b-991f-443e-b5df-2cbaf5cad817 div.sk-parallel-item:last-child::after {align-self: flex-start;width: 50%;}#sk-5bca5a0b-991f-443e-b5df-2cbaf5cad817 div.sk-parallel-item:only-child::after {width: 0;}#sk-5bca5a0b-991f-443e-b5df-2cbaf5cad817 div.sk-dashed-wrapped {border: 1px dashed gray;margin: 0 0.4em 0.5em 0.4em;box-sizing: border-box;padding-bottom: 0.4em;background-color: white;position: relative;}#sk-5bca5a0b-991f-443e-b5df-2cbaf5cad817 div.sk-label label {font-family: monospace;font-weight: bold;background-color: white;display: inline-block;line-height: 1.2em;}#sk-5bca5a0b-991f-443e-b5df-2cbaf5cad817 div.sk-label-container {position: relative;z-index: 2;text-align: center;}#sk-5bca5a0b-991f-443e-b5df-2cbaf5cad817 div.sk-container {/* jupyter's `normalize.less` sets `[hidden] { display: none; }` but bootstrap.min.css set `[hidden] { display: none !important; }` so we also need the `!important` here to be able to override the default hidden behavior on the sphinx rendered scikit-learn.org. See: https://github.com/scikit-learn/scikit-learn/issues/21755 */display: inline-block !important;position: relative;}#sk-5bca5a0b-991f-443e-b5df-2cbaf5cad817 div.sk-text-repr-fallback {display: none;}</style><div id=\"sk-5bca5a0b-991f-443e-b5df-2cbaf5cad817\" class=\"sk-top-container\"><div class=\"sk-text-repr-fallback\"><pre>Pipeline(steps=[(&#x27;columntransformer&#x27;,\n",
              "                 ColumnTransformer(transformers=[(&#x27;pipeline-1&#x27;,\n",
              "                                                  Pipeline(steps=[(&#x27;simpleimputer&#x27;,\n",
              "                                                                   SimpleImputer()),\n",
              "                                                                  (&#x27;standardscaler&#x27;,\n",
              "                                                                   StandardScaler(with_mean=False))]),\n",
              "                                                  &lt;sklearn.compose._column_transformer.make_column_selector object at 0x7fa4d2e03410&gt;),\n",
              "                                                 (&#x27;pipeline-2&#x27;,\n",
              "                                                  Pipeline(steps=[(&#x27;simpleimputer&#x27;,\n",
              "                                                                   SimpleImputer(strategy=&#x27;most_frequent&#x27;)),\n",
              "                                                                  (&#x27;onehotencoder&#x27;,\n",
              "                                                                   OneHotEncoder(handle_unknown=&#x27;ignore&#x27;))]),\n",
              "                                                  &lt;sklearn.compose._column_transformer.make_column_selector object at 0x7fa4d2e037d0&gt;)])),\n",
              "                (&#x27;decisiontreeregressor&#x27;,\n",
              "                 DecisionTreeRegressor(random_state=42))])</pre><b>Please rerun this cell to show the HTML repr or trust the notebook.</b></div><div class=\"sk-container\" hidden><div class=\"sk-item sk-dashed-wrapped\"><div class=\"sk-label-container\"><div class=\"sk-label sk-toggleable\"><input class=\"sk-toggleable__control sk-hidden--visually\" id=\"0fb89171-29e9-4fbe-b551-da63b357755a\" type=\"checkbox\" ><label for=\"0fb89171-29e9-4fbe-b551-da63b357755a\" class=\"sk-toggleable__label sk-toggleable__label-arrow\">Pipeline</label><div class=\"sk-toggleable__content\"><pre>Pipeline(steps=[(&#x27;columntransformer&#x27;,\n",
              "                 ColumnTransformer(transformers=[(&#x27;pipeline-1&#x27;,\n",
              "                                                  Pipeline(steps=[(&#x27;simpleimputer&#x27;,\n",
              "                                                                   SimpleImputer()),\n",
              "                                                                  (&#x27;standardscaler&#x27;,\n",
              "                                                                   StandardScaler(with_mean=False))]),\n",
              "                                                  &lt;sklearn.compose._column_transformer.make_column_selector object at 0x7fa4d2e03410&gt;),\n",
              "                                                 (&#x27;pipeline-2&#x27;,\n",
              "                                                  Pipeline(steps=[(&#x27;simpleimputer&#x27;,\n",
              "                                                                   SimpleImputer(strategy=&#x27;most_frequent&#x27;)),\n",
              "                                                                  (&#x27;onehotencoder&#x27;,\n",
              "                                                                   OneHotEncoder(handle_unknown=&#x27;ignore&#x27;))]),\n",
              "                                                  &lt;sklearn.compose._column_transformer.make_column_selector object at 0x7fa4d2e037d0&gt;)])),\n",
              "                (&#x27;decisiontreeregressor&#x27;,\n",
              "                 DecisionTreeRegressor(random_state=42))])</pre></div></div></div><div class=\"sk-serial\"><div class=\"sk-item sk-dashed-wrapped\"><div class=\"sk-label-container\"><div class=\"sk-label sk-toggleable\"><input class=\"sk-toggleable__control sk-hidden--visually\" id=\"42500716-2ed1-4e41-a491-20019109b6ed\" type=\"checkbox\" ><label for=\"42500716-2ed1-4e41-a491-20019109b6ed\" class=\"sk-toggleable__label sk-toggleable__label-arrow\">columntransformer: ColumnTransformer</label><div class=\"sk-toggleable__content\"><pre>ColumnTransformer(transformers=[(&#x27;pipeline-1&#x27;,\n",
              "                                 Pipeline(steps=[(&#x27;simpleimputer&#x27;,\n",
              "                                                  SimpleImputer()),\n",
              "                                                 (&#x27;standardscaler&#x27;,\n",
              "                                                  StandardScaler(with_mean=False))]),\n",
              "                                 &lt;sklearn.compose._column_transformer.make_column_selector object at 0x7fa4d2e03410&gt;),\n",
              "                                (&#x27;pipeline-2&#x27;,\n",
              "                                 Pipeline(steps=[(&#x27;simpleimputer&#x27;,\n",
              "                                                  SimpleImputer(strategy=&#x27;most_frequent&#x27;)),\n",
              "                                                 (&#x27;onehotencoder&#x27;,\n",
              "                                                  OneHotEncoder(handle_unknown=&#x27;ignore&#x27;))]),\n",
              "                                 &lt;sklearn.compose._column_transformer.make_column_selector object at 0x7fa4d2e037d0&gt;)])</pre></div></div></div><div class=\"sk-parallel\"><div class=\"sk-parallel-item\"><div class=\"sk-item\"><div class=\"sk-label-container\"><div class=\"sk-label sk-toggleable\"><input class=\"sk-toggleable__control sk-hidden--visually\" id=\"36d419dd-ed16-4aa3-84db-fd0904ed61a7\" type=\"checkbox\" ><label for=\"36d419dd-ed16-4aa3-84db-fd0904ed61a7\" class=\"sk-toggleable__label sk-toggleable__label-arrow\">pipeline-1</label><div class=\"sk-toggleable__content\"><pre>&lt;sklearn.compose._column_transformer.make_column_selector object at 0x7fa4d2e03410&gt;</pre></div></div></div><div class=\"sk-serial\"><div class=\"sk-item\"><div class=\"sk-serial\"><div class=\"sk-item\"><div class=\"sk-estimator sk-toggleable\"><input class=\"sk-toggleable__control sk-hidden--visually\" id=\"bdf3f9f9-b4c9-484a-b5a5-101af53889ce\" type=\"checkbox\" ><label for=\"bdf3f9f9-b4c9-484a-b5a5-101af53889ce\" class=\"sk-toggleable__label sk-toggleable__label-arrow\">SimpleImputer</label><div class=\"sk-toggleable__content\"><pre>SimpleImputer()</pre></div></div></div><div class=\"sk-item\"><div class=\"sk-estimator sk-toggleable\"><input class=\"sk-toggleable__control sk-hidden--visually\" id=\"abe0e349-be53-4798-afd0-2d38169d9331\" type=\"checkbox\" ><label for=\"abe0e349-be53-4798-afd0-2d38169d9331\" class=\"sk-toggleable__label sk-toggleable__label-arrow\">StandardScaler</label><div class=\"sk-toggleable__content\"><pre>StandardScaler(with_mean=False)</pre></div></div></div></div></div></div></div></div><div class=\"sk-parallel-item\"><div class=\"sk-item\"><div class=\"sk-label-container\"><div class=\"sk-label sk-toggleable\"><input class=\"sk-toggleable__control sk-hidden--visually\" id=\"8c81cbdb-72e9-43d4-ba53-c9e333d1bd21\" type=\"checkbox\" ><label for=\"8c81cbdb-72e9-43d4-ba53-c9e333d1bd21\" class=\"sk-toggleable__label sk-toggleable__label-arrow\">pipeline-2</label><div class=\"sk-toggleable__content\"><pre>&lt;sklearn.compose._column_transformer.make_column_selector object at 0x7fa4d2e037d0&gt;</pre></div></div></div><div class=\"sk-serial\"><div class=\"sk-item\"><div class=\"sk-serial\"><div class=\"sk-item\"><div class=\"sk-estimator sk-toggleable\"><input class=\"sk-toggleable__control sk-hidden--visually\" id=\"1776379b-75f7-4c0c-a570-5d49a3de03b2\" type=\"checkbox\" ><label for=\"1776379b-75f7-4c0c-a570-5d49a3de03b2\" class=\"sk-toggleable__label sk-toggleable__label-arrow\">SimpleImputer</label><div class=\"sk-toggleable__content\"><pre>SimpleImputer(strategy=&#x27;most_frequent&#x27;)</pre></div></div></div><div class=\"sk-item\"><div class=\"sk-estimator sk-toggleable\"><input class=\"sk-toggleable__control sk-hidden--visually\" id=\"8a7bf063-80d7-4b81-a249-cfd4143cb1ff\" type=\"checkbox\" ><label for=\"8a7bf063-80d7-4b81-a249-cfd4143cb1ff\" class=\"sk-toggleable__label sk-toggleable__label-arrow\">OneHotEncoder</label><div class=\"sk-toggleable__content\"><pre>OneHotEncoder(handle_unknown=&#x27;ignore&#x27;)</pre></div></div></div></div></div></div></div></div></div></div><div class=\"sk-item\"><div class=\"sk-estimator sk-toggleable\"><input class=\"sk-toggleable__control sk-hidden--visually\" id=\"c8fa59a3-3f1f-49d6-b267-d0017039d1ad\" type=\"checkbox\" ><label for=\"c8fa59a3-3f1f-49d6-b267-d0017039d1ad\" class=\"sk-toggleable__label sk-toggleable__label-arrow\">DecisionTreeRegressor</label><div class=\"sk-toggleable__content\"><pre>DecisionTreeRegressor(random_state=42)</pre></div></div></div></div></div></div></div>"
            ]
          },
          "metadata": {},
          "execution_count": 36
        }
      ]
    },
    {
      "cell_type": "code",
      "source": [
        "train_preds = dec_pipe.predict(X_train)\n",
        "test_preds = dec_pipe.predict(X_test)"
      ],
      "metadata": {
        "id": "eT7oCiyYZBzB"
      },
      "execution_count": 37,
      "outputs": []
    },
    {
      "cell_type": "code",
      "source": [
        "train_score = dec_pipe.score(X_train, y_train)\n",
        "test_score = dec_pipe.score(X_test, y_test)\n",
        "print(train_score)\n",
        "print(test_score)            ##score shows very high bias"
      ],
      "metadata": {
        "colab": {
          "base_uri": "https://localhost:8080/"
        },
        "id": "_JxnKnsrefOX",
        "outputId": "7d013d89-66f5-4068-a9f1-ddcfad1ad830"
      },
      "execution_count": 38,
      "outputs": [
        {
          "output_type": "stream",
          "name": "stdout",
          "text": [
            "0.8964605827996525\n",
            "0.3018761751743999\n"
          ]
        }
      ]
    },
    {
      "cell_type": "code",
      "source": [
        "dec_tree.get_params()"
      ],
      "metadata": {
        "colab": {
          "base_uri": "https://localhost:8080/"
        },
        "id": "cOGBNfmYflMu",
        "outputId": "f7b5e9e6-4401-4eec-91f7-dcb8d99260af"
      },
      "execution_count": 39,
      "outputs": [
        {
          "output_type": "execute_result",
          "data": {
            "text/plain": [
              "{'ccp_alpha': 0.0,\n",
              " 'criterion': 'squared_error',\n",
              " 'max_depth': None,\n",
              " 'max_features': None,\n",
              " 'max_leaf_nodes': None,\n",
              " 'min_impurity_decrease': 0.0,\n",
              " 'min_samples_leaf': 1,\n",
              " 'min_samples_split': 2,\n",
              " 'min_weight_fraction_leaf': 0.0,\n",
              " 'random_state': 42,\n",
              " 'splitter': 'best'}"
            ]
          },
          "metadata": {},
          "execution_count": 39
        }
      ]
    },
    {
      "cell_type": "code",
      "source": [
        "dec_tree.get_depth()"
      ],
      "metadata": {
        "colab": {
          "base_uri": "https://localhost:8080/"
        },
        "id": "6lFb77fniqFZ",
        "outputId": "45d024c2-3beb-48de-82ee-34e9b593f4f9"
      },
      "execution_count": 40,
      "outputs": [
        {
          "output_type": "execute_result",
          "data": {
            "text/plain": [
              "173"
            ]
          },
          "metadata": {},
          "execution_count": 40
        }
      ]
    },
    {
      "cell_type": "code",
      "source": [
        "dec_tree.get_n_leaves()"
      ],
      "metadata": {
        "colab": {
          "base_uri": "https://localhost:8080/"
        },
        "id": "IIbfTzTzisiV",
        "outputId": "348bc486-a34c-4c84-cb39-3ba1c86f46df"
      },
      "execution_count": 41,
      "outputs": [
        {
          "output_type": "execute_result",
          "data": {
            "text/plain": [
              "10444"
            ]
          },
          "metadata": {},
          "execution_count": 41
        }
      ]
    },
    {
      "cell_type": "code",
      "source": [
        "pre_pro.fit(X_train)"
      ],
      "metadata": {
        "colab": {
          "base_uri": "https://localhost:8080/",
          "height": 152
        },
        "id": "meVxJXChv0wy",
        "outputId": "d382a264-8a4b-453e-bece-bc41f3b27745"
      },
      "execution_count": 42,
      "outputs": [
        {
          "output_type": "execute_result",
          "data": {
            "text/plain": [
              "ColumnTransformer(transformers=[('pipeline-1',\n",
              "                                 Pipeline(steps=[('simpleimputer',\n",
              "                                                  SimpleImputer()),\n",
              "                                                 ('standardscaler',\n",
              "                                                  StandardScaler(with_mean=False))]),\n",
              "                                 <sklearn.compose._column_transformer.make_column_selector object at 0x7fa4d2e03410>),\n",
              "                                ('pipeline-2',\n",
              "                                 Pipeline(steps=[('simpleimputer',\n",
              "                                                  SimpleImputer(strategy='most_frequent')),\n",
              "                                                 ('onehotencoder',\n",
              "                                                  OneHotEncoder(handle_unknown='ignore'))]),\n",
              "                                 <sklearn.compose._column_transformer.make_column_selector object at 0x7fa4d2e037d0>)])"
            ],
            "text/html": [
              "<style>#sk-3dacf6ce-cf90-4170-8528-a50f679c696c {color: black;background-color: white;}#sk-3dacf6ce-cf90-4170-8528-a50f679c696c pre{padding: 0;}#sk-3dacf6ce-cf90-4170-8528-a50f679c696c div.sk-toggleable {background-color: white;}#sk-3dacf6ce-cf90-4170-8528-a50f679c696c label.sk-toggleable__label {cursor: pointer;display: block;width: 100%;margin-bottom: 0;padding: 0.3em;box-sizing: border-box;text-align: center;}#sk-3dacf6ce-cf90-4170-8528-a50f679c696c label.sk-toggleable__label-arrow:before {content: \"▸\";float: left;margin-right: 0.25em;color: #696969;}#sk-3dacf6ce-cf90-4170-8528-a50f679c696c label.sk-toggleable__label-arrow:hover:before {color: black;}#sk-3dacf6ce-cf90-4170-8528-a50f679c696c div.sk-estimator:hover label.sk-toggleable__label-arrow:before {color: black;}#sk-3dacf6ce-cf90-4170-8528-a50f679c696c div.sk-toggleable__content {max-height: 0;max-width: 0;overflow: hidden;text-align: left;background-color: #f0f8ff;}#sk-3dacf6ce-cf90-4170-8528-a50f679c696c div.sk-toggleable__content pre {margin: 0.2em;color: black;border-radius: 0.25em;background-color: #f0f8ff;}#sk-3dacf6ce-cf90-4170-8528-a50f679c696c input.sk-toggleable__control:checked~div.sk-toggleable__content {max-height: 200px;max-width: 100%;overflow: auto;}#sk-3dacf6ce-cf90-4170-8528-a50f679c696c input.sk-toggleable__control:checked~label.sk-toggleable__label-arrow:before {content: \"▾\";}#sk-3dacf6ce-cf90-4170-8528-a50f679c696c div.sk-estimator input.sk-toggleable__control:checked~label.sk-toggleable__label {background-color: #d4ebff;}#sk-3dacf6ce-cf90-4170-8528-a50f679c696c div.sk-label input.sk-toggleable__control:checked~label.sk-toggleable__label {background-color: #d4ebff;}#sk-3dacf6ce-cf90-4170-8528-a50f679c696c input.sk-hidden--visually {border: 0;clip: rect(1px 1px 1px 1px);clip: rect(1px, 1px, 1px, 1px);height: 1px;margin: -1px;overflow: hidden;padding: 0;position: absolute;width: 1px;}#sk-3dacf6ce-cf90-4170-8528-a50f679c696c div.sk-estimator {font-family: monospace;background-color: #f0f8ff;border: 1px dotted black;border-radius: 0.25em;box-sizing: border-box;margin-bottom: 0.5em;}#sk-3dacf6ce-cf90-4170-8528-a50f679c696c div.sk-estimator:hover {background-color: #d4ebff;}#sk-3dacf6ce-cf90-4170-8528-a50f679c696c div.sk-parallel-item::after {content: \"\";width: 100%;border-bottom: 1px solid gray;flex-grow: 1;}#sk-3dacf6ce-cf90-4170-8528-a50f679c696c div.sk-label:hover label.sk-toggleable__label {background-color: #d4ebff;}#sk-3dacf6ce-cf90-4170-8528-a50f679c696c div.sk-serial::before {content: \"\";position: absolute;border-left: 1px solid gray;box-sizing: border-box;top: 2em;bottom: 0;left: 50%;}#sk-3dacf6ce-cf90-4170-8528-a50f679c696c div.sk-serial {display: flex;flex-direction: column;align-items: center;background-color: white;padding-right: 0.2em;padding-left: 0.2em;}#sk-3dacf6ce-cf90-4170-8528-a50f679c696c div.sk-item {z-index: 1;}#sk-3dacf6ce-cf90-4170-8528-a50f679c696c div.sk-parallel {display: flex;align-items: stretch;justify-content: center;background-color: white;}#sk-3dacf6ce-cf90-4170-8528-a50f679c696c div.sk-parallel::before {content: \"\";position: absolute;border-left: 1px solid gray;box-sizing: border-box;top: 2em;bottom: 0;left: 50%;}#sk-3dacf6ce-cf90-4170-8528-a50f679c696c div.sk-parallel-item {display: flex;flex-direction: column;position: relative;background-color: white;}#sk-3dacf6ce-cf90-4170-8528-a50f679c696c div.sk-parallel-item:first-child::after {align-self: flex-end;width: 50%;}#sk-3dacf6ce-cf90-4170-8528-a50f679c696c div.sk-parallel-item:last-child::after {align-self: flex-start;width: 50%;}#sk-3dacf6ce-cf90-4170-8528-a50f679c696c div.sk-parallel-item:only-child::after {width: 0;}#sk-3dacf6ce-cf90-4170-8528-a50f679c696c div.sk-dashed-wrapped {border: 1px dashed gray;margin: 0 0.4em 0.5em 0.4em;box-sizing: border-box;padding-bottom: 0.4em;background-color: white;position: relative;}#sk-3dacf6ce-cf90-4170-8528-a50f679c696c div.sk-label label {font-family: monospace;font-weight: bold;background-color: white;display: inline-block;line-height: 1.2em;}#sk-3dacf6ce-cf90-4170-8528-a50f679c696c div.sk-label-container {position: relative;z-index: 2;text-align: center;}#sk-3dacf6ce-cf90-4170-8528-a50f679c696c div.sk-container {/* jupyter's `normalize.less` sets `[hidden] { display: none; }` but bootstrap.min.css set `[hidden] { display: none !important; }` so we also need the `!important` here to be able to override the default hidden behavior on the sphinx rendered scikit-learn.org. See: https://github.com/scikit-learn/scikit-learn/issues/21755 */display: inline-block !important;position: relative;}#sk-3dacf6ce-cf90-4170-8528-a50f679c696c div.sk-text-repr-fallback {display: none;}</style><div id=\"sk-3dacf6ce-cf90-4170-8528-a50f679c696c\" class=\"sk-top-container\"><div class=\"sk-text-repr-fallback\"><pre>ColumnTransformer(transformers=[(&#x27;pipeline-1&#x27;,\n",
              "                                 Pipeline(steps=[(&#x27;simpleimputer&#x27;,\n",
              "                                                  SimpleImputer()),\n",
              "                                                 (&#x27;standardscaler&#x27;,\n",
              "                                                  StandardScaler(with_mean=False))]),\n",
              "                                 &lt;sklearn.compose._column_transformer.make_column_selector object at 0x7fa4d2e03410&gt;),\n",
              "                                (&#x27;pipeline-2&#x27;,\n",
              "                                 Pipeline(steps=[(&#x27;simpleimputer&#x27;,\n",
              "                                                  SimpleImputer(strategy=&#x27;most_frequent&#x27;)),\n",
              "                                                 (&#x27;onehotencoder&#x27;,\n",
              "                                                  OneHotEncoder(handle_unknown=&#x27;ignore&#x27;))]),\n",
              "                                 &lt;sklearn.compose._column_transformer.make_column_selector object at 0x7fa4d2e037d0&gt;)])</pre><b>Please rerun this cell to show the HTML repr or trust the notebook.</b></div><div class=\"sk-container\" hidden><div class=\"sk-item sk-dashed-wrapped\"><div class=\"sk-label-container\"><div class=\"sk-label sk-toggleable\"><input class=\"sk-toggleable__control sk-hidden--visually\" id=\"c96a57e6-8230-4cec-acc8-8afaad3d5fec\" type=\"checkbox\" ><label for=\"c96a57e6-8230-4cec-acc8-8afaad3d5fec\" class=\"sk-toggleable__label sk-toggleable__label-arrow\">ColumnTransformer</label><div class=\"sk-toggleable__content\"><pre>ColumnTransformer(transformers=[(&#x27;pipeline-1&#x27;,\n",
              "                                 Pipeline(steps=[(&#x27;simpleimputer&#x27;,\n",
              "                                                  SimpleImputer()),\n",
              "                                                 (&#x27;standardscaler&#x27;,\n",
              "                                                  StandardScaler(with_mean=False))]),\n",
              "                                 &lt;sklearn.compose._column_transformer.make_column_selector object at 0x7fa4d2e03410&gt;),\n",
              "                                (&#x27;pipeline-2&#x27;,\n",
              "                                 Pipeline(steps=[(&#x27;simpleimputer&#x27;,\n",
              "                                                  SimpleImputer(strategy=&#x27;most_frequent&#x27;)),\n",
              "                                                 (&#x27;onehotencoder&#x27;,\n",
              "                                                  OneHotEncoder(handle_unknown=&#x27;ignore&#x27;))]),\n",
              "                                 &lt;sklearn.compose._column_transformer.make_column_selector object at 0x7fa4d2e037d0&gt;)])</pre></div></div></div><div class=\"sk-parallel\"><div class=\"sk-parallel-item\"><div class=\"sk-item\"><div class=\"sk-label-container\"><div class=\"sk-label sk-toggleable\"><input class=\"sk-toggleable__control sk-hidden--visually\" id=\"79b8ae8d-ecf5-4fc6-805b-5b9c9f046d1b\" type=\"checkbox\" ><label for=\"79b8ae8d-ecf5-4fc6-805b-5b9c9f046d1b\" class=\"sk-toggleable__label sk-toggleable__label-arrow\">pipeline-1</label><div class=\"sk-toggleable__content\"><pre>&lt;sklearn.compose._column_transformer.make_column_selector object at 0x7fa4d2e03410&gt;</pre></div></div></div><div class=\"sk-serial\"><div class=\"sk-item\"><div class=\"sk-serial\"><div class=\"sk-item\"><div class=\"sk-estimator sk-toggleable\"><input class=\"sk-toggleable__control sk-hidden--visually\" id=\"bd5b0883-289f-4bd5-b4e5-adad4317888a\" type=\"checkbox\" ><label for=\"bd5b0883-289f-4bd5-b4e5-adad4317888a\" class=\"sk-toggleable__label sk-toggleable__label-arrow\">SimpleImputer</label><div class=\"sk-toggleable__content\"><pre>SimpleImputer()</pre></div></div></div><div class=\"sk-item\"><div class=\"sk-estimator sk-toggleable\"><input class=\"sk-toggleable__control sk-hidden--visually\" id=\"76103300-ea6b-4f5b-8363-a4fda73bd97d\" type=\"checkbox\" ><label for=\"76103300-ea6b-4f5b-8363-a4fda73bd97d\" class=\"sk-toggleable__label sk-toggleable__label-arrow\">StandardScaler</label><div class=\"sk-toggleable__content\"><pre>StandardScaler(with_mean=False)</pre></div></div></div></div></div></div></div></div><div class=\"sk-parallel-item\"><div class=\"sk-item\"><div class=\"sk-label-container\"><div class=\"sk-label sk-toggleable\"><input class=\"sk-toggleable__control sk-hidden--visually\" id=\"7767b8c5-20b9-4c05-a570-9f225e513b45\" type=\"checkbox\" ><label for=\"7767b8c5-20b9-4c05-a570-9f225e513b45\" class=\"sk-toggleable__label sk-toggleable__label-arrow\">pipeline-2</label><div class=\"sk-toggleable__content\"><pre>&lt;sklearn.compose._column_transformer.make_column_selector object at 0x7fa4d2e037d0&gt;</pre></div></div></div><div class=\"sk-serial\"><div class=\"sk-item\"><div class=\"sk-serial\"><div class=\"sk-item\"><div class=\"sk-estimator sk-toggleable\"><input class=\"sk-toggleable__control sk-hidden--visually\" id=\"902922ed-54c5-4560-9659-48521ca3a87f\" type=\"checkbox\" ><label for=\"902922ed-54c5-4560-9659-48521ca3a87f\" class=\"sk-toggleable__label sk-toggleable__label-arrow\">SimpleImputer</label><div class=\"sk-toggleable__content\"><pre>SimpleImputer(strategy=&#x27;most_frequent&#x27;)</pre></div></div></div><div class=\"sk-item\"><div class=\"sk-estimator sk-toggleable\"><input class=\"sk-toggleable__control sk-hidden--visually\" id=\"5b1147c5-2792-46fa-99f2-a090a37859c0\" type=\"checkbox\" ><label for=\"5b1147c5-2792-46fa-99f2-a090a37859c0\" class=\"sk-toggleable__label sk-toggleable__label-arrow\">OneHotEncoder</label><div class=\"sk-toggleable__content\"><pre>OneHotEncoder(handle_unknown=&#x27;ignore&#x27;)</pre></div></div></div></div></div></div></div></div></div></div></div></div>"
            ]
          },
          "metadata": {},
          "execution_count": 42
        }
      ]
    },
    {
      "cell_type": "code",
      "source": [
        "X_train_pro = pre_pro.transform(X_train)\n",
        "X_test_pro = pre_pro.transform(X_test)"
      ],
      "metadata": {
        "id": "rtmilYfPxBeL"
      },
      "execution_count": 43,
      "outputs": []
    },
    {
      "cell_type": "code",
      "source": [
        "dec_tree_150 = DecisionTreeRegressor(max_depth = 150, random_state = 42)\n",
        "dec_tree_150.fit(X_train_pro, y_train)\n",
        "train_150_score = dec_tree_150.score(X_train_pro, y_train)\n",
        "test_150_score = dec_tree_150.score(X_test_pro, y_test)\n",
        "print(train_15_score)\n",
        "print(test_15_score)"
      ],
      "metadata": {
        "colab": {
          "base_uri": "https://localhost:8080/"
        },
        "id": "jqYOsP6MtJrr",
        "outputId": "d0f2238a-2409-4f51-918a-3d9a2b2a22f5"
      },
      "execution_count": 53,
      "outputs": [
        {
          "output_type": "stream",
          "name": "stdout",
          "text": [
            "0.8964605827996525\n",
            "0.3018761751743999\n"
          ]
        }
      ]
    },
    {
      "cell_type": "code",
      "execution_count": 48,
      "metadata": {
        "id": "Scigrmrv3fkS"
      },
      "outputs": [],
      "source": [
        "depths = list(range(2, 173)) # will try every value between 2 and 173\n",
        "# Data frame to store the score for each value of max_depth:\n",
        "scores = pd.DataFrame(index=depths, columns=['Test Score','Train Score'])\n",
        "for depth in depths:\n",
        "    dec_tree = DecisionTreeRegressor(max_depth=depth, random_state=42)\n",
        "    dec_tree.fit(X_train_pro, y_train)\n",
        "    train_score = dec_tree.score(X_train_pro, y_train)\n",
        "    test_score = dec_tree.score(X_test_pro, y_test)\n",
        "    scores.loc[depth, 'Train Score'] = train_score\n",
        "    scores.loc[depth, 'Test Score'] = test_score"
      ]
    },
    {
      "cell_type": "code",
      "execution_count": 49,
      "metadata": {
        "id": "EUXgy4Vi3bEv",
        "colab": {
          "base_uri": "https://localhost:8080/",
          "height": 282
        },
        "outputId": "67ae173c-d69d-4e43-9f23-ca941e39f1f5"
      },
      "outputs": [
        {
          "output_type": "display_data",
          "data": {
            "text/plain": [
              "<Figure size 432x288 with 1 Axes>"
            ],
            "image/png": "[encoded data removed]"
          },
          "metadata": {
            "needs_background": "light"
          }
        }
      ],
      "source": [
        "plt.plot(depths, scores['Test Score'])\n",
        "plt.xlabel('max_depth')\n",
        "plt.ylabel('R2');        # somewhere in the top 10 lies the best depth"
      ]
    },
    {
      "cell_type": "code",
      "source": [
        "sorted_scores = scores.sort_values(by='Test Score', ascending=False)\n",
        "sorted_scores.head()"
      ],
      "metadata": {
        "colab": {
          "base_uri": "https://localhost:8080/",
          "height": 206
        },
        "id": "j9UfNscJ1Mig",
        "outputId": "a6629d0a-0b31-4d82-a6c5-da783b8adff4"
      },
      "execution_count": 50,
      "outputs": [
        {
          "output_type": "execute_result",
          "data": {
            "text/plain": [
              "   Test Score Train Score\n",
              "6    0.390117    0.527679\n",
              "8    0.388884    0.612767\n",
              "9     0.38547    0.652881\n",
              "11   0.366754    0.714144\n",
              "13   0.357518    0.747851"
            ],
            "text/html": [
              "\n",
              "  <div id=\"df-411df766-6782-4ae9-9af8-5cbe5cd2ddf5\">\n",
              "    <div class=\"colab-df-container\">\n",
              "      <div>\n",
              "<style scoped>\n",
              "    .dataframe tbody tr th:only-of-type {\n",
              "        vertical-align: middle;\n",
              "    }\n",
              "\n",
              "    .dataframe tbody tr th {\n",
              "        vertical-align: top;\n",
              "    }\n",
              "\n",
              "    .dataframe thead th {\n",
              "        text-align: right;\n",
              "    }\n",
              "</style>\n",
              "<table border=\"1\" class=\"dataframe\">\n",
              "  <thead>\n",
              "    <tr style=\"text-align: right;\">\n",
              "      <th></th>\n",
              "      <th>Test Score</th>\n",
              "      <th>Train Score</th>\n",
              "    </tr>\n",
              "  </thead>\n",
              "  <tbody>\n",
              "    <tr>\n",
              "      <th>6</th>\n",
              "      <td>0.390117</td>\n",
              "      <td>0.527679</td>\n",
              "    </tr>\n",
              "    <tr>\n",
              "      <th>8</th>\n",
              "      <td>0.388884</td>\n",
              "      <td>0.612767</td>\n",
              "    </tr>\n",
              "    <tr>\n",
              "      <th>9</th>\n",
              "      <td>0.38547</td>\n",
              "      <td>0.652881</td>\n",
              "    </tr>\n",
              "    <tr>\n",
              "      <th>11</th>\n",
              "      <td>0.366754</td>\n",
              "      <td>0.714144</td>\n",
              "    </tr>\n",
              "    <tr>\n",
              "      <th>13</th>\n",
              "      <td>0.357518</td>\n",
              "      <td>0.747851</td>\n",
              "    </tr>\n",
              "  </tbody>\n",
              "</table>\n",
              "</div>\n",
              "      <button class=\"colab-df-convert\" onclick=\"convertToInteractive('df-411df766-6782-4ae9-9af8-5cbe5cd2ddf5')\"\n",
              "              title=\"Convert this dataframe to an interactive table.\"\n",
              "              style=\"display:none;\">\n",
              "        \n",
              "  <svg xmlns=\"http://www.w3.org/2000/svg\" height=\"24px\"viewBox=\"0 0 24 24\"\n",
              "       width=\"24px\">\n",
              "    <path d=\"M0 0h24v24H0V0z\" fill=\"none\"/>\n",
              "    <path d=\"M18.56 5.44l.94 2.06.94-2.06 2.06-.94-2.06-.94-.94-2.06-.94 2.06-2.06.94zm-11 1L8.5 8.5l.94-2.06 2.06-.94-2.06-.94L8.5 2.5l-.94 2.06-2.06.94zm10 10l.94 2.06.94-2.06 2.06-.94-2.06-.94-.94-2.06-.94 2.06-2.06.94z\"/><path d=\"M17.41 7.96l-1.37-1.37c-.4-.4-.92-.59-1.43-.59-.52 0-1.04.2-1.43.59L10.3 9.45l-7.72 7.72c-.78.78-.78 2.05 0 2.83L4 21.41c.39.39.9.59 1.41.59.51 0 1.02-.2 1.41-.59l7.78-7.78 2.81-2.81c.8-.78.8-2.07 0-2.86zM5.41 20L4 18.59l7.72-7.72 1.47 1.35L5.41 20z\"/>\n",
              "  </svg>\n",
              "      </button>\n",
              "      \n",
              "  <style>\n",
              "    .colab-df-container {\n",
              "      display:flex;\n",
              "      flex-wrap:wrap;\n",
              "      gap: 12px;\n",
              "    }\n",
              "\n",
              "    .colab-df-convert {\n",
              "      background-color: #E8F0FE;\n",
              "      border: none;\n",
              "      border-radius: 50%;\n",
              "      cursor: pointer;\n",
              "      display: none;\n",
              "      fill: #1967D2;\n",
              "      height: 32px;\n",
              "      padding: 0 0 0 0;\n",
              "      width: 32px;\n",
              "    }\n",
              "\n",
              "    .colab-df-convert:hover {\n",
              "      background-color: #E2EBFA;\n",
              "      box-shadow: 0px 1px 2px rgba(60, 64, 67, 0.3), 0px 1px 3px 1px rgba(60, 64, 67, 0.15);\n",
              "      fill: #174EA6;\n",
              "    }\n",
              "\n",
              "    [theme=dark] .colab-df-convert {\n",
              "      background-color: #3B4455;\n",
              "      fill: #D2E3FC;\n",
              "    }\n",
              "\n",
              "    [theme=dark] .colab-df-convert:hover {\n",
              "      background-color: #434B5C;\n",
              "      box-shadow: 0px 1px 3px 1px rgba(0, 0, 0, 0.15);\n",
              "      filter: drop-shadow(0px 1px 2px rgba(0, 0, 0, 0.3));\n",
              "      fill: #FFFFFF;\n",
              "    }\n",
              "  </style>\n",
              "\n",
              "      <script>\n",
              "        const buttonEl =\n",
              "          document.querySelector('#df-411df766-6782-4ae9-9af8-5cbe5cd2ddf5 button.colab-df-convert');\n",
              "        buttonEl.style.display =\n",
              "          google.colab.kernel.accessAllowed ? 'block' : 'none';\n",
              "\n",
              "        async function convertToInteractive(key) {\n",
              "          const element = document.querySelector('#df-411df766-6782-4ae9-9af8-5cbe5cd2ddf5');\n",
              "          const dataTable =\n",
              "            await google.colab.kernel.invokeFunction('convertToInteractive',\n",
              "                                                     [key], {});\n",
              "          if (!dataTable) return;\n",
              "\n",
              "          const docLinkHtml = 'Like what you see? Visit the ' +\n",
              "            '<a target=\"_blank\" href=https://colab.research.google.com/notebooks/data_table.ipynb>data table notebook</a>'\n",
              "            + ' to learn more about interactive tables.';\n",
              "          element.innerHTML = '';\n",
              "          dataTable['output_type'] = 'display_data';\n",
              "          await google.colab.output.renderOutput(dataTable, element);\n",
              "          const docLink = document.createElement('div');\n",
              "          docLink.innerHTML = docLinkHtml;\n",
              "          element.appendChild(docLink);\n",
              "        }\n",
              "      </script>\n",
              "    </div>\n",
              "  </div>\n",
              "  "
            ]
          },
          "metadata": {},
          "execution_count": 50
        }
      ]
    },
    {
      "cell_type": "code",
      "source": [
        "dec_tree_6 = DecisionTreeRegressor(max_depth = 6, random_state = 42)\n",
        "dec_tree_6.fit(X_train_pro, y_train)\n",
        "train_6_score = dec_tree_9.score(X_train_pro, y_train)\n",
        "test_6_score = dec_tree_9.score(X_test_pro, y_test)     # found that 6 had the best depth and reduced the bias to a manageable level. Not incredibly accurate but fitting rather well\n",
        "print(train_6_score)\n",
        "print(test_6_score)"
      ],
      "metadata": {
        "colab": {
          "base_uri": "https://localhost:8080/"
        },
        "id": "LC8kndBQ1SqC",
        "outputId": "a4376067-dfed-44b4-b47a-0722a7d8740d"
      },
      "execution_count": 75,
      "outputs": [
        {
          "output_type": "stream",
          "name": "stdout",
          "text": [
            "0.5276789720761869\n",
            "0.3901173276211626\n"
          ]
        }
      ]
    },
    {
      "cell_type": "markdown",
      "metadata": {
        "id": "fVj8AyKX_wD7"
      },
      "source": [
        "# **PCA**"
      ]
    },
    {
      "cell_type": "code",
      "execution_count": 65,
      "metadata": {
        "id": "5e1u0Thx6noo",
        "colab": {
          "base_uri": "https://localhost:8080/",
          "height": 126
        },
        "outputId": "fcd36962-20ca-45ed-cc74-307fe72f51ee"
      },
      "outputs": [
        {
          "output_type": "execute_result",
          "data": {
            "text/plain": [
              "Pipeline(steps=[('simpleimputer', SimpleImputer(strategy='most_frequent')),\n",
              "                ('onehotencoder',\n",
              "                 OneHotEncoder(handle_unknown='ignore', sparse=False))])"
            ],
            "text/html": [
              "<style>#sk-ec28f8f6-2dc9-422c-bb43-b11570b92c39 {color: black;background-color: white;}#sk-ec28f8f6-2dc9-422c-bb43-b11570b92c39 pre{padding: 0;}#sk-ec28f8f6-2dc9-422c-bb43-b11570b92c39 div.sk-toggleable {background-color: white;}#sk-ec28f8f6-2dc9-422c-bb43-b11570b92c39 label.sk-toggleable__label {cursor: pointer;display: block;width: 100%;margin-bottom: 0;padding: 0.3em;box-sizing: border-box;text-align: center;}#sk-ec28f8f6-2dc9-422c-bb43-b11570b92c39 label.sk-toggleable__label-arrow:before {content: \"▸\";float: left;margin-right: 0.25em;color: #696969;}#sk-ec28f8f6-2dc9-422c-bb43-b11570b92c39 label.sk-toggleable__label-arrow:hover:before {color: black;}#sk-ec28f8f6-2dc9-422c-bb43-b11570b92c39 div.sk-estimator:hover label.sk-toggleable__label-arrow:before {color: black;}#sk-ec28f8f6-2dc9-422c-bb43-b11570b92c39 div.sk-toggleable__content {max-height: 0;max-width: 0;overflow: hidden;text-align: left;background-color: #f0f8ff;}#sk-ec28f8f6-2dc9-422c-bb43-b11570b92c39 div.sk-toggleable__content pre {margin: 0.2em;color: black;border-radius: 0.25em;background-color: #f0f8ff;}#sk-ec28f8f6-2dc9-422c-bb43-b11570b92c39 input.sk-toggleable__control:checked~div.sk-toggleable__content {max-height: 200px;max-width: 100%;overflow: auto;}#sk-ec28f8f6-2dc9-422c-bb43-b11570b92c39 input.sk-toggleable__control:checked~label.sk-toggleable__label-arrow:before {content: \"▾\";}#sk-ec28f8f6-2dc9-422c-bb43-b11570b92c39 div.sk-estimator input.sk-toggleable__control:checked~label.sk-toggleable__label {background-color: #d4ebff;}#sk-ec28f8f6-2dc9-422c-bb43-b11570b92c39 div.sk-label input.sk-toggleable__control:checked~label.sk-toggleable__label {background-color: #d4ebff;}#sk-ec28f8f6-2dc9-422c-bb43-b11570b92c39 input.sk-hidden--visually {border: 0;clip: rect(1px 1px 1px 1px);clip: rect(1px, 1px, 1px, 1px);height: 1px;margin: -1px;overflow: hidden;padding: 0;position: absolute;width: 1px;}#sk-ec28f8f6-2dc9-422c-bb43-b11570b92c39 div.sk-estimator {font-family: monospace;background-color: #f0f8ff;border: 1px dotted black;border-radius: 0.25em;box-sizing: border-box;margin-bottom: 0.5em;}#sk-ec28f8f6-2dc9-422c-bb43-b11570b92c39 div.sk-estimator:hover {background-color: #d4ebff;}#sk-ec28f8f6-2dc9-422c-bb43-b11570b92c39 div.sk-parallel-item::after {content: \"\";width: 100%;border-bottom: 1px solid gray;flex-grow: 1;}#sk-ec28f8f6-2dc9-422c-bb43-b11570b92c39 div.sk-label:hover label.sk-toggleable__label {background-color: #d4ebff;}#sk-ec28f8f6-2dc9-422c-bb43-b11570b92c39 div.sk-serial::before {content: \"\";position: absolute;border-left: 1px solid gray;box-sizing: border-box;top: 2em;bottom: 0;left: 50%;}#sk-ec28f8f6-2dc9-422c-bb43-b11570b92c39 div.sk-serial {display: flex;flex-direction: column;align-items: center;background-color: white;padding-right: 0.2em;padding-left: 0.2em;}#sk-ec28f8f6-2dc9-422c-bb43-b11570b92c39 div.sk-item {z-index: 1;}#sk-ec28f8f6-2dc9-422c-bb43-b11570b92c39 div.sk-parallel {display: flex;align-items: stretch;justify-content: center;background-color: white;}#sk-ec28f8f6-2dc9-422c-bb43-b11570b92c39 div.sk-parallel::before {content: \"\";position: absolute;border-left: 1px solid gray;box-sizing: border-box;top: 2em;bottom: 0;left: 50%;}#sk-ec28f8f6-2dc9-422c-bb43-b11570b92c39 div.sk-parallel-item {display: flex;flex-direction: column;position: relative;background-color: white;}#sk-ec28f8f6-2dc9-422c-bb43-b11570b92c39 div.sk-parallel-item:first-child::after {align-self: flex-end;width: 50%;}#sk-ec28f8f6-2dc9-422c-bb43-b11570b92c39 div.sk-parallel-item:last-child::after {align-self: flex-start;width: 50%;}#sk-ec28f8f6-2dc9-422c-bb43-b11570b92c39 div.sk-parallel-item:only-child::after {width: 0;}#sk-ec28f8f6-2dc9-422c-bb43-b11570b92c39 div.sk-dashed-wrapped {border: 1px dashed gray;margin: 0 0.4em 0.5em 0.4em;box-sizing: border-box;padding-bottom: 0.4em;background-color: white;position: relative;}#sk-ec28f8f6-2dc9-422c-bb43-b11570b92c39 div.sk-label label {font-family: monospace;font-weight: bold;background-color: white;display: inline-block;line-height: 1.2em;}#sk-ec28f8f6-2dc9-422c-bb43-b11570b92c39 div.sk-label-container {position: relative;z-index: 2;text-align: center;}#sk-ec28f8f6-2dc9-422c-bb43-b11570b92c39 div.sk-container {/* jupyter's `normalize.less` sets `[hidden] { display: none; }` but bootstrap.min.css set `[hidden] { display: none !important; }` so we also need the `!important` here to be able to override the default hidden behavior on the sphinx rendered scikit-learn.org. See: https://github.com/scikit-learn/scikit-learn/issues/21755 */display: inline-block !important;position: relative;}#sk-ec28f8f6-2dc9-422c-bb43-b11570b92c39 div.sk-text-repr-fallback {display: none;}</style><div id=\"sk-ec28f8f6-2dc9-422c-bb43-b11570b92c39\" class=\"sk-top-container\"><div class=\"sk-text-repr-fallback\"><pre>Pipeline(steps=[(&#x27;simpleimputer&#x27;, SimpleImputer(strategy=&#x27;most_frequent&#x27;)),\n",
              "                (&#x27;onehotencoder&#x27;,\n",
              "                 OneHotEncoder(handle_unknown=&#x27;ignore&#x27;, sparse=False))])</pre><b>Please rerun this cell to show the HTML repr or trust the notebook.</b></div><div class=\"sk-container\" hidden><div class=\"sk-item sk-dashed-wrapped\"><div class=\"sk-label-container\"><div class=\"sk-label sk-toggleable\"><input class=\"sk-toggleable__control sk-hidden--visually\" id=\"02478c66-5a38-4bc3-894a-05bf9e95b948\" type=\"checkbox\" ><label for=\"02478c66-5a38-4bc3-894a-05bf9e95b948\" class=\"sk-toggleable__label sk-toggleable__label-arrow\">Pipeline</label><div class=\"sk-toggleable__content\"><pre>Pipeline(steps=[(&#x27;simpleimputer&#x27;, SimpleImputer(strategy=&#x27;most_frequent&#x27;)),\n",
              "                (&#x27;onehotencoder&#x27;,\n",
              "                 OneHotEncoder(handle_unknown=&#x27;ignore&#x27;, sparse=False))])</pre></div></div></div><div class=\"sk-serial\"><div class=\"sk-item\"><div class=\"sk-estimator sk-toggleable\"><input class=\"sk-toggleable__control sk-hidden--visually\" id=\"789ceabd-62a1-431f-a1bc-189da139b15c\" type=\"checkbox\" ><label for=\"789ceabd-62a1-431f-a1bc-189da139b15c\" class=\"sk-toggleable__label sk-toggleable__label-arrow\">SimpleImputer</label><div class=\"sk-toggleable__content\"><pre>SimpleImputer(strategy=&#x27;most_frequent&#x27;)</pre></div></div></div><div class=\"sk-item\"><div class=\"sk-estimator sk-toggleable\"><input class=\"sk-toggleable__control sk-hidden--visually\" id=\"54ecdf9b-6516-4edd-9fb0-5908a5adc96c\" type=\"checkbox\" ><label for=\"54ecdf9b-6516-4edd-9fb0-5908a5adc96c\" class=\"sk-toggleable__label sk-toggleable__label-arrow\">OneHotEncoder</label><div class=\"sk-toggleable__content\"><pre>OneHotEncoder(handle_unknown=&#x27;ignore&#x27;, sparse=False)</pre></div></div></div></div></div></div></div>"
            ]
          },
          "metadata": {},
          "execution_count": 65
        }
      ],
      "source": [
        "ohe_2 = OneHotEncoder(handle_unknown='ignore', sparse=False)\n",
        "Spar_pipe = make_pipeline(freq_imputer, ohe_2) ## creating new pipe with different rules to handle PCA\n",
        "Spar_pipe"
      ]
    },
    {
      "cell_type": "code",
      "execution_count": 66,
      "metadata": {
        "id": "bKpqHUc17vpH",
        "colab": {
          "base_uri": "https://localhost:8080/",
          "height": 152
        },
        "outputId": "5c304790-1d05-4304-b77c-0b927320d545"
      },
      "outputs": [
        {
          "output_type": "execute_result",
          "data": {
            "text/plain": [
              "ColumnTransformer(transformers=[('pipeline-1',\n",
              "                                 Pipeline(steps=[('simpleimputer',\n",
              "                                                  SimpleImputer()),\n",
              "                                                 ('standardscaler',\n",
              "                                                  StandardScaler(with_mean=False))]),\n",
              "                                 <sklearn.compose._column_transformer.make_column_selector object at 0x7fa4d2e03410>),\n",
              "                                ('pipeline-2',\n",
              "                                 Pipeline(steps=[('simpleimputer',\n",
              "                                                  SimpleImputer(strategy='most_frequent')),\n",
              "                                                 ('onehotencoder',\n",
              "                                                  OneHotEncoder(handle_unknown='ignore',\n",
              "                                                                sparse=False))]),\n",
              "                                 <sklearn.compose._column_transformer.make_column_selector object at 0x7fa4d2e037d0>)])"
            ],
            "text/html": [
              "<style>#sk-12f5440f-042a-4bcd-aa69-3edf8ca82494 {color: black;background-color: white;}#sk-12f5440f-042a-4bcd-aa69-3edf8ca82494 pre{padding: 0;}#sk-12f5440f-042a-4bcd-aa69-3edf8ca82494 div.sk-toggleable {background-color: white;}#sk-12f5440f-042a-4bcd-aa69-3edf8ca82494 label.sk-toggleable__label {cursor: pointer;display: block;width: 100%;margin-bottom: 0;padding: 0.3em;box-sizing: border-box;text-align: center;}#sk-12f5440f-042a-4bcd-aa69-3edf8ca82494 label.sk-toggleable__label-arrow:before {content: \"▸\";float: left;margin-right: 0.25em;color: #696969;}#sk-12f5440f-042a-4bcd-aa69-3edf8ca82494 label.sk-toggleable__label-arrow:hover:before {color: black;}#sk-12f5440f-042a-4bcd-aa69-3edf8ca82494 div.sk-estimator:hover label.sk-toggleable__label-arrow:before {color: black;}#sk-12f5440f-042a-4bcd-aa69-3edf8ca82494 div.sk-toggleable__content {max-height: 0;max-width: 0;overflow: hidden;text-align: left;background-color: #f0f8ff;}#sk-12f5440f-042a-4bcd-aa69-3edf8ca82494 div.sk-toggleable__content pre {margin: 0.2em;color: black;border-radius: 0.25em;background-color: #f0f8ff;}#sk-12f5440f-042a-4bcd-aa69-3edf8ca82494 input.sk-toggleable__control:checked~div.sk-toggleable__content {max-height: 200px;max-width: 100%;overflow: auto;}#sk-12f5440f-042a-4bcd-aa69-3edf8ca82494 input.sk-toggleable__control:checked~label.sk-toggleable__label-arrow:before {content: \"▾\";}#sk-12f5440f-042a-4bcd-aa69-3edf8ca82494 div.sk-estimator input.sk-toggleable__control:checked~label.sk-toggleable__label {background-color: #d4ebff;}#sk-12f5440f-042a-4bcd-aa69-3edf8ca82494 div.sk-label input.sk-toggleable__control:checked~label.sk-toggleable__label {background-color: #d4ebff;}#sk-12f5440f-042a-4bcd-aa69-3edf8ca82494 input.sk-hidden--visually {border: 0;clip: rect(1px 1px 1px 1px);clip: rect(1px, 1px, 1px, 1px);height: 1px;margin: -1px;overflow: hidden;padding: 0;position: absolute;width: 1px;}#sk-12f5440f-042a-4bcd-aa69-3edf8ca82494 div.sk-estimator {font-family: monospace;background-color: #f0f8ff;border: 1px dotted black;border-radius: 0.25em;box-sizing: border-box;margin-bottom: 0.5em;}#sk-12f5440f-042a-4bcd-aa69-3edf8ca82494 div.sk-estimator:hover {background-color: #d4ebff;}#sk-12f5440f-042a-4bcd-aa69-3edf8ca82494 div.sk-parallel-item::after {content: \"\";width: 100%;border-bottom: 1px solid gray;flex-grow: 1;}#sk-12f5440f-042a-4bcd-aa69-3edf8ca82494 div.sk-label:hover label.sk-toggleable__label {background-color: #d4ebff;}#sk-12f5440f-042a-4bcd-aa69-3edf8ca82494 div.sk-serial::before {content: \"\";position: absolute;border-left: 1px solid gray;box-sizing: border-box;top: 2em;bottom: 0;left: 50%;}#sk-12f5440f-042a-4bcd-aa69-3edf8ca82494 div.sk-serial {display: flex;flex-direction: column;align-items: center;background-color: white;padding-right: 0.2em;padding-left: 0.2em;}#sk-12f5440f-042a-4bcd-aa69-3edf8ca82494 div.sk-item {z-index: 1;}#sk-12f5440f-042a-4bcd-aa69-3edf8ca82494 div.sk-parallel {display: flex;align-items: stretch;justify-content: center;background-color: white;}#sk-12f5440f-042a-4bcd-aa69-3edf8ca82494 div.sk-parallel::before {content: \"\";position: absolute;border-left: 1px solid gray;box-sizing: border-box;top: 2em;bottom: 0;left: 50%;}#sk-12f5440f-042a-4bcd-aa69-3edf8ca82494 div.sk-parallel-item {display: flex;flex-direction: column;position: relative;background-color: white;}#sk-12f5440f-042a-4bcd-aa69-3edf8ca82494 div.sk-parallel-item:first-child::after {align-self: flex-end;width: 50%;}#sk-12f5440f-042a-4bcd-aa69-3edf8ca82494 div.sk-parallel-item:last-child::after {align-self: flex-start;width: 50%;}#sk-12f5440f-042a-4bcd-aa69-3edf8ca82494 div.sk-parallel-item:only-child::after {width: 0;}#sk-12f5440f-042a-4bcd-aa69-3edf8ca82494 div.sk-dashed-wrapped {border: 1px dashed gray;margin: 0 0.4em 0.5em 0.4em;box-sizing: border-box;padding-bottom: 0.4em;background-color: white;position: relative;}#sk-12f5440f-042a-4bcd-aa69-3edf8ca82494 div.sk-label label {font-family: monospace;font-weight: bold;background-color: white;display: inline-block;line-height: 1.2em;}#sk-12f5440f-042a-4bcd-aa69-3edf8ca82494 div.sk-label-container {position: relative;z-index: 2;text-align: center;}#sk-12f5440f-042a-4bcd-aa69-3edf8ca82494 div.sk-container {/* jupyter's `normalize.less` sets `[hidden] { display: none; }` but bootstrap.min.css set `[hidden] { display: none !important; }` so we also need the `!important` here to be able to override the default hidden behavior on the sphinx rendered scikit-learn.org. See: https://github.com/scikit-learn/scikit-learn/issues/21755 */display: inline-block !important;position: relative;}#sk-12f5440f-042a-4bcd-aa69-3edf8ca82494 div.sk-text-repr-fallback {display: none;}</style><div id=\"sk-12f5440f-042a-4bcd-aa69-3edf8ca82494\" class=\"sk-top-container\"><div class=\"sk-text-repr-fallback\"><pre>ColumnTransformer(transformers=[(&#x27;pipeline-1&#x27;,\n",
              "                                 Pipeline(steps=[(&#x27;simpleimputer&#x27;,\n",
              "                                                  SimpleImputer()),\n",
              "                                                 (&#x27;standardscaler&#x27;,\n",
              "                                                  StandardScaler(with_mean=False))]),\n",
              "                                 &lt;sklearn.compose._column_transformer.make_column_selector object at 0x7fa4d2e03410&gt;),\n",
              "                                (&#x27;pipeline-2&#x27;,\n",
              "                                 Pipeline(steps=[(&#x27;simpleimputer&#x27;,\n",
              "                                                  SimpleImputer(strategy=&#x27;most_frequent&#x27;)),\n",
              "                                                 (&#x27;onehotencoder&#x27;,\n",
              "                                                  OneHotEncoder(handle_unknown=&#x27;ignore&#x27;,\n",
              "                                                                sparse=False))]),\n",
              "                                 &lt;sklearn.compose._column_transformer.make_column_selector object at 0x7fa4d2e037d0&gt;)])</pre><b>Please rerun this cell to show the HTML repr or trust the notebook.</b></div><div class=\"sk-container\" hidden><div class=\"sk-item sk-dashed-wrapped\"><div class=\"sk-label-container\"><div class=\"sk-label sk-toggleable\"><input class=\"sk-toggleable__control sk-hidden--visually\" id=\"17b297b7-5e1d-4302-9adc-78956adf9284\" type=\"checkbox\" ><label for=\"17b297b7-5e1d-4302-9adc-78956adf9284\" class=\"sk-toggleable__label sk-toggleable__label-arrow\">ColumnTransformer</label><div class=\"sk-toggleable__content\"><pre>ColumnTransformer(transformers=[(&#x27;pipeline-1&#x27;,\n",
              "                                 Pipeline(steps=[(&#x27;simpleimputer&#x27;,\n",
              "                                                  SimpleImputer()),\n",
              "                                                 (&#x27;standardscaler&#x27;,\n",
              "                                                  StandardScaler(with_mean=False))]),\n",
              "                                 &lt;sklearn.compose._column_transformer.make_column_selector object at 0x7fa4d2e03410&gt;),\n",
              "                                (&#x27;pipeline-2&#x27;,\n",
              "                                 Pipeline(steps=[(&#x27;simpleimputer&#x27;,\n",
              "                                                  SimpleImputer(strategy=&#x27;most_frequent&#x27;)),\n",
              "                                                 (&#x27;onehotencoder&#x27;,\n",
              "                                                  OneHotEncoder(handle_unknown=&#x27;ignore&#x27;,\n",
              "                                                                sparse=False))]),\n",
              "                                 &lt;sklearn.compose._column_transformer.make_column_selector object at 0x7fa4d2e037d0&gt;)])</pre></div></div></div><div class=\"sk-parallel\"><div class=\"sk-parallel-item\"><div class=\"sk-item\"><div class=\"sk-label-container\"><div class=\"sk-label sk-toggleable\"><input class=\"sk-toggleable__control sk-hidden--visually\" id=\"d89076e7-662d-4aba-945d-ce8f9a602d2e\" type=\"checkbox\" ><label for=\"d89076e7-662d-4aba-945d-ce8f9a602d2e\" class=\"sk-toggleable__label sk-toggleable__label-arrow\">pipeline-1</label><div class=\"sk-toggleable__content\"><pre>&lt;sklearn.compose._column_transformer.make_column_selector object at 0x7fa4d2e03410&gt;</pre></div></div></div><div class=\"sk-serial\"><div class=\"sk-item\"><div class=\"sk-serial\"><div class=\"sk-item\"><div class=\"sk-estimator sk-toggleable\"><input class=\"sk-toggleable__control sk-hidden--visually\" id=\"467401a7-34ac-4024-9361-af2b24cb6ef2\" type=\"checkbox\" ><label for=\"467401a7-34ac-4024-9361-af2b24cb6ef2\" class=\"sk-toggleable__label sk-toggleable__label-arrow\">SimpleImputer</label><div class=\"sk-toggleable__content\"><pre>SimpleImputer()</pre></div></div></div><div class=\"sk-item\"><div class=\"sk-estimator sk-toggleable\"><input class=\"sk-toggleable__control sk-hidden--visually\" id=\"b2a99401-2117-4325-ae62-f88d03a545f8\" type=\"checkbox\" ><label for=\"b2a99401-2117-4325-ae62-f88d03a545f8\" class=\"sk-toggleable__label sk-toggleable__label-arrow\">StandardScaler</label><div class=\"sk-toggleable__content\"><pre>StandardScaler(with_mean=False)</pre></div></div></div></div></div></div></div></div><div class=\"sk-parallel-item\"><div class=\"sk-item\"><div class=\"sk-label-container\"><div class=\"sk-label sk-toggleable\"><input class=\"sk-toggleable__control sk-hidden--visually\" id=\"b807dfc0-f213-4695-ab5e-ece386d1f8fe\" type=\"checkbox\" ><label for=\"b807dfc0-f213-4695-ab5e-ece386d1f8fe\" class=\"sk-toggleable__label sk-toggleable__label-arrow\">pipeline-2</label><div class=\"sk-toggleable__content\"><pre>&lt;sklearn.compose._column_transformer.make_column_selector object at 0x7fa4d2e037d0&gt;</pre></div></div></div><div class=\"sk-serial\"><div class=\"sk-item\"><div class=\"sk-serial\"><div class=\"sk-item\"><div class=\"sk-estimator sk-toggleable\"><input class=\"sk-toggleable__control sk-hidden--visually\" id=\"584e7a50-e17d-4686-a46d-46dd2d17a6a3\" type=\"checkbox\" ><label for=\"584e7a50-e17d-4686-a46d-46dd2d17a6a3\" class=\"sk-toggleable__label sk-toggleable__label-arrow\">SimpleImputer</label><div class=\"sk-toggleable__content\"><pre>SimpleImputer(strategy=&#x27;most_frequent&#x27;)</pre></div></div></div><div class=\"sk-item\"><div class=\"sk-estimator sk-toggleable\"><input class=\"sk-toggleable__control sk-hidden--visually\" id=\"93fca882-334b-4c15-8946-4ed41b604d9e\" type=\"checkbox\" ><label for=\"93fca882-334b-4c15-8946-4ed41b604d9e\" class=\"sk-toggleable__label sk-toggleable__label-arrow\">OneHotEncoder</label><div class=\"sk-toggleable__content\"><pre>OneHotEncoder(handle_unknown=&#x27;ignore&#x27;, sparse=False)</pre></div></div></div></div></div></div></div></div></div></div></div></div>"
            ]
          },
          "metadata": {},
          "execution_count": 66
        }
      ],
      "source": [
        "Spar_tup_pro= (Spar_pipe, cat_select)\n",
        "pre_pro = make_column_transformer(num_tup_pro, Spar_tup_pro)\n",
        "pre_pro\n"
      ]
    },
    {
      "cell_type": "code",
      "execution_count": 67,
      "metadata": {
        "id": "CDErxSR878i5",
        "colab": {
          "base_uri": "https://localhost:8080/",
          "height": 152
        },
        "outputId": "2f1b77ba-aaa1-409b-d347-1c9f16345988"
      },
      "outputs": [
        {
          "output_type": "execute_result",
          "data": {
            "text/plain": [
              "ColumnTransformer(transformers=[('pipeline-1',\n",
              "                                 Pipeline(steps=[('simpleimputer',\n",
              "                                                  SimpleImputer()),\n",
              "                                                 ('standardscaler',\n",
              "                                                  StandardScaler(with_mean=False))]),\n",
              "                                 <sklearn.compose._column_transformer.make_column_selector object at 0x7fa4d2e03410>),\n",
              "                                ('pipeline-2',\n",
              "                                 Pipeline(steps=[('simpleimputer',\n",
              "                                                  SimpleImputer(strategy='most_frequent')),\n",
              "                                                 ('onehotencoder',\n",
              "                                                  OneHotEncoder(handle_unknown='ignore',\n",
              "                                                                sparse=False))]),\n",
              "                                 <sklearn.compose._column_transformer.make_column_selector object at 0x7fa4d2e037d0>)])"
            ],
            "text/html": [
              "<style>#sk-a591dd95-08c5-4770-ac17-60822a401ff3 {color: black;background-color: white;}#sk-a591dd95-08c5-4770-ac17-60822a401ff3 pre{padding: 0;}#sk-a591dd95-08c5-4770-ac17-60822a401ff3 div.sk-toggleable {background-color: white;}#sk-a591dd95-08c5-4770-ac17-60822a401ff3 label.sk-toggleable__label {cursor: pointer;display: block;width: 100%;margin-bottom: 0;padding: 0.3em;box-sizing: border-box;text-align: center;}#sk-a591dd95-08c5-4770-ac17-60822a401ff3 label.sk-toggleable__label-arrow:before {content: \"▸\";float: left;margin-right: 0.25em;color: #696969;}#sk-a591dd95-08c5-4770-ac17-60822a401ff3 label.sk-toggleable__label-arrow:hover:before {color: black;}#sk-a591dd95-08c5-4770-ac17-60822a401ff3 div.sk-estimator:hover label.sk-toggleable__label-arrow:before {color: black;}#sk-a591dd95-08c5-4770-ac17-60822a401ff3 div.sk-toggleable__content {max-height: 0;max-width: 0;overflow: hidden;text-align: left;background-color: #f0f8ff;}#sk-a591dd95-08c5-4770-ac17-60822a401ff3 div.sk-toggleable__content pre {margin: 0.2em;color: black;border-radius: 0.25em;background-color: #f0f8ff;}#sk-a591dd95-08c5-4770-ac17-60822a401ff3 input.sk-toggleable__control:checked~div.sk-toggleable__content {max-height: 200px;max-width: 100%;overflow: auto;}#sk-a591dd95-08c5-4770-ac17-60822a401ff3 input.sk-toggleable__control:checked~label.sk-toggleable__label-arrow:before {content: \"▾\";}#sk-a591dd95-08c5-4770-ac17-60822a401ff3 div.sk-estimator input.sk-toggleable__control:checked~label.sk-toggleable__label {background-color: #d4ebff;}#sk-a591dd95-08c5-4770-ac17-60822a401ff3 div.sk-label input.sk-toggleable__control:checked~label.sk-toggleable__label {background-color: #d4ebff;}#sk-a591dd95-08c5-4770-ac17-60822a401ff3 input.sk-hidden--visually {border: 0;clip: rect(1px 1px 1px 1px);clip: rect(1px, 1px, 1px, 1px);height: 1px;margin: -1px;overflow: hidden;padding: 0;position: absolute;width: 1px;}#sk-a591dd95-08c5-4770-ac17-60822a401ff3 div.sk-estimator {font-family: monospace;background-color: #f0f8ff;border: 1px dotted black;border-radius: 0.25em;box-sizing: border-box;margin-bottom: 0.5em;}#sk-a591dd95-08c5-4770-ac17-60822a401ff3 div.sk-estimator:hover {background-color: #d4ebff;}#sk-a591dd95-08c5-4770-ac17-60822a401ff3 div.sk-parallel-item::after {content: \"\";width: 100%;border-bottom: 1px solid gray;flex-grow: 1;}#sk-a591dd95-08c5-4770-ac17-60822a401ff3 div.sk-label:hover label.sk-toggleable__label {background-color: #d4ebff;}#sk-a591dd95-08c5-4770-ac17-60822a401ff3 div.sk-serial::before {content: \"\";position: absolute;border-left: 1px solid gray;box-sizing: border-box;top: 2em;bottom: 0;left: 50%;}#sk-a591dd95-08c5-4770-ac17-60822a401ff3 div.sk-serial {display: flex;flex-direction: column;align-items: center;background-color: white;padding-right: 0.2em;padding-left: 0.2em;}#sk-a591dd95-08c5-4770-ac17-60822a401ff3 div.sk-item {z-index: 1;}#sk-a591dd95-08c5-4770-ac17-60822a401ff3 div.sk-parallel {display: flex;align-items: stretch;justify-content: center;background-color: white;}#sk-a591dd95-08c5-4770-ac17-60822a401ff3 div.sk-parallel::before {content: \"\";position: absolute;border-left: 1px solid gray;box-sizing: border-box;top: 2em;bottom: 0;left: 50%;}#sk-a591dd95-08c5-4770-ac17-60822a401ff3 div.sk-parallel-item {display: flex;flex-direction: column;position: relative;background-color: white;}#sk-a591dd95-08c5-4770-ac17-60822a401ff3 div.sk-parallel-item:first-child::after {align-self: flex-end;width: 50%;}#sk-a591dd95-08c5-4770-ac17-60822a401ff3 div.sk-parallel-item:last-child::after {align-self: flex-start;width: 50%;}#sk-a591dd95-08c5-4770-ac17-60822a401ff3 div.sk-parallel-item:only-child::after {width: 0;}#sk-a591dd95-08c5-4770-ac17-60822a401ff3 div.sk-dashed-wrapped {border: 1px dashed gray;margin: 0 0.4em 0.5em 0.4em;box-sizing: border-box;padding-bottom: 0.4em;background-color: white;position: relative;}#sk-a591dd95-08c5-4770-ac17-60822a401ff3 div.sk-label label {font-family: monospace;font-weight: bold;background-color: white;display: inline-block;line-height: 1.2em;}#sk-a591dd95-08c5-4770-ac17-60822a401ff3 div.sk-label-container {position: relative;z-index: 2;text-align: center;}#sk-a591dd95-08c5-4770-ac17-60822a401ff3 div.sk-container {/* jupyter's `normalize.less` sets `[hidden] { display: none; }` but bootstrap.min.css set `[hidden] { display: none !important; }` so we also need the `!important` here to be able to override the default hidden behavior on the sphinx rendered scikit-learn.org. See: https://github.com/scikit-learn/scikit-learn/issues/21755 */display: inline-block !important;position: relative;}#sk-a591dd95-08c5-4770-ac17-60822a401ff3 div.sk-text-repr-fallback {display: none;}</style><div id=\"sk-a591dd95-08c5-4770-ac17-60822a401ff3\" class=\"sk-top-container\"><div class=\"sk-text-repr-fallback\"><pre>ColumnTransformer(transformers=[(&#x27;pipeline-1&#x27;,\n",
              "                                 Pipeline(steps=[(&#x27;simpleimputer&#x27;,\n",
              "                                                  SimpleImputer()),\n",
              "                                                 (&#x27;standardscaler&#x27;,\n",
              "                                                  StandardScaler(with_mean=False))]),\n",
              "                                 &lt;sklearn.compose._column_transformer.make_column_selector object at 0x7fa4d2e03410&gt;),\n",
              "                                (&#x27;pipeline-2&#x27;,\n",
              "                                 Pipeline(steps=[(&#x27;simpleimputer&#x27;,\n",
              "                                                  SimpleImputer(strategy=&#x27;most_frequent&#x27;)),\n",
              "                                                 (&#x27;onehotencoder&#x27;,\n",
              "                                                  OneHotEncoder(handle_unknown=&#x27;ignore&#x27;,\n",
              "                                                                sparse=False))]),\n",
              "                                 &lt;sklearn.compose._column_transformer.make_column_selector object at 0x7fa4d2e037d0&gt;)])</pre><b>Please rerun this cell to show the HTML repr or trust the notebook.</b></div><div class=\"sk-container\" hidden><div class=\"sk-item sk-dashed-wrapped\"><div class=\"sk-label-container\"><div class=\"sk-label sk-toggleable\"><input class=\"sk-toggleable__control sk-hidden--visually\" id=\"184c52a1-2270-4e17-a06c-9298cbc625f0\" type=\"checkbox\" ><label for=\"184c52a1-2270-4e17-a06c-9298cbc625f0\" class=\"sk-toggleable__label sk-toggleable__label-arrow\">ColumnTransformer</label><div class=\"sk-toggleable__content\"><pre>ColumnTransformer(transformers=[(&#x27;pipeline-1&#x27;,\n",
              "                                 Pipeline(steps=[(&#x27;simpleimputer&#x27;,\n",
              "                                                  SimpleImputer()),\n",
              "                                                 (&#x27;standardscaler&#x27;,\n",
              "                                                  StandardScaler(with_mean=False))]),\n",
              "                                 &lt;sklearn.compose._column_transformer.make_column_selector object at 0x7fa4d2e03410&gt;),\n",
              "                                (&#x27;pipeline-2&#x27;,\n",
              "                                 Pipeline(steps=[(&#x27;simpleimputer&#x27;,\n",
              "                                                  SimpleImputer(strategy=&#x27;most_frequent&#x27;)),\n",
              "                                                 (&#x27;onehotencoder&#x27;,\n",
              "                                                  OneHotEncoder(handle_unknown=&#x27;ignore&#x27;,\n",
              "                                                                sparse=False))]),\n",
              "                                 &lt;sklearn.compose._column_transformer.make_column_selector object at 0x7fa4d2e037d0&gt;)])</pre></div></div></div><div class=\"sk-parallel\"><div class=\"sk-parallel-item\"><div class=\"sk-item\"><div class=\"sk-label-container\"><div class=\"sk-label sk-toggleable\"><input class=\"sk-toggleable__control sk-hidden--visually\" id=\"4a6466a8-93b6-4432-bb6b-7191d5234339\" type=\"checkbox\" ><label for=\"4a6466a8-93b6-4432-bb6b-7191d5234339\" class=\"sk-toggleable__label sk-toggleable__label-arrow\">pipeline-1</label><div class=\"sk-toggleable__content\"><pre>&lt;sklearn.compose._column_transformer.make_column_selector object at 0x7fa4d2e03410&gt;</pre></div></div></div><div class=\"sk-serial\"><div class=\"sk-item\"><div class=\"sk-serial\"><div class=\"sk-item\"><div class=\"sk-estimator sk-toggleable\"><input class=\"sk-toggleable__control sk-hidden--visually\" id=\"b82a3fe1-e800-4fc2-9512-7fc324d1308b\" type=\"checkbox\" ><label for=\"b82a3fe1-e800-4fc2-9512-7fc324d1308b\" class=\"sk-toggleable__label sk-toggleable__label-arrow\">SimpleImputer</label><div class=\"sk-toggleable__content\"><pre>SimpleImputer()</pre></div></div></div><div class=\"sk-item\"><div class=\"sk-estimator sk-toggleable\"><input class=\"sk-toggleable__control sk-hidden--visually\" id=\"1730a812-f3a9-4b53-82bc-06674ca123cf\" type=\"checkbox\" ><label for=\"1730a812-f3a9-4b53-82bc-06674ca123cf\" class=\"sk-toggleable__label sk-toggleable__label-arrow\">StandardScaler</label><div class=\"sk-toggleable__content\"><pre>StandardScaler(with_mean=False)</pre></div></div></div></div></div></div></div></div><div class=\"sk-parallel-item\"><div class=\"sk-item\"><div class=\"sk-label-container\"><div class=\"sk-label sk-toggleable\"><input class=\"sk-toggleable__control sk-hidden--visually\" id=\"ce7450e5-dcff-4e59-9ed7-061237434966\" type=\"checkbox\" ><label for=\"ce7450e5-dcff-4e59-9ed7-061237434966\" class=\"sk-toggleable__label sk-toggleable__label-arrow\">pipeline-2</label><div class=\"sk-toggleable__content\"><pre>&lt;sklearn.compose._column_transformer.make_column_selector object at 0x7fa4d2e037d0&gt;</pre></div></div></div><div class=\"sk-serial\"><div class=\"sk-item\"><div class=\"sk-serial\"><div class=\"sk-item\"><div class=\"sk-estimator sk-toggleable\"><input class=\"sk-toggleable__control sk-hidden--visually\" id=\"25057eb2-352d-4296-b531-679cab845d9e\" type=\"checkbox\" ><label for=\"25057eb2-352d-4296-b531-679cab845d9e\" class=\"sk-toggleable__label sk-toggleable__label-arrow\">SimpleImputer</label><div class=\"sk-toggleable__content\"><pre>SimpleImputer(strategy=&#x27;most_frequent&#x27;)</pre></div></div></div><div class=\"sk-item\"><div class=\"sk-estimator sk-toggleable\"><input class=\"sk-toggleable__control sk-hidden--visually\" id=\"b36fb4fe-405c-4188-9e4e-84f9491fe6d2\" type=\"checkbox\" ><label for=\"b36fb4fe-405c-4188-9e4e-84f9491fe6d2\" class=\"sk-toggleable__label sk-toggleable__label-arrow\">OneHotEncoder</label><div class=\"sk-toggleable__content\"><pre>OneHotEncoder(handle_unknown=&#x27;ignore&#x27;, sparse=False)</pre></div></div></div></div></div></div></div></div></div></div></div></div>"
            ]
          },
          "metadata": {},
          "execution_count": 67
        }
      ],
      "source": [
        "pre_pro.fit(X_train)"
      ]
    },
    {
      "cell_type": "code",
      "execution_count": 68,
      "metadata": {
        "id": "GrxusEoP8EjA"
      },
      "outputs": [],
      "source": [
        "Xspar_train_pro = pre_pro.transform(X_train)\n",
        "Xspar_test_pro = pre_pro.transform(X_test)"
      ]
    },
    {
      "cell_type": "code",
      "source": [
        "scaled_df = Stan_Scale.fit_transform(Xspar_test_pro)"
      ],
      "metadata": {
        "id": "NtR1hLr66_lc"
      },
      "execution_count": 92,
      "outputs": []
    },
    {
      "cell_type": "code",
      "execution_count": 108,
      "metadata": {
        "id": "yngkyYni9Da6"
      },
      "outputs": [],
      "source": [
        "pca = PCA(n_components=45)\n",
        "pcs = pca.fit_transform(scaled_df)"
      ]
    },
    {
      "cell_type": "code",
      "execution_count": 109,
      "metadata": {
        "id": "usLCTkt5E4bN"
      },
      "outputs": [],
      "source": [
        "pca85 = PCA(n_components=.95)"
      ]
    },
    {
      "cell_type": "code",
      "execution_count": 111,
      "metadata": {
        "id": "7r-i5EhsF07r"
      },
      "outputs": [],
      "source": [
        "transformer = make_pipeline(Stan_Scale, PCA(n_components=45))"
      ]
    },
    {
      "cell_type": "code",
      "execution_count": 112,
      "metadata": {
        "id": "B5l7dp11F-op",
        "colab": {
          "base_uri": "https://localhost:8080/",
          "height": 186
        },
        "outputId": "a15b126f-c5ab-4776-bc6f-2dc5c7923743"
      },
      "outputs": [
        {
          "output_type": "execute_result",
          "data": {
            "text/plain": [
              "Pipeline(steps=[('pipeline',\n",
              "                 Pipeline(steps=[('standardscaler',\n",
              "                                  StandardScaler(with_mean=False)),\n",
              "                                 ('pca', PCA(n_components=45))])),\n",
              "                ('decisiontreeregressor',\n",
              "                 DecisionTreeRegressor(max_depth=6, random_state=42))])"
            ],
            "text/html": [
              "<style>#sk-a4b26873-c0ba-48e7-b09b-3936d6aeb66c {color: black;background-color: white;}#sk-a4b26873-c0ba-48e7-b09b-3936d6aeb66c pre{padding: 0;}#sk-a4b26873-c0ba-48e7-b09b-3936d6aeb66c div.sk-toggleable {background-color: white;}#sk-a4b26873-c0ba-48e7-b09b-3936d6aeb66c label.sk-toggleable__label {cursor: pointer;display: block;width: 100%;margin-bottom: 0;padding: 0.3em;box-sizing: border-box;text-align: center;}#sk-a4b26873-c0ba-48e7-b09b-3936d6aeb66c label.sk-toggleable__label-arrow:before {content: \"▸\";float: left;margin-right: 0.25em;color: #696969;}#sk-a4b26873-c0ba-48e7-b09b-3936d6aeb66c label.sk-toggleable__label-arrow:hover:before {color: black;}#sk-a4b26873-c0ba-48e7-b09b-3936d6aeb66c div.sk-estimator:hover label.sk-toggleable__label-arrow:before {color: black;}#sk-a4b26873-c0ba-48e7-b09b-3936d6aeb66c div.sk-toggleable__content {max-height: 0;max-width: 0;overflow: hidden;text-align: left;background-color: #f0f8ff;}#sk-a4b26873-c0ba-48e7-b09b-3936d6aeb66c div.sk-toggleable__content pre {margin: 0.2em;color: black;border-radius: 0.25em;background-color: #f0f8ff;}#sk-a4b26873-c0ba-48e7-b09b-3936d6aeb66c input.sk-toggleable__control:checked~div.sk-toggleable__content {max-height: 200px;max-width: 100%;overflow: auto;}#sk-a4b26873-c0ba-48e7-b09b-3936d6aeb66c input.sk-toggleable__control:checked~label.sk-toggleable__label-arrow:before {content: \"▾\";}#sk-a4b26873-c0ba-48e7-b09b-3936d6aeb66c div.sk-estimator input.sk-toggleable__control:checked~label.sk-toggleable__label {background-color: #d4ebff;}#sk-a4b26873-c0ba-48e7-b09b-3936d6aeb66c div.sk-label input.sk-toggleable__control:checked~label.sk-toggleable__label {background-color: #d4ebff;}#sk-a4b26873-c0ba-48e7-b09b-3936d6aeb66c input.sk-hidden--visually {border: 0;clip: rect(1px 1px 1px 1px);clip: rect(1px, 1px, 1px, 1px);height: 1px;margin: -1px;overflow: hidden;padding: 0;position: absolute;width: 1px;}#sk-a4b26873-c0ba-48e7-b09b-3936d6aeb66c div.sk-estimator {font-family: monospace;background-color: #f0f8ff;border: 1px dotted black;border-radius: 0.25em;box-sizing: border-box;margin-bottom: 0.5em;}#sk-a4b26873-c0ba-48e7-b09b-3936d6aeb66c div.sk-estimator:hover {background-color: #d4ebff;}#sk-a4b26873-c0ba-48e7-b09b-3936d6aeb66c div.sk-parallel-item::after {content: \"\";width: 100%;border-bottom: 1px solid gray;flex-grow: 1;}#sk-a4b26873-c0ba-48e7-b09b-3936d6aeb66c div.sk-label:hover label.sk-toggleable__label {background-color: #d4ebff;}#sk-a4b26873-c0ba-48e7-b09b-3936d6aeb66c div.sk-serial::before {content: \"\";position: absolute;border-left: 1px solid gray;box-sizing: border-box;top: 2em;bottom: 0;left: 50%;}#sk-a4b26873-c0ba-48e7-b09b-3936d6aeb66c div.sk-serial {display: flex;flex-direction: column;align-items: center;background-color: white;padding-right: 0.2em;padding-left: 0.2em;}#sk-a4b26873-c0ba-48e7-b09b-3936d6aeb66c div.sk-item {z-index: 1;}#sk-a4b26873-c0ba-48e7-b09b-3936d6aeb66c div.sk-parallel {display: flex;align-items: stretch;justify-content: center;background-color: white;}#sk-a4b26873-c0ba-48e7-b09b-3936d6aeb66c div.sk-parallel::before {content: \"\";position: absolute;border-left: 1px solid gray;box-sizing: border-box;top: 2em;bottom: 0;left: 50%;}#sk-a4b26873-c0ba-48e7-b09b-3936d6aeb66c div.sk-parallel-item {display: flex;flex-direction: column;position: relative;background-color: white;}#sk-a4b26873-c0ba-48e7-b09b-3936d6aeb66c div.sk-parallel-item:first-child::after {align-self: flex-end;width: 50%;}#sk-a4b26873-c0ba-48e7-b09b-3936d6aeb66c div.sk-parallel-item:last-child::after {align-self: flex-start;width: 50%;}#sk-a4b26873-c0ba-48e7-b09b-3936d6aeb66c div.sk-parallel-item:only-child::after {width: 0;}#sk-a4b26873-c0ba-48e7-b09b-3936d6aeb66c div.sk-dashed-wrapped {border: 1px dashed gray;margin: 0 0.4em 0.5em 0.4em;box-sizing: border-box;padding-bottom: 0.4em;background-color: white;position: relative;}#sk-a4b26873-c0ba-48e7-b09b-3936d6aeb66c div.sk-label label {font-family: monospace;font-weight: bold;background-color: white;display: inline-block;line-height: 1.2em;}#sk-a4b26873-c0ba-48e7-b09b-3936d6aeb66c div.sk-label-container {position: relative;z-index: 2;text-align: center;}#sk-a4b26873-c0ba-48e7-b09b-3936d6aeb66c div.sk-container {/* jupyter's `normalize.less` sets `[hidden] { display: none; }` but bootstrap.min.css set `[hidden] { display: none !important; }` so we also need the `!important` here to be able to override the default hidden behavior on the sphinx rendered scikit-learn.org. See: https://github.com/scikit-learn/scikit-learn/issues/21755 */display: inline-block !important;position: relative;}#sk-a4b26873-c0ba-48e7-b09b-3936d6aeb66c div.sk-text-repr-fallback {display: none;}</style><div id=\"sk-a4b26873-c0ba-48e7-b09b-3936d6aeb66c\" class=\"sk-top-container\"><div class=\"sk-text-repr-fallback\"><pre>Pipeline(steps=[(&#x27;pipeline&#x27;,\n",
              "                 Pipeline(steps=[(&#x27;standardscaler&#x27;,\n",
              "                                  StandardScaler(with_mean=False)),\n",
              "                                 (&#x27;pca&#x27;, PCA(n_components=45))])),\n",
              "                (&#x27;decisiontreeregressor&#x27;,\n",
              "                 DecisionTreeRegressor(max_depth=6, random_state=42))])</pre><b>Please rerun this cell to show the HTML repr or trust the notebook.</b></div><div class=\"sk-container\" hidden><div class=\"sk-item sk-dashed-wrapped\"><div class=\"sk-label-container\"><div class=\"sk-label sk-toggleable\"><input class=\"sk-toggleable__control sk-hidden--visually\" id=\"e1838fe1-85b9-4c50-8951-3c4cec415155\" type=\"checkbox\" ><label for=\"e1838fe1-85b9-4c50-8951-3c4cec415155\" class=\"sk-toggleable__label sk-toggleable__label-arrow\">Pipeline</label><div class=\"sk-toggleable__content\"><pre>Pipeline(steps=[(&#x27;pipeline&#x27;,\n",
              "                 Pipeline(steps=[(&#x27;standardscaler&#x27;,\n",
              "                                  StandardScaler(with_mean=False)),\n",
              "                                 (&#x27;pca&#x27;, PCA(n_components=45))])),\n",
              "                (&#x27;decisiontreeregressor&#x27;,\n",
              "                 DecisionTreeRegressor(max_depth=6, random_state=42))])</pre></div></div></div><div class=\"sk-serial\"><div class=\"sk-item\"><div class=\"sk-label-container\"><div class=\"sk-label sk-toggleable\"><input class=\"sk-toggleable__control sk-hidden--visually\" id=\"bfd9aed7-66db-43b1-8e14-023493e75511\" type=\"checkbox\" ><label for=\"bfd9aed7-66db-43b1-8e14-023493e75511\" class=\"sk-toggleable__label sk-toggleable__label-arrow\">pipeline: Pipeline</label><div class=\"sk-toggleable__content\"><pre>Pipeline(steps=[(&#x27;standardscaler&#x27;, StandardScaler(with_mean=False)),\n",
              "                (&#x27;pca&#x27;, PCA(n_components=45))])</pre></div></div></div><div class=\"sk-serial\"><div class=\"sk-item\"><div class=\"sk-estimator sk-toggleable\"><input class=\"sk-toggleable__control sk-hidden--visually\" id=\"13c6e75f-d2fb-4eb2-a6e8-f57cb1c104b2\" type=\"checkbox\" ><label for=\"13c6e75f-d2fb-4eb2-a6e8-f57cb1c104b2\" class=\"sk-toggleable__label sk-toggleable__label-arrow\">StandardScaler</label><div class=\"sk-toggleable__content\"><pre>StandardScaler(with_mean=False)</pre></div></div></div><div class=\"sk-item\"><div class=\"sk-estimator sk-toggleable\"><input class=\"sk-toggleable__control sk-hidden--visually\" id=\"73f8bb42-13ec-4b2c-9881-30bd4b5b89c1\" type=\"checkbox\" ><label for=\"73f8bb42-13ec-4b2c-9881-30bd4b5b89c1\" class=\"sk-toggleable__label sk-toggleable__label-arrow\">PCA</label><div class=\"sk-toggleable__content\"><pre>PCA(n_components=45)</pre></div></div></div></div></div><div class=\"sk-item\"><div class=\"sk-estimator sk-toggleable\"><input class=\"sk-toggleable__control sk-hidden--visually\" id=\"3749e365-34a5-4b2e-983a-952e8bac43aa\" type=\"checkbox\" ><label for=\"3749e365-34a5-4b2e-983a-952e8bac43aa\" class=\"sk-toggleable__label sk-toggleable__label-arrow\">DecisionTreeRegressor</label><div class=\"sk-toggleable__content\"><pre>DecisionTreeRegressor(max_depth=6, random_state=42)</pre></div></div></div></div></div></div></div>"
            ]
          },
          "metadata": {},
          "execution_count": 112
        }
      ],
      "source": [
        "DTC_pipe = make_pipeline(transformer, dec_tree_6)\n",
        "DTC_pipe.fit(Xspar_train_pro, y_train)"
      ]
    },
    {
      "cell_type": "code",
      "execution_count": 113,
      "metadata": {
        "id": "I2AxyHgHHFEC",
        "colab": {
          "base_uri": "https://localhost:8080/"
        },
        "outputId": "0807b02e-cabb-4588-eb76-69869a250092"
      },
      "outputs": [
        {
          "output_type": "stream",
          "name": "stdout",
          "text": [
            "Training accuracy: 0.23169137520335426\n",
            "Testing accuracy: 0.06564498465103208\n"
          ]
        }
      ],
      "source": [
        "print('Training accuracy:', DTC_pipe.score(Xspar_train_pro, y_train))\n",
        "print('Testing accuracy:', DTC_pipe.score(Xspar_test_pro, y_test))      #PCA only drove down my accuracy "
      ]
    },
    {
      "cell_type": "markdown",
      "metadata": {
        "id": "QMhxpZq_KOl9"
      },
      "source": [
        "# I have chosen to go with the Decision Tree model.  \n",
        " \n",
        "Despite originally showing a high bias, by tuning some of the parameters i was able to bring that bias down and properly fit it to my data. Out of the testing models i chose it performed the best once i found the correct parameters"
      ]
    }
  ],
  "metadata": {
    "colab": {
      "collapsed_sections": [],
      "provenance": [],
      "authorship_tag": "ABX9TyOnfBYzUGX0EVVAoooVqZbo",
      "include_colab_link": true
    },
    "kernelspec": {
      "display_name": "Python 3",
      "name": "python3"
    },
    "language_info": {
      "name": "python"
    }
  },
  "nbformat": 4,
  "nbformat_minor": 0
}