{
  "nbformat": 4,
  "nbformat_minor": 0,
  "metadata": {
    "colab": {
      "provenance": [],
      "collapsed_sections": [],
      "authorship_tag": "ABX9TyOuGBOFLAAbcAiUoWkVswOj",
      "include_colab_link": true
    },
    "kernelspec": {
      "name": "python3",
      "display_name": "Python 3"
    },
    "language_info": {
      "name": "python"
    }
  },
  "cells": [
    {
      "cell_type": "markdown",
      "metadata": {
        "id": "view-in-github",
        "colab_type": "text"
      },
      "source": [
        "<a href=\"https://colab.research.google.com/github/AaronRM9416/Platform-Performance-Gaming-/blob/main/Platform_Sales.ipynb\" target=\"_parent\"><img src=\"https://colab.research.google.com/assets/colab-badge.svg\" alt=\"Open In Colab\"/></a>"
      ]
    },
    {
      "cell_type": "markdown",
      "source": [
        "#Platform Sales and Review Scores\n",
        "\n",
        "Aaron Musselwhite"
      ],
      "metadata": {
        "id": "QCGE8SsTKkqY"
      }
    },
    {
      "cell_type": "code",
      "execution_count": null,
      "metadata": {
        "id": "UOqvsqEip6En"
      },
      "outputs": [],
      "source": [
        "import pandas as pd\n",
        "import numpy as np\n",
        "import seaborn as sns\n",
        "import matplotlib.pyplot as plt\n",
        "from sklearn.model_selection import train_test_split, GridSearchCV\n",
        "from sklearn.compose import make_column_selector, make_column_transformer              ##imports\n",
        "from sklearn.preprocessing import StandardScaler, OneHotEncoder\n",
        "from sklearn.impute import SimpleImputer\n",
        "from sklearn.pipeline import make_pipeline\n",
        "from sklearn.tree import DecisionTreeClassifier\n",
        "from sklearn.dummy import DummyClassifier\n",
        "from sklearn.neighbors import KNeighborsClassifier\n",
        "from sklearn.metrics import accuracy_score, precision_score, recall_score, classification_report, confusion_matrix, ConfusionMatrixDisplay\n",
        "from sklearn.decomposition import PCA\n",
        "from sklearn.ensemble import GradientBoostingClassifier\n",
        "from sklearn import set_config\n",
        "set_config(display='diagram')"
      ]
    },
    {
      "cell_type": "markdown",
      "source": [
        "#Data Review and Cleaning"
      ],
      "metadata": {
        "id": "S5cWsbDCUf88"
      }
    },
    {
      "cell_type": "code",
      "source": [
        "games= pd.read_csv('https://docs.google.com/spreadsheets/d/e/2PACX-1vRJiyV_o3XPU0pvlMVCM8JrlpXl2hcP1hezOnFBGLQWZq3G0COBwVyOuakBhv31Lt9cgU18RSyBQpWp/pub?output=csv')\n",
        "games.head()"
      ],
      "metadata": {
        "colab": {
          "base_uri": "https://localhost:8080/",
          "height": 340
        },
        "id": "Q-x8UvI6qDxv",
        "outputId": "4746165b-4204-4bc0-e4fa-f9640fe2dca1"
      },
      "execution_count": null,
      "outputs": [
        {
          "output_type": "execute_result",
          "data": {
            "text/plain": [
              "                       Name Platform  Year_of_Release         Genre Publisher  \\\n",
              "0                Wii Sports      Wii           2006.0        Sports  Nintendo   \n",
              "1         Super Mario Bros.      NES           1985.0      Platform  Nintendo   \n",
              "2            Mario Kart Wii      Wii           2008.0        Racing  Nintendo   \n",
              "3         Wii Sports Resort      Wii           2009.0        Sports  Nintendo   \n",
              "4  Pokemon Red/Pokemon Blue       GB           1996.0  Role-Playing  Nintendo   \n",
              "\n",
              "   NA_Sales  EU_Sales  JP_Sales  Other_Sales  Global_Sales  Critic_Score  \\\n",
              "0     41.36     28.96      3.77         8.45         82.53          76.0   \n",
              "1     29.08      3.58      6.81         0.77         40.24           NaN   \n",
              "2     15.68     12.76      3.79         3.29         35.52          82.0   \n",
              "3     15.61     10.93      3.28         2.95         32.77          80.0   \n",
              "4     11.27      8.89     10.22         1.00         31.37           NaN   \n",
              "\n",
              "   Critic_Count  User_Score  User_Count Developer Rating  \n",
              "0          51.0         8.0       322.0  Nintendo      E  \n",
              "1           NaN         NaN         NaN       NaN    NaN  \n",
              "2          73.0         8.3       709.0  Nintendo      E  \n",
              "3          73.0         8.0       192.0  Nintendo      E  \n",
              "4           NaN         NaN         NaN       NaN    NaN  "
            ],
            "text/html": [
              "\n",
              "  <div id=\"df-22d24ece-9310-4585-bb0a-854b21e6b128\">\n",
              "    <div class=\"colab-df-container\">\n",
              "      <div>\n",
              "<style scoped>\n",
              "    .dataframe tbody tr th:only-of-type {\n",
              "        vertical-align: middle;\n",
              "    }\n",
              "\n",
              "    .dataframe tbody tr th {\n",
              "        vertical-align: top;\n",
              "    }\n",
              "\n",
              "    .dataframe thead th {\n",
              "        text-align: right;\n",
              "    }\n",
              "</style>\n",
              "<table border=\"1\" class=\"dataframe\">\n",
              "  <thead>\n",
              "    <tr style=\"text-align: right;\">\n",
              "      <th></th>\n",
              "      <th>Name</th>\n",
              "      <th>Platform</th>\n",
              "      <th>Year_of_Release</th>\n",
              "      <th>Genre</th>\n",
              "      <th>Publisher</th>\n",
              "      <th>NA_Sales</th>\n",
              "      <th>EU_Sales</th>\n",
              "      <th>JP_Sales</th>\n",
              "      <th>Other_Sales</th>\n",
              "      <th>Global_Sales</th>\n",
              "      <th>Critic_Score</th>\n",
              "      <th>Critic_Count</th>\n",
              "      <th>User_Score</th>\n",
              "      <th>User_Count</th>\n",
              "      <th>Developer</th>\n",
              "      <th>Rating</th>\n",
              "    </tr>\n",
              "  </thead>\n",
              "  <tbody>\n",
              "    <tr>\n",
              "      <th>0</th>\n",
              "      <td>Wii Sports</td>\n",
              "      <td>Wii</td>\n",
              "      <td>2006.0</td>\n",
              "      <td>Sports</td>\n",
              "      <td>Nintendo</td>\n",
              "      <td>41.36</td>\n",
              "      <td>28.96</td>\n",
              "      <td>3.77</td>\n",
              "      <td>8.45</td>\n",
              "      <td>82.53</td>\n",
              "      <td>76.0</td>\n",
              "      <td>51.0</td>\n",
              "      <td>8.0</td>\n",
              "      <td>322.0</td>\n",
              "      <td>Nintendo</td>\n",
              "      <td>E</td>\n",
              "    </tr>\n",
              "    <tr>\n",
              "      <th>1</th>\n",
              "      <td>Super Mario Bros.</td>\n",
              "      <td>NES</td>\n",
              "      <td>1985.0</td>\n",
              "      <td>Platform</td>\n",
              "      <td>Nintendo</td>\n",
              "      <td>29.08</td>\n",
              "      <td>3.58</td>\n",
              "      <td>6.81</td>\n",
              "      <td>0.77</td>\n",
              "      <td>40.24</td>\n",
              "      <td>NaN</td>\n",
              "      <td>NaN</td>\n",
              "      <td>NaN</td>\n",
              "      <td>NaN</td>\n",
              "      <td>NaN</td>\n",
              "      <td>NaN</td>\n",
              "    </tr>\n",
              "    <tr>\n",
              "      <th>2</th>\n",
              "      <td>Mario Kart Wii</td>\n",
              "      <td>Wii</td>\n",
              "      <td>2008.0</td>\n",
              "      <td>Racing</td>\n",
              "      <td>Nintendo</td>\n",
              "      <td>15.68</td>\n",
              "      <td>12.76</td>\n",
              "      <td>3.79</td>\n",
              "      <td>3.29</td>\n",
              "      <td>35.52</td>\n",
              "      <td>82.0</td>\n",
              "      <td>73.0</td>\n",
              "      <td>8.3</td>\n",
              "      <td>709.0</td>\n",
              "      <td>Nintendo</td>\n",
              "      <td>E</td>\n",
              "    </tr>\n",
              "    <tr>\n",
              "      <th>3</th>\n",
              "      <td>Wii Sports Resort</td>\n",
              "      <td>Wii</td>\n",
              "      <td>2009.0</td>\n",
              "      <td>Sports</td>\n",
              "      <td>Nintendo</td>\n",
              "      <td>15.61</td>\n",
              "      <td>10.93</td>\n",
              "      <td>3.28</td>\n",
              "      <td>2.95</td>\n",
              "      <td>32.77</td>\n",
              "      <td>80.0</td>\n",
              "      <td>73.0</td>\n",
              "      <td>8.0</td>\n",
              "      <td>192.0</td>\n",
              "      <td>Nintendo</td>\n",
              "      <td>E</td>\n",
              "    </tr>\n",
              "    <tr>\n",
              "      <th>4</th>\n",
              "      <td>Pokemon Red/Pokemon Blue</td>\n",
              "      <td>GB</td>\n",
              "      <td>1996.0</td>\n",
              "      <td>Role-Playing</td>\n",
              "      <td>Nintendo</td>\n",
              "      <td>11.27</td>\n",
              "      <td>8.89</td>\n",
              "      <td>10.22</td>\n",
              "      <td>1.00</td>\n",
              "      <td>31.37</td>\n",
              "      <td>NaN</td>\n",
              "      <td>NaN</td>\n",
              "      <td>NaN</td>\n",
              "      <td>NaN</td>\n",
              "      <td>NaN</td>\n",
              "      <td>NaN</td>\n",
              "    </tr>\n",
              "  </tbody>\n",
              "</table>\n",
              "</div>\n",
              "      <button class=\"colab-df-convert\" onclick=\"convertToInteractive('df-22d24ece-9310-4585-bb0a-854b21e6b128')\"\n",
              "              title=\"Convert this dataframe to an interactive table.\"\n",
              "              style=\"display:none;\">\n",
              "        \n",
              "  <svg xmlns=\"http://www.w3.org/2000/svg\" height=\"24px\"viewBox=\"0 0 24 24\"\n",
              "       width=\"24px\">\n",
              "    <path d=\"M0 0h24v24H0V0z\" fill=\"none\"/>\n",
              "    <path d=\"M18.56 5.44l.94 2.06.94-2.06 2.06-.94-2.06-.94-.94-2.06-.94 2.06-2.06.94zm-11 1L8.5 8.5l.94-2.06 2.06-.94-2.06-.94L8.5 2.5l-.94 2.06-2.06.94zm10 10l.94 2.06.94-2.06 2.06-.94-2.06-.94-.94-2.06-.94 2.06-2.06.94z\"/><path d=\"M17.41 7.96l-1.37-1.37c-.4-.4-.92-.59-1.43-.59-.52 0-1.04.2-1.43.59L10.3 9.45l-7.72 7.72c-.78.78-.78 2.05 0 2.83L4 21.41c.39.39.9.59 1.41.59.51 0 1.02-.2 1.41-.59l7.78-7.78 2.81-2.81c.8-.78.8-2.07 0-2.86zM5.41 20L4 18.59l7.72-7.72 1.47 1.35L5.41 20z\"/>\n",
              "  </svg>\n",
              "      </button>\n",
              "      \n",
              "  <style>\n",
              "    .colab-df-container {\n",
              "      display:flex;\n",
              "      flex-wrap:wrap;\n",
              "      gap: 12px;\n",
              "    }\n",
              "\n",
              "    .colab-df-convert {\n",
              "      background-color: #E8F0FE;\n",
              "      border: none;\n",
              "      border-radius: 50%;\n",
              "      cursor: pointer;\n",
              "      display: none;\n",
              "      fill: #1967D2;\n",
              "      height: 32px;\n",
              "      padding: 0 0 0 0;\n",
              "      width: 32px;\n",
              "    }\n",
              "\n",
              "    .colab-df-convert:hover {\n",
              "      background-color: #E2EBFA;\n",
              "      box-shadow: 0px 1px 2px rgba(60, 64, 67, 0.3), 0px 1px 3px 1px rgba(60, 64, 67, 0.15);\n",
              "      fill: #174EA6;\n",
              "    }\n",
              "\n",
              "    [theme=dark] .colab-df-convert {\n",
              "      background-color: #3B4455;\n",
              "      fill: #D2E3FC;\n",
              "    }\n",
              "\n",
              "    [theme=dark] .colab-df-convert:hover {\n",
              "      background-color: #434B5C;\n",
              "      box-shadow: 0px 1px 3px 1px rgba(0, 0, 0, 0.15);\n",
              "      filter: drop-shadow(0px 1px 2px rgba(0, 0, 0, 0.3));\n",
              "      fill: #FFFFFF;\n",
              "    }\n",
              "  </style>\n",
              "\n",
              "      <script>\n",
              "        const buttonEl =\n",
              "          document.querySelector('#df-22d24ece-9310-4585-bb0a-854b21e6b128 button.colab-df-convert');\n",
              "        buttonEl.style.display =\n",
              "          google.colab.kernel.accessAllowed ? 'block' : 'none';\n",
              "\n",
              "        async function convertToInteractive(key) {\n",
              "          const element = document.querySelector('#df-22d24ece-9310-4585-bb0a-854b21e6b128');\n",
              "          const dataTable =\n",
              "            await google.colab.kernel.invokeFunction('convertToInteractive',\n",
              "                                                     [key], {});\n",
              "          if (!dataTable) return;\n",
              "\n",
              "          const docLinkHtml = 'Like what you see? Visit the ' +\n",
              "            '<a target=\"_blank\" href=https://colab.research.google.com/notebooks/data_table.ipynb>data table notebook</a>'\n",
              "            + ' to learn more about interactive tables.';\n",
              "          element.innerHTML = '';\n",
              "          dataTable['output_type'] = 'display_data';\n",
              "          await google.colab.output.renderOutput(dataTable, element);\n",
              "          const docLink = document.createElement('div');\n",
              "          docLink.innerHTML = docLinkHtml;\n",
              "          element.appendChild(docLink);\n",
              "        }\n",
              "      </script>\n",
              "    </div>\n",
              "  </div>\n",
              "  "
            ]
          },
          "metadata": {},
          "execution_count": 2
        }
      ]
    },
    {
      "cell_type": "code",
      "source": [
        "df= games.copy()"
      ],
      "metadata": {
        "id": "ws6Rn88dqHZP"
      },
      "execution_count": null,
      "outputs": []
    },
    {
      "cell_type": "code",
      "source": [
        "df.info()"
      ],
      "metadata": {
        "id": "Q0EriMLbqIuJ",
        "colab": {
          "base_uri": "https://localhost:8080/"
        },
        "outputId": "5512b3de-68b5-4aa2-c483-63cde4613754"
      },
      "execution_count": null,
      "outputs": [
        {
          "output_type": "stream",
          "name": "stdout",
          "text": [
            "<class 'pandas.core.frame.DataFrame'>\n",
            "RangeIndex: 16719 entries, 0 to 16718\n",
            "Data columns (total 16 columns):\n",
            " #   Column           Non-Null Count  Dtype  \n",
            "---  ------           --------------  -----  \n",
            " 0   Name             16717 non-null  object \n",
            " 1   Platform         16719 non-null  object \n",
            " 2   Year_of_Release  16450 non-null  float64\n",
            " 3   Genre            16717 non-null  object \n",
            " 4   Publisher        16665 non-null  object \n",
            " 5   NA_Sales         16719 non-null  float64\n",
            " 6   EU_Sales         16719 non-null  float64\n",
            " 7   JP_Sales         16719 non-null  float64\n",
            " 8   Other_Sales      16719 non-null  float64\n",
            " 9   Global_Sales     16719 non-null  float64\n",
            " 10  Critic_Score     8137 non-null   float64\n",
            " 11  Critic_Count     8137 non-null   float64\n",
            " 12  User_Score       7590 non-null   float64\n",
            " 13  User_Count       7590 non-null   float64\n",
            " 14  Developer        10096 non-null  object \n",
            " 15  Rating           9950 non-null   object \n",
            "dtypes: float64(10), object(6)\n",
            "memory usage: 2.0+ MB\n"
          ]
        }
      ]
    },
    {
      "cell_type": "code",
      "source": [
        "df.isna().sum()"
      ],
      "metadata": {
        "id": "44If5SaoqM6-",
        "colab": {
          "base_uri": "https://localhost:8080/"
        },
        "outputId": "3187a18f-352e-4002-b77f-ec6a4ec1812c"
      },
      "execution_count": null,
      "outputs": [
        {
          "output_type": "execute_result",
          "data": {
            "text/plain": [
              "Name                  2\n",
              "Platform              0\n",
              "Year_of_Release     269\n",
              "Genre                 2\n",
              "Publisher            54\n",
              "NA_Sales              0\n",
              "EU_Sales              0\n",
              "JP_Sales              0\n",
              "Other_Sales           0\n",
              "Global_Sales          0\n",
              "Critic_Score       8582\n",
              "Critic_Count       8582\n",
              "User_Score         9129\n",
              "User_Count         9129\n",
              "Developer          6623\n",
              "Rating             6769\n",
              "dtype: int64"
            ]
          },
          "metadata": {},
          "execution_count": 5
        }
      ]
    },
    {
      "cell_type": "code",
      "source": [
        "df.duplicated().any()"
      ],
      "metadata": {
        "id": "wFbScOMvqRqb",
        "colab": {
          "base_uri": "https://localhost:8080/"
        },
        "outputId": "e18c1a78-1673-4c4a-9960-0702c88744d2"
      },
      "execution_count": null,
      "outputs": [
        {
          "output_type": "execute_result",
          "data": {
            "text/plain": [
              "False"
            ]
          },
          "metadata": {},
          "execution_count": 6
        }
      ]
    },
    {
      "cell_type": "code",
      "source": [
        "df.nunique()"
      ],
      "metadata": {
        "id": "3RpVnuIqqTx1",
        "colab": {
          "base_uri": "https://localhost:8080/"
        },
        "outputId": "5933fdcc-84ad-4e26-bd16-2da05f8b0020"
      },
      "execution_count": null,
      "outputs": [
        {
          "output_type": "execute_result",
          "data": {
            "text/plain": [
              "Name               11562\n",
              "Platform              31\n",
              "Year_of_Release       39\n",
              "Genre                 12\n",
              "Publisher            581\n",
              "NA_Sales             402\n",
              "EU_Sales             307\n",
              "JP_Sales             244\n",
              "Other_Sales          155\n",
              "Global_Sales         629\n",
              "Critic_Score          82\n",
              "Critic_Count         106\n",
              "User_Score            95\n",
              "User_Count           888\n",
              "Developer           1696\n",
              "Rating                 8\n",
              "dtype: int64"
            ]
          },
          "metadata": {},
          "execution_count": 7
        }
      ]
    },
    {
      "cell_type": "code",
      "source": [
        "df =df.drop(columns=['Year_of_Release','Genre','User_Count','Developer','Critic_Count','Rating','Other_Sales'])"
      ],
      "metadata": {
        "id": "BD9xQQuTqYz7"
      },
      "execution_count": null,
      "outputs": []
    },
    {
      "cell_type": "code",
      "source": [
        "df.info()"
      ],
      "metadata": {
        "id": "OCT_Jzvyqasj",
        "colab": {
          "base_uri": "https://localhost:8080/"
        },
        "outputId": "fc308002-70ba-460d-fff6-d05c895a7bb7"
      },
      "execution_count": null,
      "outputs": [
        {
          "output_type": "stream",
          "name": "stdout",
          "text": [
            "<class 'pandas.core.frame.DataFrame'>\n",
            "RangeIndex: 16719 entries, 0 to 16718\n",
            "Data columns (total 9 columns):\n",
            " #   Column        Non-Null Count  Dtype  \n",
            "---  ------        --------------  -----  \n",
            " 0   Name          16717 non-null  object \n",
            " 1   Platform      16719 non-null  object \n",
            " 2   Publisher     16665 non-null  object \n",
            " 3   NA_Sales      16719 non-null  float64\n",
            " 4   EU_Sales      16719 non-null  float64\n",
            " 5   JP_Sales      16719 non-null  float64\n",
            " 6   Global_Sales  16719 non-null  float64\n",
            " 7   Critic_Score  8137 non-null   float64\n",
            " 8   User_Score    7590 non-null   float64\n",
            "dtypes: float64(6), object(3)\n",
            "memory usage: 1.1+ MB\n"
          ]
        }
      ]
    },
    {
      "cell_type": "code",
      "source": [
        "Plat_counts = df.Platform.value_counts(ascending=True)\n",
        "Plat_counts.head()"
      ],
      "metadata": {
        "id": "q22WSiOHuS5n",
        "colab": {
          "base_uri": "https://localhost:8080/"
        },
        "outputId": "c5d7d783-8f1f-47a6-c511-2deeb76064af"
      },
      "execution_count": null,
      "outputs": [
        {
          "output_type": "execute_result",
          "data": {
            "text/plain": [
              "PCFX    1\n",
              "GG      1\n",
              "TG16    2\n",
              "3DO     3\n",
              "WS      6\n",
              "Name: Platform, dtype: int64"
            ]
          },
          "metadata": {},
          "execution_count": 10
        }
      ]
    },
    {
      "cell_type": "markdown",
      "source": [
        "#Early Vsiuals"
      ],
      "metadata": {
        "id": "3n19dPPNUchL"
      }
    },
    {
      "cell_type": "code",
      "source": [
        "plat_group = df.groupby('Platform').mean().reset_index()\n",
        "\n",
        "sns.barplot(data=plat_group, x='Platform', y='Critic_Score')\n",
        "plt.ticklabel_format(style='plain', axis='y')\n",
        "plt.title('Critic Score by Platform', fontsize=20)\n",
        "plt.xlabel('Platform', fontsize=15)\n",
        "plt.ylabel('Critic Score', fontsize=15)\n",
        "plt.xticks(rotation = 45);"
      ],
      "metadata": {
        "id": "rakI0PzcuV0e",
        "colab": {
          "base_uri": "https://localhost:8080/",
          "height": 321
        },
        "outputId": "0acf354a-0d0a-405f-f938-9ea51ebac0b1"
      },
      "execution_count": null,
      "outputs": [
        {
          "output_type": "display_data",
          "data": {
            "text/plain": [
              "<Figure size 432x288 with 1 Axes>"
            ],
            "image/png": "[encoded data removed]"
          },
          "metadata": {
            "needs_background": "light"
          }
        }
      ]
    },
    {
      "cell_type": "code",
      "source": [
        "fig, axes = plt.subplots(nrows = 1, ncols = 1)\n",
        "\n",
        "axes.plot(plat_group['Platform'], plat_group['Global_Sales'])\n",
        "axes.set_title('Sales By Platform', fontsize=20)\n",
        "axes.set_ylabel('Sales', fontsize=20)\n",
        "axes.set_xlabel(\"Platform\", fontsize=20)\n",
        "axes.grid()\n",
        "plt.xticks(rotation = 45);\n",
        "plt.tight_layout()\n",
        "plt.show()"
      ],
      "metadata": {
        "colab": {
          "base_uri": "https://localhost:8080/",
          "height": 297
        },
        "id": "AFvy6r7hxn-p",
        "outputId": "70c6ee91-77b8-4bed-c951-ef9c2424d5be"
      },
      "execution_count": null,
      "outputs": [
        {
          "output_type": "display_data",
          "data": {
            "text/plain": [
              "<Figure size 432x288 with 1 Axes>"
            ],
            "image/png": "[encoded data removed]"
          },
          "metadata": {
            "needs_background": "light"
          }
        }
      ]
    },
    {
      "cell_type": "markdown",
      "source": [
        "#X/Y Split & Preprocessing "
      ],
      "metadata": {
        "id": "1ASJhBtTUUQC"
      }
    },
    {
      "cell_type": "code",
      "source": [
        "X = df.drop(columns=['Platform'])\n",
        "y = df['Platform']"
      ],
      "metadata": {
        "id": "JElcc1OOyMgv"
      },
      "execution_count": null,
      "outputs": []
    },
    {
      "cell_type": "code",
      "source": [
        "X_train, X_test, y_train, y_test = train_test_split(X, y, random_state=42)"
      ],
      "metadata": {
        "id": "K2974jqXyPoy"
      },
      "execution_count": null,
      "outputs": []
    },
    {
      "cell_type": "code",
      "source": [
        "num_select = make_column_selector(dtype_include='number')\n",
        "cat_select = make_column_selector(dtype_include='object')"
      ],
      "metadata": {
        "id": "qtH5UM1yyRL0"
      },
      "execution_count": null,
      "outputs": []
    },
    {
      "cell_type": "code",
      "source": [
        "num_column = num_select(X_train)\n",
        "cat_column = cat_select(X_train)\n",
        "print('numeric columns are', num_column)\n",
        "print('categorical columns are', cat_column)"
      ],
      "metadata": {
        "colab": {
          "base_uri": "https://localhost:8080/"
        },
        "id": "S9-PJRQ2yUyI",
        "outputId": "8d6d2a2b-7506-40a5-ef8c-beba2abe5e0e"
      },
      "execution_count": null,
      "outputs": [
        {
          "output_type": "stream",
          "name": "stdout",
          "text": [
            "numeric columns are ['NA_Sales', 'EU_Sales', 'JP_Sales', 'Global_Sales', 'Critic_Score', 'User_Score']\n",
            "categorical columns are ['Name', 'Publisher']\n"
          ]
        }
      ]
    },
    {
      "cell_type": "code",
      "source": [
        "freq_imputer = SimpleImputer(strategy='most_frequent')\n",
        "mean_imputer = SimpleImputer(strategy='mean')"
      ],
      "metadata": {
        "id": "qsrgssyKyXb0"
      },
      "execution_count": null,
      "outputs": []
    },
    {
      "cell_type": "code",
      "source": [
        "num_tup = (mean_imputer, num_select)\n",
        "cat_tup = (freq_imputer, cat_select)\n",
        "col_transform = make_column_transformer(num_tup, cat_tup, remainder='passthrough')\n",
        "col_transform"
      ],
      "metadata": {
        "colab": {
          "base_uri": "https://localhost:8080/",
          "height": 118
        },
        "id": "pEO9aBqhziOD",
        "outputId": "013f7714-7509-4882-87e7-fd8c517a8500"
      },
      "execution_count": null,
      "outputs": [
        {
          "output_type": "execute_result",
          "data": {
            "text/plain": [
              "ColumnTransformer(remainder='passthrough',\n",
              "                  transformers=[('simpleimputer-1', SimpleImputer(),\n",
              "                                 <sklearn.compose._column_transformer.make_column_selector object at 0x7f0cebdb4190>),\n",
              "                                ('simpleimputer-2',\n",
              "                                 SimpleImputer(strategy='most_frequent'),\n",
              "                                 <sklearn.compose._column_transformer.make_column_selector object at 0x7f0cebdb4110>)])"
            ],
            "text/html": [
              "<style>#sk-9d99d811-3eba-44e8-9d4c-b03e21cb9d9b {color: black;background-color: white;}#sk-9d99d811-3eba-44e8-9d4c-b03e21cb9d9b pre{padding: 0;}#sk-9d99d811-3eba-44e8-9d4c-b03e21cb9d9b div.sk-toggleable {background-color: white;}#sk-9d99d811-3eba-44e8-9d4c-b03e21cb9d9b label.sk-toggleable__label {cursor: pointer;display: block;width: 100%;margin-bottom: 0;padding: 0.3em;box-sizing: border-box;text-align: center;}#sk-9d99d811-3eba-44e8-9d4c-b03e21cb9d9b label.sk-toggleable__label-arrow:before {content: \"▸\";float: left;margin-right: 0.25em;color: #696969;}#sk-9d99d811-3eba-44e8-9d4c-b03e21cb9d9b label.sk-toggleable__label-arrow:hover:before {color: black;}#sk-9d99d811-3eba-44e8-9d4c-b03e21cb9d9b div.sk-estimator:hover label.sk-toggleable__label-arrow:before {color: black;}#sk-9d99d811-3eba-44e8-9d4c-b03e21cb9d9b div.sk-toggleable__content {max-height: 0;max-width: 0;overflow: hidden;text-align: left;background-color: #f0f8ff;}#sk-9d99d811-3eba-44e8-9d4c-b03e21cb9d9b div.sk-toggleable__content pre {margin: 0.2em;color: black;border-radius: 0.25em;background-color: #f0f8ff;}#sk-9d99d811-3eba-44e8-9d4c-b03e21cb9d9b input.sk-toggleable__control:checked~div.sk-toggleable__content {max-height: 200px;max-width: 100%;overflow: auto;}#sk-9d99d811-3eba-44e8-9d4c-b03e21cb9d9b input.sk-toggleable__control:checked~label.sk-toggleable__label-arrow:before {content: \"▾\";}#sk-9d99d811-3eba-44e8-9d4c-b03e21cb9d9b div.sk-estimator input.sk-toggleable__control:checked~label.sk-toggleable__label {background-color: #d4ebff;}#sk-9d99d811-3eba-44e8-9d4c-b03e21cb9d9b div.sk-label input.sk-toggleable__control:checked~label.sk-toggleable__label {background-color: #d4ebff;}#sk-9d99d811-3eba-44e8-9d4c-b03e21cb9d9b input.sk-hidden--visually {border: 0;clip: rect(1px 1px 1px 1px);clip: rect(1px, 1px, 1px, 1px);height: 1px;margin: -1px;overflow: hidden;padding: 0;position: absolute;width: 1px;}#sk-9d99d811-3eba-44e8-9d4c-b03e21cb9d9b div.sk-estimator {font-family: monospace;background-color: #f0f8ff;border: 1px dotted black;border-radius: 0.25em;box-sizing: border-box;margin-bottom: 0.5em;}#sk-9d99d811-3eba-44e8-9d4c-b03e21cb9d9b div.sk-estimator:hover {background-color: #d4ebff;}#sk-9d99d811-3eba-44e8-9d4c-b03e21cb9d9b div.sk-parallel-item::after {content: \"\";width: 100%;border-bottom: 1px solid gray;flex-grow: 1;}#sk-9d99d811-3eba-44e8-9d4c-b03e21cb9d9b div.sk-label:hover label.sk-toggleable__label {background-color: #d4ebff;}#sk-9d99d811-3eba-44e8-9d4c-b03e21cb9d9b div.sk-serial::before {content: \"\";position: absolute;border-left: 1px solid gray;box-sizing: border-box;top: 2em;bottom: 0;left: 50%;}#sk-9d99d811-3eba-44e8-9d4c-b03e21cb9d9b div.sk-serial {display: flex;flex-direction: column;align-items: center;background-color: white;padding-right: 0.2em;padding-left: 0.2em;}#sk-9d99d811-3eba-44e8-9d4c-b03e21cb9d9b div.sk-item {z-index: 1;}#sk-9d99d811-3eba-44e8-9d4c-b03e21cb9d9b div.sk-parallel {display: flex;align-items: stretch;justify-content: center;background-color: white;}#sk-9d99d811-3eba-44e8-9d4c-b03e21cb9d9b div.sk-parallel::before {content: \"\";position: absolute;border-left: 1px solid gray;box-sizing: border-box;top: 2em;bottom: 0;left: 50%;}#sk-9d99d811-3eba-44e8-9d4c-b03e21cb9d9b div.sk-parallel-item {display: flex;flex-direction: column;position: relative;background-color: white;}#sk-9d99d811-3eba-44e8-9d4c-b03e21cb9d9b div.sk-parallel-item:first-child::after {align-self: flex-end;width: 50%;}#sk-9d99d811-3eba-44e8-9d4c-b03e21cb9d9b div.sk-parallel-item:last-child::after {align-self: flex-start;width: 50%;}#sk-9d99d811-3eba-44e8-9d4c-b03e21cb9d9b div.sk-parallel-item:only-child::after {width: 0;}#sk-9d99d811-3eba-44e8-9d4c-b03e21cb9d9b div.sk-dashed-wrapped {border: 1px dashed gray;margin: 0 0.4em 0.5em 0.4em;box-sizing: border-box;padding-bottom: 0.4em;background-color: white;position: relative;}#sk-9d99d811-3eba-44e8-9d4c-b03e21cb9d9b div.sk-label label {font-family: monospace;font-weight: bold;background-color: white;display: inline-block;line-height: 1.2em;}#sk-9d99d811-3eba-44e8-9d4c-b03e21cb9d9b div.sk-label-container {position: relative;z-index: 2;text-align: center;}#sk-9d99d811-3eba-44e8-9d4c-b03e21cb9d9b div.sk-container {/* jupyter's `normalize.less` sets `[hidden] { display: none; }` but bootstrap.min.css set `[hidden] { display: none !important; }` so we also need the `!important` here to be able to override the default hidden behavior on the sphinx rendered scikit-learn.org. See: https://github.com/scikit-learn/scikit-learn/issues/21755 */display: inline-block !important;position: relative;}#sk-9d99d811-3eba-44e8-9d4c-b03e21cb9d9b div.sk-text-repr-fallback {display: none;}</style><div id=\"sk-9d99d811-3eba-44e8-9d4c-b03e21cb9d9b\" class=\"sk-top-container\"><div class=\"sk-text-repr-fallback\"><pre>ColumnTransformer(remainder=&#x27;passthrough&#x27;,\n",
              "                  transformers=[(&#x27;simpleimputer-1&#x27;, SimpleImputer(),\n",
              "                                 &lt;sklearn.compose._column_transformer.make_column_selector object at 0x7f0cebdb4190&gt;),\n",
              "                                (&#x27;simpleimputer-2&#x27;,\n",
              "                                 SimpleImputer(strategy=&#x27;most_frequent&#x27;),\n",
              "                                 &lt;sklearn.compose._column_transformer.make_column_selector object at 0x7f0cebdb4110&gt;)])</pre><b>Please rerun this cell to show the HTML repr or trust the notebook.</b></div><div class=\"sk-container\" hidden><div class=\"sk-item sk-dashed-wrapped\"><div class=\"sk-label-container\"><div class=\"sk-label sk-toggleable\"><input class=\"sk-toggleable__control sk-hidden--visually\" id=\"6c7209dc-ad5f-4623-9f28-d570c6a0f728\" type=\"checkbox\" ><label for=\"6c7209dc-ad5f-4623-9f28-d570c6a0f728\" class=\"sk-toggleable__label sk-toggleable__label-arrow\">ColumnTransformer</label><div class=\"sk-toggleable__content\"><pre>ColumnTransformer(remainder=&#x27;passthrough&#x27;,\n",
              "                  transformers=[(&#x27;simpleimputer-1&#x27;, SimpleImputer(),\n",
              "                                 &lt;sklearn.compose._column_transformer.make_column_selector object at 0x7f0cebdb4190&gt;),\n",
              "                                (&#x27;simpleimputer-2&#x27;,\n",
              "                                 SimpleImputer(strategy=&#x27;most_frequent&#x27;),\n",
              "                                 &lt;sklearn.compose._column_transformer.make_column_selector object at 0x7f0cebdb4110&gt;)])</pre></div></div></div><div class=\"sk-parallel\"><div class=\"sk-parallel-item\"><div class=\"sk-item\"><div class=\"sk-label-container\"><div class=\"sk-label sk-toggleable\"><input class=\"sk-toggleable__control sk-hidden--visually\" id=\"9e388795-e7da-4312-b71d-0fc4389655d5\" type=\"checkbox\" ><label for=\"9e388795-e7da-4312-b71d-0fc4389655d5\" class=\"sk-toggleable__label sk-toggleable__label-arrow\">simpleimputer-1</label><div class=\"sk-toggleable__content\"><pre>&lt;sklearn.compose._column_transformer.make_column_selector object at 0x7f0cebdb4190&gt;</pre></div></div></div><div class=\"sk-serial\"><div class=\"sk-item\"><div class=\"sk-estimator sk-toggleable\"><input class=\"sk-toggleable__control sk-hidden--visually\" id=\"96ddd6a0-5803-44e7-9230-a2b940612162\" type=\"checkbox\" ><label for=\"96ddd6a0-5803-44e7-9230-a2b940612162\" class=\"sk-toggleable__label sk-toggleable__label-arrow\">SimpleImputer</label><div class=\"sk-toggleable__content\"><pre>SimpleImputer()</pre></div></div></div></div></div></div><div class=\"sk-parallel-item\"><div class=\"sk-item\"><div class=\"sk-label-container\"><div class=\"sk-label sk-toggleable\"><input class=\"sk-toggleable__control sk-hidden--visually\" id=\"eac34cde-c8a6-4020-8f05-bf33819d984c\" type=\"checkbox\" ><label for=\"eac34cde-c8a6-4020-8f05-bf33819d984c\" class=\"sk-toggleable__label sk-toggleable__label-arrow\">simpleimputer-2</label><div class=\"sk-toggleable__content\"><pre>&lt;sklearn.compose._column_transformer.make_column_selector object at 0x7f0cebdb4110&gt;</pre></div></div></div><div class=\"sk-serial\"><div class=\"sk-item\"><div class=\"sk-estimator sk-toggleable\"><input class=\"sk-toggleable__control sk-hidden--visually\" id=\"59a72909-d6bc-4020-ab1b-81fd8949b4c3\" type=\"checkbox\" ><label for=\"59a72909-d6bc-4020-ab1b-81fd8949b4c3\" class=\"sk-toggleable__label sk-toggleable__label-arrow\">SimpleImputer</label><div class=\"sk-toggleable__content\"><pre>SimpleImputer(strategy=&#x27;most_frequent&#x27;)</pre></div></div></div></div></div></div><div class=\"sk-parallel-item\"><div class=\"sk-item\"><div class=\"sk-label-container\"><div class=\"sk-label sk-toggleable\"><input class=\"sk-toggleable__control sk-hidden--visually\" id=\"6f3f4390-2146-4a4a-91fa-78687abf599a\" type=\"checkbox\" ><label for=\"6f3f4390-2146-4a4a-91fa-78687abf599a\" class=\"sk-toggleable__label sk-toggleable__label-arrow\">remainder</label><div class=\"sk-toggleable__content\"><pre></pre></div></div></div><div class=\"sk-serial\"><div class=\"sk-item\"><div class=\"sk-estimator sk-toggleable\"><input class=\"sk-toggleable__control sk-hidden--visually\" id=\"bd3dfd57-78e2-40b6-980a-6bde00567191\" type=\"checkbox\" ><label for=\"bd3dfd57-78e2-40b6-980a-6bde00567191\" class=\"sk-toggleable__label sk-toggleable__label-arrow\">passthrough</label><div class=\"sk-toggleable__content\"><pre>passthrough</pre></div></div></div></div></div></div></div></div></div></div>"
            ]
          },
          "metadata": {},
          "execution_count": 18
        }
      ]
    },
    {
      "cell_type": "code",
      "source": [
        "col_transform.fit(X_train)\n",
        "X_train_imputed = col_transform.transform(X_train)\n",
        "X_test_imputed = col_transform.transform(X_test) \n",
        "X_train_imputed = pd.DataFrame(X_train_imputed, columns=X_train.columns)\n",
        "X_train_imputed.isna().sum()"
      ],
      "metadata": {
        "colab": {
          "base_uri": "https://localhost:8080/"
        },
        "id": "wgmInSNUzrPA",
        "outputId": "fda5937a-2b5f-46eb-eff4-b183390c6f6c"
      },
      "execution_count": null,
      "outputs": [
        {
          "output_type": "execute_result",
          "data": {
            "text/plain": [
              "Name            0\n",
              "Publisher       0\n",
              "NA_Sales        0\n",
              "EU_Sales        0\n",
              "JP_Sales        0\n",
              "Global_Sales    0\n",
              "Critic_Score    0\n",
              "User_Score      0\n",
              "dtype: int64"
            ]
          },
          "metadata": {},
          "execution_count": 19
        }
      ]
    },
    {
      "cell_type": "code",
      "source": [
        "Stan_Scale = StandardScaler(with_mean=False)\n",
        "OHE = OneHotEncoder(handle_unknown='ignore')"
      ],
      "metadata": {
        "id": "71shAHbLzvSw"
      },
      "execution_count": null,
      "outputs": []
    },
    {
      "cell_type": "code",
      "source": [
        "num_pipe = make_pipeline(mean_imputer, Stan_Scale)\n",
        "num_pipe"
      ],
      "metadata": {
        "colab": {
          "base_uri": "https://localhost:8080/",
          "height": 126
        },
        "id": "FlH46h_1zw3u",
        "outputId": "98e400e3-9b7f-4e32-ab5c-96ccbae7472b"
      },
      "execution_count": null,
      "outputs": [
        {
          "output_type": "execute_result",
          "data": {
            "text/plain": [
              "Pipeline(steps=[('simpleimputer', SimpleImputer()),\n",
              "                ('standardscaler', StandardScaler(with_mean=False))])"
            ],
            "text/html": [
              "<style>#sk-a6579fd7-a87d-4cbf-9b33-57f23f95ee99 {color: black;background-color: white;}#sk-a6579fd7-a87d-4cbf-9b33-57f23f95ee99 pre{padding: 0;}#sk-a6579fd7-a87d-4cbf-9b33-57f23f95ee99 div.sk-toggleable {background-color: white;}#sk-a6579fd7-a87d-4cbf-9b33-57f23f95ee99 label.sk-toggleable__label {cursor: pointer;display: block;width: 100%;margin-bottom: 0;padding: 0.3em;box-sizing: border-box;text-align: center;}#sk-a6579fd7-a87d-4cbf-9b33-57f23f95ee99 label.sk-toggleable__label-arrow:before {content: \"▸\";float: left;margin-right: 0.25em;color: #696969;}#sk-a6579fd7-a87d-4cbf-9b33-57f23f95ee99 label.sk-toggleable__label-arrow:hover:before {color: black;}#sk-a6579fd7-a87d-4cbf-9b33-57f23f95ee99 div.sk-estimator:hover label.sk-toggleable__label-arrow:before {color: black;}#sk-a6579fd7-a87d-4cbf-9b33-57f23f95ee99 div.sk-toggleable__content {max-height: 0;max-width: 0;overflow: hidden;text-align: left;background-color: #f0f8ff;}#sk-a6579fd7-a87d-4cbf-9b33-57f23f95ee99 div.sk-toggleable__content pre {margin: 0.2em;color: black;border-radius: 0.25em;background-color: #f0f8ff;}#sk-a6579fd7-a87d-4cbf-9b33-57f23f95ee99 input.sk-toggleable__control:checked~div.sk-toggleable__content {max-height: 200px;max-width: 100%;overflow: auto;}#sk-a6579fd7-a87d-4cbf-9b33-57f23f95ee99 input.sk-toggleable__control:checked~label.sk-toggleable__label-arrow:before {content: \"▾\";}#sk-a6579fd7-a87d-4cbf-9b33-57f23f95ee99 div.sk-estimator input.sk-toggleable__control:checked~label.sk-toggleable__label {background-color: #d4ebff;}#sk-a6579fd7-a87d-4cbf-9b33-57f23f95ee99 div.sk-label input.sk-toggleable__control:checked~label.sk-toggleable__label {background-color: #d4ebff;}#sk-a6579fd7-a87d-4cbf-9b33-57f23f95ee99 input.sk-hidden--visually {border: 0;clip: rect(1px 1px 1px 1px);clip: rect(1px, 1px, 1px, 1px);height: 1px;margin: -1px;overflow: hidden;padding: 0;position: absolute;width: 1px;}#sk-a6579fd7-a87d-4cbf-9b33-57f23f95ee99 div.sk-estimator {font-family: monospace;background-color: #f0f8ff;border: 1px dotted black;border-radius: 0.25em;box-sizing: border-box;margin-bottom: 0.5em;}#sk-a6579fd7-a87d-4cbf-9b33-57f23f95ee99 div.sk-estimator:hover {background-color: #d4ebff;}#sk-a6579fd7-a87d-4cbf-9b33-57f23f95ee99 div.sk-parallel-item::after {content: \"\";width: 100%;border-bottom: 1px solid gray;flex-grow: 1;}#sk-a6579fd7-a87d-4cbf-9b33-57f23f95ee99 div.sk-label:hover label.sk-toggleable__label {background-color: #d4ebff;}#sk-a6579fd7-a87d-4cbf-9b33-57f23f95ee99 div.sk-serial::before {content: \"\";position: absolute;border-left: 1px solid gray;box-sizing: border-box;top: 2em;bottom: 0;left: 50%;}#sk-a6579fd7-a87d-4cbf-9b33-57f23f95ee99 div.sk-serial {display: flex;flex-direction: column;align-items: center;background-color: white;padding-right: 0.2em;padding-left: 0.2em;}#sk-a6579fd7-a87d-4cbf-9b33-57f23f95ee99 div.sk-item {z-index: 1;}#sk-a6579fd7-a87d-4cbf-9b33-57f23f95ee99 div.sk-parallel {display: flex;align-items: stretch;justify-content: center;background-color: white;}#sk-a6579fd7-a87d-4cbf-9b33-57f23f95ee99 div.sk-parallel::before {content: \"\";position: absolute;border-left: 1px solid gray;box-sizing: border-box;top: 2em;bottom: 0;left: 50%;}#sk-a6579fd7-a87d-4cbf-9b33-57f23f95ee99 div.sk-parallel-item {display: flex;flex-direction: column;position: relative;background-color: white;}#sk-a6579fd7-a87d-4cbf-9b33-57f23f95ee99 div.sk-parallel-item:first-child::after {align-self: flex-end;width: 50%;}#sk-a6579fd7-a87d-4cbf-9b33-57f23f95ee99 div.sk-parallel-item:last-child::after {align-self: flex-start;width: 50%;}#sk-a6579fd7-a87d-4cbf-9b33-57f23f95ee99 div.sk-parallel-item:only-child::after {width: 0;}#sk-a6579fd7-a87d-4cbf-9b33-57f23f95ee99 div.sk-dashed-wrapped {border: 1px dashed gray;margin: 0 0.4em 0.5em 0.4em;box-sizing: border-box;padding-bottom: 0.4em;background-color: white;position: relative;}#sk-a6579fd7-a87d-4cbf-9b33-57f23f95ee99 div.sk-label label {font-family: monospace;font-weight: bold;background-color: white;display: inline-block;line-height: 1.2em;}#sk-a6579fd7-a87d-4cbf-9b33-57f23f95ee99 div.sk-label-container {position: relative;z-index: 2;text-align: center;}#sk-a6579fd7-a87d-4cbf-9b33-57f23f95ee99 div.sk-container {/* jupyter's `normalize.less` sets `[hidden] { display: none; }` but bootstrap.min.css set `[hidden] { display: none !important; }` so we also need the `!important` here to be able to override the default hidden behavior on the sphinx rendered scikit-learn.org. See: https://github.com/scikit-learn/scikit-learn/issues/21755 */display: inline-block !important;position: relative;}#sk-a6579fd7-a87d-4cbf-9b33-57f23f95ee99 div.sk-text-repr-fallback {display: none;}</style><div id=\"sk-a6579fd7-a87d-4cbf-9b33-57f23f95ee99\" class=\"sk-top-container\"><div class=\"sk-text-repr-fallback\"><pre>Pipeline(steps=[(&#x27;simpleimputer&#x27;, SimpleImputer()),\n",
              "                (&#x27;standardscaler&#x27;, StandardScaler(with_mean=False))])</pre><b>Please rerun this cell to show the HTML repr or trust the notebook.</b></div><div class=\"sk-container\" hidden><div class=\"sk-item sk-dashed-wrapped\"><div class=\"sk-label-container\"><div class=\"sk-label sk-toggleable\"><input class=\"sk-toggleable__control sk-hidden--visually\" id=\"d19e2c10-4f7d-47f7-a2f6-b6e610bfeef7\" type=\"checkbox\" ><label for=\"d19e2c10-4f7d-47f7-a2f6-b6e610bfeef7\" class=\"sk-toggleable__label sk-toggleable__label-arrow\">Pipeline</label><div class=\"sk-toggleable__content\"><pre>Pipeline(steps=[(&#x27;simpleimputer&#x27;, SimpleImputer()),\n",
              "                (&#x27;standardscaler&#x27;, StandardScaler(with_mean=False))])</pre></div></div></div><div class=\"sk-serial\"><div class=\"sk-item\"><div class=\"sk-estimator sk-toggleable\"><input class=\"sk-toggleable__control sk-hidden--visually\" id=\"981e5c4c-75c5-4a62-8980-0d494c4daea0\" type=\"checkbox\" ><label for=\"981e5c4c-75c5-4a62-8980-0d494c4daea0\" class=\"sk-toggleable__label sk-toggleable__label-arrow\">SimpleImputer</label><div class=\"sk-toggleable__content\"><pre>SimpleImputer()</pre></div></div></div><div class=\"sk-item\"><div class=\"sk-estimator sk-toggleable\"><input class=\"sk-toggleable__control sk-hidden--visually\" id=\"eedea78b-8d26-4a7e-b5f0-1dda75482cb8\" type=\"checkbox\" ><label for=\"eedea78b-8d26-4a7e-b5f0-1dda75482cb8\" class=\"sk-toggleable__label sk-toggleable__label-arrow\">StandardScaler</label><div class=\"sk-toggleable__content\"><pre>StandardScaler(with_mean=False)</pre></div></div></div></div></div></div></div>"
            ]
          },
          "metadata": {},
          "execution_count": 21
        }
      ]
    },
    {
      "cell_type": "code",
      "source": [
        "nom_pipe = make_pipeline(freq_imputer, OHE)\n",
        "nom_pipe"
      ],
      "metadata": {
        "colab": {
          "base_uri": "https://localhost:8080/",
          "height": 126
        },
        "id": "AFq9UW7mzzet",
        "outputId": "0977bc23-0802-433d-d97a-2541a044a527"
      },
      "execution_count": null,
      "outputs": [
        {
          "output_type": "execute_result",
          "data": {
            "text/plain": [
              "Pipeline(steps=[('simpleimputer', SimpleImputer(strategy='most_frequent')),\n",
              "                ('onehotencoder', OneHotEncoder(handle_unknown='ignore'))])"
            ],
            "text/html": [
              "<style>#sk-93ee0a61-273d-440f-a6f4-20b17a0d02c8 {color: black;background-color: white;}#sk-93ee0a61-273d-440f-a6f4-20b17a0d02c8 pre{padding: 0;}#sk-93ee0a61-273d-440f-a6f4-20b17a0d02c8 div.sk-toggleable {background-color: white;}#sk-93ee0a61-273d-440f-a6f4-20b17a0d02c8 label.sk-toggleable__label {cursor: pointer;display: block;width: 100%;margin-bottom: 0;padding: 0.3em;box-sizing: border-box;text-align: center;}#sk-93ee0a61-273d-440f-a6f4-20b17a0d02c8 label.sk-toggleable__label-arrow:before {content: \"▸\";float: left;margin-right: 0.25em;color: #696969;}#sk-93ee0a61-273d-440f-a6f4-20b17a0d02c8 label.sk-toggleable__label-arrow:hover:before {color: black;}#sk-93ee0a61-273d-440f-a6f4-20b17a0d02c8 div.sk-estimator:hover label.sk-toggleable__label-arrow:before {color: black;}#sk-93ee0a61-273d-440f-a6f4-20b17a0d02c8 div.sk-toggleable__content {max-height: 0;max-width: 0;overflow: hidden;text-align: left;background-color: #f0f8ff;}#sk-93ee0a61-273d-440f-a6f4-20b17a0d02c8 div.sk-toggleable__content pre {margin: 0.2em;color: black;border-radius: 0.25em;background-color: #f0f8ff;}#sk-93ee0a61-273d-440f-a6f4-20b17a0d02c8 input.sk-toggleable__control:checked~div.sk-toggleable__content {max-height: 200px;max-width: 100%;overflow: auto;}#sk-93ee0a61-273d-440f-a6f4-20b17a0d02c8 input.sk-toggleable__control:checked~label.sk-toggleable__label-arrow:before {content: \"▾\";}#sk-93ee0a61-273d-440f-a6f4-20b17a0d02c8 div.sk-estimator input.sk-toggleable__control:checked~label.sk-toggleable__label {background-color: #d4ebff;}#sk-93ee0a61-273d-440f-a6f4-20b17a0d02c8 div.sk-label input.sk-toggleable__control:checked~label.sk-toggleable__label {background-color: #d4ebff;}#sk-93ee0a61-273d-440f-a6f4-20b17a0d02c8 input.sk-hidden--visually {border: 0;clip: rect(1px 1px 1px 1px);clip: rect(1px, 1px, 1px, 1px);height: 1px;margin: -1px;overflow: hidden;padding: 0;position: absolute;width: 1px;}#sk-93ee0a61-273d-440f-a6f4-20b17a0d02c8 div.sk-estimator {font-family: monospace;background-color: #f0f8ff;border: 1px dotted black;border-radius: 0.25em;box-sizing: border-box;margin-bottom: 0.5em;}#sk-93ee0a61-273d-440f-a6f4-20b17a0d02c8 div.sk-estimator:hover {background-color: #d4ebff;}#sk-93ee0a61-273d-440f-a6f4-20b17a0d02c8 div.sk-parallel-item::after {content: \"\";width: 100%;border-bottom: 1px solid gray;flex-grow: 1;}#sk-93ee0a61-273d-440f-a6f4-20b17a0d02c8 div.sk-label:hover label.sk-toggleable__label {background-color: #d4ebff;}#sk-93ee0a61-273d-440f-a6f4-20b17a0d02c8 div.sk-serial::before {content: \"\";position: absolute;border-left: 1px solid gray;box-sizing: border-box;top: 2em;bottom: 0;left: 50%;}#sk-93ee0a61-273d-440f-a6f4-20b17a0d02c8 div.sk-serial {display: flex;flex-direction: column;align-items: center;background-color: white;padding-right: 0.2em;padding-left: 0.2em;}#sk-93ee0a61-273d-440f-a6f4-20b17a0d02c8 div.sk-item {z-index: 1;}#sk-93ee0a61-273d-440f-a6f4-20b17a0d02c8 div.sk-parallel {display: flex;align-items: stretch;justify-content: center;background-color: white;}#sk-93ee0a61-273d-440f-a6f4-20b17a0d02c8 div.sk-parallel::before {content: \"\";position: absolute;border-left: 1px solid gray;box-sizing: border-box;top: 2em;bottom: 0;left: 50%;}#sk-93ee0a61-273d-440f-a6f4-20b17a0d02c8 div.sk-parallel-item {display: flex;flex-direction: column;position: relative;background-color: white;}#sk-93ee0a61-273d-440f-a6f4-20b17a0d02c8 div.sk-parallel-item:first-child::after {align-self: flex-end;width: 50%;}#sk-93ee0a61-273d-440f-a6f4-20b17a0d02c8 div.sk-parallel-item:last-child::after {align-self: flex-start;width: 50%;}#sk-93ee0a61-273d-440f-a6f4-20b17a0d02c8 div.sk-parallel-item:only-child::after {width: 0;}#sk-93ee0a61-273d-440f-a6f4-20b17a0d02c8 div.sk-dashed-wrapped {border: 1px dashed gray;margin: 0 0.4em 0.5em 0.4em;box-sizing: border-box;padding-bottom: 0.4em;background-color: white;position: relative;}#sk-93ee0a61-273d-440f-a6f4-20b17a0d02c8 div.sk-label label {font-family: monospace;font-weight: bold;background-color: white;display: inline-block;line-height: 1.2em;}#sk-93ee0a61-273d-440f-a6f4-20b17a0d02c8 div.sk-label-container {position: relative;z-index: 2;text-align: center;}#sk-93ee0a61-273d-440f-a6f4-20b17a0d02c8 div.sk-container {/* jupyter's `normalize.less` sets `[hidden] { display: none; }` but bootstrap.min.css set `[hidden] { display: none !important; }` so we also need the `!important` here to be able to override the default hidden behavior on the sphinx rendered scikit-learn.org. See: https://github.com/scikit-learn/scikit-learn/issues/21755 */display: inline-block !important;position: relative;}#sk-93ee0a61-273d-440f-a6f4-20b17a0d02c8 div.sk-text-repr-fallback {display: none;}</style><div id=\"sk-93ee0a61-273d-440f-a6f4-20b17a0d02c8\" class=\"sk-top-container\"><div class=\"sk-text-repr-fallback\"><pre>Pipeline(steps=[(&#x27;simpleimputer&#x27;, SimpleImputer(strategy=&#x27;most_frequent&#x27;)),\n",
              "                (&#x27;onehotencoder&#x27;, OneHotEncoder(handle_unknown=&#x27;ignore&#x27;))])</pre><b>Please rerun this cell to show the HTML repr or trust the notebook.</b></div><div class=\"sk-container\" hidden><div class=\"sk-item sk-dashed-wrapped\"><div class=\"sk-label-container\"><div class=\"sk-label sk-toggleable\"><input class=\"sk-toggleable__control sk-hidden--visually\" id=\"6e9b9256-d5a8-4890-90d6-15eec1f19e6c\" type=\"checkbox\" ><label for=\"6e9b9256-d5a8-4890-90d6-15eec1f19e6c\" class=\"sk-toggleable__label sk-toggleable__label-arrow\">Pipeline</label><div class=\"sk-toggleable__content\"><pre>Pipeline(steps=[(&#x27;simpleimputer&#x27;, SimpleImputer(strategy=&#x27;most_frequent&#x27;)),\n",
              "                (&#x27;onehotencoder&#x27;, OneHotEncoder(handle_unknown=&#x27;ignore&#x27;))])</pre></div></div></div><div class=\"sk-serial\"><div class=\"sk-item\"><div class=\"sk-estimator sk-toggleable\"><input class=\"sk-toggleable__control sk-hidden--visually\" id=\"d65d2198-0b78-4bab-9dd3-c98aafd62950\" type=\"checkbox\" ><label for=\"d65d2198-0b78-4bab-9dd3-c98aafd62950\" class=\"sk-toggleable__label sk-toggleable__label-arrow\">SimpleImputer</label><div class=\"sk-toggleable__content\"><pre>SimpleImputer(strategy=&#x27;most_frequent&#x27;)</pre></div></div></div><div class=\"sk-item\"><div class=\"sk-estimator sk-toggleable\"><input class=\"sk-toggleable__control sk-hidden--visually\" id=\"21543344-a8e5-488c-ad9c-00746bfe729c\" type=\"checkbox\" ><label for=\"21543344-a8e5-488c-ad9c-00746bfe729c\" class=\"sk-toggleable__label sk-toggleable__label-arrow\">OneHotEncoder</label><div class=\"sk-toggleable__content\"><pre>OneHotEncoder(handle_unknown=&#x27;ignore&#x27;)</pre></div></div></div></div></div></div></div>"
            ]
          },
          "metadata": {},
          "execution_count": 22
        }
      ]
    },
    {
      "cell_type": "code",
      "source": [
        "num_tup_pro= (num_pipe,num_select)\n",
        "nom_tup_pro= (nom_pipe, cat_select)\n",
        "\n",
        "pre_pro = make_column_transformer(num_tup_pro, nom_tup_pro)\n",
        "pre_pro"
      ],
      "metadata": {
        "colab": {
          "base_uri": "https://localhost:8080/",
          "height": 152
        },
        "id": "ktLWpER002Nr",
        "outputId": "31f49991-9123-478c-cece-c72ccdee9c83"
      },
      "execution_count": null,
      "outputs": [
        {
          "output_type": "execute_result",
          "data": {
            "text/plain": [
              "ColumnTransformer(transformers=[('pipeline-1',\n",
              "                                 Pipeline(steps=[('simpleimputer',\n",
              "                                                  SimpleImputer()),\n",
              "                                                 ('standardscaler',\n",
              "                                                  StandardScaler(with_mean=False))]),\n",
              "                                 <sklearn.compose._column_transformer.make_column_selector object at 0x7f0cebdb4190>),\n",
              "                                ('pipeline-2',\n",
              "                                 Pipeline(steps=[('simpleimputer',\n",
              "                                                  SimpleImputer(strategy='most_frequent')),\n",
              "                                                 ('onehotencoder',\n",
              "                                                  OneHotEncoder(handle_unknown='ignore'))]),\n",
              "                                 <sklearn.compose._column_transformer.make_column_selector object at 0x7f0cebdb4110>)])"
            ],
            "text/html": [
              "<style>#sk-25463a05-4c47-4cb0-b414-74ad5456f712 {color: black;background-color: white;}#sk-25463a05-4c47-4cb0-b414-74ad5456f712 pre{padding: 0;}#sk-25463a05-4c47-4cb0-b414-74ad5456f712 div.sk-toggleable {background-color: white;}#sk-25463a05-4c47-4cb0-b414-74ad5456f712 label.sk-toggleable__label {cursor: pointer;display: block;width: 100%;margin-bottom: 0;padding: 0.3em;box-sizing: border-box;text-align: center;}#sk-25463a05-4c47-4cb0-b414-74ad5456f712 label.sk-toggleable__label-arrow:before {content: \"▸\";float: left;margin-right: 0.25em;color: #696969;}#sk-25463a05-4c47-4cb0-b414-74ad5456f712 label.sk-toggleable__label-arrow:hover:before {color: black;}#sk-25463a05-4c47-4cb0-b414-74ad5456f712 div.sk-estimator:hover label.sk-toggleable__label-arrow:before {color: black;}#sk-25463a05-4c47-4cb0-b414-74ad5456f712 div.sk-toggleable__content {max-height: 0;max-width: 0;overflow: hidden;text-align: left;background-color: #f0f8ff;}#sk-25463a05-4c47-4cb0-b414-74ad5456f712 div.sk-toggleable__content pre {margin: 0.2em;color: black;border-radius: 0.25em;background-color: #f0f8ff;}#sk-25463a05-4c47-4cb0-b414-74ad5456f712 input.sk-toggleable__control:checked~div.sk-toggleable__content {max-height: 200px;max-width: 100%;overflow: auto;}#sk-25463a05-4c47-4cb0-b414-74ad5456f712 input.sk-toggleable__control:checked~label.sk-toggleable__label-arrow:before {content: \"▾\";}#sk-25463a05-4c47-4cb0-b414-74ad5456f712 div.sk-estimator input.sk-toggleable__control:checked~label.sk-toggleable__label {background-color: #d4ebff;}#sk-25463a05-4c47-4cb0-b414-74ad5456f712 div.sk-label input.sk-toggleable__control:checked~label.sk-toggleable__label {background-color: #d4ebff;}#sk-25463a05-4c47-4cb0-b414-74ad5456f712 input.sk-hidden--visually {border: 0;clip: rect(1px 1px 1px 1px);clip: rect(1px, 1px, 1px, 1px);height: 1px;margin: -1px;overflow: hidden;padding: 0;position: absolute;width: 1px;}#sk-25463a05-4c47-4cb0-b414-74ad5456f712 div.sk-estimator {font-family: monospace;background-color: #f0f8ff;border: 1px dotted black;border-radius: 0.25em;box-sizing: border-box;margin-bottom: 0.5em;}#sk-25463a05-4c47-4cb0-b414-74ad5456f712 div.sk-estimator:hover {background-color: #d4ebff;}#sk-25463a05-4c47-4cb0-b414-74ad5456f712 div.sk-parallel-item::after {content: \"\";width: 100%;border-bottom: 1px solid gray;flex-grow: 1;}#sk-25463a05-4c47-4cb0-b414-74ad5456f712 div.sk-label:hover label.sk-toggleable__label {background-color: #d4ebff;}#sk-25463a05-4c47-4cb0-b414-74ad5456f712 div.sk-serial::before {content: \"\";position: absolute;border-left: 1px solid gray;box-sizing: border-box;top: 2em;bottom: 0;left: 50%;}#sk-25463a05-4c47-4cb0-b414-74ad5456f712 div.sk-serial {display: flex;flex-direction: column;align-items: center;background-color: white;padding-right: 0.2em;padding-left: 0.2em;}#sk-25463a05-4c47-4cb0-b414-74ad5456f712 div.sk-item {z-index: 1;}#sk-25463a05-4c47-4cb0-b414-74ad5456f712 div.sk-parallel {display: flex;align-items: stretch;justify-content: center;background-color: white;}#sk-25463a05-4c47-4cb0-b414-74ad5456f712 div.sk-parallel::before {content: \"\";position: absolute;border-left: 1px solid gray;box-sizing: border-box;top: 2em;bottom: 0;left: 50%;}#sk-25463a05-4c47-4cb0-b414-74ad5456f712 div.sk-parallel-item {display: flex;flex-direction: column;position: relative;background-color: white;}#sk-25463a05-4c47-4cb0-b414-74ad5456f712 div.sk-parallel-item:first-child::after {align-self: flex-end;width: 50%;}#sk-25463a05-4c47-4cb0-b414-74ad5456f712 div.sk-parallel-item:last-child::after {align-self: flex-start;width: 50%;}#sk-25463a05-4c47-4cb0-b414-74ad5456f712 div.sk-parallel-item:only-child::after {width: 0;}#sk-25463a05-4c47-4cb0-b414-74ad5456f712 div.sk-dashed-wrapped {border: 1px dashed gray;margin: 0 0.4em 0.5em 0.4em;box-sizing: border-box;padding-bottom: 0.4em;background-color: white;position: relative;}#sk-25463a05-4c47-4cb0-b414-74ad5456f712 div.sk-label label {font-family: monospace;font-weight: bold;background-color: white;display: inline-block;line-height: 1.2em;}#sk-25463a05-4c47-4cb0-b414-74ad5456f712 div.sk-label-container {position: relative;z-index: 2;text-align: center;}#sk-25463a05-4c47-4cb0-b414-74ad5456f712 div.sk-container {/* jupyter's `normalize.less` sets `[hidden] { display: none; }` but bootstrap.min.css set `[hidden] { display: none !important; }` so we also need the `!important` here to be able to override the default hidden behavior on the sphinx rendered scikit-learn.org. See: https://github.com/scikit-learn/scikit-learn/issues/21755 */display: inline-block !important;position: relative;}#sk-25463a05-4c47-4cb0-b414-74ad5456f712 div.sk-text-repr-fallback {display: none;}</style><div id=\"sk-25463a05-4c47-4cb0-b414-74ad5456f712\" class=\"sk-top-container\"><div class=\"sk-text-repr-fallback\"><pre>ColumnTransformer(transformers=[(&#x27;pipeline-1&#x27;,\n",
              "                                 Pipeline(steps=[(&#x27;simpleimputer&#x27;,\n",
              "                                                  SimpleImputer()),\n",
              "                                                 (&#x27;standardscaler&#x27;,\n",
              "                                                  StandardScaler(with_mean=False))]),\n",
              "                                 &lt;sklearn.compose._column_transformer.make_column_selector object at 0x7f0cebdb4190&gt;),\n",
              "                                (&#x27;pipeline-2&#x27;,\n",
              "                                 Pipeline(steps=[(&#x27;simpleimputer&#x27;,\n",
              "                                                  SimpleImputer(strategy=&#x27;most_frequent&#x27;)),\n",
              "                                                 (&#x27;onehotencoder&#x27;,\n",
              "                                                  OneHotEncoder(handle_unknown=&#x27;ignore&#x27;))]),\n",
              "                                 &lt;sklearn.compose._column_transformer.make_column_selector object at 0x7f0cebdb4110&gt;)])</pre><b>Please rerun this cell to show the HTML repr or trust the notebook.</b></div><div class=\"sk-container\" hidden><div class=\"sk-item sk-dashed-wrapped\"><div class=\"sk-label-container\"><div class=\"sk-label sk-toggleable\"><input class=\"sk-toggleable__control sk-hidden--visually\" id=\"ec1e6c2b-9a24-4ffd-a2e4-8a80264ba15f\" type=\"checkbox\" ><label for=\"ec1e6c2b-9a24-4ffd-a2e4-8a80264ba15f\" class=\"sk-toggleable__label sk-toggleable__label-arrow\">ColumnTransformer</label><div class=\"sk-toggleable__content\"><pre>ColumnTransformer(transformers=[(&#x27;pipeline-1&#x27;,\n",
              "                                 Pipeline(steps=[(&#x27;simpleimputer&#x27;,\n",
              "                                                  SimpleImputer()),\n",
              "                                                 (&#x27;standardscaler&#x27;,\n",
              "                                                  StandardScaler(with_mean=False))]),\n",
              "                                 &lt;sklearn.compose._column_transformer.make_column_selector object at 0x7f0cebdb4190&gt;),\n",
              "                                (&#x27;pipeline-2&#x27;,\n",
              "                                 Pipeline(steps=[(&#x27;simpleimputer&#x27;,\n",
              "                                                  SimpleImputer(strategy=&#x27;most_frequent&#x27;)),\n",
              "                                                 (&#x27;onehotencoder&#x27;,\n",
              "                                                  OneHotEncoder(handle_unknown=&#x27;ignore&#x27;))]),\n",
              "                                 &lt;sklearn.compose._column_transformer.make_column_selector object at 0x7f0cebdb4110&gt;)])</pre></div></div></div><div class=\"sk-parallel\"><div class=\"sk-parallel-item\"><div class=\"sk-item\"><div class=\"sk-label-container\"><div class=\"sk-label sk-toggleable\"><input class=\"sk-toggleable__control sk-hidden--visually\" id=\"acd362d5-60db-4b2c-bd4e-3097b3b8d9eb\" type=\"checkbox\" ><label for=\"acd362d5-60db-4b2c-bd4e-3097b3b8d9eb\" class=\"sk-toggleable__label sk-toggleable__label-arrow\">pipeline-1</label><div class=\"sk-toggleable__content\"><pre>&lt;sklearn.compose._column_transformer.make_column_selector object at 0x7f0cebdb4190&gt;</pre></div></div></div><div class=\"sk-serial\"><div class=\"sk-item\"><div class=\"sk-serial\"><div class=\"sk-item\"><div class=\"sk-estimator sk-toggleable\"><input class=\"sk-toggleable__control sk-hidden--visually\" id=\"b1a9bcd3-7194-443b-ab59-af2a9548ff3a\" type=\"checkbox\" ><label for=\"b1a9bcd3-7194-443b-ab59-af2a9548ff3a\" class=\"sk-toggleable__label sk-toggleable__label-arrow\">SimpleImputer</label><div class=\"sk-toggleable__content\"><pre>SimpleImputer()</pre></div></div></div><div class=\"sk-item\"><div class=\"sk-estimator sk-toggleable\"><input class=\"sk-toggleable__control sk-hidden--visually\" id=\"4a71337d-bd8d-48b3-979f-1c8210ca06b5\" type=\"checkbox\" ><label for=\"4a71337d-bd8d-48b3-979f-1c8210ca06b5\" class=\"sk-toggleable__label sk-toggleable__label-arrow\">StandardScaler</label><div class=\"sk-toggleable__content\"><pre>StandardScaler(with_mean=False)</pre></div></div></div></div></div></div></div></div><div class=\"sk-parallel-item\"><div class=\"sk-item\"><div class=\"sk-label-container\"><div class=\"sk-label sk-toggleable\"><input class=\"sk-toggleable__control sk-hidden--visually\" id=\"f2921cda-9676-45ed-b293-c349af21958d\" type=\"checkbox\" ><label for=\"f2921cda-9676-45ed-b293-c349af21958d\" class=\"sk-toggleable__label sk-toggleable__label-arrow\">pipeline-2</label><div class=\"sk-toggleable__content\"><pre>&lt;sklearn.compose._column_transformer.make_column_selector object at 0x7f0cebdb4110&gt;</pre></div></div></div><div class=\"sk-serial\"><div class=\"sk-item\"><div class=\"sk-serial\"><div class=\"sk-item\"><div class=\"sk-estimator sk-toggleable\"><input class=\"sk-toggleable__control sk-hidden--visually\" id=\"fd0ef5d3-c9ef-4c93-95e7-c67dd513c697\" type=\"checkbox\" ><label for=\"fd0ef5d3-c9ef-4c93-95e7-c67dd513c697\" class=\"sk-toggleable__label sk-toggleable__label-arrow\">SimpleImputer</label><div class=\"sk-toggleable__content\"><pre>SimpleImputer(strategy=&#x27;most_frequent&#x27;)</pre></div></div></div><div class=\"sk-item\"><div class=\"sk-estimator sk-toggleable\"><input class=\"sk-toggleable__control sk-hidden--visually\" id=\"d3f2e6c9-97da-4fdc-8567-29138ce64dd9\" type=\"checkbox\" ><label for=\"d3f2e6c9-97da-4fdc-8567-29138ce64dd9\" class=\"sk-toggleable__label sk-toggleable__label-arrow\">OneHotEncoder</label><div class=\"sk-toggleable__content\"><pre>OneHotEncoder(handle_unknown=&#x27;ignore&#x27;)</pre></div></div></div></div></div></div></div></div></div></div></div></div>"
            ]
          },
          "metadata": {},
          "execution_count": 23
        }
      ]
    },
    {
      "cell_type": "code",
      "source": [
        "pre_pro.fit(X_train)"
      ],
      "metadata": {
        "colab": {
          "base_uri": "https://localhost:8080/",
          "height": 152
        },
        "id": "1BRklC1Z1QWt",
        "outputId": "4d2a4951-d76b-4b74-e06b-4b048129be3a"
      },
      "execution_count": null,
      "outputs": [
        {
          "output_type": "execute_result",
          "data": {
            "text/plain": [
              "ColumnTransformer(transformers=[('pipeline-1',\n",
              "                                 Pipeline(steps=[('simpleimputer',\n",
              "                                                  SimpleImputer()),\n",
              "                                                 ('standardscaler',\n",
              "                                                  StandardScaler(with_mean=False))]),\n",
              "                                 <sklearn.compose._column_transformer.make_column_selector object at 0x7f0cebdb4190>),\n",
              "                                ('pipeline-2',\n",
              "                                 Pipeline(steps=[('simpleimputer',\n",
              "                                                  SimpleImputer(strategy='most_frequent')),\n",
              "                                                 ('onehotencoder',\n",
              "                                                  OneHotEncoder(handle_unknown='ignore'))]),\n",
              "                                 <sklearn.compose._column_transformer.make_column_selector object at 0x7f0cebdb4110>)])"
            ],
            "text/html": [
              "<style>#sk-9d112315-8483-4469-865e-7e27a653aab9 {color: black;background-color: white;}#sk-9d112315-8483-4469-865e-7e27a653aab9 pre{padding: 0;}#sk-9d112315-8483-4469-865e-7e27a653aab9 div.sk-toggleable {background-color: white;}#sk-9d112315-8483-4469-865e-7e27a653aab9 label.sk-toggleable__label {cursor: pointer;display: block;width: 100%;margin-bottom: 0;padding: 0.3em;box-sizing: border-box;text-align: center;}#sk-9d112315-8483-4469-865e-7e27a653aab9 label.sk-toggleable__label-arrow:before {content: \"▸\";float: left;margin-right: 0.25em;color: #696969;}#sk-9d112315-8483-4469-865e-7e27a653aab9 label.sk-toggleable__label-arrow:hover:before {color: black;}#sk-9d112315-8483-4469-865e-7e27a653aab9 div.sk-estimator:hover label.sk-toggleable__label-arrow:before {color: black;}#sk-9d112315-8483-4469-865e-7e27a653aab9 div.sk-toggleable__content {max-height: 0;max-width: 0;overflow: hidden;text-align: left;background-color: #f0f8ff;}#sk-9d112315-8483-4469-865e-7e27a653aab9 div.sk-toggleable__content pre {margin: 0.2em;color: black;border-radius: 0.25em;background-color: #f0f8ff;}#sk-9d112315-8483-4469-865e-7e27a653aab9 input.sk-toggleable__control:checked~div.sk-toggleable__content {max-height: 200px;max-width: 100%;overflow: auto;}#sk-9d112315-8483-4469-865e-7e27a653aab9 input.sk-toggleable__control:checked~label.sk-toggleable__label-arrow:before {content: \"▾\";}#sk-9d112315-8483-4469-865e-7e27a653aab9 div.sk-estimator input.sk-toggleable__control:checked~label.sk-toggleable__label {background-color: #d4ebff;}#sk-9d112315-8483-4469-865e-7e27a653aab9 div.sk-label input.sk-toggleable__control:checked~label.sk-toggleable__label {background-color: #d4ebff;}#sk-9d112315-8483-4469-865e-7e27a653aab9 input.sk-hidden--visually {border: 0;clip: rect(1px 1px 1px 1px);clip: rect(1px, 1px, 1px, 1px);height: 1px;margin: -1px;overflow: hidden;padding: 0;position: absolute;width: 1px;}#sk-9d112315-8483-4469-865e-7e27a653aab9 div.sk-estimator {font-family: monospace;background-color: #f0f8ff;border: 1px dotted black;border-radius: 0.25em;box-sizing: border-box;margin-bottom: 0.5em;}#sk-9d112315-8483-4469-865e-7e27a653aab9 div.sk-estimator:hover {background-color: #d4ebff;}#sk-9d112315-8483-4469-865e-7e27a653aab9 div.sk-parallel-item::after {content: \"\";width: 100%;border-bottom: 1px solid gray;flex-grow: 1;}#sk-9d112315-8483-4469-865e-7e27a653aab9 div.sk-label:hover label.sk-toggleable__label {background-color: #d4ebff;}#sk-9d112315-8483-4469-865e-7e27a653aab9 div.sk-serial::before {content: \"\";position: absolute;border-left: 1px solid gray;box-sizing: border-box;top: 2em;bottom: 0;left: 50%;}#sk-9d112315-8483-4469-865e-7e27a653aab9 div.sk-serial {display: flex;flex-direction: column;align-items: center;background-color: white;padding-right: 0.2em;padding-left: 0.2em;}#sk-9d112315-8483-4469-865e-7e27a653aab9 div.sk-item {z-index: 1;}#sk-9d112315-8483-4469-865e-7e27a653aab9 div.sk-parallel {display: flex;align-items: stretch;justify-content: center;background-color: white;}#sk-9d112315-8483-4469-865e-7e27a653aab9 div.sk-parallel::before {content: \"\";position: absolute;border-left: 1px solid gray;box-sizing: border-box;top: 2em;bottom: 0;left: 50%;}#sk-9d112315-8483-4469-865e-7e27a653aab9 div.sk-parallel-item {display: flex;flex-direction: column;position: relative;background-color: white;}#sk-9d112315-8483-4469-865e-7e27a653aab9 div.sk-parallel-item:first-child::after {align-self: flex-end;width: 50%;}#sk-9d112315-8483-4469-865e-7e27a653aab9 div.sk-parallel-item:last-child::after {align-self: flex-start;width: 50%;}#sk-9d112315-8483-4469-865e-7e27a653aab9 div.sk-parallel-item:only-child::after {width: 0;}#sk-9d112315-8483-4469-865e-7e27a653aab9 div.sk-dashed-wrapped {border: 1px dashed gray;margin: 0 0.4em 0.5em 0.4em;box-sizing: border-box;padding-bottom: 0.4em;background-color: white;position: relative;}#sk-9d112315-8483-4469-865e-7e27a653aab9 div.sk-label label {font-family: monospace;font-weight: bold;background-color: white;display: inline-block;line-height: 1.2em;}#sk-9d112315-8483-4469-865e-7e27a653aab9 div.sk-label-container {position: relative;z-index: 2;text-align: center;}#sk-9d112315-8483-4469-865e-7e27a653aab9 div.sk-container {/* jupyter's `normalize.less` sets `[hidden] { display: none; }` but bootstrap.min.css set `[hidden] { display: none !important; }` so we also need the `!important` here to be able to override the default hidden behavior on the sphinx rendered scikit-learn.org. See: https://github.com/scikit-learn/scikit-learn/issues/21755 */display: inline-block !important;position: relative;}#sk-9d112315-8483-4469-865e-7e27a653aab9 div.sk-text-repr-fallback {display: none;}</style><div id=\"sk-9d112315-8483-4469-865e-7e27a653aab9\" class=\"sk-top-container\"><div class=\"sk-text-repr-fallback\"><pre>ColumnTransformer(transformers=[(&#x27;pipeline-1&#x27;,\n",
              "                                 Pipeline(steps=[(&#x27;simpleimputer&#x27;,\n",
              "                                                  SimpleImputer()),\n",
              "                                                 (&#x27;standardscaler&#x27;,\n",
              "                                                  StandardScaler(with_mean=False))]),\n",
              "                                 &lt;sklearn.compose._column_transformer.make_column_selector object at 0x7f0cebdb4190&gt;),\n",
              "                                (&#x27;pipeline-2&#x27;,\n",
              "                                 Pipeline(steps=[(&#x27;simpleimputer&#x27;,\n",
              "                                                  SimpleImputer(strategy=&#x27;most_frequent&#x27;)),\n",
              "                                                 (&#x27;onehotencoder&#x27;,\n",
              "                                                  OneHotEncoder(handle_unknown=&#x27;ignore&#x27;))]),\n",
              "                                 &lt;sklearn.compose._column_transformer.make_column_selector object at 0x7f0cebdb4110&gt;)])</pre><b>Please rerun this cell to show the HTML repr or trust the notebook.</b></div><div class=\"sk-container\" hidden><div class=\"sk-item sk-dashed-wrapped\"><div class=\"sk-label-container\"><div class=\"sk-label sk-toggleable\"><input class=\"sk-toggleable__control sk-hidden--visually\" id=\"ae985f40-0977-460f-8785-3095c5da1163\" type=\"checkbox\" ><label for=\"ae985f40-0977-460f-8785-3095c5da1163\" class=\"sk-toggleable__label sk-toggleable__label-arrow\">ColumnTransformer</label><div class=\"sk-toggleable__content\"><pre>ColumnTransformer(transformers=[(&#x27;pipeline-1&#x27;,\n",
              "                                 Pipeline(steps=[(&#x27;simpleimputer&#x27;,\n",
              "                                                  SimpleImputer()),\n",
              "                                                 (&#x27;standardscaler&#x27;,\n",
              "                                                  StandardScaler(with_mean=False))]),\n",
              "                                 &lt;sklearn.compose._column_transformer.make_column_selector object at 0x7f0cebdb4190&gt;),\n",
              "                                (&#x27;pipeline-2&#x27;,\n",
              "                                 Pipeline(steps=[(&#x27;simpleimputer&#x27;,\n",
              "                                                  SimpleImputer(strategy=&#x27;most_frequent&#x27;)),\n",
              "                                                 (&#x27;onehotencoder&#x27;,\n",
              "                                                  OneHotEncoder(handle_unknown=&#x27;ignore&#x27;))]),\n",
              "                                 &lt;sklearn.compose._column_transformer.make_column_selector object at 0x7f0cebdb4110&gt;)])</pre></div></div></div><div class=\"sk-parallel\"><div class=\"sk-parallel-item\"><div class=\"sk-item\"><div class=\"sk-label-container\"><div class=\"sk-label sk-toggleable\"><input class=\"sk-toggleable__control sk-hidden--visually\" id=\"3e2d03c1-26bc-41c5-af9e-1b8fb8a7da30\" type=\"checkbox\" ><label for=\"3e2d03c1-26bc-41c5-af9e-1b8fb8a7da30\" class=\"sk-toggleable__label sk-toggleable__label-arrow\">pipeline-1</label><div class=\"sk-toggleable__content\"><pre>&lt;sklearn.compose._column_transformer.make_column_selector object at 0x7f0cebdb4190&gt;</pre></div></div></div><div class=\"sk-serial\"><div class=\"sk-item\"><div class=\"sk-serial\"><div class=\"sk-item\"><div class=\"sk-estimator sk-toggleable\"><input class=\"sk-toggleable__control sk-hidden--visually\" id=\"0a47a5c5-42b3-413c-b32e-05a318fb471c\" type=\"checkbox\" ><label for=\"0a47a5c5-42b3-413c-b32e-05a318fb471c\" class=\"sk-toggleable__label sk-toggleable__label-arrow\">SimpleImputer</label><div class=\"sk-toggleable__content\"><pre>SimpleImputer()</pre></div></div></div><div class=\"sk-item\"><div class=\"sk-estimator sk-toggleable\"><input class=\"sk-toggleable__control sk-hidden--visually\" id=\"5aa063f9-dab7-4421-8a0f-55cec7c3227d\" type=\"checkbox\" ><label for=\"5aa063f9-dab7-4421-8a0f-55cec7c3227d\" class=\"sk-toggleable__label sk-toggleable__label-arrow\">StandardScaler</label><div class=\"sk-toggleable__content\"><pre>StandardScaler(with_mean=False)</pre></div></div></div></div></div></div></div></div><div class=\"sk-parallel-item\"><div class=\"sk-item\"><div class=\"sk-label-container\"><div class=\"sk-label sk-toggleable\"><input class=\"sk-toggleable__control sk-hidden--visually\" id=\"123e6ddf-92f4-4a4f-926d-3b6e013612d5\" type=\"checkbox\" ><label for=\"123e6ddf-92f4-4a4f-926d-3b6e013612d5\" class=\"sk-toggleable__label sk-toggleable__label-arrow\">pipeline-2</label><div class=\"sk-toggleable__content\"><pre>&lt;sklearn.compose._column_transformer.make_column_selector object at 0x7f0cebdb4110&gt;</pre></div></div></div><div class=\"sk-serial\"><div class=\"sk-item\"><div class=\"sk-serial\"><div class=\"sk-item\"><div class=\"sk-estimator sk-toggleable\"><input class=\"sk-toggleable__control sk-hidden--visually\" id=\"269ffd8e-558a-4f0d-8a74-777e64bdc6ce\" type=\"checkbox\" ><label for=\"269ffd8e-558a-4f0d-8a74-777e64bdc6ce\" class=\"sk-toggleable__label sk-toggleable__label-arrow\">SimpleImputer</label><div class=\"sk-toggleable__content\"><pre>SimpleImputer(strategy=&#x27;most_frequent&#x27;)</pre></div></div></div><div class=\"sk-item\"><div class=\"sk-estimator sk-toggleable\"><input class=\"sk-toggleable__control sk-hidden--visually\" id=\"e2fdbfb1-0a45-444a-82bb-7f95b224c19d\" type=\"checkbox\" ><label for=\"e2fdbfb1-0a45-444a-82bb-7f95b224c19d\" class=\"sk-toggleable__label sk-toggleable__label-arrow\">OneHotEncoder</label><div class=\"sk-toggleable__content\"><pre>OneHotEncoder(handle_unknown=&#x27;ignore&#x27;)</pre></div></div></div></div></div></div></div></div></div></div></div></div>"
            ]
          },
          "metadata": {},
          "execution_count": 24
        }
      ]
    },
    {
      "cell_type": "code",
      "source": [
        "X_train_pro = pre_pro.transform(X_train)\n",
        "X_test_pro = pre_pro.transform(X_test)"
      ],
      "metadata": {
        "id": "Y-ZBoLuA1TEQ"
      },
      "execution_count": null,
      "outputs": []
    },
    {
      "cell_type": "code",
      "source": [
        "print(pd.isna(X_train_pro), 'missing values in training data')\n",
        "print(pd.isna(X_test_pro), 'missing values in testing data')\n",
        "print('\\n')\n",
        "print('All data in X_train_pro are', X_train_pro.dtype)\n",
        "print('All data in X_test_pro are', X_test_pro.dtype)\n",
        "print('\\n')\n",
        "print('shape of data is', X_train_pro.shape)\n",
        "print('\\n')\n",
        "X_train_pro"
      ],
      "metadata": {
        "colab": {
          "base_uri": "https://localhost:8080/"
        },
        "id": "_5_D8N9O1V2Z",
        "outputId": "f5498a93-50cc-48c8-b12a-22e9f742d9f0"
      },
      "execution_count": null,
      "outputs": [
        {
          "output_type": "stream",
          "name": "stdout",
          "text": [
            "False missing values in training data\n",
            "False missing values in testing data\n",
            "\n",
            "\n",
            "All data in X_train_pro are float64\n",
            "All data in X_test_pro are float64\n",
            "\n",
            "\n",
            "shape of data is (12539, 9820)\n",
            "\n",
            "\n"
          ]
        },
        {
          "output_type": "execute_result",
          "data": {
            "text/plain": [
              "<12539x9820 sparse matrix of type '<class 'numpy.float64'>'\n",
              "\twith 84621 stored elements in Compressed Sparse Row format>"
            ]
          },
          "metadata": {},
          "execution_count": 26
        }
      ]
    },
    {
      "cell_type": "markdown",
      "source": [
        "# ***Classification Models***"
      ],
      "metadata": {
        "id": "D0Fb0_81UtVD"
      }
    },
    {
      "cell_type": "markdown",
      "source": [
        "# Dummy"
      ],
      "metadata": {
        "id": "xJOg85MH4_b4"
      }
    },
    {
      "cell_type": "code",
      "source": [
        "dumC= DummyClassifier(random_state=42, strategy= 'most_frequent')\n",
        "dumC.get_params()"
      ],
      "metadata": {
        "colab": {
          "base_uri": "https://localhost:8080/"
        },
        "id": "kA-Y-CXF4_Ns",
        "outputId": "2301c1cc-9a92-44c3-8040-4a29fe2a4430"
      },
      "execution_count": null,
      "outputs": [
        {
          "output_type": "execute_result",
          "data": {
            "text/plain": [
              "{'constant': None, 'random_state': 42, 'strategy': 'most_frequent'}"
            ]
          },
          "metadata": {},
          "execution_count": 27
        }
      ]
    },
    {
      "cell_type": "code",
      "source": [
        "dumC.fit(X_train_pro, y_train)"
      ],
      "metadata": {
        "colab": {
          "base_uri": "https://localhost:8080/",
          "height": 75
        },
        "id": "7RhnWFus5VUn",
        "outputId": "c646f0b2-a6fb-432d-c755-1e26d9853578"
      },
      "execution_count": null,
      "outputs": [
        {
          "output_type": "execute_result",
          "data": {
            "text/plain": [
              "DummyClassifier(random_state=42, strategy='most_frequent')"
            ],
            "text/html": [
              "<style>#sk-f4e1fecf-49cf-49ed-9e6f-bab8b185d335 {color: black;background-color: white;}#sk-f4e1fecf-49cf-49ed-9e6f-bab8b185d335 pre{padding: 0;}#sk-f4e1fecf-49cf-49ed-9e6f-bab8b185d335 div.sk-toggleable {background-color: white;}#sk-f4e1fecf-49cf-49ed-9e6f-bab8b185d335 label.sk-toggleable__label {cursor: pointer;display: block;width: 100%;margin-bottom: 0;padding: 0.3em;box-sizing: border-box;text-align: center;}#sk-f4e1fecf-49cf-49ed-9e6f-bab8b185d335 label.sk-toggleable__label-arrow:before {content: \"▸\";float: left;margin-right: 0.25em;color: #696969;}#sk-f4e1fecf-49cf-49ed-9e6f-bab8b185d335 label.sk-toggleable__label-arrow:hover:before {color: black;}#sk-f4e1fecf-49cf-49ed-9e6f-bab8b185d335 div.sk-estimator:hover label.sk-toggleable__label-arrow:before {color: black;}#sk-f4e1fecf-49cf-49ed-9e6f-bab8b185d335 div.sk-toggleable__content {max-height: 0;max-width: 0;overflow: hidden;text-align: left;background-color: #f0f8ff;}#sk-f4e1fecf-49cf-49ed-9e6f-bab8b185d335 div.sk-toggleable__content pre {margin: 0.2em;color: black;border-radius: 0.25em;background-color: #f0f8ff;}#sk-f4e1fecf-49cf-49ed-9e6f-bab8b185d335 input.sk-toggleable__control:checked~div.sk-toggleable__content {max-height: 200px;max-width: 100%;overflow: auto;}#sk-f4e1fecf-49cf-49ed-9e6f-bab8b185d335 input.sk-toggleable__control:checked~label.sk-toggleable__label-arrow:before {content: \"▾\";}#sk-f4e1fecf-49cf-49ed-9e6f-bab8b185d335 div.sk-estimator input.sk-toggleable__control:checked~label.sk-toggleable__label {background-color: #d4ebff;}#sk-f4e1fecf-49cf-49ed-9e6f-bab8b185d335 div.sk-label input.sk-toggleable__control:checked~label.sk-toggleable__label {background-color: #d4ebff;}#sk-f4e1fecf-49cf-49ed-9e6f-bab8b185d335 input.sk-hidden--visually {border: 0;clip: rect(1px 1px 1px 1px);clip: rect(1px, 1px, 1px, 1px);height: 1px;margin: -1px;overflow: hidden;padding: 0;position: absolute;width: 1px;}#sk-f4e1fecf-49cf-49ed-9e6f-bab8b185d335 div.sk-estimator {font-family: monospace;background-color: #f0f8ff;border: 1px dotted black;border-radius: 0.25em;box-sizing: border-box;margin-bottom: 0.5em;}#sk-f4e1fecf-49cf-49ed-9e6f-bab8b185d335 div.sk-estimator:hover {background-color: #d4ebff;}#sk-f4e1fecf-49cf-49ed-9e6f-bab8b185d335 div.sk-parallel-item::after {content: \"\";width: 100%;border-bottom: 1px solid gray;flex-grow: 1;}#sk-f4e1fecf-49cf-49ed-9e6f-bab8b185d335 div.sk-label:hover label.sk-toggleable__label {background-color: #d4ebff;}#sk-f4e1fecf-49cf-49ed-9e6f-bab8b185d335 div.sk-serial::before {content: \"\";position: absolute;border-left: 1px solid gray;box-sizing: border-box;top: 2em;bottom: 0;left: 50%;}#sk-f4e1fecf-49cf-49ed-9e6f-bab8b185d335 div.sk-serial {display: flex;flex-direction: column;align-items: center;background-color: white;padding-right: 0.2em;padding-left: 0.2em;}#sk-f4e1fecf-49cf-49ed-9e6f-bab8b185d335 div.sk-item {z-index: 1;}#sk-f4e1fecf-49cf-49ed-9e6f-bab8b185d335 div.sk-parallel {display: flex;align-items: stretch;justify-content: center;background-color: white;}#sk-f4e1fecf-49cf-49ed-9e6f-bab8b185d335 div.sk-parallel::before {content: \"\";position: absolute;border-left: 1px solid gray;box-sizing: border-box;top: 2em;bottom: 0;left: 50%;}#sk-f4e1fecf-49cf-49ed-9e6f-bab8b185d335 div.sk-parallel-item {display: flex;flex-direction: column;position: relative;background-color: white;}#sk-f4e1fecf-49cf-49ed-9e6f-bab8b185d335 div.sk-parallel-item:first-child::after {align-self: flex-end;width: 50%;}#sk-f4e1fecf-49cf-49ed-9e6f-bab8b185d335 div.sk-parallel-item:last-child::after {align-self: flex-start;width: 50%;}#sk-f4e1fecf-49cf-49ed-9e6f-bab8b185d335 div.sk-parallel-item:only-child::after {width: 0;}#sk-f4e1fecf-49cf-49ed-9e6f-bab8b185d335 div.sk-dashed-wrapped {border: 1px dashed gray;margin: 0 0.4em 0.5em 0.4em;box-sizing: border-box;padding-bottom: 0.4em;background-color: white;position: relative;}#sk-f4e1fecf-49cf-49ed-9e6f-bab8b185d335 div.sk-label label {font-family: monospace;font-weight: bold;background-color: white;display: inline-block;line-height: 1.2em;}#sk-f4e1fecf-49cf-49ed-9e6f-bab8b185d335 div.sk-label-container {position: relative;z-index: 2;text-align: center;}#sk-f4e1fecf-49cf-49ed-9e6f-bab8b185d335 div.sk-container {/* jupyter's `normalize.less` sets `[hidden] { display: none; }` but bootstrap.min.css set `[hidden] { display: none !important; }` so we also need the `!important` here to be able to override the default hidden behavior on the sphinx rendered scikit-learn.org. See: https://github.com/scikit-learn/scikit-learn/issues/21755 */display: inline-block !important;position: relative;}#sk-f4e1fecf-49cf-49ed-9e6f-bab8b185d335 div.sk-text-repr-fallback {display: none;}</style><div id=\"sk-f4e1fecf-49cf-49ed-9e6f-bab8b185d335\" class=\"sk-top-container\"><div class=\"sk-text-repr-fallback\"><pre>DummyClassifier(random_state=42, strategy=&#x27;most_frequent&#x27;)</pre><b>Please rerun this cell to show the HTML repr or trust the notebook.</b></div><div class=\"sk-container\" hidden><div class=\"sk-item\"><div class=\"sk-estimator sk-toggleable\"><input class=\"sk-toggleable__control sk-hidden--visually\" id=\"2fc042da-d799-4d45-9b8e-735e5b27e633\" type=\"checkbox\" checked><label for=\"2fc042da-d799-4d45-9b8e-735e5b27e633\" class=\"sk-toggleable__label sk-toggleable__label-arrow\">DummyClassifier</label><div class=\"sk-toggleable__content\"><pre>DummyClassifier(random_state=42, strategy=&#x27;most_frequent&#x27;)</pre></div></div></div></div></div>"
            ]
          },
          "metadata": {},
          "execution_count": 28
        }
      ]
    },
    {
      "cell_type": "code",
      "source": [
        "dum_pred =dumC.predict(X_test_pro)"
      ],
      "metadata": {
        "id": "bIM0-UR35s5_"
      },
      "execution_count": null,
      "outputs": []
    },
    {
      "cell_type": "code",
      "source": [
        "train_scoredum = dumC.score(X_train_pro,y_train)\n",
        "test_scoredum = dumC.score(X_test_pro, y_test)\n",
        "print(train_scoredum)\n",
        "print(test_scoredum)"
      ],
      "metadata": {
        "colab": {
          "base_uri": "https://localhost:8080/"
        },
        "id": "pK7v7xlO5x_Z",
        "outputId": "61d505cb-6d32-490d-f4ae-eefdd1710dcc"
      },
      "execution_count": null,
      "outputs": [
        {
          "output_type": "stream",
          "name": "stdout",
          "text": [
            "0.12863864742004943\n",
            "0.12894736842105264\n"
          ]
        }
      ]
    },
    {
      "cell_type": "code",
      "source": [
        "accuracy_score(y_test,dum_pred)"
      ],
      "metadata": {
        "colab": {
          "base_uri": "https://localhost:8080/"
        },
        "id": "q_zhh7DA5zGQ",
        "outputId": "3c3bb5dd-55fa-416b-da14-6be3f8d8619c"
      },
      "execution_count": null,
      "outputs": [
        {
          "output_type": "execute_result",
          "data": {
            "text/plain": [
              "0.12894736842105264"
            ]
          },
          "metadata": {},
          "execution_count": 31
        }
      ]
    },
    {
      "cell_type": "code",
      "source": [
        "recall_score(y_test, dum_pred, average='weighted')"
      ],
      "metadata": {
        "id": "iaXAxEUi5398",
        "colab": {
          "base_uri": "https://localhost:8080/"
        },
        "outputId": "75e7910a-162f-44b6-c83e-376e8c7cc82b"
      },
      "execution_count": null,
      "outputs": [
        {
          "output_type": "execute_result",
          "data": {
            "text/plain": [
              "0.12894736842105264"
            ]
          },
          "metadata": {},
          "execution_count": 32
        }
      ]
    },
    {
      "cell_type": "code",
      "source": [
        "##i found this loop as well as the visual to help me consolidate my tuning of hyperparameters. here is my source #https://www.geeksforgeeks.org/ml-dummy-classifiers-using-sklearn/amp/\n",
        "strategies = ['most_frequent', 'stratified', 'uniform'] \n",
        "\n",
        "test_scores = [] \n",
        "\n",
        "for s in strategies: \n",
        "\n",
        "    if s =='constant': \n",
        "\n",
        "        dumC2 = DummyClassifier(strategy = s, random_state = 0)                    \n",
        "\n",
        "    else: \n",
        "\n",
        "        dumC2 = DummyClassifier(strategy = s, random_state = 0) \n",
        "\n",
        "    dumC2.fit(X_train_pro, y_train) \n",
        "\n",
        "    score = dumC2.score(X_test_pro, y_test) \n",
        "\n",
        "    test_scores.append(score)"
      ],
      "metadata": {
        "id": "bINJxaKp6r50"
      },
      "execution_count": null,
      "outputs": []
    },
    {
      "cell_type": "code",
      "source": [
        "Dum_class_plot = sns.stripplot(strategies, test_scores); \n",
        "\n",
        "Dum_class_plot.set(xlabel ='Strategy', ylabel ='Test Score') \n",
        "plt.show() "
      ],
      "metadata": {
        "id": "2AK9yUNl69aM",
        "colab": {
          "base_uri": "https://localhost:8080/",
          "height": 335
        },
        "outputId": "99fa6dd5-02c8-4ccf-8458-5f5968f13df4"
      },
      "execution_count": null,
      "outputs": [
        {
          "output_type": "stream",
          "name": "stderr",
          "text": [
            "/usr/local/lib/python3.7/dist-packages/seaborn/_decorators.py:43: FutureWarning: Pass the following variables as keyword args: x, y. From version 0.12, the only valid positional argument will be `data`, and passing other arguments without an explicit keyword will result in an error or misinterpretation.\n",
            "  FutureWarning\n"
          ]
        },
        {
          "output_type": "display_data",
          "data": {
            "text/plain": [
              "<Figure size 432x288 with 1 Axes>"
            ],
            "image/png": "[encoded data removed]"
          },
          "metadata": {
            "needs_background": "light"
          }
        }
      ]
    },
    {
      "cell_type": "markdown",
      "source": [
        "# Decision Tree Classifier"
      ],
      "metadata": {
        "id": "fnC90QLt4-wi"
      }
    },
    {
      "cell_type": "code",
      "source": [
        "dec_tree = DecisionTreeClassifier(random_state = 42, max_depth=2) "
      ],
      "metadata": {
        "id": "sYv0j23x1p7q"
      },
      "execution_count": null,
      "outputs": []
    },
    {
      "cell_type": "code",
      "source": [
        "dec_tree.get_params() "
      ],
      "metadata": {
        "id": "OI1QRksZ2Ucb",
        "colab": {
          "base_uri": "https://localhost:8080/"
        },
        "outputId": "03f3f658-897a-447a-d6f1-f2a54d908d2f"
      },
      "execution_count": null,
      "outputs": [
        {
          "output_type": "execute_result",
          "data": {
            "text/plain": [
              "{'ccp_alpha': 0.0,\n",
              " 'class_weight': None,\n",
              " 'criterion': 'gini',\n",
              " 'max_depth': 2,\n",
              " 'max_features': None,\n",
              " 'max_leaf_nodes': None,\n",
              " 'min_impurity_decrease': 0.0,\n",
              " 'min_samples_leaf': 1,\n",
              " 'min_samples_split': 2,\n",
              " 'min_weight_fraction_leaf': 0.0,\n",
              " 'random_state': 42,\n",
              " 'splitter': 'best'}"
            ]
          },
          "metadata": {},
          "execution_count": 36
        }
      ]
    },
    {
      "cell_type": "code",
      "source": [
        "dec_tree.fit(X_train_pro, y_train)"
      ],
      "metadata": {
        "id": "kubv94602YDh",
        "colab": {
          "base_uri": "https://localhost:8080/",
          "height": 75
        },
        "outputId": "6538d05f-ca93-440d-b24e-79840703019b"
      },
      "execution_count": null,
      "outputs": [
        {
          "output_type": "execute_result",
          "data": {
            "text/plain": [
              "DecisionTreeClassifier(max_depth=2, random_state=42)"
            ],
            "text/html": [
              "<style>#sk-f0901440-c22f-48b1-9ca0-7c2a49f3bc59 {color: black;background-color: white;}#sk-f0901440-c22f-48b1-9ca0-7c2a49f3bc59 pre{padding: 0;}#sk-f0901440-c22f-48b1-9ca0-7c2a49f3bc59 div.sk-toggleable {background-color: white;}#sk-f0901440-c22f-48b1-9ca0-7c2a49f3bc59 label.sk-toggleable__label {cursor: pointer;display: block;width: 100%;margin-bottom: 0;padding: 0.3em;box-sizing: border-box;text-align: center;}#sk-f0901440-c22f-48b1-9ca0-7c2a49f3bc59 label.sk-toggleable__label-arrow:before {content: \"▸\";float: left;margin-right: 0.25em;color: #696969;}#sk-f0901440-c22f-48b1-9ca0-7c2a49f3bc59 label.sk-toggleable__label-arrow:hover:before {color: black;}#sk-f0901440-c22f-48b1-9ca0-7c2a49f3bc59 div.sk-estimator:hover label.sk-toggleable__label-arrow:before {color: black;}#sk-f0901440-c22f-48b1-9ca0-7c2a49f3bc59 div.sk-toggleable__content {max-height: 0;max-width: 0;overflow: hidden;text-align: left;background-color: #f0f8ff;}#sk-f0901440-c22f-48b1-9ca0-7c2a49f3bc59 div.sk-toggleable__content pre {margin: 0.2em;color: black;border-radius: 0.25em;background-color: #f0f8ff;}#sk-f0901440-c22f-48b1-9ca0-7c2a49f3bc59 input.sk-toggleable__control:checked~div.sk-toggleable__content {max-height: 200px;max-width: 100%;overflow: auto;}#sk-f0901440-c22f-48b1-9ca0-7c2a49f3bc59 input.sk-toggleable__control:checked~label.sk-toggleable__label-arrow:before {content: \"▾\";}#sk-f0901440-c22f-48b1-9ca0-7c2a49f3bc59 div.sk-estimator input.sk-toggleable__control:checked~label.sk-toggleable__label {background-color: #d4ebff;}#sk-f0901440-c22f-48b1-9ca0-7c2a49f3bc59 div.sk-label input.sk-toggleable__control:checked~label.sk-toggleable__label {background-color: #d4ebff;}#sk-f0901440-c22f-48b1-9ca0-7c2a49f3bc59 input.sk-hidden--visually {border: 0;clip: rect(1px 1px 1px 1px);clip: rect(1px, 1px, 1px, 1px);height: 1px;margin: -1px;overflow: hidden;padding: 0;position: absolute;width: 1px;}#sk-f0901440-c22f-48b1-9ca0-7c2a49f3bc59 div.sk-estimator {font-family: monospace;background-color: #f0f8ff;border: 1px dotted black;border-radius: 0.25em;box-sizing: border-box;margin-bottom: 0.5em;}#sk-f0901440-c22f-48b1-9ca0-7c2a49f3bc59 div.sk-estimator:hover {background-color: #d4ebff;}#sk-f0901440-c22f-48b1-9ca0-7c2a49f3bc59 div.sk-parallel-item::after {content: \"\";width: 100%;border-bottom: 1px solid gray;flex-grow: 1;}#sk-f0901440-c22f-48b1-9ca0-7c2a49f3bc59 div.sk-label:hover label.sk-toggleable__label {background-color: #d4ebff;}#sk-f0901440-c22f-48b1-9ca0-7c2a49f3bc59 div.sk-serial::before {content: \"\";position: absolute;border-left: 1px solid gray;box-sizing: border-box;top: 2em;bottom: 0;left: 50%;}#sk-f0901440-c22f-48b1-9ca0-7c2a49f3bc59 div.sk-serial {display: flex;flex-direction: column;align-items: center;background-color: white;padding-right: 0.2em;padding-left: 0.2em;}#sk-f0901440-c22f-48b1-9ca0-7c2a49f3bc59 div.sk-item {z-index: 1;}#sk-f0901440-c22f-48b1-9ca0-7c2a49f3bc59 div.sk-parallel {display: flex;align-items: stretch;justify-content: center;background-color: white;}#sk-f0901440-c22f-48b1-9ca0-7c2a49f3bc59 div.sk-parallel::before {content: \"\";position: absolute;border-left: 1px solid gray;box-sizing: border-box;top: 2em;bottom: 0;left: 50%;}#sk-f0901440-c22f-48b1-9ca0-7c2a49f3bc59 div.sk-parallel-item {display: flex;flex-direction: column;position: relative;background-color: white;}#sk-f0901440-c22f-48b1-9ca0-7c2a49f3bc59 div.sk-parallel-item:first-child::after {align-self: flex-end;width: 50%;}#sk-f0901440-c22f-48b1-9ca0-7c2a49f3bc59 div.sk-parallel-item:last-child::after {align-self: flex-start;width: 50%;}#sk-f0901440-c22f-48b1-9ca0-7c2a49f3bc59 div.sk-parallel-item:only-child::after {width: 0;}#sk-f0901440-c22f-48b1-9ca0-7c2a49f3bc59 div.sk-dashed-wrapped {border: 1px dashed gray;margin: 0 0.4em 0.5em 0.4em;box-sizing: border-box;padding-bottom: 0.4em;background-color: white;position: relative;}#sk-f0901440-c22f-48b1-9ca0-7c2a49f3bc59 div.sk-label label {font-family: monospace;font-weight: bold;background-color: white;display: inline-block;line-height: 1.2em;}#sk-f0901440-c22f-48b1-9ca0-7c2a49f3bc59 div.sk-label-container {position: relative;z-index: 2;text-align: center;}#sk-f0901440-c22f-48b1-9ca0-7c2a49f3bc59 div.sk-container {/* jupyter's `normalize.less` sets `[hidden] { display: none; }` but bootstrap.min.css set `[hidden] { display: none !important; }` so we also need the `!important` here to be able to override the default hidden behavior on the sphinx rendered scikit-learn.org. See: https://github.com/scikit-learn/scikit-learn/issues/21755 */display: inline-block !important;position: relative;}#sk-f0901440-c22f-48b1-9ca0-7c2a49f3bc59 div.sk-text-repr-fallback {display: none;}</style><div id=\"sk-f0901440-c22f-48b1-9ca0-7c2a49f3bc59\" class=\"sk-top-container\"><div class=\"sk-text-repr-fallback\"><pre>DecisionTreeClassifier(max_depth=2, random_state=42)</pre><b>Please rerun this cell to show the HTML repr or trust the notebook.</b></div><div class=\"sk-container\" hidden><div class=\"sk-item\"><div class=\"sk-estimator sk-toggleable\"><input class=\"sk-toggleable__control sk-hidden--visually\" id=\"547020c2-c4e7-457d-85b7-6a66bce112f6\" type=\"checkbox\" checked><label for=\"547020c2-c4e7-457d-85b7-6a66bce112f6\" class=\"sk-toggleable__label sk-toggleable__label-arrow\">DecisionTreeClassifier</label><div class=\"sk-toggleable__content\"><pre>DecisionTreeClassifier(max_depth=2, random_state=42)</pre></div></div></div></div></div>"
            ]
          },
          "metadata": {},
          "execution_count": 37
        }
      ]
    },
    {
      "cell_type": "code",
      "source": [
        "dec_pred= dec_tree.predict(X_test_pro)"
      ],
      "metadata": {
        "id": "mS5k71SF2aLE"
      },
      "execution_count": null,
      "outputs": []
    },
    {
      "cell_type": "code",
      "source": [
        "train_scoringtree = dec_tree.score(X_train_pro,y_train)\n",
        "test_scoringtree = dec_tree.score(X_test_pro, y_test)\n",
        "print(train_scoringtree)\n",
        "print(test_scoringtree)"
      ],
      "metadata": {
        "id": "V-WBEFyx2b8M",
        "colab": {
          "base_uri": "https://localhost:8080/"
        },
        "outputId": "5a44d3e7-08f4-400f-d583-c6d82578333e"
      },
      "execution_count": null,
      "outputs": [
        {
          "output_type": "stream",
          "name": "stdout",
          "text": [
            "0.21955498843607943\n",
            "0.2160287081339713\n"
          ]
        }
      ]
    },
    {
      "cell_type": "code",
      "source": [
        "print(classification_report(y_test, dec_pred))"
      ],
      "metadata": {
        "id": "GftCn5UC2in5",
        "colab": {
          "base_uri": "https://localhost:8080/"
        },
        "outputId": "58429415-c1db-431b-f157-7f531a7b3e68"
      },
      "execution_count": null,
      "outputs": [
        {
          "output_type": "stream",
          "name": "stdout",
          "text": [
            "              precision    recall  f1-score   support\n",
            "\n",
            "        2600       0.00      0.00      0.00        32\n",
            "         3DO       0.00      0.00      0.00         1\n",
            "         3DS       0.00      0.00      0.00       150\n",
            "          DC       0.00      0.00      0.00        10\n",
            "          DS       0.38      0.37      0.38       539\n",
            "          GB       0.00      0.00      0.00        24\n",
            "         GBA       0.00      0.00      0.00       207\n",
            "          GC       0.00      0.00      0.00       143\n",
            "         GEN       0.00      0.00      0.00         6\n",
            "         N64       0.00      0.00      0.00        87\n",
            "         NES       0.00      0.00      0.00        20\n",
            "          NG       0.00      0.00      0.00         3\n",
            "          PC       0.44      0.67      0.53       225\n",
            "          PS       0.00      0.00      0.00       301\n",
            "         PS2       0.17      0.72      0.28       561\n",
            "         PS3       0.00      0.00      0.00       344\n",
            "         PS4       0.00      0.00      0.00       103\n",
            "         PSP       0.16      0.54      0.24       274\n",
            "         PSV       0.00      0.00      0.00        99\n",
            "         SAT       0.00      0.00      0.00        41\n",
            "         SCD       0.00      0.00      0.00         1\n",
            "        SNES       0.00      0.00      0.00        64\n",
            "        TG16       0.00      0.00      0.00         1\n",
            "          WS       0.00      0.00      0.00         1\n",
            "         Wii       0.00      0.00      0.00       331\n",
            "        WiiU       0.00      0.00      0.00        40\n",
            "        X360       0.00      0.00      0.00       323\n",
            "          XB       0.00      0.00      0.00       183\n",
            "        XOne       0.00      0.00      0.00        66\n",
            "\n",
            "    accuracy                           0.22      4180\n",
            "   macro avg       0.04      0.08      0.05      4180\n",
            "weighted avg       0.11      0.22      0.13      4180\n",
            "\n"
          ]
        },
        {
          "output_type": "stream",
          "name": "stderr",
          "text": [
            "/usr/local/lib/python3.7/dist-packages/sklearn/metrics/_classification.py:1318: UndefinedMetricWarning: Precision and F-score are ill-defined and being set to 0.0 in labels with no predicted samples. Use `zero_division` parameter to control this behavior.\n",
            "  _warn_prf(average, modifier, msg_start, len(result))\n",
            "/usr/local/lib/python3.7/dist-packages/sklearn/metrics/_classification.py:1318: UndefinedMetricWarning: Precision and F-score are ill-defined and being set to 0.0 in labels with no predicted samples. Use `zero_division` parameter to control this behavior.\n",
            "  _warn_prf(average, modifier, msg_start, len(result))\n",
            "/usr/local/lib/python3.7/dist-packages/sklearn/metrics/_classification.py:1318: UndefinedMetricWarning: Precision and F-score are ill-defined and being set to 0.0 in labels with no predicted samples. Use `zero_division` parameter to control this behavior.\n",
            "  _warn_prf(average, modifier, msg_start, len(result))\n"
          ]
        }
      ]
    },
    {
      "cell_type": "code",
      "source": [
        "model = DecisionTreeClassifier()                 ## checking multiple hyperparameters similtaneously \n",
        " \n",
        "param_grid = {'max_depth': [1,2,3],\n",
        "              'min_samples_leaf': [3,15,20],\n",
        "              'min_samples_split': [2, 10, 100]}"
      ],
      "metadata": {
        "id": "glBF0g-v2o2B"
      },
      "execution_count": null,
      "outputs": []
    },
    {
      "cell_type": "code",
      "source": [
        "dt_grid_search = GridSearchCV(model, param_grid)"
      ],
      "metadata": {
        "id": "s08d2jAl2rue"
      },
      "execution_count": null,
      "outputs": []
    },
    {
      "cell_type": "code",
      "source": [
        "dt_grid_search.fit(X_train_pro, y_train)"
      ],
      "metadata": {
        "colab": {
          "base_uri": "https://localhost:8080/",
          "height": 147
        },
        "id": "eb6bGw343LKJ",
        "outputId": "4552c9a3-8faf-4838-d83c-33b94dd8c0b6"
      },
      "execution_count": null,
      "outputs": [
        {
          "output_type": "stream",
          "name": "stderr",
          "text": [
            "/usr/local/lib/python3.7/dist-packages/sklearn/model_selection/_split.py:680: UserWarning: The least populated class in y has only 1 members, which is less than n_splits=5.\n",
            "  UserWarning,\n"
          ]
        },
        {
          "output_type": "execute_result",
          "data": {
            "text/plain": [
              "GridSearchCV(estimator=DecisionTreeClassifier(),\n",
              "             param_grid={'max_depth': [1, 2, 3],\n",
              "                         'min_samples_leaf': [3, 15, 20],\n",
              "                         'min_samples_split': [2, 10, 100]})"
            ],
            "text/html": [
              "<style>#sk-63dfb895-9532-48ae-ab9c-5fc9dbc6ef16 {color: black;background-color: white;}#sk-63dfb895-9532-48ae-ab9c-5fc9dbc6ef16 pre{padding: 0;}#sk-63dfb895-9532-48ae-ab9c-5fc9dbc6ef16 div.sk-toggleable {background-color: white;}#sk-63dfb895-9532-48ae-ab9c-5fc9dbc6ef16 label.sk-toggleable__label {cursor: pointer;display: block;width: 100%;margin-bottom: 0;padding: 0.3em;box-sizing: border-box;text-align: center;}#sk-63dfb895-9532-48ae-ab9c-5fc9dbc6ef16 label.sk-toggleable__label-arrow:before {content: \"▸\";float: left;margin-right: 0.25em;color: #696969;}#sk-63dfb895-9532-48ae-ab9c-5fc9dbc6ef16 label.sk-toggleable__label-arrow:hover:before {color: black;}#sk-63dfb895-9532-48ae-ab9c-5fc9dbc6ef16 div.sk-estimator:hover label.sk-toggleable__label-arrow:before {color: black;}#sk-63dfb895-9532-48ae-ab9c-5fc9dbc6ef16 div.sk-toggleable__content {max-height: 0;max-width: 0;overflow: hidden;text-align: left;background-color: #f0f8ff;}#sk-63dfb895-9532-48ae-ab9c-5fc9dbc6ef16 div.sk-toggleable__content pre {margin: 0.2em;color: black;border-radius: 0.25em;background-color: #f0f8ff;}#sk-63dfb895-9532-48ae-ab9c-5fc9dbc6ef16 input.sk-toggleable__control:checked~div.sk-toggleable__content {max-height: 200px;max-width: 100%;overflow: auto;}#sk-63dfb895-9532-48ae-ab9c-5fc9dbc6ef16 input.sk-toggleable__control:checked~label.sk-toggleable__label-arrow:before {content: \"▾\";}#sk-63dfb895-9532-48ae-ab9c-5fc9dbc6ef16 div.sk-estimator input.sk-toggleable__control:checked~label.sk-toggleable__label {background-color: #d4ebff;}#sk-63dfb895-9532-48ae-ab9c-5fc9dbc6ef16 div.sk-label input.sk-toggleable__control:checked~label.sk-toggleable__label {background-color: #d4ebff;}#sk-63dfb895-9532-48ae-ab9c-5fc9dbc6ef16 input.sk-hidden--visually {border: 0;clip: rect(1px 1px 1px 1px);clip: rect(1px, 1px, 1px, 1px);height: 1px;margin: -1px;overflow: hidden;padding: 0;position: absolute;width: 1px;}#sk-63dfb895-9532-48ae-ab9c-5fc9dbc6ef16 div.sk-estimator {font-family: monospace;background-color: #f0f8ff;border: 1px dotted black;border-radius: 0.25em;box-sizing: border-box;margin-bottom: 0.5em;}#sk-63dfb895-9532-48ae-ab9c-5fc9dbc6ef16 div.sk-estimator:hover {background-color: #d4ebff;}#sk-63dfb895-9532-48ae-ab9c-5fc9dbc6ef16 div.sk-parallel-item::after {content: \"\";width: 100%;border-bottom: 1px solid gray;flex-grow: 1;}#sk-63dfb895-9532-48ae-ab9c-5fc9dbc6ef16 div.sk-label:hover label.sk-toggleable__label {background-color: #d4ebff;}#sk-63dfb895-9532-48ae-ab9c-5fc9dbc6ef16 div.sk-serial::before {content: \"\";position: absolute;border-left: 1px solid gray;box-sizing: border-box;top: 2em;bottom: 0;left: 50%;}#sk-63dfb895-9532-48ae-ab9c-5fc9dbc6ef16 div.sk-serial {display: flex;flex-direction: column;align-items: center;background-color: white;padding-right: 0.2em;padding-left: 0.2em;}#sk-63dfb895-9532-48ae-ab9c-5fc9dbc6ef16 div.sk-item {z-index: 1;}#sk-63dfb895-9532-48ae-ab9c-5fc9dbc6ef16 div.sk-parallel {display: flex;align-items: stretch;justify-content: center;background-color: white;}#sk-63dfb895-9532-48ae-ab9c-5fc9dbc6ef16 div.sk-parallel::before {content: \"\";position: absolute;border-left: 1px solid gray;box-sizing: border-box;top: 2em;bottom: 0;left: 50%;}#sk-63dfb895-9532-48ae-ab9c-5fc9dbc6ef16 div.sk-parallel-item {display: flex;flex-direction: column;position: relative;background-color: white;}#sk-63dfb895-9532-48ae-ab9c-5fc9dbc6ef16 div.sk-parallel-item:first-child::after {align-self: flex-end;width: 50%;}#sk-63dfb895-9532-48ae-ab9c-5fc9dbc6ef16 div.sk-parallel-item:last-child::after {align-self: flex-start;width: 50%;}#sk-63dfb895-9532-48ae-ab9c-5fc9dbc6ef16 div.sk-parallel-item:only-child::after {width: 0;}#sk-63dfb895-9532-48ae-ab9c-5fc9dbc6ef16 div.sk-dashed-wrapped {border: 1px dashed gray;margin: 0 0.4em 0.5em 0.4em;box-sizing: border-box;padding-bottom: 0.4em;background-color: white;position: relative;}#sk-63dfb895-9532-48ae-ab9c-5fc9dbc6ef16 div.sk-label label {font-family: monospace;font-weight: bold;background-color: white;display: inline-block;line-height: 1.2em;}#sk-63dfb895-9532-48ae-ab9c-5fc9dbc6ef16 div.sk-label-container {position: relative;z-index: 2;text-align: center;}#sk-63dfb895-9532-48ae-ab9c-5fc9dbc6ef16 div.sk-container {/* jupyter's `normalize.less` sets `[hidden] { display: none; }` but bootstrap.min.css set `[hidden] { display: none !important; }` so we also need the `!important` here to be able to override the default hidden behavior on the sphinx rendered scikit-learn.org. See: https://github.com/scikit-learn/scikit-learn/issues/21755 */display: inline-block !important;position: relative;}#sk-63dfb895-9532-48ae-ab9c-5fc9dbc6ef16 div.sk-text-repr-fallback {display: none;}</style><div id=\"sk-63dfb895-9532-48ae-ab9c-5fc9dbc6ef16\" class=\"sk-top-container\"><div class=\"sk-text-repr-fallback\"><pre>GridSearchCV(estimator=DecisionTreeClassifier(),\n",
              "             param_grid={&#x27;max_depth&#x27;: [1, 2, 3],\n",
              "                         &#x27;min_samples_leaf&#x27;: [3, 15, 20],\n",
              "                         &#x27;min_samples_split&#x27;: [2, 10, 100]})</pre><b>Please rerun this cell to show the HTML repr or trust the notebook.</b></div><div class=\"sk-container\" hidden><div class=\"sk-item sk-dashed-wrapped\"><div class=\"sk-label-container\"><div class=\"sk-label sk-toggleable\"><input class=\"sk-toggleable__control sk-hidden--visually\" id=\"69f722a9-287a-4ea0-bb19-80d47640e40c\" type=\"checkbox\" ><label for=\"69f722a9-287a-4ea0-bb19-80d47640e40c\" class=\"sk-toggleable__label sk-toggleable__label-arrow\">GridSearchCV</label><div class=\"sk-toggleable__content\"><pre>GridSearchCV(estimator=DecisionTreeClassifier(),\n",
              "             param_grid={&#x27;max_depth&#x27;: [1, 2, 3],\n",
              "                         &#x27;min_samples_leaf&#x27;: [3, 15, 20],\n",
              "                         &#x27;min_samples_split&#x27;: [2, 10, 100]})</pre></div></div></div><div class=\"sk-parallel\"><div class=\"sk-parallel-item\"><div class=\"sk-item\"><div class=\"sk-serial\"><div class=\"sk-item\"><div class=\"sk-estimator sk-toggleable\"><input class=\"sk-toggleable__control sk-hidden--visually\" id=\"0f060fd6-8057-46d3-bedf-f1141fecc4be\" type=\"checkbox\" ><label for=\"0f060fd6-8057-46d3-bedf-f1141fecc4be\" class=\"sk-toggleable__label sk-toggleable__label-arrow\">DecisionTreeClassifier</label><div class=\"sk-toggleable__content\"><pre>DecisionTreeClassifier()</pre></div></div></div></div></div></div></div></div></div></div>"
            ]
          },
          "metadata": {},
          "execution_count": 43
        }
      ]
    },
    {
      "cell_type": "code",
      "source": [
        "dt_grid_search.best_params_"
      ],
      "metadata": {
        "id": "6XTan8Y02uNJ",
        "outputId": "a59f9b53-9e7c-46ce-9d89-b27a6c0a0792",
        "colab": {
          "base_uri": "https://localhost:8080/"
        }
      },
      "execution_count": null,
      "outputs": [
        {
          "output_type": "execute_result",
          "data": {
            "text/plain": [
              "{'max_depth': 3, 'min_samples_leaf': 3, 'min_samples_split': 2}"
            ]
          },
          "metadata": {},
          "execution_count": 44
        }
      ]
    },
    {
      "cell_type": "code",
      "source": [
        "param_grid2 = {'max_depth': [3, 5, 10],\n",
        "              'min_samples_leaf': [1, 2, 3],\n",
        "              'min_samples_split': [2, 4, 7]}\n",
        " \n",
        "dt_grid_search2 = GridSearchCV(model, param_grid2)\n",
        "dt_grid_search2.fit(X_train_pro, y_train)\n",
        "dt_grid_search2.best_params_"
      ],
      "metadata": {
        "id": "Scigrmrv3fkS",
        "outputId": "1afe57df-3fb5-42a3-8a61-75fd2716fa5a",
        "colab": {
          "base_uri": "https://localhost:8080/"
        }
      },
      "execution_count": null,
      "outputs": [
        {
          "output_type": "stream",
          "name": "stderr",
          "text": [
            "/usr/local/lib/python3.7/dist-packages/sklearn/model_selection/_split.py:680: UserWarning: The least populated class in y has only 1 members, which is less than n_splits=5.\n",
            "  UserWarning,\n"
          ]
        },
        {
          "output_type": "execute_result",
          "data": {
            "text/plain": [
              "{'max_depth': 10, 'min_samples_leaf': 1, 'min_samples_split': 2}"
            ]
          },
          "metadata": {},
          "execution_count": 45
        }
      ]
    },
    {
      "cell_type": "code",
      "source": [
        "best_model = dt_grid_search2.best_estimator_\n",
        "best_model.fit(X_train_pro, y_train)\n",
        "best_model.score(X_test_pro, y_test)"
      ],
      "metadata": {
        "id": "EUXgy4Vi3bEv",
        "colab": {
          "base_uri": "https://localhost:8080/"
        },
        "outputId": "a712f784-caa7-4410-cb72-d98a640c34f0"
      },
      "execution_count": null,
      "outputs": [
        {
          "output_type": "execute_result",
          "data": {
            "text/plain": [
              "0.32392344497607656"
            ]
          },
          "metadata": {},
          "execution_count": 46
        }
      ]
    },
    {
      "cell_type": "markdown",
      "source": [
        "# KNN "
      ],
      "metadata": {
        "id": "J4t3m6o772g7"
      }
    },
    {
      "cell_type": "code",
      "source": [
        "knn = KNeighborsClassifier(n_neighbors=1)"
      ],
      "metadata": {
        "id": "Uk1nLDZz75ti"
      },
      "execution_count": null,
      "outputs": []
    },
    {
      "cell_type": "code",
      "source": [
        "knn.get_params()"
      ],
      "metadata": {
        "id": "WIBpi0pR776b",
        "colab": {
          "base_uri": "https://localhost:8080/"
        },
        "outputId": "ea5987c7-b0c0-4ada-a970-2506ece252e4"
      },
      "execution_count": null,
      "outputs": [
        {
          "output_type": "execute_result",
          "data": {
            "text/plain": [
              "{'algorithm': 'auto',\n",
              " 'leaf_size': 30,\n",
              " 'metric': 'minkowski',\n",
              " 'metric_params': None,\n",
              " 'n_jobs': None,\n",
              " 'n_neighbors': 1,\n",
              " 'p': 2,\n",
              " 'weights': 'uniform'}"
            ]
          },
          "metadata": {},
          "execution_count": 48
        }
      ]
    },
    {
      "cell_type": "code",
      "source": [
        "knn_pipe = make_pipeline(Stan_Scale, knn)\n",
        "knn_pipe.fit(X_train_pro, y_train)"
      ],
      "metadata": {
        "id": "sKqvGlH37-U_",
        "colab": {
          "base_uri": "https://localhost:8080/",
          "height": 126
        },
        "outputId": "865c6f9f-6a75-4361-8a99-d3f7bceb6355"
      },
      "execution_count": null,
      "outputs": [
        {
          "output_type": "execute_result",
          "data": {
            "text/plain": [
              "Pipeline(steps=[('standardscaler', StandardScaler(with_mean=False)),\n",
              "                ('kneighborsclassifier', KNeighborsClassifier(n_neighbors=1))])"
            ],
            "text/html": [
              "<style>#sk-a9047f98-e9d2-491f-8195-70231323fd05 {color: black;background-color: white;}#sk-a9047f98-e9d2-491f-8195-70231323fd05 pre{padding: 0;}#sk-a9047f98-e9d2-491f-8195-70231323fd05 div.sk-toggleable {background-color: white;}#sk-a9047f98-e9d2-491f-8195-70231323fd05 label.sk-toggleable__label {cursor: pointer;display: block;width: 100%;margin-bottom: 0;padding: 0.3em;box-sizing: border-box;text-align: center;}#sk-a9047f98-e9d2-491f-8195-70231323fd05 label.sk-toggleable__label-arrow:before {content: \"▸\";float: left;margin-right: 0.25em;color: #696969;}#sk-a9047f98-e9d2-491f-8195-70231323fd05 label.sk-toggleable__label-arrow:hover:before {color: black;}#sk-a9047f98-e9d2-491f-8195-70231323fd05 div.sk-estimator:hover label.sk-toggleable__label-arrow:before {color: black;}#sk-a9047f98-e9d2-491f-8195-70231323fd05 div.sk-toggleable__content {max-height: 0;max-width: 0;overflow: hidden;text-align: left;background-color: #f0f8ff;}#sk-a9047f98-e9d2-491f-8195-70231323fd05 div.sk-toggleable__content pre {margin: 0.2em;color: black;border-radius: 0.25em;background-color: #f0f8ff;}#sk-a9047f98-e9d2-491f-8195-70231323fd05 input.sk-toggleable__control:checked~div.sk-toggleable__content {max-height: 200px;max-width: 100%;overflow: auto;}#sk-a9047f98-e9d2-491f-8195-70231323fd05 input.sk-toggleable__control:checked~label.sk-toggleable__label-arrow:before {content: \"▾\";}#sk-a9047f98-e9d2-491f-8195-70231323fd05 div.sk-estimator input.sk-toggleable__control:checked~label.sk-toggleable__label {background-color: #d4ebff;}#sk-a9047f98-e9d2-491f-8195-70231323fd05 div.sk-label input.sk-toggleable__control:checked~label.sk-toggleable__label {background-color: #d4ebff;}#sk-a9047f98-e9d2-491f-8195-70231323fd05 input.sk-hidden--visually {border: 0;clip: rect(1px 1px 1px 1px);clip: rect(1px, 1px, 1px, 1px);height: 1px;margin: -1px;overflow: hidden;padding: 0;position: absolute;width: 1px;}#sk-a9047f98-e9d2-491f-8195-70231323fd05 div.sk-estimator {font-family: monospace;background-color: #f0f8ff;border: 1px dotted black;border-radius: 0.25em;box-sizing: border-box;margin-bottom: 0.5em;}#sk-a9047f98-e9d2-491f-8195-70231323fd05 div.sk-estimator:hover {background-color: #d4ebff;}#sk-a9047f98-e9d2-491f-8195-70231323fd05 div.sk-parallel-item::after {content: \"\";width: 100%;border-bottom: 1px solid gray;flex-grow: 1;}#sk-a9047f98-e9d2-491f-8195-70231323fd05 div.sk-label:hover label.sk-toggleable__label {background-color: #d4ebff;}#sk-a9047f98-e9d2-491f-8195-70231323fd05 div.sk-serial::before {content: \"\";position: absolute;border-left: 1px solid gray;box-sizing: border-box;top: 2em;bottom: 0;left: 50%;}#sk-a9047f98-e9d2-491f-8195-70231323fd05 div.sk-serial {display: flex;flex-direction: column;align-items: center;background-color: white;padding-right: 0.2em;padding-left: 0.2em;}#sk-a9047f98-e9d2-491f-8195-70231323fd05 div.sk-item {z-index: 1;}#sk-a9047f98-e9d2-491f-8195-70231323fd05 div.sk-parallel {display: flex;align-items: stretch;justify-content: center;background-color: white;}#sk-a9047f98-e9d2-491f-8195-70231323fd05 div.sk-parallel::before {content: \"\";position: absolute;border-left: 1px solid gray;box-sizing: border-box;top: 2em;bottom: 0;left: 50%;}#sk-a9047f98-e9d2-491f-8195-70231323fd05 div.sk-parallel-item {display: flex;flex-direction: column;position: relative;background-color: white;}#sk-a9047f98-e9d2-491f-8195-70231323fd05 div.sk-parallel-item:first-child::after {align-self: flex-end;width: 50%;}#sk-a9047f98-e9d2-491f-8195-70231323fd05 div.sk-parallel-item:last-child::after {align-self: flex-start;width: 50%;}#sk-a9047f98-e9d2-491f-8195-70231323fd05 div.sk-parallel-item:only-child::after {width: 0;}#sk-a9047f98-e9d2-491f-8195-70231323fd05 div.sk-dashed-wrapped {border: 1px dashed gray;margin: 0 0.4em 0.5em 0.4em;box-sizing: border-box;padding-bottom: 0.4em;background-color: white;position: relative;}#sk-a9047f98-e9d2-491f-8195-70231323fd05 div.sk-label label {font-family: monospace;font-weight: bold;background-color: white;display: inline-block;line-height: 1.2em;}#sk-a9047f98-e9d2-491f-8195-70231323fd05 div.sk-label-container {position: relative;z-index: 2;text-align: center;}#sk-a9047f98-e9d2-491f-8195-70231323fd05 div.sk-container {/* jupyter's `normalize.less` sets `[hidden] { display: none; }` but bootstrap.min.css set `[hidden] { display: none !important; }` so we also need the `!important` here to be able to override the default hidden behavior on the sphinx rendered scikit-learn.org. See: https://github.com/scikit-learn/scikit-learn/issues/21755 */display: inline-block !important;position: relative;}#sk-a9047f98-e9d2-491f-8195-70231323fd05 div.sk-text-repr-fallback {display: none;}</style><div id=\"sk-a9047f98-e9d2-491f-8195-70231323fd05\" class=\"sk-top-container\"><div class=\"sk-text-repr-fallback\"><pre>Pipeline(steps=[(&#x27;standardscaler&#x27;, StandardScaler(with_mean=False)),\n",
              "                (&#x27;kneighborsclassifier&#x27;, KNeighborsClassifier(n_neighbors=1))])</pre><b>Please rerun this cell to show the HTML repr or trust the notebook.</b></div><div class=\"sk-container\" hidden><div class=\"sk-item sk-dashed-wrapped\"><div class=\"sk-label-container\"><div class=\"sk-label sk-toggleable\"><input class=\"sk-toggleable__control sk-hidden--visually\" id=\"41ca3ef4-8fbb-43d1-b21a-d3ba377b646e\" type=\"checkbox\" ><label for=\"41ca3ef4-8fbb-43d1-b21a-d3ba377b646e\" class=\"sk-toggleable__label sk-toggleable__label-arrow\">Pipeline</label><div class=\"sk-toggleable__content\"><pre>Pipeline(steps=[(&#x27;standardscaler&#x27;, StandardScaler(with_mean=False)),\n",
              "                (&#x27;kneighborsclassifier&#x27;, KNeighborsClassifier(n_neighbors=1))])</pre></div></div></div><div class=\"sk-serial\"><div class=\"sk-item\"><div class=\"sk-estimator sk-toggleable\"><input class=\"sk-toggleable__control sk-hidden--visually\" id=\"77e00f78-0e79-4064-bfce-2a8c8fb9b0bd\" type=\"checkbox\" ><label for=\"77e00f78-0e79-4064-bfce-2a8c8fb9b0bd\" class=\"sk-toggleable__label sk-toggleable__label-arrow\">StandardScaler</label><div class=\"sk-toggleable__content\"><pre>StandardScaler(with_mean=False)</pre></div></div></div><div class=\"sk-item\"><div class=\"sk-estimator sk-toggleable\"><input class=\"sk-toggleable__control sk-hidden--visually\" id=\"b7d535dd-0eca-41bc-bac5-c5324e48bd7e\" type=\"checkbox\" ><label for=\"b7d535dd-0eca-41bc-bac5-c5324e48bd7e\" class=\"sk-toggleable__label sk-toggleable__label-arrow\">KNeighborsClassifier</label><div class=\"sk-toggleable__content\"><pre>KNeighborsClassifier(n_neighbors=1)</pre></div></div></div></div></div></div></div>"
            ]
          },
          "metadata": {},
          "execution_count": 49
        }
      ]
    },
    {
      "cell_type": "code",
      "source": [
        "predictions = knn_pipe.predict(X_test_pro)\n",
        "predictions"
      ],
      "metadata": {
        "id": "DXQUb6Ju8pv-",
        "colab": {
          "base_uri": "https://localhost:8080/"
        },
        "outputId": "dfd04f38-31d9-41b1-d8ba-cc8e83333070"
      },
      "execution_count": null,
      "outputs": [
        {
          "output_type": "execute_result",
          "data": {
            "text/plain": [
              "array(['PS2', 'WiiU', 'PC', ..., '3DS', 'WiiU', 'PS2'], dtype=object)"
            ]
          },
          "metadata": {},
          "execution_count": 50
        }
      ]
    },
    {
      "cell_type": "code",
      "source": [
        "acc_score = knn_pipe.score(X_test_pro, y_test)\n",
        "acc_score"
      ],
      "metadata": {
        "id": "ywuux9MW8zn9",
        "colab": {
          "base_uri": "https://localhost:8080/"
        },
        "outputId": "8eda4b30-ea11-4daf-b3ab-bc1fc4e23da3"
      },
      "execution_count": null,
      "outputs": [
        {
          "output_type": "execute_result",
          "data": {
            "text/plain": [
              "0.02631578947368421"
            ]
          },
          "metadata": {},
          "execution_count": 51
        }
      ]
    },
    {
      "cell_type": "markdown",
      "source": [
        "#PCA"
      ],
      "metadata": {
        "id": "fVj8AyKX_wD7"
      }
    },
    {
      "cell_type": "code",
      "source": [
        "scaled_df = Stan_Scale.fit_transform(X_test_pro)"
      ],
      "metadata": {
        "id": "sZJWY7i5_kHC"
      },
      "execution_count": null,
      "outputs": []
    },
    {
      "cell_type": "code",
      "source": [
        "ohe_2 = OneHotEncoder(handle_unknown='ignore', sparse=False)\n",
        "Spar_pipe = make_pipeline(freq_imputer, ohe_2) ## creating new pipe with different rules to handle PCA\n",
        "Spar_pipe"
      ],
      "metadata": {
        "id": "5e1u0Thx6noo",
        "colab": {
          "base_uri": "https://localhost:8080/",
          "height": 126
        },
        "outputId": "fcf32820-a05e-4630-c833-0a031c021842"
      },
      "execution_count": null,
      "outputs": [
        {
          "output_type": "execute_result",
          "data": {
            "text/plain": [
              "Pipeline(steps=[('simpleimputer', SimpleImputer(strategy='most_frequent')),\n",
              "                ('onehotencoder',\n",
              "                 OneHotEncoder(handle_unknown='ignore', sparse=False))])"
            ],
            "text/html": [
              "<style>#sk-67ec9945-bc71-4052-8ec5-61544def4a09 {color: black;background-color: white;}#sk-67ec9945-bc71-4052-8ec5-61544def4a09 pre{padding: 0;}#sk-67ec9945-bc71-4052-8ec5-61544def4a09 div.sk-toggleable {background-color: white;}#sk-67ec9945-bc71-4052-8ec5-61544def4a09 label.sk-toggleable__label {cursor: pointer;display: block;width: 100%;margin-bottom: 0;padding: 0.3em;box-sizing: border-box;text-align: center;}#sk-67ec9945-bc71-4052-8ec5-61544def4a09 label.sk-toggleable__label-arrow:before {content: \"▸\";float: left;margin-right: 0.25em;color: #696969;}#sk-67ec9945-bc71-4052-8ec5-61544def4a09 label.sk-toggleable__label-arrow:hover:before {color: black;}#sk-67ec9945-bc71-4052-8ec5-61544def4a09 div.sk-estimator:hover label.sk-toggleable__label-arrow:before {color: black;}#sk-67ec9945-bc71-4052-8ec5-61544def4a09 div.sk-toggleable__content {max-height: 0;max-width: 0;overflow: hidden;text-align: left;background-color: #f0f8ff;}#sk-67ec9945-bc71-4052-8ec5-61544def4a09 div.sk-toggleable__content pre {margin: 0.2em;color: black;border-radius: 0.25em;background-color: #f0f8ff;}#sk-67ec9945-bc71-4052-8ec5-61544def4a09 input.sk-toggleable__control:checked~div.sk-toggleable__content {max-height: 200px;max-width: 100%;overflow: auto;}#sk-67ec9945-bc71-4052-8ec5-61544def4a09 input.sk-toggleable__control:checked~label.sk-toggleable__label-arrow:before {content: \"▾\";}#sk-67ec9945-bc71-4052-8ec5-61544def4a09 div.sk-estimator input.sk-toggleable__control:checked~label.sk-toggleable__label {background-color: #d4ebff;}#sk-67ec9945-bc71-4052-8ec5-61544def4a09 div.sk-label input.sk-toggleable__control:checked~label.sk-toggleable__label {background-color: #d4ebff;}#sk-67ec9945-bc71-4052-8ec5-61544def4a09 input.sk-hidden--visually {border: 0;clip: rect(1px 1px 1px 1px);clip: rect(1px, 1px, 1px, 1px);height: 1px;margin: -1px;overflow: hidden;padding: 0;position: absolute;width: 1px;}#sk-67ec9945-bc71-4052-8ec5-61544def4a09 div.sk-estimator {font-family: monospace;background-color: #f0f8ff;border: 1px dotted black;border-radius: 0.25em;box-sizing: border-box;margin-bottom: 0.5em;}#sk-67ec9945-bc71-4052-8ec5-61544def4a09 div.sk-estimator:hover {background-color: #d4ebff;}#sk-67ec9945-bc71-4052-8ec5-61544def4a09 div.sk-parallel-item::after {content: \"\";width: 100%;border-bottom: 1px solid gray;flex-grow: 1;}#sk-67ec9945-bc71-4052-8ec5-61544def4a09 div.sk-label:hover label.sk-toggleable__label {background-color: #d4ebff;}#sk-67ec9945-bc71-4052-8ec5-61544def4a09 div.sk-serial::before {content: \"\";position: absolute;border-left: 1px solid gray;box-sizing: border-box;top: 2em;bottom: 0;left: 50%;}#sk-67ec9945-bc71-4052-8ec5-61544def4a09 div.sk-serial {display: flex;flex-direction: column;align-items: center;background-color: white;padding-right: 0.2em;padding-left: 0.2em;}#sk-67ec9945-bc71-4052-8ec5-61544def4a09 div.sk-item {z-index: 1;}#sk-67ec9945-bc71-4052-8ec5-61544def4a09 div.sk-parallel {display: flex;align-items: stretch;justify-content: center;background-color: white;}#sk-67ec9945-bc71-4052-8ec5-61544def4a09 div.sk-parallel::before {content: \"\";position: absolute;border-left: 1px solid gray;box-sizing: border-box;top: 2em;bottom: 0;left: 50%;}#sk-67ec9945-bc71-4052-8ec5-61544def4a09 div.sk-parallel-item {display: flex;flex-direction: column;position: relative;background-color: white;}#sk-67ec9945-bc71-4052-8ec5-61544def4a09 div.sk-parallel-item:first-child::after {align-self: flex-end;width: 50%;}#sk-67ec9945-bc71-4052-8ec5-61544def4a09 div.sk-parallel-item:last-child::after {align-self: flex-start;width: 50%;}#sk-67ec9945-bc71-4052-8ec5-61544def4a09 div.sk-parallel-item:only-child::after {width: 0;}#sk-67ec9945-bc71-4052-8ec5-61544def4a09 div.sk-dashed-wrapped {border: 1px dashed gray;margin: 0 0.4em 0.5em 0.4em;box-sizing: border-box;padding-bottom: 0.4em;background-color: white;position: relative;}#sk-67ec9945-bc71-4052-8ec5-61544def4a09 div.sk-label label {font-family: monospace;font-weight: bold;background-color: white;display: inline-block;line-height: 1.2em;}#sk-67ec9945-bc71-4052-8ec5-61544def4a09 div.sk-label-container {position: relative;z-index: 2;text-align: center;}#sk-67ec9945-bc71-4052-8ec5-61544def4a09 div.sk-container {/* jupyter's `normalize.less` sets `[hidden] { display: none; }` but bootstrap.min.css set `[hidden] { display: none !important; }` so we also need the `!important` here to be able to override the default hidden behavior on the sphinx rendered scikit-learn.org. See: https://github.com/scikit-learn/scikit-learn/issues/21755 */display: inline-block !important;position: relative;}#sk-67ec9945-bc71-4052-8ec5-61544def4a09 div.sk-text-repr-fallback {display: none;}</style><div id=\"sk-67ec9945-bc71-4052-8ec5-61544def4a09\" class=\"sk-top-container\"><div class=\"sk-text-repr-fallback\"><pre>Pipeline(steps=[(&#x27;simpleimputer&#x27;, SimpleImputer(strategy=&#x27;most_frequent&#x27;)),\n",
              "                (&#x27;onehotencoder&#x27;,\n",
              "                 OneHotEncoder(handle_unknown=&#x27;ignore&#x27;, sparse=False))])</pre><b>Please rerun this cell to show the HTML repr or trust the notebook.</b></div><div class=\"sk-container\" hidden><div class=\"sk-item sk-dashed-wrapped\"><div class=\"sk-label-container\"><div class=\"sk-label sk-toggleable\"><input class=\"sk-toggleable__control sk-hidden--visually\" id=\"2789c7c9-472b-4053-a953-f07df6faa1ea\" type=\"checkbox\" ><label for=\"2789c7c9-472b-4053-a953-f07df6faa1ea\" class=\"sk-toggleable__label sk-toggleable__label-arrow\">Pipeline</label><div class=\"sk-toggleable__content\"><pre>Pipeline(steps=[(&#x27;simpleimputer&#x27;, SimpleImputer(strategy=&#x27;most_frequent&#x27;)),\n",
              "                (&#x27;onehotencoder&#x27;,\n",
              "                 OneHotEncoder(handle_unknown=&#x27;ignore&#x27;, sparse=False))])</pre></div></div></div><div class=\"sk-serial\"><div class=\"sk-item\"><div class=\"sk-estimator sk-toggleable\"><input class=\"sk-toggleable__control sk-hidden--visually\" id=\"281207c2-99b4-4a63-bb24-7dbd393c76be\" type=\"checkbox\" ><label for=\"281207c2-99b4-4a63-bb24-7dbd393c76be\" class=\"sk-toggleable__label sk-toggleable__label-arrow\">SimpleImputer</label><div class=\"sk-toggleable__content\"><pre>SimpleImputer(strategy=&#x27;most_frequent&#x27;)</pre></div></div></div><div class=\"sk-item\"><div class=\"sk-estimator sk-toggleable\"><input class=\"sk-toggleable__control sk-hidden--visually\" id=\"f3deaa4b-e0be-448a-91cc-f62c3b455845\" type=\"checkbox\" ><label for=\"f3deaa4b-e0be-448a-91cc-f62c3b455845\" class=\"sk-toggleable__label sk-toggleable__label-arrow\">OneHotEncoder</label><div class=\"sk-toggleable__content\"><pre>OneHotEncoder(handle_unknown=&#x27;ignore&#x27;, sparse=False)</pre></div></div></div></div></div></div></div>"
            ]
          },
          "metadata": {},
          "execution_count": 53
        }
      ]
    },
    {
      "cell_type": "code",
      "source": [
        "Spar_tup_pro= (Spar_pipe, cat_select)\n",
        "pre_pro = make_column_transformer(num_tup_pro, Spar_tup_pro)\n",
        "pre_pro\n"
      ],
      "metadata": {
        "id": "bKpqHUc17vpH",
        "colab": {
          "base_uri": "https://localhost:8080/",
          "height": 152
        },
        "outputId": "c7c1e6bb-36e8-4a37-baf3-0b9c5074e576"
      },
      "execution_count": null,
      "outputs": [
        {
          "output_type": "execute_result",
          "data": {
            "text/plain": [
              "ColumnTransformer(transformers=[('pipeline-1',\n",
              "                                 Pipeline(steps=[('simpleimputer',\n",
              "                                                  SimpleImputer()),\n",
              "                                                 ('standardscaler',\n",
              "                                                  StandardScaler(with_mean=False))]),\n",
              "                                 <sklearn.compose._column_transformer.make_column_selector object at 0x7f0cebdb4190>),\n",
              "                                ('pipeline-2',\n",
              "                                 Pipeline(steps=[('simpleimputer',\n",
              "                                                  SimpleImputer(strategy='most_frequent')),\n",
              "                                                 ('onehotencoder',\n",
              "                                                  OneHotEncoder(handle_unknown='ignore',\n",
              "                                                                sparse=False))]),\n",
              "                                 <sklearn.compose._column_transformer.make_column_selector object at 0x7f0cebdb4110>)])"
            ],
            "text/html": [
              "<style>#sk-32b5fc92-0bc4-4ef0-b7d4-4f51a1eca521 {color: black;background-color: white;}#sk-32b5fc92-0bc4-4ef0-b7d4-4f51a1eca521 pre{padding: 0;}#sk-32b5fc92-0bc4-4ef0-b7d4-4f51a1eca521 div.sk-toggleable {background-color: white;}#sk-32b5fc92-0bc4-4ef0-b7d4-4f51a1eca521 label.sk-toggleable__label {cursor: pointer;display: block;width: 100%;margin-bottom: 0;padding: 0.3em;box-sizing: border-box;text-align: center;}#sk-32b5fc92-0bc4-4ef0-b7d4-4f51a1eca521 label.sk-toggleable__label-arrow:before {content: \"▸\";float: left;margin-right: 0.25em;color: #696969;}#sk-32b5fc92-0bc4-4ef0-b7d4-4f51a1eca521 label.sk-toggleable__label-arrow:hover:before {color: black;}#sk-32b5fc92-0bc4-4ef0-b7d4-4f51a1eca521 div.sk-estimator:hover label.sk-toggleable__label-arrow:before {color: black;}#sk-32b5fc92-0bc4-4ef0-b7d4-4f51a1eca521 div.sk-toggleable__content {max-height: 0;max-width: 0;overflow: hidden;text-align: left;background-color: #f0f8ff;}#sk-32b5fc92-0bc4-4ef0-b7d4-4f51a1eca521 div.sk-toggleable__content pre {margin: 0.2em;color: black;border-radius: 0.25em;background-color: #f0f8ff;}#sk-32b5fc92-0bc4-4ef0-b7d4-4f51a1eca521 input.sk-toggleable__control:checked~div.sk-toggleable__content {max-height: 200px;max-width: 100%;overflow: auto;}#sk-32b5fc92-0bc4-4ef0-b7d4-4f51a1eca521 input.sk-toggleable__control:checked~label.sk-toggleable__label-arrow:before {content: \"▾\";}#sk-32b5fc92-0bc4-4ef0-b7d4-4f51a1eca521 div.sk-estimator input.sk-toggleable__control:checked~label.sk-toggleable__label {background-color: #d4ebff;}#sk-32b5fc92-0bc4-4ef0-b7d4-4f51a1eca521 div.sk-label input.sk-toggleable__control:checked~label.sk-toggleable__label {background-color: #d4ebff;}#sk-32b5fc92-0bc4-4ef0-b7d4-4f51a1eca521 input.sk-hidden--visually {border: 0;clip: rect(1px 1px 1px 1px);clip: rect(1px, 1px, 1px, 1px);height: 1px;margin: -1px;overflow: hidden;padding: 0;position: absolute;width: 1px;}#sk-32b5fc92-0bc4-4ef0-b7d4-4f51a1eca521 div.sk-estimator {font-family: monospace;background-color: #f0f8ff;border: 1px dotted black;border-radius: 0.25em;box-sizing: border-box;margin-bottom: 0.5em;}#sk-32b5fc92-0bc4-4ef0-b7d4-4f51a1eca521 div.sk-estimator:hover {background-color: #d4ebff;}#sk-32b5fc92-0bc4-4ef0-b7d4-4f51a1eca521 div.sk-parallel-item::after {content: \"\";width: 100%;border-bottom: 1px solid gray;flex-grow: 1;}#sk-32b5fc92-0bc4-4ef0-b7d4-4f51a1eca521 div.sk-label:hover label.sk-toggleable__label {background-color: #d4ebff;}#sk-32b5fc92-0bc4-4ef0-b7d4-4f51a1eca521 div.sk-serial::before {content: \"\";position: absolute;border-left: 1px solid gray;box-sizing: border-box;top: 2em;bottom: 0;left: 50%;}#sk-32b5fc92-0bc4-4ef0-b7d4-4f51a1eca521 div.sk-serial {display: flex;flex-direction: column;align-items: center;background-color: white;padding-right: 0.2em;padding-left: 0.2em;}#sk-32b5fc92-0bc4-4ef0-b7d4-4f51a1eca521 div.sk-item {z-index: 1;}#sk-32b5fc92-0bc4-4ef0-b7d4-4f51a1eca521 div.sk-parallel {display: flex;align-items: stretch;justify-content: center;background-color: white;}#sk-32b5fc92-0bc4-4ef0-b7d4-4f51a1eca521 div.sk-parallel::before {content: \"\";position: absolute;border-left: 1px solid gray;box-sizing: border-box;top: 2em;bottom: 0;left: 50%;}#sk-32b5fc92-0bc4-4ef0-b7d4-4f51a1eca521 div.sk-parallel-item {display: flex;flex-direction: column;position: relative;background-color: white;}#sk-32b5fc92-0bc4-4ef0-b7d4-4f51a1eca521 div.sk-parallel-item:first-child::after {align-self: flex-end;width: 50%;}#sk-32b5fc92-0bc4-4ef0-b7d4-4f51a1eca521 div.sk-parallel-item:last-child::after {align-self: flex-start;width: 50%;}#sk-32b5fc92-0bc4-4ef0-b7d4-4f51a1eca521 div.sk-parallel-item:only-child::after {width: 0;}#sk-32b5fc92-0bc4-4ef0-b7d4-4f51a1eca521 div.sk-dashed-wrapped {border: 1px dashed gray;margin: 0 0.4em 0.5em 0.4em;box-sizing: border-box;padding-bottom: 0.4em;background-color: white;position: relative;}#sk-32b5fc92-0bc4-4ef0-b7d4-4f51a1eca521 div.sk-label label {font-family: monospace;font-weight: bold;background-color: white;display: inline-block;line-height: 1.2em;}#sk-32b5fc92-0bc4-4ef0-b7d4-4f51a1eca521 div.sk-label-container {position: relative;z-index: 2;text-align: center;}#sk-32b5fc92-0bc4-4ef0-b7d4-4f51a1eca521 div.sk-container {/* jupyter's `normalize.less` sets `[hidden] { display: none; }` but bootstrap.min.css set `[hidden] { display: none !important; }` so we also need the `!important` here to be able to override the default hidden behavior on the sphinx rendered scikit-learn.org. See: https://github.com/scikit-learn/scikit-learn/issues/21755 */display: inline-block !important;position: relative;}#sk-32b5fc92-0bc4-4ef0-b7d4-4f51a1eca521 div.sk-text-repr-fallback {display: none;}</style><div id=\"sk-32b5fc92-0bc4-4ef0-b7d4-4f51a1eca521\" class=\"sk-top-container\"><div class=\"sk-text-repr-fallback\"><pre>ColumnTransformer(transformers=[(&#x27;pipeline-1&#x27;,\n",
              "                                 Pipeline(steps=[(&#x27;simpleimputer&#x27;,\n",
              "                                                  SimpleImputer()),\n",
              "                                                 (&#x27;standardscaler&#x27;,\n",
              "                                                  StandardScaler(with_mean=False))]),\n",
              "                                 &lt;sklearn.compose._column_transformer.make_column_selector object at 0x7f0cebdb4190&gt;),\n",
              "                                (&#x27;pipeline-2&#x27;,\n",
              "                                 Pipeline(steps=[(&#x27;simpleimputer&#x27;,\n",
              "                                                  SimpleImputer(strategy=&#x27;most_frequent&#x27;)),\n",
              "                                                 (&#x27;onehotencoder&#x27;,\n",
              "                                                  OneHotEncoder(handle_unknown=&#x27;ignore&#x27;,\n",
              "                                                                sparse=False))]),\n",
              "                                 &lt;sklearn.compose._column_transformer.make_column_selector object at 0x7f0cebdb4110&gt;)])</pre><b>Please rerun this cell to show the HTML repr or trust the notebook.</b></div><div class=\"sk-container\" hidden><div class=\"sk-item sk-dashed-wrapped\"><div class=\"sk-label-container\"><div class=\"sk-label sk-toggleable\"><input class=\"sk-toggleable__control sk-hidden--visually\" id=\"4f8cb2f2-343a-4924-960c-9849150ae1fe\" type=\"checkbox\" ><label for=\"4f8cb2f2-343a-4924-960c-9849150ae1fe\" class=\"sk-toggleable__label sk-toggleable__label-arrow\">ColumnTransformer</label><div class=\"sk-toggleable__content\"><pre>ColumnTransformer(transformers=[(&#x27;pipeline-1&#x27;,\n",
              "                                 Pipeline(steps=[(&#x27;simpleimputer&#x27;,\n",
              "                                                  SimpleImputer()),\n",
              "                                                 (&#x27;standardscaler&#x27;,\n",
              "                                                  StandardScaler(with_mean=False))]),\n",
              "                                 &lt;sklearn.compose._column_transformer.make_column_selector object at 0x7f0cebdb4190&gt;),\n",
              "                                (&#x27;pipeline-2&#x27;,\n",
              "                                 Pipeline(steps=[(&#x27;simpleimputer&#x27;,\n",
              "                                                  SimpleImputer(strategy=&#x27;most_frequent&#x27;)),\n",
              "                                                 (&#x27;onehotencoder&#x27;,\n",
              "                                                  OneHotEncoder(handle_unknown=&#x27;ignore&#x27;,\n",
              "                                                                sparse=False))]),\n",
              "                                 &lt;sklearn.compose._column_transformer.make_column_selector object at 0x7f0cebdb4110&gt;)])</pre></div></div></div><div class=\"sk-parallel\"><div class=\"sk-parallel-item\"><div class=\"sk-item\"><div class=\"sk-label-container\"><div class=\"sk-label sk-toggleable\"><input class=\"sk-toggleable__control sk-hidden--visually\" id=\"14f0ae53-e496-43f3-a75e-78c48a2fb2e8\" type=\"checkbox\" ><label for=\"14f0ae53-e496-43f3-a75e-78c48a2fb2e8\" class=\"sk-toggleable__label sk-toggleable__label-arrow\">pipeline-1</label><div class=\"sk-toggleable__content\"><pre>&lt;sklearn.compose._column_transformer.make_column_selector object at 0x7f0cebdb4190&gt;</pre></div></div></div><div class=\"sk-serial\"><div class=\"sk-item\"><div class=\"sk-serial\"><div class=\"sk-item\"><div class=\"sk-estimator sk-toggleable\"><input class=\"sk-toggleable__control sk-hidden--visually\" id=\"9e7ddae2-37f5-4f5d-b843-2090ef7508a1\" type=\"checkbox\" ><label for=\"9e7ddae2-37f5-4f5d-b843-2090ef7508a1\" class=\"sk-toggleable__label sk-toggleable__label-arrow\">SimpleImputer</label><div class=\"sk-toggleable__content\"><pre>SimpleImputer()</pre></div></div></div><div class=\"sk-item\"><div class=\"sk-estimator sk-toggleable\"><input class=\"sk-toggleable__control sk-hidden--visually\" id=\"2805a64b-e318-4b43-af89-d05b821480b1\" type=\"checkbox\" ><label for=\"2805a64b-e318-4b43-af89-d05b821480b1\" class=\"sk-toggleable__label sk-toggleable__label-arrow\">StandardScaler</label><div class=\"sk-toggleable__content\"><pre>StandardScaler(with_mean=False)</pre></div></div></div></div></div></div></div></div><div class=\"sk-parallel-item\"><div class=\"sk-item\"><div class=\"sk-label-container\"><div class=\"sk-label sk-toggleable\"><input class=\"sk-toggleable__control sk-hidden--visually\" id=\"e2292f15-a414-49e8-b853-d9d0d60eb7ab\" type=\"checkbox\" ><label for=\"e2292f15-a414-49e8-b853-d9d0d60eb7ab\" class=\"sk-toggleable__label sk-toggleable__label-arrow\">pipeline-2</label><div class=\"sk-toggleable__content\"><pre>&lt;sklearn.compose._column_transformer.make_column_selector object at 0x7f0cebdb4110&gt;</pre></div></div></div><div class=\"sk-serial\"><div class=\"sk-item\"><div class=\"sk-serial\"><div class=\"sk-item\"><div class=\"sk-estimator sk-toggleable\"><input class=\"sk-toggleable__control sk-hidden--visually\" id=\"79891950-8519-4d8b-bf5a-5e14d4e05ef9\" type=\"checkbox\" ><label for=\"79891950-8519-4d8b-bf5a-5e14d4e05ef9\" class=\"sk-toggleable__label sk-toggleable__label-arrow\">SimpleImputer</label><div class=\"sk-toggleable__content\"><pre>SimpleImputer(strategy=&#x27;most_frequent&#x27;)</pre></div></div></div><div class=\"sk-item\"><div class=\"sk-estimator sk-toggleable\"><input class=\"sk-toggleable__control sk-hidden--visually\" id=\"ac3a8375-f679-4d63-b2f4-6e50fb8fc46b\" type=\"checkbox\" ><label for=\"ac3a8375-f679-4d63-b2f4-6e50fb8fc46b\" class=\"sk-toggleable__label sk-toggleable__label-arrow\">OneHotEncoder</label><div class=\"sk-toggleable__content\"><pre>OneHotEncoder(handle_unknown=&#x27;ignore&#x27;, sparse=False)</pre></div></div></div></div></div></div></div></div></div></div></div></div>"
            ]
          },
          "metadata": {},
          "execution_count": 54
        }
      ]
    },
    {
      "cell_type": "code",
      "source": [
        "pre_pro.fit(X_train)"
      ],
      "metadata": {
        "id": "CDErxSR878i5",
        "colab": {
          "base_uri": "https://localhost:8080/",
          "height": 152
        },
        "outputId": "53194761-d711-4652-c055-91163e2b8621"
      },
      "execution_count": null,
      "outputs": [
        {
          "output_type": "execute_result",
          "data": {
            "text/plain": [
              "ColumnTransformer(transformers=[('pipeline-1',\n",
              "                                 Pipeline(steps=[('simpleimputer',\n",
              "                                                  SimpleImputer()),\n",
              "                                                 ('standardscaler',\n",
              "                                                  StandardScaler(with_mean=False))]),\n",
              "                                 <sklearn.compose._column_transformer.make_column_selector object at 0x7f0cebdb4190>),\n",
              "                                ('pipeline-2',\n",
              "                                 Pipeline(steps=[('simpleimputer',\n",
              "                                                  SimpleImputer(strategy='most_frequent')),\n",
              "                                                 ('onehotencoder',\n",
              "                                                  OneHotEncoder(handle_unknown='ignore',\n",
              "                                                                sparse=False))]),\n",
              "                                 <sklearn.compose._column_transformer.make_column_selector object at 0x7f0cebdb4110>)])"
            ],
            "text/html": [
              "<style>#sk-2e75a4d3-1fb3-4183-b91f-c9faefc99d2f {color: black;background-color: white;}#sk-2e75a4d3-1fb3-4183-b91f-c9faefc99d2f pre{padding: 0;}#sk-2e75a4d3-1fb3-4183-b91f-c9faefc99d2f div.sk-toggleable {background-color: white;}#sk-2e75a4d3-1fb3-4183-b91f-c9faefc99d2f label.sk-toggleable__label {cursor: pointer;display: block;width: 100%;margin-bottom: 0;padding: 0.3em;box-sizing: border-box;text-align: center;}#sk-2e75a4d3-1fb3-4183-b91f-c9faefc99d2f label.sk-toggleable__label-arrow:before {content: \"▸\";float: left;margin-right: 0.25em;color: #696969;}#sk-2e75a4d3-1fb3-4183-b91f-c9faefc99d2f label.sk-toggleable__label-arrow:hover:before {color: black;}#sk-2e75a4d3-1fb3-4183-b91f-c9faefc99d2f div.sk-estimator:hover label.sk-toggleable__label-arrow:before {color: black;}#sk-2e75a4d3-1fb3-4183-b91f-c9faefc99d2f div.sk-toggleable__content {max-height: 0;max-width: 0;overflow: hidden;text-align: left;background-color: #f0f8ff;}#sk-2e75a4d3-1fb3-4183-b91f-c9faefc99d2f div.sk-toggleable__content pre {margin: 0.2em;color: black;border-radius: 0.25em;background-color: #f0f8ff;}#sk-2e75a4d3-1fb3-4183-b91f-c9faefc99d2f input.sk-toggleable__control:checked~div.sk-toggleable__content {max-height: 200px;max-width: 100%;overflow: auto;}#sk-2e75a4d3-1fb3-4183-b91f-c9faefc99d2f input.sk-toggleable__control:checked~label.sk-toggleable__label-arrow:before {content: \"▾\";}#sk-2e75a4d3-1fb3-4183-b91f-c9faefc99d2f div.sk-estimator input.sk-toggleable__control:checked~label.sk-toggleable__label {background-color: #d4ebff;}#sk-2e75a4d3-1fb3-4183-b91f-c9faefc99d2f div.sk-label input.sk-toggleable__control:checked~label.sk-toggleable__label {background-color: #d4ebff;}#sk-2e75a4d3-1fb3-4183-b91f-c9faefc99d2f input.sk-hidden--visually {border: 0;clip: rect(1px 1px 1px 1px);clip: rect(1px, 1px, 1px, 1px);height: 1px;margin: -1px;overflow: hidden;padding: 0;position: absolute;width: 1px;}#sk-2e75a4d3-1fb3-4183-b91f-c9faefc99d2f div.sk-estimator {font-family: monospace;background-color: #f0f8ff;border: 1px dotted black;border-radius: 0.25em;box-sizing: border-box;margin-bottom: 0.5em;}#sk-2e75a4d3-1fb3-4183-b91f-c9faefc99d2f div.sk-estimator:hover {background-color: #d4ebff;}#sk-2e75a4d3-1fb3-4183-b91f-c9faefc99d2f div.sk-parallel-item::after {content: \"\";width: 100%;border-bottom: 1px solid gray;flex-grow: 1;}#sk-2e75a4d3-1fb3-4183-b91f-c9faefc99d2f div.sk-label:hover label.sk-toggleable__label {background-color: #d4ebff;}#sk-2e75a4d3-1fb3-4183-b91f-c9faefc99d2f div.sk-serial::before {content: \"\";position: absolute;border-left: 1px solid gray;box-sizing: border-box;top: 2em;bottom: 0;left: 50%;}#sk-2e75a4d3-1fb3-4183-b91f-c9faefc99d2f div.sk-serial {display: flex;flex-direction: column;align-items: center;background-color: white;padding-right: 0.2em;padding-left: 0.2em;}#sk-2e75a4d3-1fb3-4183-b91f-c9faefc99d2f div.sk-item {z-index: 1;}#sk-2e75a4d3-1fb3-4183-b91f-c9faefc99d2f div.sk-parallel {display: flex;align-items: stretch;justify-content: center;background-color: white;}#sk-2e75a4d3-1fb3-4183-b91f-c9faefc99d2f div.sk-parallel::before {content: \"\";position: absolute;border-left: 1px solid gray;box-sizing: border-box;top: 2em;bottom: 0;left: 50%;}#sk-2e75a4d3-1fb3-4183-b91f-c9faefc99d2f div.sk-parallel-item {display: flex;flex-direction: column;position: relative;background-color: white;}#sk-2e75a4d3-1fb3-4183-b91f-c9faefc99d2f div.sk-parallel-item:first-child::after {align-self: flex-end;width: 50%;}#sk-2e75a4d3-1fb3-4183-b91f-c9faefc99d2f div.sk-parallel-item:last-child::after {align-self: flex-start;width: 50%;}#sk-2e75a4d3-1fb3-4183-b91f-c9faefc99d2f div.sk-parallel-item:only-child::after {width: 0;}#sk-2e75a4d3-1fb3-4183-b91f-c9faefc99d2f div.sk-dashed-wrapped {border: 1px dashed gray;margin: 0 0.4em 0.5em 0.4em;box-sizing: border-box;padding-bottom: 0.4em;background-color: white;position: relative;}#sk-2e75a4d3-1fb3-4183-b91f-c9faefc99d2f div.sk-label label {font-family: monospace;font-weight: bold;background-color: white;display: inline-block;line-height: 1.2em;}#sk-2e75a4d3-1fb3-4183-b91f-c9faefc99d2f div.sk-label-container {position: relative;z-index: 2;text-align: center;}#sk-2e75a4d3-1fb3-4183-b91f-c9faefc99d2f div.sk-container {/* jupyter's `normalize.less` sets `[hidden] { display: none; }` but bootstrap.min.css set `[hidden] { display: none !important; }` so we also need the `!important` here to be able to override the default hidden behavior on the sphinx rendered scikit-learn.org. See: https://github.com/scikit-learn/scikit-learn/issues/21755 */display: inline-block !important;position: relative;}#sk-2e75a4d3-1fb3-4183-b91f-c9faefc99d2f div.sk-text-repr-fallback {display: none;}</style><div id=\"sk-2e75a4d3-1fb3-4183-b91f-c9faefc99d2f\" class=\"sk-top-container\"><div class=\"sk-text-repr-fallback\"><pre>ColumnTransformer(transformers=[(&#x27;pipeline-1&#x27;,\n",
              "                                 Pipeline(steps=[(&#x27;simpleimputer&#x27;,\n",
              "                                                  SimpleImputer()),\n",
              "                                                 (&#x27;standardscaler&#x27;,\n",
              "                                                  StandardScaler(with_mean=False))]),\n",
              "                                 &lt;sklearn.compose._column_transformer.make_column_selector object at 0x7f0cebdb4190&gt;),\n",
              "                                (&#x27;pipeline-2&#x27;,\n",
              "                                 Pipeline(steps=[(&#x27;simpleimputer&#x27;,\n",
              "                                                  SimpleImputer(strategy=&#x27;most_frequent&#x27;)),\n",
              "                                                 (&#x27;onehotencoder&#x27;,\n",
              "                                                  OneHotEncoder(handle_unknown=&#x27;ignore&#x27;,\n",
              "                                                                sparse=False))]),\n",
              "                                 &lt;sklearn.compose._column_transformer.make_column_selector object at 0x7f0cebdb4110&gt;)])</pre><b>Please rerun this cell to show the HTML repr or trust the notebook.</b></div><div class=\"sk-container\" hidden><div class=\"sk-item sk-dashed-wrapped\"><div class=\"sk-label-container\"><div class=\"sk-label sk-toggleable\"><input class=\"sk-toggleable__control sk-hidden--visually\" id=\"c27f8611-e843-4462-8b2b-c883bb0a5467\" type=\"checkbox\" ><label for=\"c27f8611-e843-4462-8b2b-c883bb0a5467\" class=\"sk-toggleable__label sk-toggleable__label-arrow\">ColumnTransformer</label><div class=\"sk-toggleable__content\"><pre>ColumnTransformer(transformers=[(&#x27;pipeline-1&#x27;,\n",
              "                                 Pipeline(steps=[(&#x27;simpleimputer&#x27;,\n",
              "                                                  SimpleImputer()),\n",
              "                                                 (&#x27;standardscaler&#x27;,\n",
              "                                                  StandardScaler(with_mean=False))]),\n",
              "                                 &lt;sklearn.compose._column_transformer.make_column_selector object at 0x7f0cebdb4190&gt;),\n",
              "                                (&#x27;pipeline-2&#x27;,\n",
              "                                 Pipeline(steps=[(&#x27;simpleimputer&#x27;,\n",
              "                                                  SimpleImputer(strategy=&#x27;most_frequent&#x27;)),\n",
              "                                                 (&#x27;onehotencoder&#x27;,\n",
              "                                                  OneHotEncoder(handle_unknown=&#x27;ignore&#x27;,\n",
              "                                                                sparse=False))]),\n",
              "                                 &lt;sklearn.compose._column_transformer.make_column_selector object at 0x7f0cebdb4110&gt;)])</pre></div></div></div><div class=\"sk-parallel\"><div class=\"sk-parallel-item\"><div class=\"sk-item\"><div class=\"sk-label-container\"><div class=\"sk-label sk-toggleable\"><input class=\"sk-toggleable__control sk-hidden--visually\" id=\"2126144f-3646-44c5-8f07-06a104f7e9a7\" type=\"checkbox\" ><label for=\"2126144f-3646-44c5-8f07-06a104f7e9a7\" class=\"sk-toggleable__label sk-toggleable__label-arrow\">pipeline-1</label><div class=\"sk-toggleable__content\"><pre>&lt;sklearn.compose._column_transformer.make_column_selector object at 0x7f0cebdb4190&gt;</pre></div></div></div><div class=\"sk-serial\"><div class=\"sk-item\"><div class=\"sk-serial\"><div class=\"sk-item\"><div class=\"sk-estimator sk-toggleable\"><input class=\"sk-toggleable__control sk-hidden--visually\" id=\"e7dd0361-7c86-41b3-b3f3-106f675b99b6\" type=\"checkbox\" ><label for=\"e7dd0361-7c86-41b3-b3f3-106f675b99b6\" class=\"sk-toggleable__label sk-toggleable__label-arrow\">SimpleImputer</label><div class=\"sk-toggleable__content\"><pre>SimpleImputer()</pre></div></div></div><div class=\"sk-item\"><div class=\"sk-estimator sk-toggleable\"><input class=\"sk-toggleable__control sk-hidden--visually\" id=\"f67c2182-f7d9-42ea-8384-3e705fd4b760\" type=\"checkbox\" ><label for=\"f67c2182-f7d9-42ea-8384-3e705fd4b760\" class=\"sk-toggleable__label sk-toggleable__label-arrow\">StandardScaler</label><div class=\"sk-toggleable__content\"><pre>StandardScaler(with_mean=False)</pre></div></div></div></div></div></div></div></div><div class=\"sk-parallel-item\"><div class=\"sk-item\"><div class=\"sk-label-container\"><div class=\"sk-label sk-toggleable\"><input class=\"sk-toggleable__control sk-hidden--visually\" id=\"98a32bd4-d22f-4860-8722-53c04105fe4d\" type=\"checkbox\" ><label for=\"98a32bd4-d22f-4860-8722-53c04105fe4d\" class=\"sk-toggleable__label sk-toggleable__label-arrow\">pipeline-2</label><div class=\"sk-toggleable__content\"><pre>&lt;sklearn.compose._column_transformer.make_column_selector object at 0x7f0cebdb4110&gt;</pre></div></div></div><div class=\"sk-serial\"><div class=\"sk-item\"><div class=\"sk-serial\"><div class=\"sk-item\"><div class=\"sk-estimator sk-toggleable\"><input class=\"sk-toggleable__control sk-hidden--visually\" id=\"50d8ed42-2d7b-4f2e-8df8-b773bc8022ff\" type=\"checkbox\" ><label for=\"50d8ed42-2d7b-4f2e-8df8-b773bc8022ff\" class=\"sk-toggleable__label sk-toggleable__label-arrow\">SimpleImputer</label><div class=\"sk-toggleable__content\"><pre>SimpleImputer(strategy=&#x27;most_frequent&#x27;)</pre></div></div></div><div class=\"sk-item\"><div class=\"sk-estimator sk-toggleable\"><input class=\"sk-toggleable__control sk-hidden--visually\" id=\"0b3f6085-9702-4e7f-963b-3ab4bce6bf6b\" type=\"checkbox\" ><label for=\"0b3f6085-9702-4e7f-963b-3ab4bce6bf6b\" class=\"sk-toggleable__label sk-toggleable__label-arrow\">OneHotEncoder</label><div class=\"sk-toggleable__content\"><pre>OneHotEncoder(handle_unknown=&#x27;ignore&#x27;, sparse=False)</pre></div></div></div></div></div></div></div></div></div></div></div></div>"
            ]
          },
          "metadata": {},
          "execution_count": 55
        }
      ]
    },
    {
      "cell_type": "code",
      "source": [
        "Xspar_train_pro = pre_pro.transform(X_train)\n",
        "Xspar_test_pro = pre_pro.transform(X_test)"
      ],
      "metadata": {
        "id": "GrxusEoP8EjA"
      },
      "execution_count": null,
      "outputs": []
    },
    {
      "cell_type": "code",
      "source": [
        "pca = PCA(n_components=9)\n",
        "pcs = pca.fit_transform(Xspar_test_pro)"
      ],
      "metadata": {
        "id": "yngkyYni9Da6"
      },
      "execution_count": null,
      "outputs": []
    },
    {
      "cell_type": "code",
      "source": [
        "pca85 = PCA(n_components=.85)"
      ],
      "metadata": {
        "id": "usLCTkt5E4bN"
      },
      "execution_count": null,
      "outputs": []
    },
    {
      "cell_type": "code",
      "source": [
        "transformer = make_pipeline(Stan_Scale, PCA(n_components=9))"
      ],
      "metadata": {
        "id": "7r-i5EhsF07r"
      },
      "execution_count": null,
      "outputs": []
    },
    {
      "cell_type": "code",
      "source": [
        "DTC_pipe = make_pipeline(transformer, model)\n",
        "DTC_pipe.fit(Xspar_train_pro, y_train)"
      ],
      "metadata": {
        "id": "B5l7dp11F-op",
        "colab": {
          "base_uri": "https://localhost:8080/",
          "height": 186
        },
        "outputId": "b6cecd03-945a-4223-a3fa-8d4e3ad8c7db"
      },
      "execution_count": null,
      "outputs": [
        {
          "output_type": "execute_result",
          "data": {
            "text/plain": [
              "Pipeline(steps=[('pipeline',\n",
              "                 Pipeline(steps=[('standardscaler',\n",
              "                                  StandardScaler(with_mean=False)),\n",
              "                                 ('pca', PCA(n_components=9))])),\n",
              "                ('decisiontreeclassifier', DecisionTreeClassifier())])"
            ],
            "text/html": [
              "<style>#sk-ec7facb5-b3b9-4548-9f50-d2d5ef8ed6cf {color: black;background-color: white;}#sk-ec7facb5-b3b9-4548-9f50-d2d5ef8ed6cf pre{padding: 0;}#sk-ec7facb5-b3b9-4548-9f50-d2d5ef8ed6cf div.sk-toggleable {background-color: white;}#sk-ec7facb5-b3b9-4548-9f50-d2d5ef8ed6cf label.sk-toggleable__label {cursor: pointer;display: block;width: 100%;margin-bottom: 0;padding: 0.3em;box-sizing: border-box;text-align: center;}#sk-ec7facb5-b3b9-4548-9f50-d2d5ef8ed6cf label.sk-toggleable__label-arrow:before {content: \"▸\";float: left;margin-right: 0.25em;color: #696969;}#sk-ec7facb5-b3b9-4548-9f50-d2d5ef8ed6cf label.sk-toggleable__label-arrow:hover:before {color: black;}#sk-ec7facb5-b3b9-4548-9f50-d2d5ef8ed6cf div.sk-estimator:hover label.sk-toggleable__label-arrow:before {color: black;}#sk-ec7facb5-b3b9-4548-9f50-d2d5ef8ed6cf div.sk-toggleable__content {max-height: 0;max-width: 0;overflow: hidden;text-align: left;background-color: #f0f8ff;}#sk-ec7facb5-b3b9-4548-9f50-d2d5ef8ed6cf div.sk-toggleable__content pre {margin: 0.2em;color: black;border-radius: 0.25em;background-color: #f0f8ff;}#sk-ec7facb5-b3b9-4548-9f50-d2d5ef8ed6cf input.sk-toggleable__control:checked~div.sk-toggleable__content {max-height: 200px;max-width: 100%;overflow: auto;}#sk-ec7facb5-b3b9-4548-9f50-d2d5ef8ed6cf input.sk-toggleable__control:checked~label.sk-toggleable__label-arrow:before {content: \"▾\";}#sk-ec7facb5-b3b9-4548-9f50-d2d5ef8ed6cf div.sk-estimator input.sk-toggleable__control:checked~label.sk-toggleable__label {background-color: #d4ebff;}#sk-ec7facb5-b3b9-4548-9f50-d2d5ef8ed6cf div.sk-label input.sk-toggleable__control:checked~label.sk-toggleable__label {background-color: #d4ebff;}#sk-ec7facb5-b3b9-4548-9f50-d2d5ef8ed6cf input.sk-hidden--visually {border: 0;clip: rect(1px 1px 1px 1px);clip: rect(1px, 1px, 1px, 1px);height: 1px;margin: -1px;overflow: hidden;padding: 0;position: absolute;width: 1px;}#sk-ec7facb5-b3b9-4548-9f50-d2d5ef8ed6cf div.sk-estimator {font-family: monospace;background-color: #f0f8ff;border: 1px dotted black;border-radius: 0.25em;box-sizing: border-box;margin-bottom: 0.5em;}#sk-ec7facb5-b3b9-4548-9f50-d2d5ef8ed6cf div.sk-estimator:hover {background-color: #d4ebff;}#sk-ec7facb5-b3b9-4548-9f50-d2d5ef8ed6cf div.sk-parallel-item::after {content: \"\";width: 100%;border-bottom: 1px solid gray;flex-grow: 1;}#sk-ec7facb5-b3b9-4548-9f50-d2d5ef8ed6cf div.sk-label:hover label.sk-toggleable__label {background-color: #d4ebff;}#sk-ec7facb5-b3b9-4548-9f50-d2d5ef8ed6cf div.sk-serial::before {content: \"\";position: absolute;border-left: 1px solid gray;box-sizing: border-box;top: 2em;bottom: 0;left: 50%;}#sk-ec7facb5-b3b9-4548-9f50-d2d5ef8ed6cf div.sk-serial {display: flex;flex-direction: column;align-items: center;background-color: white;padding-right: 0.2em;padding-left: 0.2em;}#sk-ec7facb5-b3b9-4548-9f50-d2d5ef8ed6cf div.sk-item {z-index: 1;}#sk-ec7facb5-b3b9-4548-9f50-d2d5ef8ed6cf div.sk-parallel {display: flex;align-items: stretch;justify-content: center;background-color: white;}#sk-ec7facb5-b3b9-4548-9f50-d2d5ef8ed6cf div.sk-parallel::before {content: \"\";position: absolute;border-left: 1px solid gray;box-sizing: border-box;top: 2em;bottom: 0;left: 50%;}#sk-ec7facb5-b3b9-4548-9f50-d2d5ef8ed6cf div.sk-parallel-item {display: flex;flex-direction: column;position: relative;background-color: white;}#sk-ec7facb5-b3b9-4548-9f50-d2d5ef8ed6cf div.sk-parallel-item:first-child::after {align-self: flex-end;width: 50%;}#sk-ec7facb5-b3b9-4548-9f50-d2d5ef8ed6cf div.sk-parallel-item:last-child::after {align-self: flex-start;width: 50%;}#sk-ec7facb5-b3b9-4548-9f50-d2d5ef8ed6cf div.sk-parallel-item:only-child::after {width: 0;}#sk-ec7facb5-b3b9-4548-9f50-d2d5ef8ed6cf div.sk-dashed-wrapped {border: 1px dashed gray;margin: 0 0.4em 0.5em 0.4em;box-sizing: border-box;padding-bottom: 0.4em;background-color: white;position: relative;}#sk-ec7facb5-b3b9-4548-9f50-d2d5ef8ed6cf div.sk-label label {font-family: monospace;font-weight: bold;background-color: white;display: inline-block;line-height: 1.2em;}#sk-ec7facb5-b3b9-4548-9f50-d2d5ef8ed6cf div.sk-label-container {position: relative;z-index: 2;text-align: center;}#sk-ec7facb5-b3b9-4548-9f50-d2d5ef8ed6cf div.sk-container {/* jupyter's `normalize.less` sets `[hidden] { display: none; }` but bootstrap.min.css set `[hidden] { display: none !important; }` so we also need the `!important` here to be able to override the default hidden behavior on the sphinx rendered scikit-learn.org. See: https://github.com/scikit-learn/scikit-learn/issues/21755 */display: inline-block !important;position: relative;}#sk-ec7facb5-b3b9-4548-9f50-d2d5ef8ed6cf div.sk-text-repr-fallback {display: none;}</style><div id=\"sk-ec7facb5-b3b9-4548-9f50-d2d5ef8ed6cf\" class=\"sk-top-container\"><div class=\"sk-text-repr-fallback\"><pre>Pipeline(steps=[(&#x27;pipeline&#x27;,\n",
              "                 Pipeline(steps=[(&#x27;standardscaler&#x27;,\n",
              "                                  StandardScaler(with_mean=False)),\n",
              "                                 (&#x27;pca&#x27;, PCA(n_components=9))])),\n",
              "                (&#x27;decisiontreeclassifier&#x27;, DecisionTreeClassifier())])</pre><b>Please rerun this cell to show the HTML repr or trust the notebook.</b></div><div class=\"sk-container\" hidden><div class=\"sk-item sk-dashed-wrapped\"><div class=\"sk-label-container\"><div class=\"sk-label sk-toggleable\"><input class=\"sk-toggleable__control sk-hidden--visually\" id=\"51c77ea1-b3bd-4bf1-9c49-276aa43ebb06\" type=\"checkbox\" ><label for=\"51c77ea1-b3bd-4bf1-9c49-276aa43ebb06\" class=\"sk-toggleable__label sk-toggleable__label-arrow\">Pipeline</label><div class=\"sk-toggleable__content\"><pre>Pipeline(steps=[(&#x27;pipeline&#x27;,\n",
              "                 Pipeline(steps=[(&#x27;standardscaler&#x27;,\n",
              "                                  StandardScaler(with_mean=False)),\n",
              "                                 (&#x27;pca&#x27;, PCA(n_components=9))])),\n",
              "                (&#x27;decisiontreeclassifier&#x27;, DecisionTreeClassifier())])</pre></div></div></div><div class=\"sk-serial\"><div class=\"sk-item\"><div class=\"sk-label-container\"><div class=\"sk-label sk-toggleable\"><input class=\"sk-toggleable__control sk-hidden--visually\" id=\"d480328a-967a-40a4-8e7a-36b89fe0e259\" type=\"checkbox\" ><label for=\"d480328a-967a-40a4-8e7a-36b89fe0e259\" class=\"sk-toggleable__label sk-toggleable__label-arrow\">pipeline: Pipeline</label><div class=\"sk-toggleable__content\"><pre>Pipeline(steps=[(&#x27;standardscaler&#x27;, StandardScaler(with_mean=False)),\n",
              "                (&#x27;pca&#x27;, PCA(n_components=9))])</pre></div></div></div><div class=\"sk-serial\"><div class=\"sk-item\"><div class=\"sk-estimator sk-toggleable\"><input class=\"sk-toggleable__control sk-hidden--visually\" id=\"2889be94-b7a7-4c3e-9953-11a4ca4f15bf\" type=\"checkbox\" ><label for=\"2889be94-b7a7-4c3e-9953-11a4ca4f15bf\" class=\"sk-toggleable__label sk-toggleable__label-arrow\">StandardScaler</label><div class=\"sk-toggleable__content\"><pre>StandardScaler(with_mean=False)</pre></div></div></div><div class=\"sk-item\"><div class=\"sk-estimator sk-toggleable\"><input class=\"sk-toggleable__control sk-hidden--visually\" id=\"d63e6818-b0d2-4d7b-abae-7fc381884094\" type=\"checkbox\" ><label for=\"d63e6818-b0d2-4d7b-abae-7fc381884094\" class=\"sk-toggleable__label sk-toggleable__label-arrow\">PCA</label><div class=\"sk-toggleable__content\"><pre>PCA(n_components=9)</pre></div></div></div></div></div><div class=\"sk-item\"><div class=\"sk-estimator sk-toggleable\"><input class=\"sk-toggleable__control sk-hidden--visually\" id=\"91f5964a-d3ec-464b-9b09-d441cc29acb6\" type=\"checkbox\" ><label for=\"91f5964a-d3ec-464b-9b09-d441cc29acb6\" class=\"sk-toggleable__label sk-toggleable__label-arrow\">DecisionTreeClassifier</label><div class=\"sk-toggleable__content\"><pre>DecisionTreeClassifier()</pre></div></div></div></div></div></div></div>"
            ]
          },
          "metadata": {},
          "execution_count": 61
        }
      ]
    },
    {
      "cell_type": "code",
      "source": [
        "print('Training accuracy:', DTC_pipe.score(Xspar_train_pro, y_train))\n",
        "print('Testing accuracy:', DTC_pipe.score(Xspar_test_pro, y_test))"
      ],
      "metadata": {
        "id": "I2AxyHgHHFEC",
        "colab": {
          "base_uri": "https://localhost:8080/"
        },
        "outputId": "02ae7bec-fc1a-4cd0-8945-24f435c6c30d"
      },
      "execution_count": null,
      "outputs": [
        {
          "output_type": "stream",
          "name": "stdout",
          "text": [
            "Training accuracy: 0.4416620145147141\n",
            "Testing accuracy: 0.11650717703349282\n"
          ]
        }
      ]
    },
    {
      "cell_type": "code",
      "source": [
        "gbc = GradientBoostingClassifier()\n",
        "gbc.fit(X_train_pro, y_train)"
      ],
      "metadata": {
        "id": "FdjEX46-zWkb",
        "colab": {
          "base_uri": "https://localhost:8080/",
          "height": 75
        },
        "outputId": "cc3ca959-c1e4-4120-9e93-55ea9f479b9d"
      },
      "execution_count": null,
      "outputs": [
        {
          "output_type": "execute_result",
          "data": {
            "text/plain": [
              "GradientBoostingClassifier()"
            ],
            "text/html": [
              "<style>#sk-5c86933f-ab65-4144-80bb-2722352d4937 {color: black;background-color: white;}#sk-5c86933f-ab65-4144-80bb-2722352d4937 pre{padding: 0;}#sk-5c86933f-ab65-4144-80bb-2722352d4937 div.sk-toggleable {background-color: white;}#sk-5c86933f-ab65-4144-80bb-2722352d4937 label.sk-toggleable__label {cursor: pointer;display: block;width: 100%;margin-bottom: 0;padding: 0.3em;box-sizing: border-box;text-align: center;}#sk-5c86933f-ab65-4144-80bb-2722352d4937 label.sk-toggleable__label-arrow:before {content: \"▸\";float: left;margin-right: 0.25em;color: #696969;}#sk-5c86933f-ab65-4144-80bb-2722352d4937 label.sk-toggleable__label-arrow:hover:before {color: black;}#sk-5c86933f-ab65-4144-80bb-2722352d4937 div.sk-estimator:hover label.sk-toggleable__label-arrow:before {color: black;}#sk-5c86933f-ab65-4144-80bb-2722352d4937 div.sk-toggleable__content {max-height: 0;max-width: 0;overflow: hidden;text-align: left;background-color: #f0f8ff;}#sk-5c86933f-ab65-4144-80bb-2722352d4937 div.sk-toggleable__content pre {margin: 0.2em;color: black;border-radius: 0.25em;background-color: #f0f8ff;}#sk-5c86933f-ab65-4144-80bb-2722352d4937 input.sk-toggleable__control:checked~div.sk-toggleable__content {max-height: 200px;max-width: 100%;overflow: auto;}#sk-5c86933f-ab65-4144-80bb-2722352d4937 input.sk-toggleable__control:checked~label.sk-toggleable__label-arrow:before {content: \"▾\";}#sk-5c86933f-ab65-4144-80bb-2722352d4937 div.sk-estimator input.sk-toggleable__control:checked~label.sk-toggleable__label {background-color: #d4ebff;}#sk-5c86933f-ab65-4144-80bb-2722352d4937 div.sk-label input.sk-toggleable__control:checked~label.sk-toggleable__label {background-color: #d4ebff;}#sk-5c86933f-ab65-4144-80bb-2722352d4937 input.sk-hidden--visually {border: 0;clip: rect(1px 1px 1px 1px);clip: rect(1px, 1px, 1px, 1px);height: 1px;margin: -1px;overflow: hidden;padding: 0;position: absolute;width: 1px;}#sk-5c86933f-ab65-4144-80bb-2722352d4937 div.sk-estimator {font-family: monospace;background-color: #f0f8ff;border: 1px dotted black;border-radius: 0.25em;box-sizing: border-box;margin-bottom: 0.5em;}#sk-5c86933f-ab65-4144-80bb-2722352d4937 div.sk-estimator:hover {background-color: #d4ebff;}#sk-5c86933f-ab65-4144-80bb-2722352d4937 div.sk-parallel-item::after {content: \"\";width: 100%;border-bottom: 1px solid gray;flex-grow: 1;}#sk-5c86933f-ab65-4144-80bb-2722352d4937 div.sk-label:hover label.sk-toggleable__label {background-color: #d4ebff;}#sk-5c86933f-ab65-4144-80bb-2722352d4937 div.sk-serial::before {content: \"\";position: absolute;border-left: 1px solid gray;box-sizing: border-box;top: 2em;bottom: 0;left: 50%;}#sk-5c86933f-ab65-4144-80bb-2722352d4937 div.sk-serial {display: flex;flex-direction: column;align-items: center;background-color: white;padding-right: 0.2em;padding-left: 0.2em;}#sk-5c86933f-ab65-4144-80bb-2722352d4937 div.sk-item {z-index: 1;}#sk-5c86933f-ab65-4144-80bb-2722352d4937 div.sk-parallel {display: flex;align-items: stretch;justify-content: center;background-color: white;}#sk-5c86933f-ab65-4144-80bb-2722352d4937 div.sk-parallel::before {content: \"\";position: absolute;border-left: 1px solid gray;box-sizing: border-box;top: 2em;bottom: 0;left: 50%;}#sk-5c86933f-ab65-4144-80bb-2722352d4937 div.sk-parallel-item {display: flex;flex-direction: column;position: relative;background-color: white;}#sk-5c86933f-ab65-4144-80bb-2722352d4937 div.sk-parallel-item:first-child::after {align-self: flex-end;width: 50%;}#sk-5c86933f-ab65-4144-80bb-2722352d4937 div.sk-parallel-item:last-child::after {align-self: flex-start;width: 50%;}#sk-5c86933f-ab65-4144-80bb-2722352d4937 div.sk-parallel-item:only-child::after {width: 0;}#sk-5c86933f-ab65-4144-80bb-2722352d4937 div.sk-dashed-wrapped {border: 1px dashed gray;margin: 0 0.4em 0.5em 0.4em;box-sizing: border-box;padding-bottom: 0.4em;background-color: white;position: relative;}#sk-5c86933f-ab65-4144-80bb-2722352d4937 div.sk-label label {font-family: monospace;font-weight: bold;background-color: white;display: inline-block;line-height: 1.2em;}#sk-5c86933f-ab65-4144-80bb-2722352d4937 div.sk-label-container {position: relative;z-index: 2;text-align: center;}#sk-5c86933f-ab65-4144-80bb-2722352d4937 div.sk-container {/* jupyter's `normalize.less` sets `[hidden] { display: none; }` but bootstrap.min.css set `[hidden] { display: none !important; }` so we also need the `!important` here to be able to override the default hidden behavior on the sphinx rendered scikit-learn.org. See: https://github.com/scikit-learn/scikit-learn/issues/21755 */display: inline-block !important;position: relative;}#sk-5c86933f-ab65-4144-80bb-2722352d4937 div.sk-text-repr-fallback {display: none;}</style><div id=\"sk-5c86933f-ab65-4144-80bb-2722352d4937\" class=\"sk-top-container\"><div class=\"sk-text-repr-fallback\"><pre>GradientBoostingClassifier()</pre><b>Please rerun this cell to show the HTML repr or trust the notebook.</b></div><div class=\"sk-container\" hidden><div class=\"sk-item\"><div class=\"sk-estimator sk-toggleable\"><input class=\"sk-toggleable__control sk-hidden--visually\" id=\"90ad9ed1-5882-40d2-88cc-8e5d760e635f\" type=\"checkbox\" checked><label for=\"90ad9ed1-5882-40d2-88cc-8e5d760e635f\" class=\"sk-toggleable__label sk-toggleable__label-arrow\">GradientBoostingClassifier</label><div class=\"sk-toggleable__content\"><pre>GradientBoostingClassifier()</pre></div></div></div></div></div>"
            ]
          },
          "metadata": {},
          "execution_count": 63
        }
      ]
    },
    {
      "cell_type": "code",
      "source": [
        "print('Training accuracy:', gbc.score(X_train_pro, y_train))\n",
        "print('Testing accuracy:', gbc.score(X_test_pro, y_test))"
      ],
      "metadata": {
        "id": "DsTVck9RzU2h",
        "colab": {
          "base_uri": "https://localhost:8080/"
        },
        "outputId": "cdf8bb87-e861-46d7-9c82-1c552511e0c1"
      },
      "execution_count": null,
      "outputs": [
        {
          "output_type": "stream",
          "name": "stdout",
          "text": [
            "Training accuracy: 0.6148815695031502\n",
            "Testing accuracy: 0.32344497607655504\n"
          ]
        }
      ]
    },
    {
      "cell_type": "markdown",
      "source": [
        "# I have chosen to go with the Gradient Boosting model. While its not exceptionally accurate it is the most accurate out of the bunch. and can see a large improvement over the previous models"
      ],
      "metadata": {
        "id": "QMhxpZq_KOl9"
      }
    }
  ]
}