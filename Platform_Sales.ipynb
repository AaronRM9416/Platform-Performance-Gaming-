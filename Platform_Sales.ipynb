{
  "nbformat": 4,
  "nbformat_minor": 0,
  "metadata": {
    "colab": {
      "provenance": [],
      "collapsed_sections": [],
      "authorship_tag": "ABX9TyMuOG93UO8b2ycj/2eTzgfP",
      "include_colab_link": true
    },
    "kernelspec": {
      "name": "python3",
      "display_name": "Python 3"
    },
    "language_info": {
      "name": "python"
    }
  },
  "cells": [
    {
      "cell_type": "markdown",
      "metadata": {
        "id": "view-in-github",
        "colab_type": "text"
      },
      "source": [
        "<a href=\"https://colab.research.google.com/github/AaronRM9416/Platform-Performance-Gaming-/blob/main/Platform_Sales.ipynb\" target=\"_parent\"><img src=\"https://colab.research.google.com/assets/colab-badge.svg\" alt=\"Open In Colab\"/></a>"
      ]
    },
    {
      "cell_type": "markdown",
      "source": [
        "#Platform Sales and Review Scores\n",
        "\n",
        "Aaron Musselwhite"
      ],
      "metadata": {
        "id": "QCGE8SsTKkqY"
      }
    },
    {
      "cell_type": "code",
      "execution_count": null,
      "metadata": {
        "id": "UOqvsqEip6En"
      },
      "outputs": [],
      "source": [
        "import pandas as pd\n",
        "import numpy as np\n",
        "import seaborn as sns\n",
        "import matplotlib.pyplot as plt\n",
        "from sklearn.model_selection import train_test_split, GridSearchCV\n",
        "from sklearn.compose import make_column_selector, make_column_transformer              ##imports\n",
        "from sklearn.preprocessing import StandardScaler, OneHotEncoder\n",
        "from sklearn.impute import SimpleImputer\n",
        "from sklearn.pipeline import make_pipeline\n",
        "from sklearn.tree import DecisionTreeClassifier\n",
        "from sklearn.dummy import DummyClassifier\n",
        "from sklearn.neighbors import KNeighborsClassifier\n",
        "from sklearn.metrics import accuracy_score, precision_score, recall_score, classification_report, confusion_matrix, ConfusionMatrixDisplay\n",
        "from sklearn.decomposition import PCA\n",
        "from sklearn import set_config\n",
        "set_config(display='diagram')"
      ]
    },
    {
      "cell_type": "code",
      "source": [
        "games= pd.read_csv('https://docs.google.com/spreadsheets/d/e/2PACX-1vRJiyV_o3XPU0pvlMVCM8JrlpXl2hcP1hezOnFBGLQWZq3G0COBwVyOuakBhv31Lt9cgU18RSyBQpWp/pub?output=csv')\n",
        "games.head()"
      ],
      "metadata": {
        "colab": {
          "base_uri": "https://localhost:8080/",
          "height": 206
        },
        "id": "Q-x8UvI6qDxv",
        "outputId": "75f260d8-12d9-4af1-911c-67fe4ea52381"
      },
      "execution_count": null,
      "outputs": [
        {
          "output_type": "execute_result",
          "data": {
            "text/plain": [
              "                       Name Platform  Year_of_Release         Genre Publisher  \\\n",
              "0                Wii Sports      Wii           2006.0        Sports  Nintendo   \n",
              "1         Super Mario Bros.      NES           1985.0      Platform  Nintendo   \n",
              "2            Mario Kart Wii      Wii           2008.0        Racing  Nintendo   \n",
              "3         Wii Sports Resort      Wii           2009.0        Sports  Nintendo   \n",
              "4  Pokemon Red/Pokemon Blue       GB           1996.0  Role-Playing  Nintendo   \n",
              "\n",
              "   NA_Sales  EU_Sales  JP_Sales  Other_Sales  Global_Sales  Critic_Score  \\\n",
              "0     41.36     28.96      3.77         8.45         82.53          76.0   \n",
              "1     29.08      3.58      6.81         0.77         40.24           NaN   \n",
              "2     15.68     12.76      3.79         3.29         35.52          82.0   \n",
              "3     15.61     10.93      3.28         2.95         32.77          80.0   \n",
              "4     11.27      8.89     10.22         1.00         31.37           NaN   \n",
              "\n",
              "   Critic_Count  User_Score  User_Count Developer Rating  \n",
              "0          51.0         8.0       322.0  Nintendo      E  \n",
              "1           NaN         NaN         NaN       NaN    NaN  \n",
              "2          73.0         8.3       709.0  Nintendo      E  \n",
              "3          73.0         8.0       192.0  Nintendo      E  \n",
              "4           NaN         NaN         NaN       NaN    NaN  "
            ],
            "text/html": [
              "\n",
              "  <div id=\"df-fad0296c-5e86-455e-94e2-29587b515cb2\">\n",
              "    <div class=\"colab-df-container\">\n",
              "      <div>\n",
              "<style scoped>\n",
              "    .dataframe tbody tr th:only-of-type {\n",
              "        vertical-align: middle;\n",
              "    }\n",
              "\n",
              "    .dataframe tbody tr th {\n",
              "        vertical-align: top;\n",
              "    }\n",
              "\n",
              "    .dataframe thead th {\n",
              "        text-align: right;\n",
              "    }\n",
              "</style>\n",
              "<table border=\"1\" class=\"dataframe\">\n",
              "  <thead>\n",
              "    <tr style=\"text-align: right;\">\n",
              "      <th></th>\n",
              "      <th>Name</th>\n",
              "      <th>Platform</th>\n",
              "      <th>Year_of_Release</th>\n",
              "      <th>Genre</th>\n",
              "      <th>Publisher</th>\n",
              "      <th>NA_Sales</th>\n",
              "      <th>EU_Sales</th>\n",
              "      <th>JP_Sales</th>\n",
              "      <th>Other_Sales</th>\n",
              "      <th>Global_Sales</th>\n",
              "      <th>Critic_Score</th>\n",
              "      <th>Critic_Count</th>\n",
              "      <th>User_Score</th>\n",
              "      <th>User_Count</th>\n",
              "      <th>Developer</th>\n",
              "      <th>Rating</th>\n",
              "    </tr>\n",
              "  </thead>\n",
              "  <tbody>\n",
              "    <tr>\n",
              "      <th>0</th>\n",
              "      <td>Wii Sports</td>\n",
              "      <td>Wii</td>\n",
              "      <td>2006.0</td>\n",
              "      <td>Sports</td>\n",
              "      <td>Nintendo</td>\n",
              "      <td>41.36</td>\n",
              "      <td>28.96</td>\n",
              "      <td>3.77</td>\n",
              "      <td>8.45</td>\n",
              "      <td>82.53</td>\n",
              "      <td>76.0</td>\n",
              "      <td>51.0</td>\n",
              "      <td>8.0</td>\n",
              "      <td>322.0</td>\n",
              "      <td>Nintendo</td>\n",
              "      <td>E</td>\n",
              "    </tr>\n",
              "    <tr>\n",
              "      <th>1</th>\n",
              "      <td>Super Mario Bros.</td>\n",
              "      <td>NES</td>\n",
              "      <td>1985.0</td>\n",
              "      <td>Platform</td>\n",
              "      <td>Nintendo</td>\n",
              "      <td>29.08</td>\n",
              "      <td>3.58</td>\n",
              "      <td>6.81</td>\n",
              "      <td>0.77</td>\n",
              "      <td>40.24</td>\n",
              "      <td>NaN</td>\n",
              "      <td>NaN</td>\n",
              "      <td>NaN</td>\n",
              "      <td>NaN</td>\n",
              "      <td>NaN</td>\n",
              "      <td>NaN</td>\n",
              "    </tr>\n",
              "    <tr>\n",
              "      <th>2</th>\n",
              "      <td>Mario Kart Wii</td>\n",
              "      <td>Wii</td>\n",
              "      <td>2008.0</td>\n",
              "      <td>Racing</td>\n",
              "      <td>Nintendo</td>\n",
              "      <td>15.68</td>\n",
              "      <td>12.76</td>\n",
              "      <td>3.79</td>\n",
              "      <td>3.29</td>\n",
              "      <td>35.52</td>\n",
              "      <td>82.0</td>\n",
              "      <td>73.0</td>\n",
              "      <td>8.3</td>\n",
              "      <td>709.0</td>\n",
              "      <td>Nintendo</td>\n",
              "      <td>E</td>\n",
              "    </tr>\n",
              "    <tr>\n",
              "      <th>3</th>\n",
              "      <td>Wii Sports Resort</td>\n",
              "      <td>Wii</td>\n",
              "      <td>2009.0</td>\n",
              "      <td>Sports</td>\n",
              "      <td>Nintendo</td>\n",
              "      <td>15.61</td>\n",
              "      <td>10.93</td>\n",
              "      <td>3.28</td>\n",
              "      <td>2.95</td>\n",
              "      <td>32.77</td>\n",
              "      <td>80.0</td>\n",
              "      <td>73.0</td>\n",
              "      <td>8.0</td>\n",
              "      <td>192.0</td>\n",
              "      <td>Nintendo</td>\n",
              "      <td>E</td>\n",
              "    </tr>\n",
              "    <tr>\n",
              "      <th>4</th>\n",
              "      <td>Pokemon Red/Pokemon Blue</td>\n",
              "      <td>GB</td>\n",
              "      <td>1996.0</td>\n",
              "      <td>Role-Playing</td>\n",
              "      <td>Nintendo</td>\n",
              "      <td>11.27</td>\n",
              "      <td>8.89</td>\n",
              "      <td>10.22</td>\n",
              "      <td>1.00</td>\n",
              "      <td>31.37</td>\n",
              "      <td>NaN</td>\n",
              "      <td>NaN</td>\n",
              "      <td>NaN</td>\n",
              "      <td>NaN</td>\n",
              "      <td>NaN</td>\n",
              "      <td>NaN</td>\n",
              "    </tr>\n",
              "  </tbody>\n",
              "</table>\n",
              "</div>\n",
              "      <button class=\"colab-df-convert\" onclick=\"convertToInteractive('df-fad0296c-5e86-455e-94e2-29587b515cb2')\"\n",
              "              title=\"Convert this dataframe to an interactive table.\"\n",
              "              style=\"display:none;\">\n",
              "        \n",
              "  <svg xmlns=\"http://www.w3.org/2000/svg\" height=\"24px\"viewBox=\"0 0 24 24\"\n",
              "       width=\"24px\">\n",
              "    <path d=\"M0 0h24v24H0V0z\" fill=\"none\"/>\n",
              "    <path d=\"M18.56 5.44l.94 2.06.94-2.06 2.06-.94-2.06-.94-.94-2.06-.94 2.06-2.06.94zm-11 1L8.5 8.5l.94-2.06 2.06-.94-2.06-.94L8.5 2.5l-.94 2.06-2.06.94zm10 10l.94 2.06.94-2.06 2.06-.94-2.06-.94-.94-2.06-.94 2.06-2.06.94z\"/><path d=\"M17.41 7.96l-1.37-1.37c-.4-.4-.92-.59-1.43-.59-.52 0-1.04.2-1.43.59L10.3 9.45l-7.72 7.72c-.78.78-.78 2.05 0 2.83L4 21.41c.39.39.9.59 1.41.59.51 0 1.02-.2 1.41-.59l7.78-7.78 2.81-2.81c.8-.78.8-2.07 0-2.86zM5.41 20L4 18.59l7.72-7.72 1.47 1.35L5.41 20z\"/>\n",
              "  </svg>\n",
              "      </button>\n",
              "      \n",
              "  <style>\n",
              "    .colab-df-container {\n",
              "      display:flex;\n",
              "      flex-wrap:wrap;\n",
              "      gap: 12px;\n",
              "    }\n",
              "\n",
              "    .colab-df-convert {\n",
              "      background-color: #E8F0FE;\n",
              "      border: none;\n",
              "      border-radius: 50%;\n",
              "      cursor: pointer;\n",
              "      display: none;\n",
              "      fill: #1967D2;\n",
              "      height: 32px;\n",
              "      padding: 0 0 0 0;\n",
              "      width: 32px;\n",
              "    }\n",
              "\n",
              "    .colab-df-convert:hover {\n",
              "      background-color: #E2EBFA;\n",
              "      box-shadow: 0px 1px 2px rgba(60, 64, 67, 0.3), 0px 1px 3px 1px rgba(60, 64, 67, 0.15);\n",
              "      fill: #174EA6;\n",
              "    }\n",
              "\n",
              "    [theme=dark] .colab-df-convert {\n",
              "      background-color: #3B4455;\n",
              "      fill: #D2E3FC;\n",
              "    }\n",
              "\n",
              "    [theme=dark] .colab-df-convert:hover {\n",
              "      background-color: #434B5C;\n",
              "      box-shadow: 0px 1px 3px 1px rgba(0, 0, 0, 0.15);\n",
              "      filter: drop-shadow(0px 1px 2px rgba(0, 0, 0, 0.3));\n",
              "      fill: #FFFFFF;\n",
              "    }\n",
              "  </style>\n",
              "\n",
              "      <script>\n",
              "        const buttonEl =\n",
              "          document.querySelector('#df-fad0296c-5e86-455e-94e2-29587b515cb2 button.colab-df-convert');\n",
              "        buttonEl.style.display =\n",
              "          google.colab.kernel.accessAllowed ? 'block' : 'none';\n",
              "\n",
              "        async function convertToInteractive(key) {\n",
              "          const element = document.querySelector('#df-fad0296c-5e86-455e-94e2-29587b515cb2');\n",
              "          const dataTable =\n",
              "            await google.colab.kernel.invokeFunction('convertToInteractive',\n",
              "                                                     [key], {});\n",
              "          if (!dataTable) return;\n",
              "\n",
              "          const docLinkHtml = 'Like what you see? Visit the ' +\n",
              "            '<a target=\"_blank\" href=https://colab.research.google.com/notebooks/data_table.ipynb>data table notebook</a>'\n",
              "            + ' to learn more about interactive tables.';\n",
              "          element.innerHTML = '';\n",
              "          dataTable['output_type'] = 'display_data';\n",
              "          await google.colab.output.renderOutput(dataTable, element);\n",
              "          const docLink = document.createElement('div');\n",
              "          docLink.innerHTML = docLinkHtml;\n",
              "          element.appendChild(docLink);\n",
              "        }\n",
              "      </script>\n",
              "    </div>\n",
              "  </div>\n",
              "  "
            ]
          },
          "metadata": {},
          "execution_count": 2
        }
      ]
    },
    {
      "cell_type": "code",
      "source": [
        "df= games.copy()"
      ],
      "metadata": {
        "id": "ws6Rn88dqHZP"
      },
      "execution_count": null,
      "outputs": []
    },
    {
      "cell_type": "code",
      "source": [
        "df.info()"
      ],
      "metadata": {
        "colab": {
          "base_uri": "https://localhost:8080/"
        },
        "id": "Q0EriMLbqIuJ",
        "outputId": "1010f2c8-994e-440a-a5c3-16ba499b6380"
      },
      "execution_count": null,
      "outputs": [
        {
          "output_type": "stream",
          "name": "stdout",
          "text": [
            "<class 'pandas.core.frame.DataFrame'>\n",
            "RangeIndex: 16719 entries, 0 to 16718\n",
            "Data columns (total 16 columns):\n",
            " #   Column           Non-Null Count  Dtype  \n",
            "---  ------           --------------  -----  \n",
            " 0   Name             16717 non-null  object \n",
            " 1   Platform         16719 non-null  object \n",
            " 2   Year_of_Release  16450 non-null  float64\n",
            " 3   Genre            16717 non-null  object \n",
            " 4   Publisher        16665 non-null  object \n",
            " 5   NA_Sales         16719 non-null  float64\n",
            " 6   EU_Sales         16719 non-null  float64\n",
            " 7   JP_Sales         16719 non-null  float64\n",
            " 8   Other_Sales      16719 non-null  float64\n",
            " 9   Global_Sales     16719 non-null  float64\n",
            " 10  Critic_Score     8137 non-null   float64\n",
            " 11  Critic_Count     8137 non-null   float64\n",
            " 12  User_Score       7590 non-null   float64\n",
            " 13  User_Count       7590 non-null   float64\n",
            " 14  Developer        10096 non-null  object \n",
            " 15  Rating           9950 non-null   object \n",
            "dtypes: float64(10), object(6)\n",
            "memory usage: 2.0+ MB\n"
          ]
        }
      ]
    },
    {
      "cell_type": "code",
      "source": [
        "df.isna().sum()"
      ],
      "metadata": {
        "colab": {
          "base_uri": "https://localhost:8080/"
        },
        "id": "44If5SaoqM6-",
        "outputId": "71b4d1cc-0bdd-4d1b-e182-d3e4986a9a4f"
      },
      "execution_count": null,
      "outputs": [
        {
          "output_type": "execute_result",
          "data": {
            "text/plain": [
              "Name                  2\n",
              "Platform              0\n",
              "Year_of_Release     269\n",
              "Genre                 2\n",
              "Publisher            54\n",
              "NA_Sales              0\n",
              "EU_Sales              0\n",
              "JP_Sales              0\n",
              "Other_Sales           0\n",
              "Global_Sales          0\n",
              "Critic_Score       8582\n",
              "Critic_Count       8582\n",
              "User_Score         9129\n",
              "User_Count         9129\n",
              "Developer          6623\n",
              "Rating             6769\n",
              "dtype: int64"
            ]
          },
          "metadata": {},
          "execution_count": 5
        }
      ]
    },
    {
      "cell_type": "code",
      "source": [
        "df.duplicated().any()"
      ],
      "metadata": {
        "colab": {
          "base_uri": "https://localhost:8080/"
        },
        "id": "wFbScOMvqRqb",
        "outputId": "4d1cf228-38d6-433c-a702-8804db74fdaf"
      },
      "execution_count": null,
      "outputs": [
        {
          "output_type": "execute_result",
          "data": {
            "text/plain": [
              "False"
            ]
          },
          "metadata": {},
          "execution_count": 6
        }
      ]
    },
    {
      "cell_type": "code",
      "source": [
        "df.nunique()"
      ],
      "metadata": {
        "colab": {
          "base_uri": "https://localhost:8080/"
        },
        "id": "3RpVnuIqqTx1",
        "outputId": "d5e2264a-9eee-4d64-b38b-5ee2792fa88d"
      },
      "execution_count": null,
      "outputs": [
        {
          "output_type": "execute_result",
          "data": {
            "text/plain": [
              "Name               11562\n",
              "Platform              31\n",
              "Year_of_Release       39\n",
              "Genre                 12\n",
              "Publisher            581\n",
              "NA_Sales             402\n",
              "EU_Sales             307\n",
              "JP_Sales             244\n",
              "Other_Sales          155\n",
              "Global_Sales         629\n",
              "Critic_Score          82\n",
              "Critic_Count         106\n",
              "User_Score            95\n",
              "User_Count           888\n",
              "Developer           1696\n",
              "Rating                 8\n",
              "dtype: int64"
            ]
          },
          "metadata": {},
          "execution_count": 7
        }
      ]
    },
    {
      "cell_type": "code",
      "source": [
        "df =df.drop(columns=['Year_of_Release','Genre','User_Count','Developer','Critic_Count','Rating','Other_Sales'])"
      ],
      "metadata": {
        "id": "BD9xQQuTqYz7"
      },
      "execution_count": null,
      "outputs": []
    },
    {
      "cell_type": "code",
      "source": [
        "df.info()"
      ],
      "metadata": {
        "colab": {
          "base_uri": "https://localhost:8080/"
        },
        "id": "OCT_Jzvyqasj",
        "outputId": "bf10b93f-67ad-4960-f646-6b6ebc260409"
      },
      "execution_count": null,
      "outputs": [
        {
          "output_type": "stream",
          "name": "stdout",
          "text": [
            "<class 'pandas.core.frame.DataFrame'>\n",
            "RangeIndex: 16719 entries, 0 to 16718\n",
            "Data columns (total 9 columns):\n",
            " #   Column        Non-Null Count  Dtype  \n",
            "---  ------        --------------  -----  \n",
            " 0   Name          16717 non-null  object \n",
            " 1   Platform      16719 non-null  object \n",
            " 2   Publisher     16665 non-null  object \n",
            " 3   NA_Sales      16719 non-null  float64\n",
            " 4   EU_Sales      16719 non-null  float64\n",
            " 5   JP_Sales      16719 non-null  float64\n",
            " 6   Global_Sales  16719 non-null  float64\n",
            " 7   Critic_Score  8137 non-null   float64\n",
            " 8   User_Score    7590 non-null   float64\n",
            "dtypes: float64(6), object(3)\n",
            "memory usage: 1.1+ MB\n"
          ]
        }
      ]
    },
    {
      "cell_type": "code",
      "source": [
        "Plat_counts = df.Platform.value_counts(ascending=True)\n",
        "Plat_counts.head()"
      ],
      "metadata": {
        "colab": {
          "base_uri": "https://localhost:8080/"
        },
        "id": "q22WSiOHuS5n",
        "outputId": "01b003cf-63d6-4015-bccf-959c124bdeeb"
      },
      "execution_count": null,
      "outputs": [
        {
          "output_type": "execute_result",
          "data": {
            "text/plain": [
              "PCFX    1\n",
              "GG      1\n",
              "TG16    2\n",
              "3DO     3\n",
              "WS      6\n",
              "Name: Platform, dtype: int64"
            ]
          },
          "metadata": {},
          "execution_count": 10
        }
      ]
    },
    {
      "cell_type": "code",
      "source": [
        "plat_group = df.groupby('Platform').mean().reset_index()\n",
        "\n",
        "sns.barplot(data=plat_group, x='Platform', y='Critic_Score')\n",
        "plt.ticklabel_format(style='plain', axis='y')\n",
        "plt.title('Critic Score by Platform', fontsize=20)\n",
        "plt.xlabel('Platform', fontsize=15)\n",
        "plt.ylabel('Critic Score', fontsize=15)\n",
        "plt.xticks(rotation = 45);"
      ],
      "metadata": {
        "id": "rakI0PzcuV0e",
        "colab": {
          "base_uri": "https://localhost:8080/",
          "height": 321
        },
        "outputId": "7a832f79-2fdc-4912-a0c7-e7053321d0a9"
      },
      "execution_count": null,
      "outputs": [
        {
          "output_type": "display_data",
          "data": {
            "text/plain": [
              "<Figure size 432x288 with 1 Axes>"
            ],
            "image/png": "[encoded data removed]"
          },
          "metadata": {
            "needs_background": "light"
          }
        }
      ]
    },
    {
      "cell_type": "code",
      "source": [
        "fig, axes = plt.subplots(nrows = 1, ncols = 1)\n",
        "\n",
        "axes.plot(plat_group['Platform'], plat_group['Global_Sales'])\n",
        "axes.set_title('Sales By Platform', fontsize=20)\n",
        "axes.set_ylabel('Sales', fontsize=20)\n",
        "axes.set_xlabel(\"Platform\", fontsize=20)\n",
        "axes.grid()\n",
        "plt.xticks(rotation = 45);\n",
        "plt.tight_layout()\n",
        "plt.show()"
      ],
      "metadata": {
        "colab": {
          "base_uri": "https://localhost:8080/",
          "height": 297
        },
        "id": "AFvy6r7hxn-p",
        "outputId": "e2a2647d-a11d-4f8d-de91-5e6d4f77ec49"
      },
      "execution_count": null,
      "outputs": [
        {
          "output_type": "display_data",
          "data": {
            "text/plain": [
              "<Figure size 432x288 with 1 Axes>"
            ],
            "image/png": "[encoded data removed]"
          },
          "metadata": {
            "needs_background": "light"
          }
        }
      ]
    },
    {
      "cell_type": "code",
      "source": [
        "X = df.drop(columns=['Platform'])\n",
        "y = df['Platform']"
      ],
      "metadata": {
        "id": "JElcc1OOyMgv"
      },
      "execution_count": null,
      "outputs": []
    },
    {
      "cell_type": "code",
      "source": [
        "X_train, X_test, y_train, y_test = train_test_split(X, y, random_state=42)"
      ],
      "metadata": {
        "id": "K2974jqXyPoy"
      },
      "execution_count": null,
      "outputs": []
    },
    {
      "cell_type": "code",
      "source": [
        "num_select = make_column_selector(dtype_include='number')\n",
        "cat_select = make_column_selector(dtype_include='object')"
      ],
      "metadata": {
        "id": "qtH5UM1yyRL0"
      },
      "execution_count": null,
      "outputs": []
    },
    {
      "cell_type": "code",
      "source": [
        "num_column = num_select(X_train)\n",
        "cat_column = cat_select(X_train)\n",
        "print('numeric columns are', num_column)\n",
        "print('categorical columns are', cat_column)"
      ],
      "metadata": {
        "colab": {
          "base_uri": "https://localhost:8080/"
        },
        "id": "S9-PJRQ2yUyI",
        "outputId": "ebb76c26-b31e-4fb7-c103-618e77e7e743"
      },
      "execution_count": null,
      "outputs": [
        {
          "output_type": "stream",
          "name": "stdout",
          "text": [
            "numeric columns are ['NA_Sales', 'EU_Sales', 'JP_Sales', 'Global_Sales', 'Critic_Score', 'User_Score']\n",
            "categorical columns are ['Name', 'Publisher']\n"
          ]
        }
      ]
    },
    {
      "cell_type": "code",
      "source": [
        "freq_imputer = SimpleImputer(strategy='most_frequent')\n",
        "mean_imputer = SimpleImputer(strategy='mean')"
      ],
      "metadata": {
        "id": "qsrgssyKyXb0"
      },
      "execution_count": null,
      "outputs": []
    },
    {
      "cell_type": "code",
      "source": [
        "num_tup = (mean_imputer, num_select)\n",
        "cat_tup = (freq_imputer, cat_select)\n",
        "col_transform = make_column_transformer(num_tup, cat_tup, remainder='passthrough')\n",
        "col_transform"
      ],
      "metadata": {
        "colab": {
          "base_uri": "https://localhost:8080/",
          "height": 118
        },
        "id": "pEO9aBqhziOD",
        "outputId": "cace91be-595f-483a-c0bc-e146f03faf56"
      },
      "execution_count": null,
      "outputs": [
        {
          "output_type": "execute_result",
          "data": {
            "text/plain": [
              "ColumnTransformer(remainder='passthrough',\n",
              "                  transformers=[('simpleimputer-1', SimpleImputer(),\n",
              "                                 <sklearn.compose._column_transformer.make_column_selector object at 0x7f8f98416590>),\n",
              "                                ('simpleimputer-2',\n",
              "                                 SimpleImputer(strategy='most_frequent'),\n",
              "                                 <sklearn.compose._column_transformer.make_column_selector object at 0x7f8f98416e10>)])"
            ],
            "text/html": [
              "<style>#sk-1ee04e97-e97b-4925-8dc7-95c566eae717 {color: black;background-color: white;}#sk-1ee04e97-e97b-4925-8dc7-95c566eae717 pre{padding: 0;}#sk-1ee04e97-e97b-4925-8dc7-95c566eae717 div.sk-toggleable {background-color: white;}#sk-1ee04e97-e97b-4925-8dc7-95c566eae717 label.sk-toggleable__label {cursor: pointer;display: block;width: 100%;margin-bottom: 0;padding: 0.3em;box-sizing: border-box;text-align: center;}#sk-1ee04e97-e97b-4925-8dc7-95c566eae717 label.sk-toggleable__label-arrow:before {content: \"▸\";float: left;margin-right: 0.25em;color: #696969;}#sk-1ee04e97-e97b-4925-8dc7-95c566eae717 label.sk-toggleable__label-arrow:hover:before {color: black;}#sk-1ee04e97-e97b-4925-8dc7-95c566eae717 div.sk-estimator:hover label.sk-toggleable__label-arrow:before {color: black;}#sk-1ee04e97-e97b-4925-8dc7-95c566eae717 div.sk-toggleable__content {max-height: 0;max-width: 0;overflow: hidden;text-align: left;background-color: #f0f8ff;}#sk-1ee04e97-e97b-4925-8dc7-95c566eae717 div.sk-toggleable__content pre {margin: 0.2em;color: black;border-radius: 0.25em;background-color: #f0f8ff;}#sk-1ee04e97-e97b-4925-8dc7-95c566eae717 input.sk-toggleable__control:checked~div.sk-toggleable__content {max-height: 200px;max-width: 100%;overflow: auto;}#sk-1ee04e97-e97b-4925-8dc7-95c566eae717 input.sk-toggleable__control:checked~label.sk-toggleable__label-arrow:before {content: \"▾\";}#sk-1ee04e97-e97b-4925-8dc7-95c566eae717 div.sk-estimator input.sk-toggleable__control:checked~label.sk-toggleable__label {background-color: #d4ebff;}#sk-1ee04e97-e97b-4925-8dc7-95c566eae717 div.sk-label input.sk-toggleable__control:checked~label.sk-toggleable__label {background-color: #d4ebff;}#sk-1ee04e97-e97b-4925-8dc7-95c566eae717 input.sk-hidden--visually {border: 0;clip: rect(1px 1px 1px 1px);clip: rect(1px, 1px, 1px, 1px);height: 1px;margin: -1px;overflow: hidden;padding: 0;position: absolute;width: 1px;}#sk-1ee04e97-e97b-4925-8dc7-95c566eae717 div.sk-estimator {font-family: monospace;background-color: #f0f8ff;border: 1px dotted black;border-radius: 0.25em;box-sizing: border-box;margin-bottom: 0.5em;}#sk-1ee04e97-e97b-4925-8dc7-95c566eae717 div.sk-estimator:hover {background-color: #d4ebff;}#sk-1ee04e97-e97b-4925-8dc7-95c566eae717 div.sk-parallel-item::after {content: \"\";width: 100%;border-bottom: 1px solid gray;flex-grow: 1;}#sk-1ee04e97-e97b-4925-8dc7-95c566eae717 div.sk-label:hover label.sk-toggleable__label {background-color: #d4ebff;}#sk-1ee04e97-e97b-4925-8dc7-95c566eae717 div.sk-serial::before {content: \"\";position: absolute;border-left: 1px solid gray;box-sizing: border-box;top: 2em;bottom: 0;left: 50%;}#sk-1ee04e97-e97b-4925-8dc7-95c566eae717 div.sk-serial {display: flex;flex-direction: column;align-items: center;background-color: white;padding-right: 0.2em;padding-left: 0.2em;}#sk-1ee04e97-e97b-4925-8dc7-95c566eae717 div.sk-item {z-index: 1;}#sk-1ee04e97-e97b-4925-8dc7-95c566eae717 div.sk-parallel {display: flex;align-items: stretch;justify-content: center;background-color: white;}#sk-1ee04e97-e97b-4925-8dc7-95c566eae717 div.sk-parallel::before {content: \"\";position: absolute;border-left: 1px solid gray;box-sizing: border-box;top: 2em;bottom: 0;left: 50%;}#sk-1ee04e97-e97b-4925-8dc7-95c566eae717 div.sk-parallel-item {display: flex;flex-direction: column;position: relative;background-color: white;}#sk-1ee04e97-e97b-4925-8dc7-95c566eae717 div.sk-parallel-item:first-child::after {align-self: flex-end;width: 50%;}#sk-1ee04e97-e97b-4925-8dc7-95c566eae717 div.sk-parallel-item:last-child::after {align-self: flex-start;width: 50%;}#sk-1ee04e97-e97b-4925-8dc7-95c566eae717 div.sk-parallel-item:only-child::after {width: 0;}#sk-1ee04e97-e97b-4925-8dc7-95c566eae717 div.sk-dashed-wrapped {border: 1px dashed gray;margin: 0 0.4em 0.5em 0.4em;box-sizing: border-box;padding-bottom: 0.4em;background-color: white;position: relative;}#sk-1ee04e97-e97b-4925-8dc7-95c566eae717 div.sk-label label {font-family: monospace;font-weight: bold;background-color: white;display: inline-block;line-height: 1.2em;}#sk-1ee04e97-e97b-4925-8dc7-95c566eae717 div.sk-label-container {position: relative;z-index: 2;text-align: center;}#sk-1ee04e97-e97b-4925-8dc7-95c566eae717 div.sk-container {/* jupyter's `normalize.less` sets `[hidden] { display: none; }` but bootstrap.min.css set `[hidden] { display: none !important; }` so we also need the `!important` here to be able to override the default hidden behavior on the sphinx rendered scikit-learn.org. See: https://github.com/scikit-learn/scikit-learn/issues/21755 */display: inline-block !important;position: relative;}#sk-1ee04e97-e97b-4925-8dc7-95c566eae717 div.sk-text-repr-fallback {display: none;}</style><div id=\"sk-1ee04e97-e97b-4925-8dc7-95c566eae717\" class=\"sk-top-container\"><div class=\"sk-text-repr-fallback\"><pre>ColumnTransformer(remainder=&#x27;passthrough&#x27;,\n",
              "                  transformers=[(&#x27;simpleimputer-1&#x27;, SimpleImputer(),\n",
              "                                 &lt;sklearn.compose._column_transformer.make_column_selector object at 0x7f8f98416590&gt;),\n",
              "                                (&#x27;simpleimputer-2&#x27;,\n",
              "                                 SimpleImputer(strategy=&#x27;most_frequent&#x27;),\n",
              "                                 &lt;sklearn.compose._column_transformer.make_column_selector object at 0x7f8f98416e10&gt;)])</pre><b>Please rerun this cell to show the HTML repr or trust the notebook.</b></div><div class=\"sk-container\" hidden><div class=\"sk-item sk-dashed-wrapped\"><div class=\"sk-label-container\"><div class=\"sk-label sk-toggleable\"><input class=\"sk-toggleable__control sk-hidden--visually\" id=\"9764e0c8-1196-44a2-9ce9-45d1199829c9\" type=\"checkbox\" ><label for=\"9764e0c8-1196-44a2-9ce9-45d1199829c9\" class=\"sk-toggleable__label sk-toggleable__label-arrow\">ColumnTransformer</label><div class=\"sk-toggleable__content\"><pre>ColumnTransformer(remainder=&#x27;passthrough&#x27;,\n",
              "                  transformers=[(&#x27;simpleimputer-1&#x27;, SimpleImputer(),\n",
              "                                 &lt;sklearn.compose._column_transformer.make_column_selector object at 0x7f8f98416590&gt;),\n",
              "                                (&#x27;simpleimputer-2&#x27;,\n",
              "                                 SimpleImputer(strategy=&#x27;most_frequent&#x27;),\n",
              "                                 &lt;sklearn.compose._column_transformer.make_column_selector object at 0x7f8f98416e10&gt;)])</pre></div></div></div><div class=\"sk-parallel\"><div class=\"sk-parallel-item\"><div class=\"sk-item\"><div class=\"sk-label-container\"><div class=\"sk-label sk-toggleable\"><input class=\"sk-toggleable__control sk-hidden--visually\" id=\"52fb6a79-d052-4691-aace-e2496689f70f\" type=\"checkbox\" ><label for=\"52fb6a79-d052-4691-aace-e2496689f70f\" class=\"sk-toggleable__label sk-toggleable__label-arrow\">simpleimputer-1</label><div class=\"sk-toggleable__content\"><pre>&lt;sklearn.compose._column_transformer.make_column_selector object at 0x7f8f98416590&gt;</pre></div></div></div><div class=\"sk-serial\"><div class=\"sk-item\"><div class=\"sk-estimator sk-toggleable\"><input class=\"sk-toggleable__control sk-hidden--visually\" id=\"4371124a-4ee1-4492-ae03-5dbd82afb06a\" type=\"checkbox\" ><label for=\"4371124a-4ee1-4492-ae03-5dbd82afb06a\" class=\"sk-toggleable__label sk-toggleable__label-arrow\">SimpleImputer</label><div class=\"sk-toggleable__content\"><pre>SimpleImputer()</pre></div></div></div></div></div></div><div class=\"sk-parallel-item\"><div class=\"sk-item\"><div class=\"sk-label-container\"><div class=\"sk-label sk-toggleable\"><input class=\"sk-toggleable__control sk-hidden--visually\" id=\"1c3f8e7b-c5a9-43c1-95d0-51c1d3d482da\" type=\"checkbox\" ><label for=\"1c3f8e7b-c5a9-43c1-95d0-51c1d3d482da\" class=\"sk-toggleable__label sk-toggleable__label-arrow\">simpleimputer-2</label><div class=\"sk-toggleable__content\"><pre>&lt;sklearn.compose._column_transformer.make_column_selector object at 0x7f8f98416e10&gt;</pre></div></div></div><div class=\"sk-serial\"><div class=\"sk-item\"><div class=\"sk-estimator sk-toggleable\"><input class=\"sk-toggleable__control sk-hidden--visually\" id=\"f9dbf7dd-8fda-455d-b69f-5287888a6906\" type=\"checkbox\" ><label for=\"f9dbf7dd-8fda-455d-b69f-5287888a6906\" class=\"sk-toggleable__label sk-toggleable__label-arrow\">SimpleImputer</label><div class=\"sk-toggleable__content\"><pre>SimpleImputer(strategy=&#x27;most_frequent&#x27;)</pre></div></div></div></div></div></div><div class=\"sk-parallel-item\"><div class=\"sk-item\"><div class=\"sk-label-container\"><div class=\"sk-label sk-toggleable\"><input class=\"sk-toggleable__control sk-hidden--visually\" id=\"641d43d7-5617-43e5-805f-891ec3e8aa4f\" type=\"checkbox\" ><label for=\"641d43d7-5617-43e5-805f-891ec3e8aa4f\" class=\"sk-toggleable__label sk-toggleable__label-arrow\">remainder</label><div class=\"sk-toggleable__content\"><pre></pre></div></div></div><div class=\"sk-serial\"><div class=\"sk-item\"><div class=\"sk-estimator sk-toggleable\"><input class=\"sk-toggleable__control sk-hidden--visually\" id=\"9d1776da-6210-4c14-a161-f1374ebc5de7\" type=\"checkbox\" ><label for=\"9d1776da-6210-4c14-a161-f1374ebc5de7\" class=\"sk-toggleable__label sk-toggleable__label-arrow\">passthrough</label><div class=\"sk-toggleable__content\"><pre>passthrough</pre></div></div></div></div></div></div></div></div></div></div>"
            ]
          },
          "metadata": {},
          "execution_count": 18
        }
      ]
    },
    {
      "cell_type": "code",
      "source": [
        "col_transform.fit(X_train)\n",
        "X_train_imputed = col_transform.transform(X_train)\n",
        "X_test_imputed = col_transform.transform(X_test) \n",
        "X_train_imputed = pd.DataFrame(X_train_imputed, columns=X_train.columns)\n",
        "X_train_imputed.isna().sum()"
      ],
      "metadata": {
        "colab": {
          "base_uri": "https://localhost:8080/"
        },
        "id": "wgmInSNUzrPA",
        "outputId": "1b0de29e-c8d7-48d2-c2b3-6c6d68f8a4d3"
      },
      "execution_count": null,
      "outputs": [
        {
          "output_type": "execute_result",
          "data": {
            "text/plain": [
              "Name            0\n",
              "Publisher       0\n",
              "NA_Sales        0\n",
              "EU_Sales        0\n",
              "JP_Sales        0\n",
              "Global_Sales    0\n",
              "Critic_Score    0\n",
              "User_Score      0\n",
              "dtype: int64"
            ]
          },
          "metadata": {},
          "execution_count": 19
        }
      ]
    },
    {
      "cell_type": "code",
      "source": [
        "Stan_Scale = StandardScaler(with_mean=False)\n",
        "OHE = OneHotEncoder(handle_unknown='ignore', sparse=False)"
      ],
      "metadata": {
        "id": "71shAHbLzvSw"
      },
      "execution_count": null,
      "outputs": []
    },
    {
      "cell_type": "code",
      "source": [
        "num_pipe = make_pipeline(mean_imputer, Stan_Scale)\n",
        "num_pipe"
      ],
      "metadata": {
        "colab": {
          "base_uri": "https://localhost:8080/",
          "height": 126
        },
        "id": "FlH46h_1zw3u",
        "outputId": "55ce9fe6-f7ec-4c7a-8cc9-acdf5d130263"
      },
      "execution_count": null,
      "outputs": [
        {
          "output_type": "execute_result",
          "data": {
            "text/plain": [
              "Pipeline(steps=[('simpleimputer', SimpleImputer()),\n",
              "                ('standardscaler', StandardScaler(with_mean=False))])"
            ],
            "text/html": [
              "<style>#sk-a222a54f-d718-44fe-913f-9ed584e24865 {color: black;background-color: white;}#sk-a222a54f-d718-44fe-913f-9ed584e24865 pre{padding: 0;}#sk-a222a54f-d718-44fe-913f-9ed584e24865 div.sk-toggleable {background-color: white;}#sk-a222a54f-d718-44fe-913f-9ed584e24865 label.sk-toggleable__label {cursor: pointer;display: block;width: 100%;margin-bottom: 0;padding: 0.3em;box-sizing: border-box;text-align: center;}#sk-a222a54f-d718-44fe-913f-9ed584e24865 label.sk-toggleable__label-arrow:before {content: \"▸\";float: left;margin-right: 0.25em;color: #696969;}#sk-a222a54f-d718-44fe-913f-9ed584e24865 label.sk-toggleable__label-arrow:hover:before {color: black;}#sk-a222a54f-d718-44fe-913f-9ed584e24865 div.sk-estimator:hover label.sk-toggleable__label-arrow:before {color: black;}#sk-a222a54f-d718-44fe-913f-9ed584e24865 div.sk-toggleable__content {max-height: 0;max-width: 0;overflow: hidden;text-align: left;background-color: #f0f8ff;}#sk-a222a54f-d718-44fe-913f-9ed584e24865 div.sk-toggleable__content pre {margin: 0.2em;color: black;border-radius: 0.25em;background-color: #f0f8ff;}#sk-a222a54f-d718-44fe-913f-9ed584e24865 input.sk-toggleable__control:checked~div.sk-toggleable__content {max-height: 200px;max-width: 100%;overflow: auto;}#sk-a222a54f-d718-44fe-913f-9ed584e24865 input.sk-toggleable__control:checked~label.sk-toggleable__label-arrow:before {content: \"▾\";}#sk-a222a54f-d718-44fe-913f-9ed584e24865 div.sk-estimator input.sk-toggleable__control:checked~label.sk-toggleable__label {background-color: #d4ebff;}#sk-a222a54f-d718-44fe-913f-9ed584e24865 div.sk-label input.sk-toggleable__control:checked~label.sk-toggleable__label {background-color: #d4ebff;}#sk-a222a54f-d718-44fe-913f-9ed584e24865 input.sk-hidden--visually {border: 0;clip: rect(1px 1px 1px 1px);clip: rect(1px, 1px, 1px, 1px);height: 1px;margin: -1px;overflow: hidden;padding: 0;position: absolute;width: 1px;}#sk-a222a54f-d718-44fe-913f-9ed584e24865 div.sk-estimator {font-family: monospace;background-color: #f0f8ff;border: 1px dotted black;border-radius: 0.25em;box-sizing: border-box;margin-bottom: 0.5em;}#sk-a222a54f-d718-44fe-913f-9ed584e24865 div.sk-estimator:hover {background-color: #d4ebff;}#sk-a222a54f-d718-44fe-913f-9ed584e24865 div.sk-parallel-item::after {content: \"\";width: 100%;border-bottom: 1px solid gray;flex-grow: 1;}#sk-a222a54f-d718-44fe-913f-9ed584e24865 div.sk-label:hover label.sk-toggleable__label {background-color: #d4ebff;}#sk-a222a54f-d718-44fe-913f-9ed584e24865 div.sk-serial::before {content: \"\";position: absolute;border-left: 1px solid gray;box-sizing: border-box;top: 2em;bottom: 0;left: 50%;}#sk-a222a54f-d718-44fe-913f-9ed584e24865 div.sk-serial {display: flex;flex-direction: column;align-items: center;background-color: white;padding-right: 0.2em;padding-left: 0.2em;}#sk-a222a54f-d718-44fe-913f-9ed584e24865 div.sk-item {z-index: 1;}#sk-a222a54f-d718-44fe-913f-9ed584e24865 div.sk-parallel {display: flex;align-items: stretch;justify-content: center;background-color: white;}#sk-a222a54f-d718-44fe-913f-9ed584e24865 div.sk-parallel::before {content: \"\";position: absolute;border-left: 1px solid gray;box-sizing: border-box;top: 2em;bottom: 0;left: 50%;}#sk-a222a54f-d718-44fe-913f-9ed584e24865 div.sk-parallel-item {display: flex;flex-direction: column;position: relative;background-color: white;}#sk-a222a54f-d718-44fe-913f-9ed584e24865 div.sk-parallel-item:first-child::after {align-self: flex-end;width: 50%;}#sk-a222a54f-d718-44fe-913f-9ed584e24865 div.sk-parallel-item:last-child::after {align-self: flex-start;width: 50%;}#sk-a222a54f-d718-44fe-913f-9ed584e24865 div.sk-parallel-item:only-child::after {width: 0;}#sk-a222a54f-d718-44fe-913f-9ed584e24865 div.sk-dashed-wrapped {border: 1px dashed gray;margin: 0 0.4em 0.5em 0.4em;box-sizing: border-box;padding-bottom: 0.4em;background-color: white;position: relative;}#sk-a222a54f-d718-44fe-913f-9ed584e24865 div.sk-label label {font-family: monospace;font-weight: bold;background-color: white;display: inline-block;line-height: 1.2em;}#sk-a222a54f-d718-44fe-913f-9ed584e24865 div.sk-label-container {position: relative;z-index: 2;text-align: center;}#sk-a222a54f-d718-44fe-913f-9ed584e24865 div.sk-container {/* jupyter's `normalize.less` sets `[hidden] { display: none; }` but bootstrap.min.css set `[hidden] { display: none !important; }` so we also need the `!important` here to be able to override the default hidden behavior on the sphinx rendered scikit-learn.org. See: https://github.com/scikit-learn/scikit-learn/issues/21755 */display: inline-block !important;position: relative;}#sk-a222a54f-d718-44fe-913f-9ed584e24865 div.sk-text-repr-fallback {display: none;}</style><div id=\"sk-a222a54f-d718-44fe-913f-9ed584e24865\" class=\"sk-top-container\"><div class=\"sk-text-repr-fallback\"><pre>Pipeline(steps=[(&#x27;simpleimputer&#x27;, SimpleImputer()),\n",
              "                (&#x27;standardscaler&#x27;, StandardScaler(with_mean=False))])</pre><b>Please rerun this cell to show the HTML repr or trust the notebook.</b></div><div class=\"sk-container\" hidden><div class=\"sk-item sk-dashed-wrapped\"><div class=\"sk-label-container\"><div class=\"sk-label sk-toggleable\"><input class=\"sk-toggleable__control sk-hidden--visually\" id=\"ba4d4bdd-b7ac-4e36-8e42-687f16a61e55\" type=\"checkbox\" ><label for=\"ba4d4bdd-b7ac-4e36-8e42-687f16a61e55\" class=\"sk-toggleable__label sk-toggleable__label-arrow\">Pipeline</label><div class=\"sk-toggleable__content\"><pre>Pipeline(steps=[(&#x27;simpleimputer&#x27;, SimpleImputer()),\n",
              "                (&#x27;standardscaler&#x27;, StandardScaler(with_mean=False))])</pre></div></div></div><div class=\"sk-serial\"><div class=\"sk-item\"><div class=\"sk-estimator sk-toggleable\"><input class=\"sk-toggleable__control sk-hidden--visually\" id=\"5ae7e342-bea1-455f-8b08-a5317fadda64\" type=\"checkbox\" ><label for=\"5ae7e342-bea1-455f-8b08-a5317fadda64\" class=\"sk-toggleable__label sk-toggleable__label-arrow\">SimpleImputer</label><div class=\"sk-toggleable__content\"><pre>SimpleImputer()</pre></div></div></div><div class=\"sk-item\"><div class=\"sk-estimator sk-toggleable\"><input class=\"sk-toggleable__control sk-hidden--visually\" id=\"cc109332-a9ad-4cef-8ff1-9e1939bd0ff5\" type=\"checkbox\" ><label for=\"cc109332-a9ad-4cef-8ff1-9e1939bd0ff5\" class=\"sk-toggleable__label sk-toggleable__label-arrow\">StandardScaler</label><div class=\"sk-toggleable__content\"><pre>StandardScaler(with_mean=False)</pre></div></div></div></div></div></div></div>"
            ]
          },
          "metadata": {},
          "execution_count": 21
        }
      ]
    },
    {
      "cell_type": "code",
      "source": [
        "nom_pipe = make_pipeline(freq_imputer, OHE)\n",
        "nom_pipe"
      ],
      "metadata": {
        "colab": {
          "base_uri": "https://localhost:8080/",
          "height": 126
        },
        "id": "AFq9UW7mzzet",
        "outputId": "2b1125c2-2ee8-4c27-b1d0-1bb33d605169"
      },
      "execution_count": null,
      "outputs": [
        {
          "output_type": "execute_result",
          "data": {
            "text/plain": [
              "Pipeline(steps=[('simpleimputer', SimpleImputer(strategy='most_frequent')),\n",
              "                ('onehotencoder',\n",
              "                 OneHotEncoder(handle_unknown='ignore', sparse=False))])"
            ],
            "text/html": [
              "<style>#sk-6a7cd2c0-29d3-4e9c-af27-0d80c42a7362 {color: black;background-color: white;}#sk-6a7cd2c0-29d3-4e9c-af27-0d80c42a7362 pre{padding: 0;}#sk-6a7cd2c0-29d3-4e9c-af27-0d80c42a7362 div.sk-toggleable {background-color: white;}#sk-6a7cd2c0-29d3-4e9c-af27-0d80c42a7362 label.sk-toggleable__label {cursor: pointer;display: block;width: 100%;margin-bottom: 0;padding: 0.3em;box-sizing: border-box;text-align: center;}#sk-6a7cd2c0-29d3-4e9c-af27-0d80c42a7362 label.sk-toggleable__label-arrow:before {content: \"▸\";float: left;margin-right: 0.25em;color: #696969;}#sk-6a7cd2c0-29d3-4e9c-af27-0d80c42a7362 label.sk-toggleable__label-arrow:hover:before {color: black;}#sk-6a7cd2c0-29d3-4e9c-af27-0d80c42a7362 div.sk-estimator:hover label.sk-toggleable__label-arrow:before {color: black;}#sk-6a7cd2c0-29d3-4e9c-af27-0d80c42a7362 div.sk-toggleable__content {max-height: 0;max-width: 0;overflow: hidden;text-align: left;background-color: #f0f8ff;}#sk-6a7cd2c0-29d3-4e9c-af27-0d80c42a7362 div.sk-toggleable__content pre {margin: 0.2em;color: black;border-radius: 0.25em;background-color: #f0f8ff;}#sk-6a7cd2c0-29d3-4e9c-af27-0d80c42a7362 input.sk-toggleable__control:checked~div.sk-toggleable__content {max-height: 200px;max-width: 100%;overflow: auto;}#sk-6a7cd2c0-29d3-4e9c-af27-0d80c42a7362 input.sk-toggleable__control:checked~label.sk-toggleable__label-arrow:before {content: \"▾\";}#sk-6a7cd2c0-29d3-4e9c-af27-0d80c42a7362 div.sk-estimator input.sk-toggleable__control:checked~label.sk-toggleable__label {background-color: #d4ebff;}#sk-6a7cd2c0-29d3-4e9c-af27-0d80c42a7362 div.sk-label input.sk-toggleable__control:checked~label.sk-toggleable__label {background-color: #d4ebff;}#sk-6a7cd2c0-29d3-4e9c-af27-0d80c42a7362 input.sk-hidden--visually {border: 0;clip: rect(1px 1px 1px 1px);clip: rect(1px, 1px, 1px, 1px);height: 1px;margin: -1px;overflow: hidden;padding: 0;position: absolute;width: 1px;}#sk-6a7cd2c0-29d3-4e9c-af27-0d80c42a7362 div.sk-estimator {font-family: monospace;background-color: #f0f8ff;border: 1px dotted black;border-radius: 0.25em;box-sizing: border-box;margin-bottom: 0.5em;}#sk-6a7cd2c0-29d3-4e9c-af27-0d80c42a7362 div.sk-estimator:hover {background-color: #d4ebff;}#sk-6a7cd2c0-29d3-4e9c-af27-0d80c42a7362 div.sk-parallel-item::after {content: \"\";width: 100%;border-bottom: 1px solid gray;flex-grow: 1;}#sk-6a7cd2c0-29d3-4e9c-af27-0d80c42a7362 div.sk-label:hover label.sk-toggleable__label {background-color: #d4ebff;}#sk-6a7cd2c0-29d3-4e9c-af27-0d80c42a7362 div.sk-serial::before {content: \"\";position: absolute;border-left: 1px solid gray;box-sizing: border-box;top: 2em;bottom: 0;left: 50%;}#sk-6a7cd2c0-29d3-4e9c-af27-0d80c42a7362 div.sk-serial {display: flex;flex-direction: column;align-items: center;background-color: white;padding-right: 0.2em;padding-left: 0.2em;}#sk-6a7cd2c0-29d3-4e9c-af27-0d80c42a7362 div.sk-item {z-index: 1;}#sk-6a7cd2c0-29d3-4e9c-af27-0d80c42a7362 div.sk-parallel {display: flex;align-items: stretch;justify-content: center;background-color: white;}#sk-6a7cd2c0-29d3-4e9c-af27-0d80c42a7362 div.sk-parallel::before {content: \"\";position: absolute;border-left: 1px solid gray;box-sizing: border-box;top: 2em;bottom: 0;left: 50%;}#sk-6a7cd2c0-29d3-4e9c-af27-0d80c42a7362 div.sk-parallel-item {display: flex;flex-direction: column;position: relative;background-color: white;}#sk-6a7cd2c0-29d3-4e9c-af27-0d80c42a7362 div.sk-parallel-item:first-child::after {align-self: flex-end;width: 50%;}#sk-6a7cd2c0-29d3-4e9c-af27-0d80c42a7362 div.sk-parallel-item:last-child::after {align-self: flex-start;width: 50%;}#sk-6a7cd2c0-29d3-4e9c-af27-0d80c42a7362 div.sk-parallel-item:only-child::after {width: 0;}#sk-6a7cd2c0-29d3-4e9c-af27-0d80c42a7362 div.sk-dashed-wrapped {border: 1px dashed gray;margin: 0 0.4em 0.5em 0.4em;box-sizing: border-box;padding-bottom: 0.4em;background-color: white;position: relative;}#sk-6a7cd2c0-29d3-4e9c-af27-0d80c42a7362 div.sk-label label {font-family: monospace;font-weight: bold;background-color: white;display: inline-block;line-height: 1.2em;}#sk-6a7cd2c0-29d3-4e9c-af27-0d80c42a7362 div.sk-label-container {position: relative;z-index: 2;text-align: center;}#sk-6a7cd2c0-29d3-4e9c-af27-0d80c42a7362 div.sk-container {/* jupyter's `normalize.less` sets `[hidden] { display: none; }` but bootstrap.min.css set `[hidden] { display: none !important; }` so we also need the `!important` here to be able to override the default hidden behavior on the sphinx rendered scikit-learn.org. See: https://github.com/scikit-learn/scikit-learn/issues/21755 */display: inline-block !important;position: relative;}#sk-6a7cd2c0-29d3-4e9c-af27-0d80c42a7362 div.sk-text-repr-fallback {display: none;}</style><div id=\"sk-6a7cd2c0-29d3-4e9c-af27-0d80c42a7362\" class=\"sk-top-container\"><div class=\"sk-text-repr-fallback\"><pre>Pipeline(steps=[(&#x27;simpleimputer&#x27;, SimpleImputer(strategy=&#x27;most_frequent&#x27;)),\n",
              "                (&#x27;onehotencoder&#x27;,\n",
              "                 OneHotEncoder(handle_unknown=&#x27;ignore&#x27;, sparse=False))])</pre><b>Please rerun this cell to show the HTML repr or trust the notebook.</b></div><div class=\"sk-container\" hidden><div class=\"sk-item sk-dashed-wrapped\"><div class=\"sk-label-container\"><div class=\"sk-label sk-toggleable\"><input class=\"sk-toggleable__control sk-hidden--visually\" id=\"44378ed2-8167-46c3-8034-76df3fa6086a\" type=\"checkbox\" ><label for=\"44378ed2-8167-46c3-8034-76df3fa6086a\" class=\"sk-toggleable__label sk-toggleable__label-arrow\">Pipeline</label><div class=\"sk-toggleable__content\"><pre>Pipeline(steps=[(&#x27;simpleimputer&#x27;, SimpleImputer(strategy=&#x27;most_frequent&#x27;)),\n",
              "                (&#x27;onehotencoder&#x27;,\n",
              "                 OneHotEncoder(handle_unknown=&#x27;ignore&#x27;, sparse=False))])</pre></div></div></div><div class=\"sk-serial\"><div class=\"sk-item\"><div class=\"sk-estimator sk-toggleable\"><input class=\"sk-toggleable__control sk-hidden--visually\" id=\"2469a29c-650c-48bd-bf0b-538507cdde40\" type=\"checkbox\" ><label for=\"2469a29c-650c-48bd-bf0b-538507cdde40\" class=\"sk-toggleable__label sk-toggleable__label-arrow\">SimpleImputer</label><div class=\"sk-toggleable__content\"><pre>SimpleImputer(strategy=&#x27;most_frequent&#x27;)</pre></div></div></div><div class=\"sk-item\"><div class=\"sk-estimator sk-toggleable\"><input class=\"sk-toggleable__control sk-hidden--visually\" id=\"1e4726d6-dc42-40e0-b43c-033690ab60ef\" type=\"checkbox\" ><label for=\"1e4726d6-dc42-40e0-b43c-033690ab60ef\" class=\"sk-toggleable__label sk-toggleable__label-arrow\">OneHotEncoder</label><div class=\"sk-toggleable__content\"><pre>OneHotEncoder(handle_unknown=&#x27;ignore&#x27;, sparse=False)</pre></div></div></div></div></div></div></div>"
            ]
          },
          "metadata": {},
          "execution_count": 22
        }
      ]
    },
    {
      "cell_type": "code",
      "source": [
        "num_tup_pro= (num_pipe,num_select)\n",
        "nom_tup_pro= (nom_pipe, cat_select)\n",
        "\n",
        "pre_pro = make_column_transformer(num_tup_pro, nom_tup_pro)\n",
        "pre_pro"
      ],
      "metadata": {
        "colab": {
          "base_uri": "https://localhost:8080/",
          "height": 152
        },
        "id": "ktLWpER002Nr",
        "outputId": "eb1f1f02-8172-4c6c-bbf4-a01b465c4d1d"
      },
      "execution_count": null,
      "outputs": [
        {
          "output_type": "execute_result",
          "data": {
            "text/plain": [
              "ColumnTransformer(transformers=[('pipeline-1',\n",
              "                                 Pipeline(steps=[('simpleimputer',\n",
              "                                                  SimpleImputer()),\n",
              "                                                 ('standardscaler',\n",
              "                                                  StandardScaler(with_mean=False))]),\n",
              "                                 <sklearn.compose._column_transformer.make_column_selector object at 0x7f8f98416590>),\n",
              "                                ('pipeline-2',\n",
              "                                 Pipeline(steps=[('simpleimputer',\n",
              "                                                  SimpleImputer(strategy='most_frequent')),\n",
              "                                                 ('onehotencoder',\n",
              "                                                  OneHotEncoder(handle_unknown='ignore',\n",
              "                                                                sparse=False))]),\n",
              "                                 <sklearn.compose._column_transformer.make_column_selector object at 0x7f8f98416e10>)])"
            ],
            "text/html": [
              "<style>#sk-69a5ac96-fc38-401f-83c6-4226f9f0a095 {color: black;background-color: white;}#sk-69a5ac96-fc38-401f-83c6-4226f9f0a095 pre{padding: 0;}#sk-69a5ac96-fc38-401f-83c6-4226f9f0a095 div.sk-toggleable {background-color: white;}#sk-69a5ac96-fc38-401f-83c6-4226f9f0a095 label.sk-toggleable__label {cursor: pointer;display: block;width: 100%;margin-bottom: 0;padding: 0.3em;box-sizing: border-box;text-align: center;}#sk-69a5ac96-fc38-401f-83c6-4226f9f0a095 label.sk-toggleable__label-arrow:before {content: \"▸\";float: left;margin-right: 0.25em;color: #696969;}#sk-69a5ac96-fc38-401f-83c6-4226f9f0a095 label.sk-toggleable__label-arrow:hover:before {color: black;}#sk-69a5ac96-fc38-401f-83c6-4226f9f0a095 div.sk-estimator:hover label.sk-toggleable__label-arrow:before {color: black;}#sk-69a5ac96-fc38-401f-83c6-4226f9f0a095 div.sk-toggleable__content {max-height: 0;max-width: 0;overflow: hidden;text-align: left;background-color: #f0f8ff;}#sk-69a5ac96-fc38-401f-83c6-4226f9f0a095 div.sk-toggleable__content pre {margin: 0.2em;color: black;border-radius: 0.25em;background-color: #f0f8ff;}#sk-69a5ac96-fc38-401f-83c6-4226f9f0a095 input.sk-toggleable__control:checked~div.sk-toggleable__content {max-height: 200px;max-width: 100%;overflow: auto;}#sk-69a5ac96-fc38-401f-83c6-4226f9f0a095 input.sk-toggleable__control:checked~label.sk-toggleable__label-arrow:before {content: \"▾\";}#sk-69a5ac96-fc38-401f-83c6-4226f9f0a095 div.sk-estimator input.sk-toggleable__control:checked~label.sk-toggleable__label {background-color: #d4ebff;}#sk-69a5ac96-fc38-401f-83c6-4226f9f0a095 div.sk-label input.sk-toggleable__control:checked~label.sk-toggleable__label {background-color: #d4ebff;}#sk-69a5ac96-fc38-401f-83c6-4226f9f0a095 input.sk-hidden--visually {border: 0;clip: rect(1px 1px 1px 1px);clip: rect(1px, 1px, 1px, 1px);height: 1px;margin: -1px;overflow: hidden;padding: 0;position: absolute;width: 1px;}#sk-69a5ac96-fc38-401f-83c6-4226f9f0a095 div.sk-estimator {font-family: monospace;background-color: #f0f8ff;border: 1px dotted black;border-radius: 0.25em;box-sizing: border-box;margin-bottom: 0.5em;}#sk-69a5ac96-fc38-401f-83c6-4226f9f0a095 div.sk-estimator:hover {background-color: #d4ebff;}#sk-69a5ac96-fc38-401f-83c6-4226f9f0a095 div.sk-parallel-item::after {content: \"\";width: 100%;border-bottom: 1px solid gray;flex-grow: 1;}#sk-69a5ac96-fc38-401f-83c6-4226f9f0a095 div.sk-label:hover label.sk-toggleable__label {background-color: #d4ebff;}#sk-69a5ac96-fc38-401f-83c6-4226f9f0a095 div.sk-serial::before {content: \"\";position: absolute;border-left: 1px solid gray;box-sizing: border-box;top: 2em;bottom: 0;left: 50%;}#sk-69a5ac96-fc38-401f-83c6-4226f9f0a095 div.sk-serial {display: flex;flex-direction: column;align-items: center;background-color: white;padding-right: 0.2em;padding-left: 0.2em;}#sk-69a5ac96-fc38-401f-83c6-4226f9f0a095 div.sk-item {z-index: 1;}#sk-69a5ac96-fc38-401f-83c6-4226f9f0a095 div.sk-parallel {display: flex;align-items: stretch;justify-content: center;background-color: white;}#sk-69a5ac96-fc38-401f-83c6-4226f9f0a095 div.sk-parallel::before {content: \"\";position: absolute;border-left: 1px solid gray;box-sizing: border-box;top: 2em;bottom: 0;left: 50%;}#sk-69a5ac96-fc38-401f-83c6-4226f9f0a095 div.sk-parallel-item {display: flex;flex-direction: column;position: relative;background-color: white;}#sk-69a5ac96-fc38-401f-83c6-4226f9f0a095 div.sk-parallel-item:first-child::after {align-self: flex-end;width: 50%;}#sk-69a5ac96-fc38-401f-83c6-4226f9f0a095 div.sk-parallel-item:last-child::after {align-self: flex-start;width: 50%;}#sk-69a5ac96-fc38-401f-83c6-4226f9f0a095 div.sk-parallel-item:only-child::after {width: 0;}#sk-69a5ac96-fc38-401f-83c6-4226f9f0a095 div.sk-dashed-wrapped {border: 1px dashed gray;margin: 0 0.4em 0.5em 0.4em;box-sizing: border-box;padding-bottom: 0.4em;background-color: white;position: relative;}#sk-69a5ac96-fc38-401f-83c6-4226f9f0a095 div.sk-label label {font-family: monospace;font-weight: bold;background-color: white;display: inline-block;line-height: 1.2em;}#sk-69a5ac96-fc38-401f-83c6-4226f9f0a095 div.sk-label-container {position: relative;z-index: 2;text-align: center;}#sk-69a5ac96-fc38-401f-83c6-4226f9f0a095 div.sk-container {/* jupyter's `normalize.less` sets `[hidden] { display: none; }` but bootstrap.min.css set `[hidden] { display: none !important; }` so we also need the `!important` here to be able to override the default hidden behavior on the sphinx rendered scikit-learn.org. See: https://github.com/scikit-learn/scikit-learn/issues/21755 */display: inline-block !important;position: relative;}#sk-69a5ac96-fc38-401f-83c6-4226f9f0a095 div.sk-text-repr-fallback {display: none;}</style><div id=\"sk-69a5ac96-fc38-401f-83c6-4226f9f0a095\" class=\"sk-top-container\"><div class=\"sk-text-repr-fallback\"><pre>ColumnTransformer(transformers=[(&#x27;pipeline-1&#x27;,\n",
              "                                 Pipeline(steps=[(&#x27;simpleimputer&#x27;,\n",
              "                                                  SimpleImputer()),\n",
              "                                                 (&#x27;standardscaler&#x27;,\n",
              "                                                  StandardScaler(with_mean=False))]),\n",
              "                                 &lt;sklearn.compose._column_transformer.make_column_selector object at 0x7f8f98416590&gt;),\n",
              "                                (&#x27;pipeline-2&#x27;,\n",
              "                                 Pipeline(steps=[(&#x27;simpleimputer&#x27;,\n",
              "                                                  SimpleImputer(strategy=&#x27;most_frequent&#x27;)),\n",
              "                                                 (&#x27;onehotencoder&#x27;,\n",
              "                                                  OneHotEncoder(handle_unknown=&#x27;ignore&#x27;,\n",
              "                                                                sparse=False))]),\n",
              "                                 &lt;sklearn.compose._column_transformer.make_column_selector object at 0x7f8f98416e10&gt;)])</pre><b>Please rerun this cell to show the HTML repr or trust the notebook.</b></div><div class=\"sk-container\" hidden><div class=\"sk-item sk-dashed-wrapped\"><div class=\"sk-label-container\"><div class=\"sk-label sk-toggleable\"><input class=\"sk-toggleable__control sk-hidden--visually\" id=\"e521c829-f25c-4d47-97c5-5b7626628369\" type=\"checkbox\" ><label for=\"e521c829-f25c-4d47-97c5-5b7626628369\" class=\"sk-toggleable__label sk-toggleable__label-arrow\">ColumnTransformer</label><div class=\"sk-toggleable__content\"><pre>ColumnTransformer(transformers=[(&#x27;pipeline-1&#x27;,\n",
              "                                 Pipeline(steps=[(&#x27;simpleimputer&#x27;,\n",
              "                                                  SimpleImputer()),\n",
              "                                                 (&#x27;standardscaler&#x27;,\n",
              "                                                  StandardScaler(with_mean=False))]),\n",
              "                                 &lt;sklearn.compose._column_transformer.make_column_selector object at 0x7f8f98416590&gt;),\n",
              "                                (&#x27;pipeline-2&#x27;,\n",
              "                                 Pipeline(steps=[(&#x27;simpleimputer&#x27;,\n",
              "                                                  SimpleImputer(strategy=&#x27;most_frequent&#x27;)),\n",
              "                                                 (&#x27;onehotencoder&#x27;,\n",
              "                                                  OneHotEncoder(handle_unknown=&#x27;ignore&#x27;,\n",
              "                                                                sparse=False))]),\n",
              "                                 &lt;sklearn.compose._column_transformer.make_column_selector object at 0x7f8f98416e10&gt;)])</pre></div></div></div><div class=\"sk-parallel\"><div class=\"sk-parallel-item\"><div class=\"sk-item\"><div class=\"sk-label-container\"><div class=\"sk-label sk-toggleable\"><input class=\"sk-toggleable__control sk-hidden--visually\" id=\"38f65323-c562-4d58-b584-7ef5e53bcb0a\" type=\"checkbox\" ><label for=\"38f65323-c562-4d58-b584-7ef5e53bcb0a\" class=\"sk-toggleable__label sk-toggleable__label-arrow\">pipeline-1</label><div class=\"sk-toggleable__content\"><pre>&lt;sklearn.compose._column_transformer.make_column_selector object at 0x7f8f98416590&gt;</pre></div></div></div><div class=\"sk-serial\"><div class=\"sk-item\"><div class=\"sk-serial\"><div class=\"sk-item\"><div class=\"sk-estimator sk-toggleable\"><input class=\"sk-toggleable__control sk-hidden--visually\" id=\"cefe3e6b-b420-440d-946d-7da3ad06416f\" type=\"checkbox\" ><label for=\"cefe3e6b-b420-440d-946d-7da3ad06416f\" class=\"sk-toggleable__label sk-toggleable__label-arrow\">SimpleImputer</label><div class=\"sk-toggleable__content\"><pre>SimpleImputer()</pre></div></div></div><div class=\"sk-item\"><div class=\"sk-estimator sk-toggleable\"><input class=\"sk-toggleable__control sk-hidden--visually\" id=\"50867df8-65f9-48af-a6e6-a538fea4fecf\" type=\"checkbox\" ><label for=\"50867df8-65f9-48af-a6e6-a538fea4fecf\" class=\"sk-toggleable__label sk-toggleable__label-arrow\">StandardScaler</label><div class=\"sk-toggleable__content\"><pre>StandardScaler(with_mean=False)</pre></div></div></div></div></div></div></div></div><div class=\"sk-parallel-item\"><div class=\"sk-item\"><div class=\"sk-label-container\"><div class=\"sk-label sk-toggleable\"><input class=\"sk-toggleable__control sk-hidden--visually\" id=\"56268ce7-ef35-47c9-880d-b8e7b744e85e\" type=\"checkbox\" ><label for=\"56268ce7-ef35-47c9-880d-b8e7b744e85e\" class=\"sk-toggleable__label sk-toggleable__label-arrow\">pipeline-2</label><div class=\"sk-toggleable__content\"><pre>&lt;sklearn.compose._column_transformer.make_column_selector object at 0x7f8f98416e10&gt;</pre></div></div></div><div class=\"sk-serial\"><div class=\"sk-item\"><div class=\"sk-serial\"><div class=\"sk-item\"><div class=\"sk-estimator sk-toggleable\"><input class=\"sk-toggleable__control sk-hidden--visually\" id=\"63cab109-2e34-41a2-bdf3-4f2ecadd85e3\" type=\"checkbox\" ><label for=\"63cab109-2e34-41a2-bdf3-4f2ecadd85e3\" class=\"sk-toggleable__label sk-toggleable__label-arrow\">SimpleImputer</label><div class=\"sk-toggleable__content\"><pre>SimpleImputer(strategy=&#x27;most_frequent&#x27;)</pre></div></div></div><div class=\"sk-item\"><div class=\"sk-estimator sk-toggleable\"><input class=\"sk-toggleable__control sk-hidden--visually\" id=\"a2fad8d6-5ad9-4a85-9f05-048d176fd4b6\" type=\"checkbox\" ><label for=\"a2fad8d6-5ad9-4a85-9f05-048d176fd4b6\" class=\"sk-toggleable__label sk-toggleable__label-arrow\">OneHotEncoder</label><div class=\"sk-toggleable__content\"><pre>OneHotEncoder(handle_unknown=&#x27;ignore&#x27;, sparse=False)</pre></div></div></div></div></div></div></div></div></div></div></div></div>"
            ]
          },
          "metadata": {},
          "execution_count": 23
        }
      ]
    },
    {
      "cell_type": "code",
      "source": [
        "pre_pro.fit(X_train)"
      ],
      "metadata": {
        "colab": {
          "base_uri": "https://localhost:8080/",
          "height": 152
        },
        "id": "1BRklC1Z1QWt",
        "outputId": "2f163de0-f70b-416f-adc8-25d55a9b916e"
      },
      "execution_count": null,
      "outputs": [
        {
          "output_type": "execute_result",
          "data": {
            "text/plain": [
              "ColumnTransformer(transformers=[('pipeline-1',\n",
              "                                 Pipeline(steps=[('simpleimputer',\n",
              "                                                  SimpleImputer()),\n",
              "                                                 ('standardscaler',\n",
              "                                                  StandardScaler(with_mean=False))]),\n",
              "                                 <sklearn.compose._column_transformer.make_column_selector object at 0x7f8f98416590>),\n",
              "                                ('pipeline-2',\n",
              "                                 Pipeline(steps=[('simpleimputer',\n",
              "                                                  SimpleImputer(strategy='most_frequent')),\n",
              "                                                 ('onehotencoder',\n",
              "                                                  OneHotEncoder(handle_unknown='ignore',\n",
              "                                                                sparse=False))]),\n",
              "                                 <sklearn.compose._column_transformer.make_column_selector object at 0x7f8f98416e10>)])"
            ],
            "text/html": [
              "<style>#sk-bd66e130-78b3-4a0e-a256-fad5b0d650ba {color: black;background-color: white;}#sk-bd66e130-78b3-4a0e-a256-fad5b0d650ba pre{padding: 0;}#sk-bd66e130-78b3-4a0e-a256-fad5b0d650ba div.sk-toggleable {background-color: white;}#sk-bd66e130-78b3-4a0e-a256-fad5b0d650ba label.sk-toggleable__label {cursor: pointer;display: block;width: 100%;margin-bottom: 0;padding: 0.3em;box-sizing: border-box;text-align: center;}#sk-bd66e130-78b3-4a0e-a256-fad5b0d650ba label.sk-toggleable__label-arrow:before {content: \"▸\";float: left;margin-right: 0.25em;color: #696969;}#sk-bd66e130-78b3-4a0e-a256-fad5b0d650ba label.sk-toggleable__label-arrow:hover:before {color: black;}#sk-bd66e130-78b3-4a0e-a256-fad5b0d650ba div.sk-estimator:hover label.sk-toggleable__label-arrow:before {color: black;}#sk-bd66e130-78b3-4a0e-a256-fad5b0d650ba div.sk-toggleable__content {max-height: 0;max-width: 0;overflow: hidden;text-align: left;background-color: #f0f8ff;}#sk-bd66e130-78b3-4a0e-a256-fad5b0d650ba div.sk-toggleable__content pre {margin: 0.2em;color: black;border-radius: 0.25em;background-color: #f0f8ff;}#sk-bd66e130-78b3-4a0e-a256-fad5b0d650ba input.sk-toggleable__control:checked~div.sk-toggleable__content {max-height: 200px;max-width: 100%;overflow: auto;}#sk-bd66e130-78b3-4a0e-a256-fad5b0d650ba input.sk-toggleable__control:checked~label.sk-toggleable__label-arrow:before {content: \"▾\";}#sk-bd66e130-78b3-4a0e-a256-fad5b0d650ba div.sk-estimator input.sk-toggleable__control:checked~label.sk-toggleable__label {background-color: #d4ebff;}#sk-bd66e130-78b3-4a0e-a256-fad5b0d650ba div.sk-label input.sk-toggleable__control:checked~label.sk-toggleable__label {background-color: #d4ebff;}#sk-bd66e130-78b3-4a0e-a256-fad5b0d650ba input.sk-hidden--visually {border: 0;clip: rect(1px 1px 1px 1px);clip: rect(1px, 1px, 1px, 1px);height: 1px;margin: -1px;overflow: hidden;padding: 0;position: absolute;width: 1px;}#sk-bd66e130-78b3-4a0e-a256-fad5b0d650ba div.sk-estimator {font-family: monospace;background-color: #f0f8ff;border: 1px dotted black;border-radius: 0.25em;box-sizing: border-box;margin-bottom: 0.5em;}#sk-bd66e130-78b3-4a0e-a256-fad5b0d650ba div.sk-estimator:hover {background-color: #d4ebff;}#sk-bd66e130-78b3-4a0e-a256-fad5b0d650ba div.sk-parallel-item::after {content: \"\";width: 100%;border-bottom: 1px solid gray;flex-grow: 1;}#sk-bd66e130-78b3-4a0e-a256-fad5b0d650ba div.sk-label:hover label.sk-toggleable__label {background-color: #d4ebff;}#sk-bd66e130-78b3-4a0e-a256-fad5b0d650ba div.sk-serial::before {content: \"\";position: absolute;border-left: 1px solid gray;box-sizing: border-box;top: 2em;bottom: 0;left: 50%;}#sk-bd66e130-78b3-4a0e-a256-fad5b0d650ba div.sk-serial {display: flex;flex-direction: column;align-items: center;background-color: white;padding-right: 0.2em;padding-left: 0.2em;}#sk-bd66e130-78b3-4a0e-a256-fad5b0d650ba div.sk-item {z-index: 1;}#sk-bd66e130-78b3-4a0e-a256-fad5b0d650ba div.sk-parallel {display: flex;align-items: stretch;justify-content: center;background-color: white;}#sk-bd66e130-78b3-4a0e-a256-fad5b0d650ba div.sk-parallel::before {content: \"\";position: absolute;border-left: 1px solid gray;box-sizing: border-box;top: 2em;bottom: 0;left: 50%;}#sk-bd66e130-78b3-4a0e-a256-fad5b0d650ba div.sk-parallel-item {display: flex;flex-direction: column;position: relative;background-color: white;}#sk-bd66e130-78b3-4a0e-a256-fad5b0d650ba div.sk-parallel-item:first-child::after {align-self: flex-end;width: 50%;}#sk-bd66e130-78b3-4a0e-a256-fad5b0d650ba div.sk-parallel-item:last-child::after {align-self: flex-start;width: 50%;}#sk-bd66e130-78b3-4a0e-a256-fad5b0d650ba div.sk-parallel-item:only-child::after {width: 0;}#sk-bd66e130-78b3-4a0e-a256-fad5b0d650ba div.sk-dashed-wrapped {border: 1px dashed gray;margin: 0 0.4em 0.5em 0.4em;box-sizing: border-box;padding-bottom: 0.4em;background-color: white;position: relative;}#sk-bd66e130-78b3-4a0e-a256-fad5b0d650ba div.sk-label label {font-family: monospace;font-weight: bold;background-color: white;display: inline-block;line-height: 1.2em;}#sk-bd66e130-78b3-4a0e-a256-fad5b0d650ba div.sk-label-container {position: relative;z-index: 2;text-align: center;}#sk-bd66e130-78b3-4a0e-a256-fad5b0d650ba div.sk-container {/* jupyter's `normalize.less` sets `[hidden] { display: none; }` but bootstrap.min.css set `[hidden] { display: none !important; }` so we also need the `!important` here to be able to override the default hidden behavior on the sphinx rendered scikit-learn.org. See: https://github.com/scikit-learn/scikit-learn/issues/21755 */display: inline-block !important;position: relative;}#sk-bd66e130-78b3-4a0e-a256-fad5b0d650ba div.sk-text-repr-fallback {display: none;}</style><div id=\"sk-bd66e130-78b3-4a0e-a256-fad5b0d650ba\" class=\"sk-top-container\"><div class=\"sk-text-repr-fallback\"><pre>ColumnTransformer(transformers=[(&#x27;pipeline-1&#x27;,\n",
              "                                 Pipeline(steps=[(&#x27;simpleimputer&#x27;,\n",
              "                                                  SimpleImputer()),\n",
              "                                                 (&#x27;standardscaler&#x27;,\n",
              "                                                  StandardScaler(with_mean=False))]),\n",
              "                                 &lt;sklearn.compose._column_transformer.make_column_selector object at 0x7f8f98416590&gt;),\n",
              "                                (&#x27;pipeline-2&#x27;,\n",
              "                                 Pipeline(steps=[(&#x27;simpleimputer&#x27;,\n",
              "                                                  SimpleImputer(strategy=&#x27;most_frequent&#x27;)),\n",
              "                                                 (&#x27;onehotencoder&#x27;,\n",
              "                                                  OneHotEncoder(handle_unknown=&#x27;ignore&#x27;,\n",
              "                                                                sparse=False))]),\n",
              "                                 &lt;sklearn.compose._column_transformer.make_column_selector object at 0x7f8f98416e10&gt;)])</pre><b>Please rerun this cell to show the HTML repr or trust the notebook.</b></div><div class=\"sk-container\" hidden><div class=\"sk-item sk-dashed-wrapped\"><div class=\"sk-label-container\"><div class=\"sk-label sk-toggleable\"><input class=\"sk-toggleable__control sk-hidden--visually\" id=\"92dee6ea-e926-4db0-953d-f1ab1fca581d\" type=\"checkbox\" ><label for=\"92dee6ea-e926-4db0-953d-f1ab1fca581d\" class=\"sk-toggleable__label sk-toggleable__label-arrow\">ColumnTransformer</label><div class=\"sk-toggleable__content\"><pre>ColumnTransformer(transformers=[(&#x27;pipeline-1&#x27;,\n",
              "                                 Pipeline(steps=[(&#x27;simpleimputer&#x27;,\n",
              "                                                  SimpleImputer()),\n",
              "                                                 (&#x27;standardscaler&#x27;,\n",
              "                                                  StandardScaler(with_mean=False))]),\n",
              "                                 &lt;sklearn.compose._column_transformer.make_column_selector object at 0x7f8f98416590&gt;),\n",
              "                                (&#x27;pipeline-2&#x27;,\n",
              "                                 Pipeline(steps=[(&#x27;simpleimputer&#x27;,\n",
              "                                                  SimpleImputer(strategy=&#x27;most_frequent&#x27;)),\n",
              "                                                 (&#x27;onehotencoder&#x27;,\n",
              "                                                  OneHotEncoder(handle_unknown=&#x27;ignore&#x27;,\n",
              "                                                                sparse=False))]),\n",
              "                                 &lt;sklearn.compose._column_transformer.make_column_selector object at 0x7f8f98416e10&gt;)])</pre></div></div></div><div class=\"sk-parallel\"><div class=\"sk-parallel-item\"><div class=\"sk-item\"><div class=\"sk-label-container\"><div class=\"sk-label sk-toggleable\"><input class=\"sk-toggleable__control sk-hidden--visually\" id=\"fa608abc-c58f-43c0-ae79-5c9bab818413\" type=\"checkbox\" ><label for=\"fa608abc-c58f-43c0-ae79-5c9bab818413\" class=\"sk-toggleable__label sk-toggleable__label-arrow\">pipeline-1</label><div class=\"sk-toggleable__content\"><pre>&lt;sklearn.compose._column_transformer.make_column_selector object at 0x7f8f98416590&gt;</pre></div></div></div><div class=\"sk-serial\"><div class=\"sk-item\"><div class=\"sk-serial\"><div class=\"sk-item\"><div class=\"sk-estimator sk-toggleable\"><input class=\"sk-toggleable__control sk-hidden--visually\" id=\"9aeb2fa3-3f4d-42d6-a546-17e48e61e78b\" type=\"checkbox\" ><label for=\"9aeb2fa3-3f4d-42d6-a546-17e48e61e78b\" class=\"sk-toggleable__label sk-toggleable__label-arrow\">SimpleImputer</label><div class=\"sk-toggleable__content\"><pre>SimpleImputer()</pre></div></div></div><div class=\"sk-item\"><div class=\"sk-estimator sk-toggleable\"><input class=\"sk-toggleable__control sk-hidden--visually\" id=\"969514b0-31c6-4482-b3e9-aa4854e89271\" type=\"checkbox\" ><label for=\"969514b0-31c6-4482-b3e9-aa4854e89271\" class=\"sk-toggleable__label sk-toggleable__label-arrow\">StandardScaler</label><div class=\"sk-toggleable__content\"><pre>StandardScaler(with_mean=False)</pre></div></div></div></div></div></div></div></div><div class=\"sk-parallel-item\"><div class=\"sk-item\"><div class=\"sk-label-container\"><div class=\"sk-label sk-toggleable\"><input class=\"sk-toggleable__control sk-hidden--visually\" id=\"6ca10b12-737d-4da0-bada-40f1c27413fd\" type=\"checkbox\" ><label for=\"6ca10b12-737d-4da0-bada-40f1c27413fd\" class=\"sk-toggleable__label sk-toggleable__label-arrow\">pipeline-2</label><div class=\"sk-toggleable__content\"><pre>&lt;sklearn.compose._column_transformer.make_column_selector object at 0x7f8f98416e10&gt;</pre></div></div></div><div class=\"sk-serial\"><div class=\"sk-item\"><div class=\"sk-serial\"><div class=\"sk-item\"><div class=\"sk-estimator sk-toggleable\"><input class=\"sk-toggleable__control sk-hidden--visually\" id=\"5a846cd6-a0ee-4f15-b72a-ba3e809c8b45\" type=\"checkbox\" ><label for=\"5a846cd6-a0ee-4f15-b72a-ba3e809c8b45\" class=\"sk-toggleable__label sk-toggleable__label-arrow\">SimpleImputer</label><div class=\"sk-toggleable__content\"><pre>SimpleImputer(strategy=&#x27;most_frequent&#x27;)</pre></div></div></div><div class=\"sk-item\"><div class=\"sk-estimator sk-toggleable\"><input class=\"sk-toggleable__control sk-hidden--visually\" id=\"1c70d6eb-9b42-47e6-bc8a-6391a8972b06\" type=\"checkbox\" ><label for=\"1c70d6eb-9b42-47e6-bc8a-6391a8972b06\" class=\"sk-toggleable__label sk-toggleable__label-arrow\">OneHotEncoder</label><div class=\"sk-toggleable__content\"><pre>OneHotEncoder(handle_unknown=&#x27;ignore&#x27;, sparse=False)</pre></div></div></div></div></div></div></div></div></div></div></div></div>"
            ]
          },
          "metadata": {},
          "execution_count": 24
        }
      ]
    },
    {
      "cell_type": "code",
      "source": [
        "X_train_pro = pre_pro.transform(X_train)\n",
        "X_test_pro = pre_pro.transform(X_test)"
      ],
      "metadata": {
        "id": "Y-ZBoLuA1TEQ"
      },
      "execution_count": null,
      "outputs": []
    },
    {
      "cell_type": "code",
      "source": [
        "print(pd.isna(X_train_pro), 'missing values in training data')\n",
        "print(pd.isna(X_test_pro), 'missing values in testing data')\n",
        "print('\\n')\n",
        "print('All data in X_train_pro are', X_train_pro.dtype)\n",
        "print('All data in X_test_pro are', X_test_pro.dtype)\n",
        "print('\\n')\n",
        "print('shape of data is', X_train_pro.shape)\n",
        "print('\\n')\n",
        "X_train_pro"
      ],
      "metadata": {
        "colab": {
          "base_uri": "https://localhost:8080/"
        },
        "id": "_5_D8N9O1V2Z",
        "outputId": "6b2d90cd-832f-48eb-a7c8-9a6483b5ca7f"
      },
      "execution_count": null,
      "outputs": [
        {
          "output_type": "stream",
          "name": "stdout",
          "text": [
            "[[False False False ... False False False]\n",
            " [False False False ... False False False]\n",
            " [False False False ... False False False]\n",
            " ...\n",
            " [False False False ... False False False]\n",
            " [False False False ... False False False]\n",
            " [False False False ... False False False]] missing values in training data\n",
            "[[False False False ... False False False]\n",
            " [False False False ... False False False]\n",
            " [False False False ... False False False]\n",
            " ...\n",
            " [False False False ... False False False]\n",
            " [False False False ... False False False]\n",
            " [False False False ... False False False]] missing values in testing data\n",
            "\n",
            "\n",
            "All data in X_train_pro are float64\n",
            "All data in X_test_pro are float64\n",
            "\n",
            "\n",
            "shape of data is (12539, 9820)\n",
            "\n",
            "\n"
          ]
        },
        {
          "output_type": "execute_result",
          "data": {
            "text/plain": [
              "array([[0.32525458, 1.53827877, 0.0966116 , ..., 0.        , 0.        ,\n",
              "        0.        ],\n",
              "       [0.16913238, 0.40129011, 0.        , ..., 0.        , 0.        ,\n",
              "        0.        ],\n",
              "       [0.61147861, 0.        , 0.        , ..., 0.        , 0.        ,\n",
              "        0.        ],\n",
              "       ...,\n",
              "       [0.32525458, 0.11146948, 0.        , ..., 0.        , 0.        ,\n",
              "        0.        ],\n",
              "       [1.02780447, 1.96186278, 0.        , ..., 0.        , 0.        ,\n",
              "        0.        ],\n",
              "       [0.        , 0.        , 0.06440773, ..., 0.        , 0.        ,\n",
              "        0.        ]])"
            ]
          },
          "metadata": {},
          "execution_count": 26
        }
      ]
    },
    {
      "cell_type": "markdown",
      "source": [
        "# *Dummy*"
      ],
      "metadata": {
        "id": "xJOg85MH4_b4"
      }
    },
    {
      "cell_type": "code",
      "source": [
        "dumC= DummyClassifier(random_state=42, strategy= 'most_frequent')\n",
        "dumC.get_params()"
      ],
      "metadata": {
        "colab": {
          "base_uri": "https://localhost:8080/"
        },
        "id": "kA-Y-CXF4_Ns",
        "outputId": "f19ddd05-5500-4103-9165-d5c6417e7ede"
      },
      "execution_count": null,
      "outputs": [
        {
          "output_type": "execute_result",
          "data": {
            "text/plain": [
              "{'constant': None, 'random_state': 42, 'strategy': 'most_frequent'}"
            ]
          },
          "metadata": {},
          "execution_count": 27
        }
      ]
    },
    {
      "cell_type": "code",
      "source": [
        "dumC.fit(X_train_pro, y_train)"
      ],
      "metadata": {
        "colab": {
          "base_uri": "https://localhost:8080/",
          "height": 75
        },
        "id": "7RhnWFus5VUn",
        "outputId": "a63270aa-a4b6-44ad-b56b-82d25d35b426"
      },
      "execution_count": null,
      "outputs": [
        {
          "output_type": "execute_result",
          "data": {
            "text/plain": [
              "DummyClassifier(random_state=42, strategy='most_frequent')"
            ],
            "text/html": [
              "<style>#sk-d90de8e4-7596-4729-9c95-91ff6ea99584 {color: black;background-color: white;}#sk-d90de8e4-7596-4729-9c95-91ff6ea99584 pre{padding: 0;}#sk-d90de8e4-7596-4729-9c95-91ff6ea99584 div.sk-toggleable {background-color: white;}#sk-d90de8e4-7596-4729-9c95-91ff6ea99584 label.sk-toggleable__label {cursor: pointer;display: block;width: 100%;margin-bottom: 0;padding: 0.3em;box-sizing: border-box;text-align: center;}#sk-d90de8e4-7596-4729-9c95-91ff6ea99584 label.sk-toggleable__label-arrow:before {content: \"▸\";float: left;margin-right: 0.25em;color: #696969;}#sk-d90de8e4-7596-4729-9c95-91ff6ea99584 label.sk-toggleable__label-arrow:hover:before {color: black;}#sk-d90de8e4-7596-4729-9c95-91ff6ea99584 div.sk-estimator:hover label.sk-toggleable__label-arrow:before {color: black;}#sk-d90de8e4-7596-4729-9c95-91ff6ea99584 div.sk-toggleable__content {max-height: 0;max-width: 0;overflow: hidden;text-align: left;background-color: #f0f8ff;}#sk-d90de8e4-7596-4729-9c95-91ff6ea99584 div.sk-toggleable__content pre {margin: 0.2em;color: black;border-radius: 0.25em;background-color: #f0f8ff;}#sk-d90de8e4-7596-4729-9c95-91ff6ea99584 input.sk-toggleable__control:checked~div.sk-toggleable__content {max-height: 200px;max-width: 100%;overflow: auto;}#sk-d90de8e4-7596-4729-9c95-91ff6ea99584 input.sk-toggleable__control:checked~label.sk-toggleable__label-arrow:before {content: \"▾\";}#sk-d90de8e4-7596-4729-9c95-91ff6ea99584 div.sk-estimator input.sk-toggleable__control:checked~label.sk-toggleable__label {background-color: #d4ebff;}#sk-d90de8e4-7596-4729-9c95-91ff6ea99584 div.sk-label input.sk-toggleable__control:checked~label.sk-toggleable__label {background-color: #d4ebff;}#sk-d90de8e4-7596-4729-9c95-91ff6ea99584 input.sk-hidden--visually {border: 0;clip: rect(1px 1px 1px 1px);clip: rect(1px, 1px, 1px, 1px);height: 1px;margin: -1px;overflow: hidden;padding: 0;position: absolute;width: 1px;}#sk-d90de8e4-7596-4729-9c95-91ff6ea99584 div.sk-estimator {font-family: monospace;background-color: #f0f8ff;border: 1px dotted black;border-radius: 0.25em;box-sizing: border-box;margin-bottom: 0.5em;}#sk-d90de8e4-7596-4729-9c95-91ff6ea99584 div.sk-estimator:hover {background-color: #d4ebff;}#sk-d90de8e4-7596-4729-9c95-91ff6ea99584 div.sk-parallel-item::after {content: \"\";width: 100%;border-bottom: 1px solid gray;flex-grow: 1;}#sk-d90de8e4-7596-4729-9c95-91ff6ea99584 div.sk-label:hover label.sk-toggleable__label {background-color: #d4ebff;}#sk-d90de8e4-7596-4729-9c95-91ff6ea99584 div.sk-serial::before {content: \"\";position: absolute;border-left: 1px solid gray;box-sizing: border-box;top: 2em;bottom: 0;left: 50%;}#sk-d90de8e4-7596-4729-9c95-91ff6ea99584 div.sk-serial {display: flex;flex-direction: column;align-items: center;background-color: white;padding-right: 0.2em;padding-left: 0.2em;}#sk-d90de8e4-7596-4729-9c95-91ff6ea99584 div.sk-item {z-index: 1;}#sk-d90de8e4-7596-4729-9c95-91ff6ea99584 div.sk-parallel {display: flex;align-items: stretch;justify-content: center;background-color: white;}#sk-d90de8e4-7596-4729-9c95-91ff6ea99584 div.sk-parallel::before {content: \"\";position: absolute;border-left: 1px solid gray;box-sizing: border-box;top: 2em;bottom: 0;left: 50%;}#sk-d90de8e4-7596-4729-9c95-91ff6ea99584 div.sk-parallel-item {display: flex;flex-direction: column;position: relative;background-color: white;}#sk-d90de8e4-7596-4729-9c95-91ff6ea99584 div.sk-parallel-item:first-child::after {align-self: flex-end;width: 50%;}#sk-d90de8e4-7596-4729-9c95-91ff6ea99584 div.sk-parallel-item:last-child::after {align-self: flex-start;width: 50%;}#sk-d90de8e4-7596-4729-9c95-91ff6ea99584 div.sk-parallel-item:only-child::after {width: 0;}#sk-d90de8e4-7596-4729-9c95-91ff6ea99584 div.sk-dashed-wrapped {border: 1px dashed gray;margin: 0 0.4em 0.5em 0.4em;box-sizing: border-box;padding-bottom: 0.4em;background-color: white;position: relative;}#sk-d90de8e4-7596-4729-9c95-91ff6ea99584 div.sk-label label {font-family: monospace;font-weight: bold;background-color: white;display: inline-block;line-height: 1.2em;}#sk-d90de8e4-7596-4729-9c95-91ff6ea99584 div.sk-label-container {position: relative;z-index: 2;text-align: center;}#sk-d90de8e4-7596-4729-9c95-91ff6ea99584 div.sk-container {/* jupyter's `normalize.less` sets `[hidden] { display: none; }` but bootstrap.min.css set `[hidden] { display: none !important; }` so we also need the `!important` here to be able to override the default hidden behavior on the sphinx rendered scikit-learn.org. See: https://github.com/scikit-learn/scikit-learn/issues/21755 */display: inline-block !important;position: relative;}#sk-d90de8e4-7596-4729-9c95-91ff6ea99584 div.sk-text-repr-fallback {display: none;}</style><div id=\"sk-d90de8e4-7596-4729-9c95-91ff6ea99584\" class=\"sk-top-container\"><div class=\"sk-text-repr-fallback\"><pre>DummyClassifier(random_state=42, strategy=&#x27;most_frequent&#x27;)</pre><b>Please rerun this cell to show the HTML repr or trust the notebook.</b></div><div class=\"sk-container\" hidden><div class=\"sk-item\"><div class=\"sk-estimator sk-toggleable\"><input class=\"sk-toggleable__control sk-hidden--visually\" id=\"b28e78f6-c516-4abc-a055-22186c6ab745\" type=\"checkbox\" checked><label for=\"b28e78f6-c516-4abc-a055-22186c6ab745\" class=\"sk-toggleable__label sk-toggleable__label-arrow\">DummyClassifier</label><div class=\"sk-toggleable__content\"><pre>DummyClassifier(random_state=42, strategy=&#x27;most_frequent&#x27;)</pre></div></div></div></div></div>"
            ]
          },
          "metadata": {},
          "execution_count": 28
        }
      ]
    },
    {
      "cell_type": "code",
      "source": [
        "dum_pred =dumC.predict(X_test_pro)"
      ],
      "metadata": {
        "id": "bIM0-UR35s5_"
      },
      "execution_count": null,
      "outputs": []
    },
    {
      "cell_type": "code",
      "source": [
        "train_scoredum = dumC.score(X_train_pro,y_train)\n",
        "test_scoredum = dumC.score(X_test_pro, y_test)\n",
        "print(train_scoredum)\n",
        "print(test_scoredum)"
      ],
      "metadata": {
        "colab": {
          "base_uri": "https://localhost:8080/"
        },
        "id": "pK7v7xlO5x_Z",
        "outputId": "e1deecdd-56e7-44f0-b238-401597096d4e"
      },
      "execution_count": null,
      "outputs": [
        {
          "output_type": "stream",
          "name": "stdout",
          "text": [
            "0.12863864742004943\n",
            "0.12894736842105264\n"
          ]
        }
      ]
    },
    {
      "cell_type": "code",
      "source": [
        "accuracy_score(y_test,dum_pred)"
      ],
      "metadata": {
        "colab": {
          "base_uri": "https://localhost:8080/"
        },
        "id": "q_zhh7DA5zGQ",
        "outputId": "896f4b44-ddf7-4e16-d283-827b888e366b"
      },
      "execution_count": null,
      "outputs": [
        {
          "output_type": "execute_result",
          "data": {
            "text/plain": [
              "0.12894736842105264"
            ]
          },
          "metadata": {},
          "execution_count": 31
        }
      ]
    },
    {
      "cell_type": "code",
      "source": [
        "recall_score(y_test, dum_pred, average='weighted')"
      ],
      "metadata": {
        "id": "iaXAxEUi5398",
        "colab": {
          "base_uri": "https://localhost:8080/"
        },
        "outputId": "4d34247e-907a-4c15-a16a-c7497dd889f7"
      },
      "execution_count": null,
      "outputs": [
        {
          "output_type": "execute_result",
          "data": {
            "text/plain": [
              "0.12894736842105264"
            ]
          },
          "metadata": {},
          "execution_count": 32
        }
      ]
    },
    {
      "cell_type": "code",
      "source": [
        "##i found this loop as well as the visual to help me consolidate my tuning of hyperparameters. here is my source #https://www.geeksforgeeks.org/ml-dummy-classifiers-using-sklearn/amp/\n",
        "strategies = ['most_frequent', 'stratified', 'uniform'] \n",
        "\n",
        "test_scores = [] \n",
        "\n",
        "for s in strategies: \n",
        "\n",
        "    if s =='constant': \n",
        "\n",
        "        dumC2 = DummyClassifier(strategy = s, random_state = 0)                    \n",
        "\n",
        "    else: \n",
        "\n",
        "        dumC2 = DummyClassifier(strategy = s, random_state = 0) \n",
        "\n",
        "    dumC2.fit(X_train_pro, y_train) \n",
        "\n",
        "    score = dumC2.score(X_test_pro, y_test) \n",
        "\n",
        "    test_scores.append(score)"
      ],
      "metadata": {
        "id": "bINJxaKp6r50"
      },
      "execution_count": null,
      "outputs": []
    },
    {
      "cell_type": "code",
      "source": [
        "Dum_class_plot = sns.stripplot(strategies, test_scores); \n",
        "\n",
        "Dum_class_plot.set(xlabel ='Strategy', ylabel ='Test Score') \n",
        "plt.show() "
      ],
      "metadata": {
        "id": "2AK9yUNl69aM",
        "colab": {
          "base_uri": "https://localhost:8080/",
          "height": 315
        },
        "outputId": "058d0bf9-6d58-4abf-e069-58dbc59dec4f"
      },
      "execution_count": null,
      "outputs": [
        {
          "output_type": "stream",
          "name": "stderr",
          "text": [
            "/usr/local/lib/python3.7/dist-packages/seaborn/_decorators.py:43: FutureWarning: Pass the following variables as keyword args: x, y. From version 0.12, the only valid positional argument will be `data`, and passing other arguments without an explicit keyword will result in an error or misinterpretation.\n",
            "  FutureWarning\n"
          ]
        },
        {
          "output_type": "display_data",
          "data": {
            "text/plain": [
              "<Figure size 432x288 with 1 Axes>"
            ],
            "image/png": "[encoded data removed]"
          },
          "metadata": {
            "needs_background": "light"
          }
        }
      ]
    },
    {
      "cell_type": "markdown",
      "source": [
        "# Decision "
      ],
      "metadata": {
        "id": "fnC90QLt4-wi"
      }
    },
    {
      "cell_type": "code",
      "source": [
        "dec_tree = DecisionTreeClassifier(random_state = 42, max_depth=2) "
      ],
      "metadata": {
        "id": "sYv0j23x1p7q"
      },
      "execution_count": null,
      "outputs": []
    },
    {
      "cell_type": "code",
      "source": [
        "dec_tree.get_params() "
      ],
      "metadata": {
        "id": "OI1QRksZ2Ucb",
        "colab": {
          "base_uri": "https://localhost:8080/"
        },
        "outputId": "700cb05c-8dfe-41c0-84bb-c159de5dcc4c"
      },
      "execution_count": null,
      "outputs": [
        {
          "output_type": "execute_result",
          "data": {
            "text/plain": [
              "{'ccp_alpha': 0.0,\n",
              " 'class_weight': None,\n",
              " 'criterion': 'gini',\n",
              " 'max_depth': 2,\n",
              " 'max_features': None,\n",
              " 'max_leaf_nodes': None,\n",
              " 'min_impurity_decrease': 0.0,\n",
              " 'min_samples_leaf': 1,\n",
              " 'min_samples_split': 2,\n",
              " 'min_weight_fraction_leaf': 0.0,\n",
              " 'random_state': 42,\n",
              " 'splitter': 'best'}"
            ]
          },
          "metadata": {},
          "execution_count": 36
        }
      ]
    },
    {
      "cell_type": "code",
      "source": [
        "dec_tree.fit(X_train_pro, y_train)"
      ],
      "metadata": {
        "id": "kubv94602YDh",
        "colab": {
          "base_uri": "https://localhost:8080/",
          "height": 75
        },
        "outputId": "a833a0ef-1da4-4482-afac-1bf74a5de309"
      },
      "execution_count": null,
      "outputs": [
        {
          "output_type": "execute_result",
          "data": {
            "text/plain": [
              "DecisionTreeClassifier(max_depth=2, random_state=42)"
            ],
            "text/html": [
              "<style>#sk-ef8d3678-a640-42b8-811c-401a4aaa8ccb {color: black;background-color: white;}#sk-ef8d3678-a640-42b8-811c-401a4aaa8ccb pre{padding: 0;}#sk-ef8d3678-a640-42b8-811c-401a4aaa8ccb div.sk-toggleable {background-color: white;}#sk-ef8d3678-a640-42b8-811c-401a4aaa8ccb label.sk-toggleable__label {cursor: pointer;display: block;width: 100%;margin-bottom: 0;padding: 0.3em;box-sizing: border-box;text-align: center;}#sk-ef8d3678-a640-42b8-811c-401a4aaa8ccb label.sk-toggleable__label-arrow:before {content: \"▸\";float: left;margin-right: 0.25em;color: #696969;}#sk-ef8d3678-a640-42b8-811c-401a4aaa8ccb label.sk-toggleable__label-arrow:hover:before {color: black;}#sk-ef8d3678-a640-42b8-811c-401a4aaa8ccb div.sk-estimator:hover label.sk-toggleable__label-arrow:before {color: black;}#sk-ef8d3678-a640-42b8-811c-401a4aaa8ccb div.sk-toggleable__content {max-height: 0;max-width: 0;overflow: hidden;text-align: left;background-color: #f0f8ff;}#sk-ef8d3678-a640-42b8-811c-401a4aaa8ccb div.sk-toggleable__content pre {margin: 0.2em;color: black;border-radius: 0.25em;background-color: #f0f8ff;}#sk-ef8d3678-a640-42b8-811c-401a4aaa8ccb input.sk-toggleable__control:checked~div.sk-toggleable__content {max-height: 200px;max-width: 100%;overflow: auto;}#sk-ef8d3678-a640-42b8-811c-401a4aaa8ccb input.sk-toggleable__control:checked~label.sk-toggleable__label-arrow:before {content: \"▾\";}#sk-ef8d3678-a640-42b8-811c-401a4aaa8ccb div.sk-estimator input.sk-toggleable__control:checked~label.sk-toggleable__label {background-color: #d4ebff;}#sk-ef8d3678-a640-42b8-811c-401a4aaa8ccb div.sk-label input.sk-toggleable__control:checked~label.sk-toggleable__label {background-color: #d4ebff;}#sk-ef8d3678-a640-42b8-811c-401a4aaa8ccb input.sk-hidden--visually {border: 0;clip: rect(1px 1px 1px 1px);clip: rect(1px, 1px, 1px, 1px);height: 1px;margin: -1px;overflow: hidden;padding: 0;position: absolute;width: 1px;}#sk-ef8d3678-a640-42b8-811c-401a4aaa8ccb div.sk-estimator {font-family: monospace;background-color: #f0f8ff;border: 1px dotted black;border-radius: 0.25em;box-sizing: border-box;margin-bottom: 0.5em;}#sk-ef8d3678-a640-42b8-811c-401a4aaa8ccb div.sk-estimator:hover {background-color: #d4ebff;}#sk-ef8d3678-a640-42b8-811c-401a4aaa8ccb div.sk-parallel-item::after {content: \"\";width: 100%;border-bottom: 1px solid gray;flex-grow: 1;}#sk-ef8d3678-a640-42b8-811c-401a4aaa8ccb div.sk-label:hover label.sk-toggleable__label {background-color: #d4ebff;}#sk-ef8d3678-a640-42b8-811c-401a4aaa8ccb div.sk-serial::before {content: \"\";position: absolute;border-left: 1px solid gray;box-sizing: border-box;top: 2em;bottom: 0;left: 50%;}#sk-ef8d3678-a640-42b8-811c-401a4aaa8ccb div.sk-serial {display: flex;flex-direction: column;align-items: center;background-color: white;padding-right: 0.2em;padding-left: 0.2em;}#sk-ef8d3678-a640-42b8-811c-401a4aaa8ccb div.sk-item {z-index: 1;}#sk-ef8d3678-a640-42b8-811c-401a4aaa8ccb div.sk-parallel {display: flex;align-items: stretch;justify-content: center;background-color: white;}#sk-ef8d3678-a640-42b8-811c-401a4aaa8ccb div.sk-parallel::before {content: \"\";position: absolute;border-left: 1px solid gray;box-sizing: border-box;top: 2em;bottom: 0;left: 50%;}#sk-ef8d3678-a640-42b8-811c-401a4aaa8ccb div.sk-parallel-item {display: flex;flex-direction: column;position: relative;background-color: white;}#sk-ef8d3678-a640-42b8-811c-401a4aaa8ccb div.sk-parallel-item:first-child::after {align-self: flex-end;width: 50%;}#sk-ef8d3678-a640-42b8-811c-401a4aaa8ccb div.sk-parallel-item:last-child::after {align-self: flex-start;width: 50%;}#sk-ef8d3678-a640-42b8-811c-401a4aaa8ccb div.sk-parallel-item:only-child::after {width: 0;}#sk-ef8d3678-a640-42b8-811c-401a4aaa8ccb div.sk-dashed-wrapped {border: 1px dashed gray;margin: 0 0.4em 0.5em 0.4em;box-sizing: border-box;padding-bottom: 0.4em;background-color: white;position: relative;}#sk-ef8d3678-a640-42b8-811c-401a4aaa8ccb div.sk-label label {font-family: monospace;font-weight: bold;background-color: white;display: inline-block;line-height: 1.2em;}#sk-ef8d3678-a640-42b8-811c-401a4aaa8ccb div.sk-label-container {position: relative;z-index: 2;text-align: center;}#sk-ef8d3678-a640-42b8-811c-401a4aaa8ccb div.sk-container {/* jupyter's `normalize.less` sets `[hidden] { display: none; }` but bootstrap.min.css set `[hidden] { display: none !important; }` so we also need the `!important` here to be able to override the default hidden behavior on the sphinx rendered scikit-learn.org. See: https://github.com/scikit-learn/scikit-learn/issues/21755 */display: inline-block !important;position: relative;}#sk-ef8d3678-a640-42b8-811c-401a4aaa8ccb div.sk-text-repr-fallback {display: none;}</style><div id=\"sk-ef8d3678-a640-42b8-811c-401a4aaa8ccb\" class=\"sk-top-container\"><div class=\"sk-text-repr-fallback\"><pre>DecisionTreeClassifier(max_depth=2, random_state=42)</pre><b>Please rerun this cell to show the HTML repr or trust the notebook.</b></div><div class=\"sk-container\" hidden><div class=\"sk-item\"><div class=\"sk-estimator sk-toggleable\"><input class=\"sk-toggleable__control sk-hidden--visually\" id=\"dfe7aafa-c040-4f30-a074-4bb18bd2cba4\" type=\"checkbox\" checked><label for=\"dfe7aafa-c040-4f30-a074-4bb18bd2cba4\" class=\"sk-toggleable__label sk-toggleable__label-arrow\">DecisionTreeClassifier</label><div class=\"sk-toggleable__content\"><pre>DecisionTreeClassifier(max_depth=2, random_state=42)</pre></div></div></div></div></div>"
            ]
          },
          "metadata": {},
          "execution_count": 37
        }
      ]
    },
    {
      "cell_type": "code",
      "source": [
        "dec_pred= dec_tree.predict(X_test_pro)"
      ],
      "metadata": {
        "id": "mS5k71SF2aLE"
      },
      "execution_count": null,
      "outputs": []
    },
    {
      "cell_type": "code",
      "source": [
        "train_scoringtree = dec_tree.score(X_train_pro,y_train)\n",
        "test_scoringtree = dec_tree.score(X_test_pro, y_test)\n",
        "print(train_scoringtree)\n",
        "print(test_scoringtree)"
      ],
      "metadata": {
        "id": "V-WBEFyx2b8M",
        "colab": {
          "base_uri": "https://localhost:8080/"
        },
        "outputId": "1d93ad9e-c9c4-45d0-dea9-52444b22dd85"
      },
      "execution_count": null,
      "outputs": [
        {
          "output_type": "stream",
          "name": "stdout",
          "text": [
            "0.21955498843607943\n",
            "0.2160287081339713\n"
          ]
        }
      ]
    },
    {
      "cell_type": "code",
      "source": [
        "print(classification_report(y_test, dec_pred))"
      ],
      "metadata": {
        "id": "GftCn5UC2in5",
        "colab": {
          "base_uri": "https://localhost:8080/"
        },
        "outputId": "f0c9d3e5-c7e8-4a01-b207-dad252a7a4a4"
      },
      "execution_count": null,
      "outputs": [
        {
          "output_type": "stream",
          "name": "stdout",
          "text": [
            "              precision    recall  f1-score   support\n",
            "\n",
            "        2600       0.00      0.00      0.00        32\n",
            "         3DO       0.00      0.00      0.00         1\n",
            "         3DS       0.00      0.00      0.00       150\n",
            "          DC       0.00      0.00      0.00        10\n",
            "          DS       0.38      0.37      0.38       539\n",
            "          GB       0.00      0.00      0.00        24\n",
            "         GBA       0.00      0.00      0.00       207\n",
            "          GC       0.00      0.00      0.00       143\n",
            "         GEN       0.00      0.00      0.00         6\n",
            "         N64       0.00      0.00      0.00        87\n",
            "         NES       0.00      0.00      0.00        20\n",
            "          NG       0.00      0.00      0.00         3\n",
            "          PC       0.44      0.67      0.53       225\n",
            "          PS       0.00      0.00      0.00       301\n",
            "         PS2       0.17      0.72      0.28       561\n",
            "         PS3       0.00      0.00      0.00       344\n",
            "         PS4       0.00      0.00      0.00       103\n",
            "         PSP       0.16      0.54      0.24       274\n",
            "         PSV       0.00      0.00      0.00        99\n",
            "         SAT       0.00      0.00      0.00        41\n",
            "         SCD       0.00      0.00      0.00         1\n",
            "        SNES       0.00      0.00      0.00        64\n",
            "        TG16       0.00      0.00      0.00         1\n",
            "          WS       0.00      0.00      0.00         1\n",
            "         Wii       0.00      0.00      0.00       331\n",
            "        WiiU       0.00      0.00      0.00        40\n",
            "        X360       0.00      0.00      0.00       323\n",
            "          XB       0.00      0.00      0.00       183\n",
            "        XOne       0.00      0.00      0.00        66\n",
            "\n",
            "    accuracy                           0.22      4180\n",
            "   macro avg       0.04      0.08      0.05      4180\n",
            "weighted avg       0.11      0.22      0.13      4180\n",
            "\n"
          ]
        },
        {
          "output_type": "stream",
          "name": "stderr",
          "text": [
            "/usr/local/lib/python3.7/dist-packages/sklearn/metrics/_classification.py:1318: UndefinedMetricWarning: Precision and F-score are ill-defined and being set to 0.0 in labels with no predicted samples. Use `zero_division` parameter to control this behavior.\n",
            "  _warn_prf(average, modifier, msg_start, len(result))\n",
            "/usr/local/lib/python3.7/dist-packages/sklearn/metrics/_classification.py:1318: UndefinedMetricWarning: Precision and F-score are ill-defined and being set to 0.0 in labels with no predicted samples. Use `zero_division` parameter to control this behavior.\n",
            "  _warn_prf(average, modifier, msg_start, len(result))\n",
            "/usr/local/lib/python3.7/dist-packages/sklearn/metrics/_classification.py:1318: UndefinedMetricWarning: Precision and F-score are ill-defined and being set to 0.0 in labels with no predicted samples. Use `zero_division` parameter to control this behavior.\n",
            "  _warn_prf(average, modifier, msg_start, len(result))\n"
          ]
        }
      ]
    },
    {
      "cell_type": "code",
      "source": [
        "model = DecisionTreeClassifier()                 ## checking multiple hyperparameters similtaneously \n",
        " \n",
        "param_grid = {'max_depth': [1,2,3],\n",
        "              'min_samples_leaf': [3,15,20],\n",
        "              'min_samples_split': [2, 10, 100]}"
      ],
      "metadata": {
        "id": "glBF0g-v2o2B"
      },
      "execution_count": null,
      "outputs": []
    },
    {
      "cell_type": "code",
      "source": [
        "dt_grid_search = GridSearchCV(model, param_grid)"
      ],
      "metadata": {
        "id": "s08d2jAl2rue"
      },
      "execution_count": null,
      "outputs": []
    },
    {
      "cell_type": "code",
      "source": [
        "dt_grid_search.fit(X_train_pro, y_train)"
      ],
      "metadata": {
        "colab": {
          "base_uri": "https://localhost:8080/",
          "height": 127
        },
        "id": "eb6bGw343LKJ",
        "outputId": "44c7953c-0e11-4eee-d3f4-797d02e1a57d"
      },
      "execution_count": null,
      "outputs": [
        {
          "output_type": "stream",
          "name": "stderr",
          "text": [
            "/usr/local/lib/python3.7/dist-packages/sklearn/model_selection/_split.py:680: UserWarning: The least populated class in y has only 1 members, which is less than n_splits=5.\n",
            "  UserWarning,\n"
          ]
        },
        {
          "output_type": "execute_result",
          "data": {
            "text/plain": [
              "GridSearchCV(estimator=DecisionTreeClassifier(),\n",
              "             param_grid={'max_depth': [1, 2, 3],\n",
              "                         'min_samples_leaf': [3, 15, 20],\n",
              "                         'min_samples_split': [2, 10, 100]})"
            ],
            "text/html": [
              "<style>#sk-05c48189-64b3-498b-b016-12585fe998a1 {color: black;background-color: white;}#sk-05c48189-64b3-498b-b016-12585fe998a1 pre{padding: 0;}#sk-05c48189-64b3-498b-b016-12585fe998a1 div.sk-toggleable {background-color: white;}#sk-05c48189-64b3-498b-b016-12585fe998a1 label.sk-toggleable__label {cursor: pointer;display: block;width: 100%;margin-bottom: 0;padding: 0.3em;box-sizing: border-box;text-align: center;}#sk-05c48189-64b3-498b-b016-12585fe998a1 label.sk-toggleable__label-arrow:before {content: \"▸\";float: left;margin-right: 0.25em;color: #696969;}#sk-05c48189-64b3-498b-b016-12585fe998a1 label.sk-toggleable__label-arrow:hover:before {color: black;}#sk-05c48189-64b3-498b-b016-12585fe998a1 div.sk-estimator:hover label.sk-toggleable__label-arrow:before {color: black;}#sk-05c48189-64b3-498b-b016-12585fe998a1 div.sk-toggleable__content {max-height: 0;max-width: 0;overflow: hidden;text-align: left;background-color: #f0f8ff;}#sk-05c48189-64b3-498b-b016-12585fe998a1 div.sk-toggleable__content pre {margin: 0.2em;color: black;border-radius: 0.25em;background-color: #f0f8ff;}#sk-05c48189-64b3-498b-b016-12585fe998a1 input.sk-toggleable__control:checked~div.sk-toggleable__content {max-height: 200px;max-width: 100%;overflow: auto;}#sk-05c48189-64b3-498b-b016-12585fe998a1 input.sk-toggleable__control:checked~label.sk-toggleable__label-arrow:before {content: \"▾\";}#sk-05c48189-64b3-498b-b016-12585fe998a1 div.sk-estimator input.sk-toggleable__control:checked~label.sk-toggleable__label {background-color: #d4ebff;}#sk-05c48189-64b3-498b-b016-12585fe998a1 div.sk-label input.sk-toggleable__control:checked~label.sk-toggleable__label {background-color: #d4ebff;}#sk-05c48189-64b3-498b-b016-12585fe998a1 input.sk-hidden--visually {border: 0;clip: rect(1px 1px 1px 1px);clip: rect(1px, 1px, 1px, 1px);height: 1px;margin: -1px;overflow: hidden;padding: 0;position: absolute;width: 1px;}#sk-05c48189-64b3-498b-b016-12585fe998a1 div.sk-estimator {font-family: monospace;background-color: #f0f8ff;border: 1px dotted black;border-radius: 0.25em;box-sizing: border-box;margin-bottom: 0.5em;}#sk-05c48189-64b3-498b-b016-12585fe998a1 div.sk-estimator:hover {background-color: #d4ebff;}#sk-05c48189-64b3-498b-b016-12585fe998a1 div.sk-parallel-item::after {content: \"\";width: 100%;border-bottom: 1px solid gray;flex-grow: 1;}#sk-05c48189-64b3-498b-b016-12585fe998a1 div.sk-label:hover label.sk-toggleable__label {background-color: #d4ebff;}#sk-05c48189-64b3-498b-b016-12585fe998a1 div.sk-serial::before {content: \"\";position: absolute;border-left: 1px solid gray;box-sizing: border-box;top: 2em;bottom: 0;left: 50%;}#sk-05c48189-64b3-498b-b016-12585fe998a1 div.sk-serial {display: flex;flex-direction: column;align-items: center;background-color: white;padding-right: 0.2em;padding-left: 0.2em;}#sk-05c48189-64b3-498b-b016-12585fe998a1 div.sk-item {z-index: 1;}#sk-05c48189-64b3-498b-b016-12585fe998a1 div.sk-parallel {display: flex;align-items: stretch;justify-content: center;background-color: white;}#sk-05c48189-64b3-498b-b016-12585fe998a1 div.sk-parallel::before {content: \"\";position: absolute;border-left: 1px solid gray;box-sizing: border-box;top: 2em;bottom: 0;left: 50%;}#sk-05c48189-64b3-498b-b016-12585fe998a1 div.sk-parallel-item {display: flex;flex-direction: column;position: relative;background-color: white;}#sk-05c48189-64b3-498b-b016-12585fe998a1 div.sk-parallel-item:first-child::after {align-self: flex-end;width: 50%;}#sk-05c48189-64b3-498b-b016-12585fe998a1 div.sk-parallel-item:last-child::after {align-self: flex-start;width: 50%;}#sk-05c48189-64b3-498b-b016-12585fe998a1 div.sk-parallel-item:only-child::after {width: 0;}#sk-05c48189-64b3-498b-b016-12585fe998a1 div.sk-dashed-wrapped {border: 1px dashed gray;margin: 0 0.4em 0.5em 0.4em;box-sizing: border-box;padding-bottom: 0.4em;background-color: white;position: relative;}#sk-05c48189-64b3-498b-b016-12585fe998a1 div.sk-label label {font-family: monospace;font-weight: bold;background-color: white;display: inline-block;line-height: 1.2em;}#sk-05c48189-64b3-498b-b016-12585fe998a1 div.sk-label-container {position: relative;z-index: 2;text-align: center;}#sk-05c48189-64b3-498b-b016-12585fe998a1 div.sk-container {/* jupyter's `normalize.less` sets `[hidden] { display: none; }` but bootstrap.min.css set `[hidden] { display: none !important; }` so we also need the `!important` here to be able to override the default hidden behavior on the sphinx rendered scikit-learn.org. See: https://github.com/scikit-learn/scikit-learn/issues/21755 */display: inline-block !important;position: relative;}#sk-05c48189-64b3-498b-b016-12585fe998a1 div.sk-text-repr-fallback {display: none;}</style><div id=\"sk-05c48189-64b3-498b-b016-12585fe998a1\" class=\"sk-top-container\"><div class=\"sk-text-repr-fallback\"><pre>GridSearchCV(estimator=DecisionTreeClassifier(),\n",
              "             param_grid={&#x27;max_depth&#x27;: [1, 2, 3],\n",
              "                         &#x27;min_samples_leaf&#x27;: [3, 15, 20],\n",
              "                         &#x27;min_samples_split&#x27;: [2, 10, 100]})</pre><b>Please rerun this cell to show the HTML repr or trust the notebook.</b></div><div class=\"sk-container\" hidden><div class=\"sk-item sk-dashed-wrapped\"><div class=\"sk-label-container\"><div class=\"sk-label sk-toggleable\"><input class=\"sk-toggleable__control sk-hidden--visually\" id=\"8145af0a-4933-4f07-a94e-48644de28c62\" type=\"checkbox\" ><label for=\"8145af0a-4933-4f07-a94e-48644de28c62\" class=\"sk-toggleable__label sk-toggleable__label-arrow\">GridSearchCV</label><div class=\"sk-toggleable__content\"><pre>GridSearchCV(estimator=DecisionTreeClassifier(),\n",
              "             param_grid={&#x27;max_depth&#x27;: [1, 2, 3],\n",
              "                         &#x27;min_samples_leaf&#x27;: [3, 15, 20],\n",
              "                         &#x27;min_samples_split&#x27;: [2, 10, 100]})</pre></div></div></div><div class=\"sk-parallel\"><div class=\"sk-parallel-item\"><div class=\"sk-item\"><div class=\"sk-serial\"><div class=\"sk-item\"><div class=\"sk-estimator sk-toggleable\"><input class=\"sk-toggleable__control sk-hidden--visually\" id=\"78733162-889e-4efc-83c2-8e88b2366366\" type=\"checkbox\" ><label for=\"78733162-889e-4efc-83c2-8e88b2366366\" class=\"sk-toggleable__label sk-toggleable__label-arrow\">DecisionTreeClassifier</label><div class=\"sk-toggleable__content\"><pre>DecisionTreeClassifier()</pre></div></div></div></div></div></div></div></div></div></div>"
            ]
          },
          "metadata": {},
          "execution_count": 43
        }
      ]
    },
    {
      "cell_type": "code",
      "source": [
        "dt_grid_search.best_params_"
      ],
      "metadata": {
        "id": "6XTan8Y02uNJ",
        "colab": {
          "base_uri": "https://localhost:8080/"
        },
        "outputId": "8bbb17bd-4d7b-467c-cb73-06a4be7e5b9f"
      },
      "execution_count": null,
      "outputs": [
        {
          "output_type": "execute_result",
          "data": {
            "text/plain": [
              "{'max_depth': 3, 'min_samples_leaf': 3, 'min_samples_split': 2}"
            ]
          },
          "metadata": {},
          "execution_count": 44
        }
      ]
    },
    {
      "cell_type": "code",
      "source": [
        "param_grid2 = {'max_depth': [3, 5, 10],\n",
        "              'min_samples_leaf': [1, 2, 3],\n",
        "              'min_samples_split': [2, 4, 7]}\n",
        " \n",
        "dt_grid_search2 = GridSearchCV(model, param_grid2)\n",
        "dt_grid_search2.fit(X_train_pro, y_train)\n",
        "dt_grid_search2.best_params_"
      ],
      "metadata": {
        "id": "Scigrmrv3fkS",
        "colab": {
          "base_uri": "https://localhost:8080/"
        },
        "outputId": "9f100c3c-5e41-47b6-93f2-dedcf31fe517"
      },
      "execution_count": null,
      "outputs": [
        {
          "output_type": "stream",
          "name": "stderr",
          "text": [
            "/usr/local/lib/python3.7/dist-packages/sklearn/model_selection/_split.py:649: UserWarning: The least populated class in y has only 1 members, which is less than n_splits=5.\n",
            "  type_of_target_y = type_of_target(y)\n"
          ]
        },
        {
          "output_type": "execute_result",
          "data": {
            "text/plain": [
              "{'max_depth': 10, 'min_samples_leaf': 1, 'min_samples_split': 2}"
            ]
          },
          "metadata": {},
          "execution_count": 45
        }
      ]
    },
    {
      "cell_type": "code",
      "source": [
        "best_model = dt_grid_search2.best_estimator_\n",
        "best_model.fit(X_train_pro, y_train)\n",
        "best_model.score(X_test_pro, y_test)"
      ],
      "metadata": {
        "id": "EUXgy4Vi3bEv",
        "colab": {
          "base_uri": "https://localhost:8080/"
        },
        "outputId": "ac8fd66f-95d1-4493-8ddd-749d1a0fe460"
      },
      "execution_count": null,
      "outputs": [
        {
          "output_type": "execute_result",
          "data": {
            "text/plain": [
              "0.3248803827751196"
            ]
          },
          "metadata": {},
          "execution_count": 46
        }
      ]
    },
    {
      "cell_type": "markdown",
      "source": [
        "# KNN"
      ],
      "metadata": {
        "id": "J4t3m6o772g7"
      }
    },
    {
      "cell_type": "code",
      "source": [
        "knn = KNeighborsClassifier(n_neighbors=1)"
      ],
      "metadata": {
        "id": "Uk1nLDZz75ti"
      },
      "execution_count": null,
      "outputs": []
    },
    {
      "cell_type": "code",
      "source": [
        "knn.get_params()"
      ],
      "metadata": {
        "id": "WIBpi0pR776b",
        "colab": {
          "base_uri": "https://localhost:8080/"
        },
        "outputId": "ea514eba-c16e-467d-8baf-9db29650b03b"
      },
      "execution_count": null,
      "outputs": [
        {
          "output_type": "execute_result",
          "data": {
            "text/plain": [
              "{'algorithm': 'auto',\n",
              " 'leaf_size': 30,\n",
              " 'metric': 'minkowski',\n",
              " 'metric_params': None,\n",
              " 'n_jobs': None,\n",
              " 'n_neighbors': 1,\n",
              " 'p': 2,\n",
              " 'weights': 'uniform'}"
            ]
          },
          "metadata": {},
          "execution_count": 48
        }
      ]
    },
    {
      "cell_type": "code",
      "source": [
        "knn_pipe = make_pipeline(Stan_Scale, knn)\n",
        "knn_pipe.fit(X_train_pro, y_train)"
      ],
      "metadata": {
        "id": "sKqvGlH37-U_",
        "colab": {
          "base_uri": "https://localhost:8080/",
          "height": 126
        },
        "outputId": "3d3fd530-b555-40a6-edc3-da9dba01bd11"
      },
      "execution_count": null,
      "outputs": [
        {
          "output_type": "execute_result",
          "data": {
            "text/plain": [
              "Pipeline(steps=[('standardscaler', StandardScaler(with_mean=False)),\n",
              "                ('kneighborsclassifier', KNeighborsClassifier(n_neighbors=1))])"
            ],
            "text/html": [
              "<style>#sk-da33ed0b-99a4-445a-b67a-69df240490d3 {color: black;background-color: white;}#sk-da33ed0b-99a4-445a-b67a-69df240490d3 pre{padding: 0;}#sk-da33ed0b-99a4-445a-b67a-69df240490d3 div.sk-toggleable {background-color: white;}#sk-da33ed0b-99a4-445a-b67a-69df240490d3 label.sk-toggleable__label {cursor: pointer;display: block;width: 100%;margin-bottom: 0;padding: 0.3em;box-sizing: border-box;text-align: center;}#sk-da33ed0b-99a4-445a-b67a-69df240490d3 label.sk-toggleable__label-arrow:before {content: \"▸\";float: left;margin-right: 0.25em;color: #696969;}#sk-da33ed0b-99a4-445a-b67a-69df240490d3 label.sk-toggleable__label-arrow:hover:before {color: black;}#sk-da33ed0b-99a4-445a-b67a-69df240490d3 div.sk-estimator:hover label.sk-toggleable__label-arrow:before {color: black;}#sk-da33ed0b-99a4-445a-b67a-69df240490d3 div.sk-toggleable__content {max-height: 0;max-width: 0;overflow: hidden;text-align: left;background-color: #f0f8ff;}#sk-da33ed0b-99a4-445a-b67a-69df240490d3 div.sk-toggleable__content pre {margin: 0.2em;color: black;border-radius: 0.25em;background-color: #f0f8ff;}#sk-da33ed0b-99a4-445a-b67a-69df240490d3 input.sk-toggleable__control:checked~div.sk-toggleable__content {max-height: 200px;max-width: 100%;overflow: auto;}#sk-da33ed0b-99a4-445a-b67a-69df240490d3 input.sk-toggleable__control:checked~label.sk-toggleable__label-arrow:before {content: \"▾\";}#sk-da33ed0b-99a4-445a-b67a-69df240490d3 div.sk-estimator input.sk-toggleable__control:checked~label.sk-toggleable__label {background-color: #d4ebff;}#sk-da33ed0b-99a4-445a-b67a-69df240490d3 div.sk-label input.sk-toggleable__control:checked~label.sk-toggleable__label {background-color: #d4ebff;}#sk-da33ed0b-99a4-445a-b67a-69df240490d3 input.sk-hidden--visually {border: 0;clip: rect(1px 1px 1px 1px);clip: rect(1px, 1px, 1px, 1px);height: 1px;margin: -1px;overflow: hidden;padding: 0;position: absolute;width: 1px;}#sk-da33ed0b-99a4-445a-b67a-69df240490d3 div.sk-estimator {font-family: monospace;background-color: #f0f8ff;border: 1px dotted black;border-radius: 0.25em;box-sizing: border-box;margin-bottom: 0.5em;}#sk-da33ed0b-99a4-445a-b67a-69df240490d3 div.sk-estimator:hover {background-color: #d4ebff;}#sk-da33ed0b-99a4-445a-b67a-69df240490d3 div.sk-parallel-item::after {content: \"\";width: 100%;border-bottom: 1px solid gray;flex-grow: 1;}#sk-da33ed0b-99a4-445a-b67a-69df240490d3 div.sk-label:hover label.sk-toggleable__label {background-color: #d4ebff;}#sk-da33ed0b-99a4-445a-b67a-69df240490d3 div.sk-serial::before {content: \"\";position: absolute;border-left: 1px solid gray;box-sizing: border-box;top: 2em;bottom: 0;left: 50%;}#sk-da33ed0b-99a4-445a-b67a-69df240490d3 div.sk-serial {display: flex;flex-direction: column;align-items: center;background-color: white;padding-right: 0.2em;padding-left: 0.2em;}#sk-da33ed0b-99a4-445a-b67a-69df240490d3 div.sk-item {z-index: 1;}#sk-da33ed0b-99a4-445a-b67a-69df240490d3 div.sk-parallel {display: flex;align-items: stretch;justify-content: center;background-color: white;}#sk-da33ed0b-99a4-445a-b67a-69df240490d3 div.sk-parallel::before {content: \"\";position: absolute;border-left: 1px solid gray;box-sizing: border-box;top: 2em;bottom: 0;left: 50%;}#sk-da33ed0b-99a4-445a-b67a-69df240490d3 div.sk-parallel-item {display: flex;flex-direction: column;position: relative;background-color: white;}#sk-da33ed0b-99a4-445a-b67a-69df240490d3 div.sk-parallel-item:first-child::after {align-self: flex-end;width: 50%;}#sk-da33ed0b-99a4-445a-b67a-69df240490d3 div.sk-parallel-item:last-child::after {align-self: flex-start;width: 50%;}#sk-da33ed0b-99a4-445a-b67a-69df240490d3 div.sk-parallel-item:only-child::after {width: 0;}#sk-da33ed0b-99a4-445a-b67a-69df240490d3 div.sk-dashed-wrapped {border: 1px dashed gray;margin: 0 0.4em 0.5em 0.4em;box-sizing: border-box;padding-bottom: 0.4em;background-color: white;position: relative;}#sk-da33ed0b-99a4-445a-b67a-69df240490d3 div.sk-label label {font-family: monospace;font-weight: bold;background-color: white;display: inline-block;line-height: 1.2em;}#sk-da33ed0b-99a4-445a-b67a-69df240490d3 div.sk-label-container {position: relative;z-index: 2;text-align: center;}#sk-da33ed0b-99a4-445a-b67a-69df240490d3 div.sk-container {/* jupyter's `normalize.less` sets `[hidden] { display: none; }` but bootstrap.min.css set `[hidden] { display: none !important; }` so we also need the `!important` here to be able to override the default hidden behavior on the sphinx rendered scikit-learn.org. See: https://github.com/scikit-learn/scikit-learn/issues/21755 */display: inline-block !important;position: relative;}#sk-da33ed0b-99a4-445a-b67a-69df240490d3 div.sk-text-repr-fallback {display: none;}</style><div id=\"sk-da33ed0b-99a4-445a-b67a-69df240490d3\" class=\"sk-top-container\"><div class=\"sk-text-repr-fallback\"><pre>Pipeline(steps=[(&#x27;standardscaler&#x27;, StandardScaler(with_mean=False)),\n",
              "                (&#x27;kneighborsclassifier&#x27;, KNeighborsClassifier(n_neighbors=1))])</pre><b>Please rerun this cell to show the HTML repr or trust the notebook.</b></div><div class=\"sk-container\" hidden><div class=\"sk-item sk-dashed-wrapped\"><div class=\"sk-label-container\"><div class=\"sk-label sk-toggleable\"><input class=\"sk-toggleable__control sk-hidden--visually\" id=\"7c3f004f-a3cc-4e87-93dc-dbbd32ad85a1\" type=\"checkbox\" ><label for=\"7c3f004f-a3cc-4e87-93dc-dbbd32ad85a1\" class=\"sk-toggleable__label sk-toggleable__label-arrow\">Pipeline</label><div class=\"sk-toggleable__content\"><pre>Pipeline(steps=[(&#x27;standardscaler&#x27;, StandardScaler(with_mean=False)),\n",
              "                (&#x27;kneighborsclassifier&#x27;, KNeighborsClassifier(n_neighbors=1))])</pre></div></div></div><div class=\"sk-serial\"><div class=\"sk-item\"><div class=\"sk-estimator sk-toggleable\"><input class=\"sk-toggleable__control sk-hidden--visually\" id=\"c464560b-0ea0-425a-b05d-8caa253932a2\" type=\"checkbox\" ><label for=\"c464560b-0ea0-425a-b05d-8caa253932a2\" class=\"sk-toggleable__label sk-toggleable__label-arrow\">StandardScaler</label><div class=\"sk-toggleable__content\"><pre>StandardScaler(with_mean=False)</pre></div></div></div><div class=\"sk-item\"><div class=\"sk-estimator sk-toggleable\"><input class=\"sk-toggleable__control sk-hidden--visually\" id=\"f95e67af-1497-4cfd-a5be-d1433dbef5b2\" type=\"checkbox\" ><label for=\"f95e67af-1497-4cfd-a5be-d1433dbef5b2\" class=\"sk-toggleable__label sk-toggleable__label-arrow\">KNeighborsClassifier</label><div class=\"sk-toggleable__content\"><pre>KNeighborsClassifier(n_neighbors=1)</pre></div></div></div></div></div></div></div>"
            ]
          },
          "metadata": {},
          "execution_count": 49
        }
      ]
    },
    {
      "cell_type": "code",
      "source": [
        "predictions = knn_pipe.predict(X_test_pro)\n",
        "predictions"
      ],
      "metadata": {
        "id": "DXQUb6Ju8pv-",
        "colab": {
          "base_uri": "https://localhost:8080/"
        },
        "outputId": "1fad2f21-4738-44ab-fbf3-b237070d76f8"
      },
      "execution_count": null,
      "outputs": [
        {
          "output_type": "execute_result",
          "data": {
            "text/plain": [
              "array(['PS2', 'WiiU', 'PC', ..., '3DS', 'WiiU', 'PS2'], dtype=object)"
            ]
          },
          "metadata": {},
          "execution_count": 50
        }
      ]
    },
    {
      "cell_type": "code",
      "source": [
        "acc_score = knn_pipe.score(X_test_pro, y_test)\n",
        "acc_score"
      ],
      "metadata": {
        "id": "ywuux9MW8zn9",
        "colab": {
          "base_uri": "https://localhost:8080/"
        },
        "outputId": "b55a1e22-b1b8-4a75-ad45-e0f508fa9126"
      },
      "execution_count": null,
      "outputs": [
        {
          "output_type": "execute_result",
          "data": {
            "text/plain": [
              "0.02631578947368421"
            ]
          },
          "metadata": {},
          "execution_count": 51
        }
      ]
    },
    {
      "cell_type": "markdown",
      "source": [],
      "metadata": {
        "id": "fVj8AyKX_wD7"
      }
    },
    {
      "cell_type": "code",
      "source": [
        "scaled_df = Stan_Scale.fit_transform(X_test_pro)"
      ],
      "metadata": {
        "id": "sZJWY7i5_kHC"
      },
      "execution_count": null,
      "outputs": []
    },
    {
      "cell_type": "code",
      "source": [
        "pca = PCA(n_components=5)\n",
        "pcs = pca.fit_transform(X_test_pro)"
      ],
      "metadata": {
        "id": "yngkyYni9Da6"
      },
      "execution_count": null,
      "outputs": []
    },
    {
      "cell_type": "code",
      "source": [
        "pca85 = PCA(n_components=.85)"
      ],
      "metadata": {
        "id": "usLCTkt5E4bN"
      },
      "execution_count": null,
      "outputs": []
    },
    {
      "cell_type": "code",
      "source": [
        "transformer = make_pipeline(Stan_Scale, PCA(n_components=5))"
      ],
      "metadata": {
        "id": "7r-i5EhsF07r"
      },
      "execution_count": null,
      "outputs": []
    },
    {
      "cell_type": "code",
      "source": [
        "DTC_pipe = make_pipeline(transformer, model)\n",
        "DTC_pipe.fit(X_train_pro, y_train)"
      ],
      "metadata": {
        "colab": {
          "base_uri": "https://localhost:8080/",
          "height": 186
        },
        "id": "B5l7dp11F-op",
        "outputId": "0f3330be-5ab3-4f8b-ff5b-6e494fbdbd3f"
      },
      "execution_count": null,
      "outputs": [
        {
          "output_type": "execute_result",
          "data": {
            "text/plain": [
              "Pipeline(steps=[('pipeline',\n",
              "                 Pipeline(steps=[('standardscaler',\n",
              "                                  StandardScaler(with_mean=False)),\n",
              "                                 ('pca', PCA(n_components=5))])),\n",
              "                ('decisiontreeclassifier', DecisionTreeClassifier())])"
            ],
            "text/html": [
              "<style>#sk-8934c227-e89e-4ed7-8dcb-5cc55709baf9 {color: black;background-color: white;}#sk-8934c227-e89e-4ed7-8dcb-5cc55709baf9 pre{padding: 0;}#sk-8934c227-e89e-4ed7-8dcb-5cc55709baf9 div.sk-toggleable {background-color: white;}#sk-8934c227-e89e-4ed7-8dcb-5cc55709baf9 label.sk-toggleable__label {cursor: pointer;display: block;width: 100%;margin-bottom: 0;padding: 0.3em;box-sizing: border-box;text-align: center;}#sk-8934c227-e89e-4ed7-8dcb-5cc55709baf9 label.sk-toggleable__label-arrow:before {content: \"▸\";float: left;margin-right: 0.25em;color: #696969;}#sk-8934c227-e89e-4ed7-8dcb-5cc55709baf9 label.sk-toggleable__label-arrow:hover:before {color: black;}#sk-8934c227-e89e-4ed7-8dcb-5cc55709baf9 div.sk-estimator:hover label.sk-toggleable__label-arrow:before {color: black;}#sk-8934c227-e89e-4ed7-8dcb-5cc55709baf9 div.sk-toggleable__content {max-height: 0;max-width: 0;overflow: hidden;text-align: left;background-color: #f0f8ff;}#sk-8934c227-e89e-4ed7-8dcb-5cc55709baf9 div.sk-toggleable__content pre {margin: 0.2em;color: black;border-radius: 0.25em;background-color: #f0f8ff;}#sk-8934c227-e89e-4ed7-8dcb-5cc55709baf9 input.sk-toggleable__control:checked~div.sk-toggleable__content {max-height: 200px;max-width: 100%;overflow: auto;}#sk-8934c227-e89e-4ed7-8dcb-5cc55709baf9 input.sk-toggleable__control:checked~label.sk-toggleable__label-arrow:before {content: \"▾\";}#sk-8934c227-e89e-4ed7-8dcb-5cc55709baf9 div.sk-estimator input.sk-toggleable__control:checked~label.sk-toggleable__label {background-color: #d4ebff;}#sk-8934c227-e89e-4ed7-8dcb-5cc55709baf9 div.sk-label input.sk-toggleable__control:checked~label.sk-toggleable__label {background-color: #d4ebff;}#sk-8934c227-e89e-4ed7-8dcb-5cc55709baf9 input.sk-hidden--visually {border: 0;clip: rect(1px 1px 1px 1px);clip: rect(1px, 1px, 1px, 1px);height: 1px;margin: -1px;overflow: hidden;padding: 0;position: absolute;width: 1px;}#sk-8934c227-e89e-4ed7-8dcb-5cc55709baf9 div.sk-estimator {font-family: monospace;background-color: #f0f8ff;border: 1px dotted black;border-radius: 0.25em;box-sizing: border-box;margin-bottom: 0.5em;}#sk-8934c227-e89e-4ed7-8dcb-5cc55709baf9 div.sk-estimator:hover {background-color: #d4ebff;}#sk-8934c227-e89e-4ed7-8dcb-5cc55709baf9 div.sk-parallel-item::after {content: \"\";width: 100%;border-bottom: 1px solid gray;flex-grow: 1;}#sk-8934c227-e89e-4ed7-8dcb-5cc55709baf9 div.sk-label:hover label.sk-toggleable__label {background-color: #d4ebff;}#sk-8934c227-e89e-4ed7-8dcb-5cc55709baf9 div.sk-serial::before {content: \"\";position: absolute;border-left: 1px solid gray;box-sizing: border-box;top: 2em;bottom: 0;left: 50%;}#sk-8934c227-e89e-4ed7-8dcb-5cc55709baf9 div.sk-serial {display: flex;flex-direction: column;align-items: center;background-color: white;padding-right: 0.2em;padding-left: 0.2em;}#sk-8934c227-e89e-4ed7-8dcb-5cc55709baf9 div.sk-item {z-index: 1;}#sk-8934c227-e89e-4ed7-8dcb-5cc55709baf9 div.sk-parallel {display: flex;align-items: stretch;justify-content: center;background-color: white;}#sk-8934c227-e89e-4ed7-8dcb-5cc55709baf9 div.sk-parallel::before {content: \"\";position: absolute;border-left: 1px solid gray;box-sizing: border-box;top: 2em;bottom: 0;left: 50%;}#sk-8934c227-e89e-4ed7-8dcb-5cc55709baf9 div.sk-parallel-item {display: flex;flex-direction: column;position: relative;background-color: white;}#sk-8934c227-e89e-4ed7-8dcb-5cc55709baf9 div.sk-parallel-item:first-child::after {align-self: flex-end;width: 50%;}#sk-8934c227-e89e-4ed7-8dcb-5cc55709baf9 div.sk-parallel-item:last-child::after {align-self: flex-start;width: 50%;}#sk-8934c227-e89e-4ed7-8dcb-5cc55709baf9 div.sk-parallel-item:only-child::after {width: 0;}#sk-8934c227-e89e-4ed7-8dcb-5cc55709baf9 div.sk-dashed-wrapped {border: 1px dashed gray;margin: 0 0.4em 0.5em 0.4em;box-sizing: border-box;padding-bottom: 0.4em;background-color: white;position: relative;}#sk-8934c227-e89e-4ed7-8dcb-5cc55709baf9 div.sk-label label {font-family: monospace;font-weight: bold;background-color: white;display: inline-block;line-height: 1.2em;}#sk-8934c227-e89e-4ed7-8dcb-5cc55709baf9 div.sk-label-container {position: relative;z-index: 2;text-align: center;}#sk-8934c227-e89e-4ed7-8dcb-5cc55709baf9 div.sk-container {/* jupyter's `normalize.less` sets `[hidden] { display: none; }` but bootstrap.min.css set `[hidden] { display: none !important; }` so we also need the `!important` here to be able to override the default hidden behavior on the sphinx rendered scikit-learn.org. See: https://github.com/scikit-learn/scikit-learn/issues/21755 */display: inline-block !important;position: relative;}#sk-8934c227-e89e-4ed7-8dcb-5cc55709baf9 div.sk-text-repr-fallback {display: none;}</style><div id=\"sk-8934c227-e89e-4ed7-8dcb-5cc55709baf9\" class=\"sk-top-container\"><div class=\"sk-text-repr-fallback\"><pre>Pipeline(steps=[(&#x27;pipeline&#x27;,\n",
              "                 Pipeline(steps=[(&#x27;standardscaler&#x27;,\n",
              "                                  StandardScaler(with_mean=False)),\n",
              "                                 (&#x27;pca&#x27;, PCA(n_components=5))])),\n",
              "                (&#x27;decisiontreeclassifier&#x27;, DecisionTreeClassifier())])</pre><b>Please rerun this cell to show the HTML repr or trust the notebook.</b></div><div class=\"sk-container\" hidden><div class=\"sk-item sk-dashed-wrapped\"><div class=\"sk-label-container\"><div class=\"sk-label sk-toggleable\"><input class=\"sk-toggleable__control sk-hidden--visually\" id=\"afeacd8c-cc31-4a21-83f2-ff236cf4c0ad\" type=\"checkbox\" ><label for=\"afeacd8c-cc31-4a21-83f2-ff236cf4c0ad\" class=\"sk-toggleable__label sk-toggleable__label-arrow\">Pipeline</label><div class=\"sk-toggleable__content\"><pre>Pipeline(steps=[(&#x27;pipeline&#x27;,\n",
              "                 Pipeline(steps=[(&#x27;standardscaler&#x27;,\n",
              "                                  StandardScaler(with_mean=False)),\n",
              "                                 (&#x27;pca&#x27;, PCA(n_components=5))])),\n",
              "                (&#x27;decisiontreeclassifier&#x27;, DecisionTreeClassifier())])</pre></div></div></div><div class=\"sk-serial\"><div class=\"sk-item\"><div class=\"sk-label-container\"><div class=\"sk-label sk-toggleable\"><input class=\"sk-toggleable__control sk-hidden--visually\" id=\"c77975e2-d571-4054-844e-22d78a0dcb23\" type=\"checkbox\" ><label for=\"c77975e2-d571-4054-844e-22d78a0dcb23\" class=\"sk-toggleable__label sk-toggleable__label-arrow\">pipeline: Pipeline</label><div class=\"sk-toggleable__content\"><pre>Pipeline(steps=[(&#x27;standardscaler&#x27;, StandardScaler(with_mean=False)),\n",
              "                (&#x27;pca&#x27;, PCA(n_components=5))])</pre></div></div></div><div class=\"sk-serial\"><div class=\"sk-item\"><div class=\"sk-estimator sk-toggleable\"><input class=\"sk-toggleable__control sk-hidden--visually\" id=\"03bc80a0-9851-42b5-ad1e-5680bdbd669c\" type=\"checkbox\" ><label for=\"03bc80a0-9851-42b5-ad1e-5680bdbd669c\" class=\"sk-toggleable__label sk-toggleable__label-arrow\">StandardScaler</label><div class=\"sk-toggleable__content\"><pre>StandardScaler(with_mean=False)</pre></div></div></div><div class=\"sk-item\"><div class=\"sk-estimator sk-toggleable\"><input class=\"sk-toggleable__control sk-hidden--visually\" id=\"4a661366-2b95-4220-ab50-5fe8d5a4e787\" type=\"checkbox\" ><label for=\"4a661366-2b95-4220-ab50-5fe8d5a4e787\" class=\"sk-toggleable__label sk-toggleable__label-arrow\">PCA</label><div class=\"sk-toggleable__content\"><pre>PCA(n_components=5)</pre></div></div></div></div></div><div class=\"sk-item\"><div class=\"sk-estimator sk-toggleable\"><input class=\"sk-toggleable__control sk-hidden--visually\" id=\"15a4abdd-fb41-45f1-b922-c4baf9b41a0b\" type=\"checkbox\" ><label for=\"15a4abdd-fb41-45f1-b922-c4baf9b41a0b\" class=\"sk-toggleable__label sk-toggleable__label-arrow\">DecisionTreeClassifier</label><div class=\"sk-toggleable__content\"><pre>DecisionTreeClassifier()</pre></div></div></div></div></div></div></div>"
            ]
          },
          "metadata": {},
          "execution_count": 71
        }
      ]
    },
    {
      "cell_type": "code",
      "source": [
        "print('Training accuracy:', DTC_pipe.score(X_train_pro, y_train))\n",
        "print('Testing accuracy:', DTC_pipe.score(X_test_pro, y_test))"
      ],
      "metadata": {
        "colab": {
          "base_uri": "https://localhost:8080/"
        },
        "id": "I2AxyHgHHFEC",
        "outputId": "a8d91bf3-00d7-4c7e-9970-f6955c6add05"
      },
      "execution_count": null,
      "outputs": [
        {
          "output_type": "stream",
          "name": "stdout",
          "text": [
            "Training accuracy: 0.3991546375309036\n",
            "Testing accuracy: 0.10741626794258373\n"
          ]
        }
      ]
    },
    {
      "cell_type": "markdown",
      "source": [
        "# I have chosen to go with the Decision tree model. While its not exceptionally accurate it is the most accurate out of the bunch."
      ],
      "metadata": {
        "id": "QMhxpZq_KOl9"
      }
    }
  ]
}